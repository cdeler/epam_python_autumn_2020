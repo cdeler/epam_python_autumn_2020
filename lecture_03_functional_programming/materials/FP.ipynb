{
 "cells": [
  {
   "cell_type": "markdown",
   "metadata": {
    "slideshow": {
     "slide_type": "slide"
    }
   },
   "source": [
    "## Functional Paradigm"
   ]
  },
  {
   "cell_type": "markdown",
   "metadata": {
    "slideshow": {
     "slide_type": "slide"
    }
   },
   "source": [
    "## PART I : Functions, functional programming."
   ]
  },
  {
   "cell_type": "markdown",
   "metadata": {
    "slideshow": {
     "slide_type": "slide"
    }
   },
   "source": [
    "There are several well known paradigms of programming\n",
    "\n",
    "* Imperative - How to do\n",
    "* Declarative - What has to be done\n",
    "* Functional - Subset of Declarative, Sequence of transformations\n",
    "    \n",
    "**Imperative language** is a set of instructions (**statements**) on how to change a **state**.\n",
    "\n",
    "**State** is **values** of all **variables** in all contexts in a giving moment. We can create, mutate and delete variables. We usually use statements, flow control conditional constructs (`if/then/else, try/except`), loops (`for/while`) changing context (`def, class, import`). State is defined by the values of the variables in the various namespaces. \n",
    "\n",
    "In **functional language** we use a notion of evaluating functions rather than changing states. Each function evaluation creates a new object or objects from existing objects. So, we can consider program execution as a sequence of function executions or sequence of mappings between data objects. In order to make complex transformations, functions can be composed from lower-level functions that are easy to understand."
   ]
  },
  {
   "cell_type": "markdown",
   "metadata": {
    "slideshow": {
     "slide_type": "slide"
    }
   },
   "source": [
    "### SECTION 0: Function syntax and attributes"
   ]
  },
  {
   "cell_type": "markdown",
   "metadata": {
    "slideshow": {
     "slide_type": "subslide"
    }
   },
   "source": [
    "For the moment you have to know how to define function\n",
    "\n",
    "\n",
    "`\n",
    "def f(a, b, *args, c=10, **kwargs):\n",
    "    \"\"\"Some function\"\"\"\n",
    "    x = 100\n",
    "    return a * x\n",
    "`\n",
    "\n",
    "Official python tutorial: https://docs.python.org/3/tutorial/controlflow.html #defining-function\n",
    "\n",
    "**This lecture is mostly for advanced approach to functional programming style in python**"
   ]
  },
  {
   "cell_type": "markdown",
   "metadata": {
    "slideshow": {
     "slide_type": "slide"
    }
   },
   "source": [
    "### SECTION 1: Functions as objects"
   ]
  },
  {
   "cell_type": "markdown",
   "metadata": {
    "slideshow": {
     "slide_type": "subslide"
    }
   },
   "source": [
    "Everything is an **object** in Python, so **function** does. This is a usually called _First-class object model_. This basically means, that unlike in **C** or **Java**, function objects not only may be invoked, but may be \n",
    "\n",
    "* assigned to other names\n",
    "* passed to other functions\n",
    "* returned from one function to another\n",
    "* embedded in data structures\n",
    "* ... and more\n",
    "\n",
    "as if they were simple numbers or strings\n",
    "\n",
    "Still, functions belong to the same general category as other objects."
   ]
  },
  {
   "cell_type": "markdown",
   "metadata": {
    "slideshow": {
     "slide_type": "subslide"
    }
   },
   "source": [
    "### Assigned to other names"
   ]
  },
  {
   "cell_type": "code",
   "execution_count": null,
   "metadata": {
    "slideshow": {
     "slide_type": "subslide"
    }
   },
   "outputs": [],
   "source": [
    " \n",
    "def f(a):\n",
    "    print(a)\n",
    "    \n",
    "g = f\n",
    "\n",
    "g('Hello world')\n"
   ]
  },
  {
   "cell_type": "markdown",
   "metadata": {
    "slideshow": {
     "slide_type": "subslide"
    }
   },
   "source": [
    "### Passed to other functions"
   ]
  },
  {
   "cell_type": "code",
   "execution_count": null,
   "metadata": {
    "slideshow": {
     "slide_type": "subslide"
    }
   },
   "outputs": [],
   "source": [
    "x = [3, 1, 2, 7, 4]\n",
    "\n",
    "\n",
    "def key(a):\n",
    "    return a % 2 \n",
    "\n",
    "z = sorted(x, key=key)\n",
    "print(z)\n",
    "       "
   ]
  },
  {
   "cell_type": "markdown",
   "metadata": {
    "slideshow": {
     "slide_type": "subslide"
    }
   },
   "source": [
    "### Returned from other functions"
   ]
  },
  {
   "cell_type": "code",
   "execution_count": null,
   "metadata": {
    "slideshow": {
     "slide_type": "subslide"
    }
   },
   "outputs": [],
   "source": [
    "def add(a, b):\n",
    "    return a + b\n",
    "def mul(a, b):\n",
    "    return a * b\n",
    "def power (a, b):\n",
    "    return a ** b\n",
    "        \n",
    "# determine what function produces highest value\n",
    "    \n",
    "def highest(a, b, functions):\n",
    "    results = [\n",
    "        (f, f(a, b))\n",
    "        for f in functions\n",
    "        ]\n",
    "       \n",
    "      \n",
    "    sorted_results = sorted(results, key=lambda a: a[1], reverse = True)\n",
    "    return sorted_results[0][0]\n",
    "\n",
    "print(highest(a=2, b=4, functions=[add, mul, power]))"
   ]
  },
  {
   "cell_type": "markdown",
   "metadata": {
    "slideshow": {
     "slide_type": "subslide"
    }
   },
   "source": [
    "### Functions can be assigned names or can be anonymous: \n",
    "     \n",
    "     >>> b = 3\n",
    "     >>> f2 = lambda x: x + 10*b\n",
    "     \n",
    "Formally: \n",
    "\n",
    "`lambda argument1, argument2,... argumentN : expression using arguments`\n",
    "\n",
    "**Use cases:**\n",
    " \n",
    "* List sorting \n",
    "\n",
    "`sorted(results, key=lambda a: a[1], reverse = True)`\n",
    "\n",
    "* Function as a parameter\n",
    "\n",
    "`print(highest(a=2, b=4, functions=[add, mul, power]))`\n",
    "     \n",
    "\n"
   ]
  },
  {
   "cell_type": "markdown",
   "metadata": {
    "slideshow": {
     "slide_type": "subslide"
    }
   },
   "source": [
    "### Notes\n",
    "\n",
    "* lambda is an expression, not a statement\n",
    "* lambda ’s body is a single expression, not a block of statements\n",
    "* scope lookup rules are the same as for the **def** "
   ]
  },
  {
   "cell_type": "markdown",
   "metadata": {
    "slideshow": {
     "slide_type": "fragment"
    }
   },
   "source": [
    "### Benefits\n",
    "\n",
    "Lambda is an expression which returns functional object\n",
    "\n",
    "Lambda provides code proximity\n",
    "\n",
    "Is good as one-time job\n",
    "\n",
    "Can be inlined into fuction calls"
   ]
  },
  {
   "cell_type": "markdown",
   "metadata": {
    "slideshow": {
     "slide_type": "subslide"
    }
   },
   "source": [
    "### Final Notes\n",
    "\n",
    "Because we can manipulate functions as objects, define functions inside functions and return functions, we can do a lot of interesting things like creating functions on-the-fly that enhance capabilities of other functions or classes, combining and splitting functions, memorizing function results to reuse to not to call function twice, etc."
   ]
  },
  {
   "cell_type": "markdown",
   "metadata": {
    "slideshow": {
     "slide_type": "slide"
    }
   },
   "source": [
    " ### SECTION 2 - Scopes, bounded and free variables."
   ]
  },
  {
   "cell_type": "markdown",
   "metadata": {
    "slideshow": {
     "slide_type": "subslide"
    }
   },
   "source": [
    "### Pure functions\n",
    "\n",
    "Function that has no side-effects\n",
    "\n",
    "* Output is dependent on the input only\n",
    "\n",
    "* Determenistic - always produce same results with same parameters not produce side effects \n",
    "\n",
    "* Objects are created or deleted, never mutated \n",
    "\n",
    "* May return another function "
   ]
  },
  {
   "cell_type": "markdown",
   "metadata": {
    "slideshow": {
     "slide_type": "subslide"
    }
   },
   "source": [
    "### Bound and free variables"
   ]
  },
  {
   "cell_type": "code",
   "execution_count": null,
   "metadata": {
    "slideshow": {
     "slide_type": "subslide"
    }
   },
   "outputs": [],
   "source": [
    "b = 10  # global variable\n",
    "\n",
    "def f(a):   # a is function parameter\n",
    "    c = 3  # local variable\n",
    "    return a + b + c\n",
    "\n",
    "print(f(100)) \n",
    "\n",
    "b = 20\n",
    "\n",
    "print(f(100))"
   ]
  },
  {
   "cell_type": "markdown",
   "metadata": {
    "slideshow": {
     "slide_type": "subslide"
    }
   },
   "source": [
    "It is not a pure function, because of different results depending on context.\n",
    "\n",
    "Variable `a` is function parameter, variable `c` is `local variable` to function `scope`, but `b` is complicated - global variable defined outside function."
   ]
  },
  {
   "cell_type": "code",
   "execution_count": null,
   "metadata": {
    "slideshow": {
     "slide_type": "subslide"
    }
   },
   "outputs": [],
   "source": [
    "def g(b):\n",
    "    def f(a):\n",
    "        c = 3\n",
    "        return a + b + c\n",
    "    return f\n",
    "\n",
    "print(g(10)(100))  # here we invoke g(10) that returns FUNCTION and invoke the result with parameter a=100\n",
    "\n",
    "print(g(20)(100))  # here we invoke g(20) that returns FUNCTION and invoke the result with parameter a=100\n"
   ]
  },
  {
   "cell_type": "markdown",
   "metadata": {
    "slideshow": {
     "slide_type": "fragment"
    }
   },
   "source": [
    "This is a method called **Curriyng** which is transformation of function of many arguments to a sequence of functions taking only one argument.\n",
    "Like x = f(a, b, c): \n",
    "        g = l(a)\n",
    "        k = g(b)\n",
    "        d = k(c)\n",
    "\n",
    "Otherwise x = j(a)(b)(c)\n",
    "\n",
    "**NB** Currying is related to,  but not equivalent of partial function application"
   ]
  },
  {
   "cell_type": "markdown",
   "metadata": {
    "slideshow": {
     "slide_type": "subslide"
    }
   },
   "source": [
    "### Partial"
   ]
  },
  {
   "cell_type": "code",
   "execution_count": null,
   "metadata": {
    "slideshow": {
     "slide_type": "fragment"
    }
   },
   "outputs": [],
   "source": [
    "def filter_(strng, black_list, white_list):\n",
    "    \n",
    "    if strng in white_list: return True\n",
    "    \n",
    "    if strng in black_list: return False\n",
    "        \n",
    "     "
   ]
  },
  {
   "cell_type": "markdown",
   "metadata": {
    "slideshow": {
     "slide_type": "fragment"
    }
   },
   "source": [
    "The partial() is used for partial function application which “freezes” some portion of a function’s arguments and/or keywords resulting in a new object with a simplified signature."
   ]
  },
  {
   "cell_type": "code",
   "execution_count": null,
   "metadata": {
    "slideshow": {
     "slide_type": "fragment"
    }
   },
   "outputs": [],
   "source": [
    "from functools import partial\n",
    "\n",
    "filter_n = partial(filter_, black_list=bl, white_list=wl)"
   ]
  },
  {
   "cell_type": "markdown",
   "metadata": {
    "slideshow": {
     "slide_type": "fragment"
    }
   },
   "source": [
    "You can now apply filter_n to any dataset to check if an item belongs to either white or black list"
   ]
  },
  {
   "cell_type": "markdown",
   "metadata": {
    "slideshow": {
     "slide_type": "subslide"
    }
   },
   "source": [
    "Both functions (g and f) in this case are `pure`.\n",
    "\n",
    "Note the difference between variable `b` in the above examples. Usually, when defining function you wont be able to define function like this\n",
    "\n",
    "    def f(a):\n",
    "        c = 3\n",
    "        return a + b + c\n",
    "\n",
    "In examples above python interpreter when defining function looks if variable was defined in some scope in levels above, traversing call stack back to the top.\n",
    " \n",
    "In first case, variable `b` inside function definition was  `bound` to global variable `b` (changing it leads to change a result of function output).\n",
    "\n",
    "Note that its value could be determined at once when function was defined.\n",
    "\n",
    "In second case, variable `b` inside function definition was `free variable` and you wont be able to determine its value until we invoked function `g`."
   ]
  },
  {
   "cell_type": "markdown",
   "metadata": {
    "slideshow": {
     "slide_type": "subslide"
    }
   },
   "source": [
    "Lets consider following tricky example"
   ]
  },
  {
   "cell_type": "code",
   "execution_count": null,
   "metadata": {
    "slideshow": {
     "slide_type": "fragment"
    }
   },
   "outputs": [],
   "source": [
    "b = 10\n",
    "\n",
    "def f(a):\n",
    "    c = 3\n",
    "    return a + b + c\n",
    "       \n",
    "def g(a, b):\n",
    "    return f(a)\n",
    "\n",
    "g(100, 1)"
   ]
  },
  {
   "cell_type": "markdown",
   "metadata": {
    "slideshow": {
     "slide_type": "fragment"
    }
   },
   "source": [
    "What the result would be? "
   ]
  },
  {
   "cell_type": "markdown",
   "metadata": {
    "slideshow": {
     "slide_type": "fragment"
    }
   },
   "source": [
    "In python whether variable in function is free or bound is determined when function is defined."
   ]
  },
  {
   "cell_type": "markdown",
   "metadata": {
    "slideshow": {
     "slide_type": "subslide"
    }
   },
   "source": [
    "Back to pure functions. True functional programming langages deals primary with pure functions (haskell has ONLY pure functions). Python is hybrid language that allows mixing approaches with procedural, imperative, declarative, OOP and functional style. This allows to write very readable code.\n",
    "\n",
    "Now, what is so important about pure functions?\n",
    "\n",
    "* testable. feed a parameter and expect a return result\n",
    "* values could be cached, precomputed, etc.\n",
    "* they can be lazy  (lazy function - function that is invoked only when needed)\n",
    "* since they dont alter the context they are very easy to parallelize (very important)\n",
    " \n",
    "\n",
    "In python to exploit benefits of functional programming style functions do not have to be pure, but you have to be careful with side effects, otherwise you may introduce `race conditions` or  `Heisenbugs` (bugs that appear only in rare cases), that are VERY hard to find and eliminate.\n"
   ]
  },
  {
   "cell_type": "markdown",
   "metadata": {
    "slideshow": {
     "slide_type": "slide"
    }
   },
   "source": [
    "### Functional programming drawbacks and The Python Way"
   ]
  },
  {
   "cell_type": "markdown",
   "metadata": {
    "slideshow": {
     "slide_type": "subslide"
    }
   },
   "source": [
    "There are some disadvantages of pure functional approach, which are most clear in languages like Haskell, F# etc:\n",
    "\n",
    "* Hard to code and understand\n",
    "* Functions limited to pure ones\n",
    "* I/O is hacked on top of language core (in haskell it's a mess)\n",
    "* Conditional execution is a mess (what happens if you need different business logic based on some value in db?)\n",
    "* Common patterns are overcomplicated\n",
    "\n",
    "Functional languages are good for calculations (like finding factorial of a number), data processing and so on, but poor in business cases.\n",
    "\n",
    "Python hybrid approach allows most of benefits of pure functional programming without significant drawbacks."
   ]
  },
  {
   "cell_type": "markdown",
   "metadata": {
    "slideshow": {
     "slide_type": "slide"
    }
   },
   "source": [
    "### Decorators - example of hybrid approach"
   ]
  },
  {
   "cell_type": "markdown",
   "metadata": {
    "slideshow": {
     "slide_type": "fragment"
    }
   },
   "source": [
    "If you have a function whose logic can be decomposed into two pieces, so that one is essential to your task and the other is auxiliary, so you can separate them. This brings you an ability generalize auxiliary task, and make logic relevant to your main task clear.\n",
    "\n",
    "Decorator is a function manager, which adds functionality to a function and which manages both function calls and function objects.\n",
    "\n",
    "You can encounter decorators: \n",
    "\n",
    "* Python built-in decorators (static and class method declaration, property creation, etc.). \n",
    "* Python toolkits (e.g. managing database or user-interface logic)\n",
    "* In most of the libraries you will be using\n",
    "\n",
    "**Note** We are speaking about function decorators. There is class decorators also. "
   ]
  },
  {
   "cell_type": "code",
   "execution_count": null,
   "metadata": {
    "slideshow": {
     "slide_type": "subslide"
    }
   },
   "outputs": [],
   "source": [
    "def get_user(username):\n",
    "    conn = connect_to_db()\n",
    "    print('connected to db!')\n",
    "    try:\n",
    "        user = conn.get_user(username)\n",
    "    except UserNotExists:\n",
    "        logging.error('Database error: user not exists')\n",
    "        user = None\n",
    "    conn.disconnect()\n",
    "    return user\n",
    "\n",
    "def update_user(username, data_to_update):\n",
    "    conn = connect_to_db()\n",
    "    print('connected to db!')\n",
    "    try:\n",
    "        user = conn.get_user(username)\n",
    "    except UserNotExists:\n",
    "        logging.error('Database error: user not exists')\n",
    "        user = None\n",
    "    if user:\n",
    "        user.update(data_to_update)\n",
    "    conn.disconnect()\n",
    "\n",
    "def delete_user(username):\n",
    "    conn = connect_to_db()\n",
    "    print('connected to db!')\n",
    "    try:\n",
    "        user = conn.get_user(username)\n",
    "    except UserNotExists:\n",
    "        logging.error('Database error: user not exists')\n",
    "        user = None\n",
    "    if user:\n",
    "        user.delete(user)\n",
    "    conn.disconnect()"
   ]
  },
  {
   "cell_type": "markdown",
   "metadata": {
    "slideshow": {
     "slide_type": "subslide"
    }
   },
   "source": [
    "To shorten this, we could write the following:"
   ]
  },
  {
   "cell_type": "code",
   "execution_count": null,
   "metadata": {
    "slideshow": {
     "slide_type": "fragment"
    }
   },
   "outputs": [],
   "source": [
    "def connect_and_get_user(username):\n",
    "    conn = connect_to_db()\n",
    "    print('connected to db!')\n",
    "    try:\n",
    "        user = conn.get_user(username)\n",
    "    except UserNotExists:\n",
    "        logging.error('Database error: user not exists')\n",
    "        user = None\n",
    "    return user, conn\n",
    "        "
   ]
  },
  {
   "cell_type": "markdown",
   "metadata": {
    "slideshow": {
     "slide_type": "fragment"
    }
   },
   "source": [
    "We'll still need to check if user was found and close connection:"
   ]
  },
  {
   "cell_type": "code",
   "execution_count": null,
   "metadata": {
    "slideshow": {
     "slide_type": "fragment"
    }
   },
   "outputs": [],
   "source": [
    "def get_user(username):\n",
    "    user, conn = connect_and_get_user(username)\n",
    "    conn.disconnect()\n",
    "    return user\n",
    "    \n",
    "def delete_user(username):\n",
    "    user, conn = connect_and_get_user(username)\n",
    "    if user:\n",
    "        user.delete()\n",
    "    conn.disconnect()"
   ]
  },
  {
   "cell_type": "markdown",
   "metadata": {
    "slideshow": {
     "slide_type": "subslide"
    }
   },
   "source": [
    "### Functional approach"
   ]
  },
  {
   "cell_type": "code",
   "execution_count": null,
   "metadata": {
    "slideshow": {
     "slide_type": "fragment"
    }
   },
   "outputs": [],
   "source": [
    "def get_user(user):\n",
    "    return user\n",
    "\n",
    "def delete_user(user):\n",
    "    user.delete()\n",
    "\n",
    "def update_user(user, data_to_update):\n",
    "    user.update(data_to_update)"
   ]
  },
  {
   "cell_type": "code",
   "execution_count": null,
   "metadata": {
    "slideshow": {
     "slide_type": "fragment"
    }
   },
   "outputs": [],
   "source": [
    "def wrapper(f):\n",
    "    def wrapped(username, *args, **kwargs):\n",
    "        conn = connect_to_db()\n",
    "        print('connected to db!')\n",
    "        try:\n",
    "            user = conn.get_user(username)\n",
    "        except UserNotExists:\n",
    "            logging.error('Database error: user not exists')\n",
    "            user = None\n",
    "            if user:\n",
    "                user.update(data_to_update)\n",
    "            conn.disconnect()\n",
    "        return result\n",
    "    return wrapped"
   ]
  },
  {
   "cell_type": "markdown",
   "metadata": {
    "slideshow": {
     "slide_type": "fragment"
    }
   },
   "source": [
    "Substitute original functions with their wrapped versions"
   ]
  },
  {
   "cell_type": "code",
   "execution_count": null,
   "metadata": {
    "slideshow": {
     "slide_type": "fragment"
    }
   },
   "outputs": [],
   "source": [
    "delete_user = wrapper(delete_user) \n",
    "get_user = wrapper(get_user)\n",
    "update_user = wrapper(update_user)"
   ]
  },
  {
   "cell_type": "markdown",
   "metadata": {
    "slideshow": {
     "slide_type": "subslide"
    }
   },
   "source": [
    "Or in short:"
   ]
  },
  {
   "cell_type": "code",
   "execution_count": null,
   "metadata": {
    "slideshow": {
     "slide_type": "fragment"
    }
   },
   "outputs": [],
   "source": [
    "@wrapper\n",
    "def change_password(user, password):\n",
    "    user.change_password(password)\n"
   ]
  },
  {
   "cell_type": "markdown",
   "metadata": {
    "slideshow": {
     "slide_type": "subslide"
    }
   },
   "source": [
    "Decorators can also be parameterized:\n",
    "    It will look like this: @save(filename='test.csv') to save result of a function call to file"
   ]
  },
  {
   "cell_type": "code",
   "execution_count": null,
   "metadata": {
    "slideshow": {
     "slide_type": "fragment"
    }
   },
   "outputs": [],
   "source": [
    "def save(filename):\n",
    "    # parametrized decorator that saves result of function to file\n",
    "    def wrapper(f):\n",
    "        def substitute(a):\n",
    "            result = f(a)\n",
    "            with open(filename, 'w+') as output:\n",
    "                output.write(str(result))\n",
    "            return result\n",
    "        return substitute\n",
    "    return wrapper\n"
   ]
  },
  {
   "cell_type": "markdown",
   "metadata": {
    "slideshow": {
     "slide_type": "subslide"
    }
   },
   "source": [
    "This can be used as follows"
   ]
  },
  {
   "cell_type": "code",
   "execution_count": null,
   "metadata": {
    "slideshow": {
     "slide_type": "fragment"
    }
   },
   "outputs": [],
   "source": [
    "@save(filename='test.csv)\n",
    "def f(a):\n",
    "    print(a)\n",
    "    return a \n",
    "\n",
    "#is equivalent to \n",
    "def f(a):\n",
    "    print(a)\n",
    "    return a\n",
    "\n",
    "f = save(filename='test.csv')(f)\n",
    "#or, if we expand it with intermediate result\n",
    "save_to_test_csv = save(filename='test.csv')  # made a simple decorator\n",
    "f = save_to_test_csv(f)\n",
    "    \n",
    "`save` when invoked makes a unparametrized decorator and later we invoke it with argument (f).\n",
    "this is not of course very readable, and theoretically you could replace two-layer function\n",
    "of parametrized decorator with this:\n",
    "\n",
    "def save(filename, f):\n",
    "    def substitute(a):\n",
    "        result = f(a)\n",
    "        with open(filename, 'w+') as output:\n",
    "            output.write(str(result))\n",
    "        return result\n",
    "            \n",
    "    return substitute\n",
    "\n"
   ]
  },
  {
   "cell_type": "markdown",
   "metadata": {
    "slideshow": {
     "slide_type": "fragment"
    }
   },
   "source": [
    "Decorator shortcut (@-syntax) allows only one parameter (function), and for that reason we **CURRY** it.\n",
    "\n",
    " "
   ]
  },
  {
   "cell_type": "markdown",
   "metadata": {
    "slideshow": {
     "slide_type": "subslide"
    }
   },
   "source": [
    "### Creative decorator application\n",
    "\n",
    "* code deduplication\n",
    "* `registration` of functions (as routes in flask, for example)\n",
    "* cache and value memorisation (example, lru_cache decorator)\n",
    "* rpc (when function is not actually executed but is sent to some other place to be run, example - celery)"
   ]
  },
  {
   "cell_type": "markdown",
   "metadata": {
    "slideshow": {
     "slide_type": "slide"
    }
   },
   "source": [
    "## Functiona Programming Tools"
   ]
  },
  {
   "cell_type": "markdown",
   "metadata": {
    "slideshow": {
     "slide_type": "subslide"
    }
   },
   "source": [
    "In order to support functional paradigm, Python includes a set of built-ins used for functional\n",
    "programming—tools that apply functions to sequences and other iterables.\n",
    "\n",
    "* **Map** - call functions on an iterable’s items\n",
    "* **Filter** - filter out items based on a test function\n",
    "* **Reduce** -  apply functions to pairs of items and returnin results\n"
   ]
  },
  {
   "cell_type": "markdown",
   "metadata": {
    "slideshow": {
     "slide_type": "subslide"
    }
   },
   "source": [
    "### Map"
   ]
  },
  {
   "cell_type": "code",
   "execution_count": null,
   "metadata": {
    "slideshow": {
     "slide_type": "fragment"
    }
   },
   "outputs": [],
   "source": [
    "c = [1, 2, 3, 4, 5]\n",
    "\n",
    "new_c = []\n",
    "\n",
    "for i in c:\n",
    "    new_c.append(i + 1)\n",
    "\n",
    "new_c"
   ]
  },
  {
   "cell_type": "code",
   "execution_count": null,
   "metadata": {
    "slideshow": {
     "slide_type": "fragment"
    }
   },
   "outputs": [],
   "source": [
    "def increase(x): return x + 1\n",
    "list(map(increase, c))"
   ]
  },
  {
   "cell_type": "markdown",
   "metadata": {
    "slideshow": {
     "slide_type": "notes"
    }
   },
   "source": [
    "List comprehension can be used instead of a Map (+/-)"
   ]
  },
  {
   "cell_type": "markdown",
   "metadata": {
    "slideshow": {
     "slide_type": "subslide"
    }
   },
   "source": [
    "### Filter"
   ]
  },
  {
   "cell_type": "markdown",
   "metadata": {
    "slideshow": {
     "slide_type": "fragment"
    }
   },
   "source": [
    "Application of test function to select iterables' items"
   ]
  },
  {
   "cell_type": "code",
   "execution_count": null,
   "metadata": {
    "slideshow": {
     "slide_type": "fragment"
    }
   },
   "outputs": [],
   "source": [
    "list(range(-10, 10))"
   ]
  },
  {
   "cell_type": "code",
   "execution_count": null,
   "metadata": {
    "slideshow": {
     "slide_type": "fragment"
    }
   },
   "outputs": [],
   "source": [
    "list(filter((lambda x: x % 2 == 0), list(range(10))))"
   ]
  },
  {
   "cell_type": "markdown",
   "metadata": {
    "slideshow": {
     "slide_type": "subslide"
    }
   },
   "source": [
    "Can be represented as for loop"
   ]
  },
  {
   "cell_type": "code",
   "execution_count": null,
   "metadata": {
    "slideshow": {
     "slide_type": "fragment"
    }
   },
   "outputs": [],
   "source": [
    "l = []\n",
    "for i in range(10):\n",
    "    if i % 2 == 0: l.append(i)\n",
    "\n",
    "l"
   ]
  },
  {
   "cell_type": "code",
   "execution_count": null,
   "metadata": {
    "slideshow": {
     "slide_type": "fragment"
    }
   },
   "outputs": [],
   "source": [
    "def test(x):\n",
    "    if x % 2 == 0: return True"
   ]
  },
  {
   "cell_type": "code",
   "execution_count": null,
   "metadata": {
    "slideshow": {
     "slide_type": "fragment"
    }
   },
   "outputs": [],
   "source": [
    "list(filter(test, list(range(10))))"
   ]
  },
  {
   "cell_type": "markdown",
   "metadata": {
    "slideshow": {
     "slide_type": "subslide"
    }
   },
   "source": [
    "### Reduce"
   ]
  },
  {
   "cell_type": "code",
   "execution_count": null,
   "metadata": {
    "slideshow": {
     "slide_type": "fragment"
    }
   },
   "outputs": [],
   "source": [
    "from functools import reduce"
   ]
  },
  {
   "cell_type": "code",
   "execution_count": null,
   "metadata": {
    "slideshow": {
     "slide_type": "fragment"
    }
   },
   "outputs": [],
   "source": [
    "reduce((lambda x, y: x + y), [1, 2, 3, 4])"
   ]
  },
  {
   "cell_type": "code",
   "execution_count": null,
   "metadata": {
    "slideshow": {
     "slide_type": "fragment"
    }
   },
   "outputs": [],
   "source": [
    "def my_reduce(func, seq):\n",
    "    res = seq[0]\n",
    "    for chunk in seq[1:]:\n",
    "        res = func(res, chunk)\n",
    "    return res"
   ]
  },
  {
   "cell_type": "code",
   "execution_count": null,
   "metadata": {
    "slideshow": {
     "slide_type": "fragment"
    }
   },
   "outputs": [],
   "source": [
    "my_reduce((lambda x, y: x + y), [1, 2, 3, 4])"
   ]
  },
  {
   "cell_type": "markdown",
   "metadata": {
    "slideshow": {
     "slide_type": "slide"
    }
   },
   "source": [
    "### Recursion"
   ]
  },
  {
   "cell_type": "code",
   "execution_count": null,
   "metadata": {
    "slideshow": {
     "slide_type": "fragment"
    }
   },
   "outputs": [],
   "source": [
    "def factor(x):\n",
    "    if not x:\n",
    "        return 1\n",
    "    else: return x*factor(x-1)"
   ]
  },
  {
   "cell_type": "code",
   "execution_count": null,
   "metadata": {
    "slideshow": {
     "slide_type": "fragment"
    }
   },
   "outputs": [],
   "source": [
    "l = []\n",
    "def factor(x):\n",
    "    l.append(x)\n",
    "    print(l)\n",
    "    if not x:\n",
    "        return 1\n",
    "    else: return x*factor(x-1)"
   ]
  },
  {
   "cell_type": "code",
   "execution_count": null,
   "metadata": {
    "slideshow": {
     "slide_type": "fragment"
    }
   },
   "outputs": [],
   "source": [
    "factor(30)"
   ]
  },
  {
   "cell_type": "code",
   "execution_count": null,
   "metadata": {
    "slideshow": {
     "slide_type": "fragment"
    }
   },
   "outputs": [],
   "source": [
    "reduce((lambda x, y: x*y), reversed(range(1, 30)))"
   ]
  },
  {
   "cell_type": "markdown",
   "metadata": {
    "slideshow": {
     "slide_type": "slide"
    }
   },
   "source": [
    "### Why it is better to avoid recursion"
   ]
  },
  {
   "cell_type": "markdown",
   "metadata": {
    "slideshow": {
     "slide_type": "slide"
    }
   },
   "source": [
    "Although the recursion is very usefull to walk through a data structure with arbitrary shape, the recursion is not recommended way to solve problems in Python as it lacks compile time optimizations like tail recursion, cycle detections and so on. Obviously, due to absence of compile time. It is recommended to use techniques like queue  stacks, and others."
   ]
  },
  {
   "cell_type": "markdown",
   "metadata": {
    "slideshow": {
     "slide_type": "slide"
    }
   },
   "source": [
    "## Comprehensions and Generators"
   ]
  },
  {
   "cell_type": "markdown",
   "metadata": {
    "slideshow": {
     "slide_type": "subslide"
    }
   },
   "source": [
    "Comprehensions were borrowed from Haskell - pure functional language. **Map** and **Filter** were introduced earlier. The difference is that comprehensions apply an arbitrary expression to items in an iterable, rather than applying a function. Comprehensions are not limited to lists now. Sets, Dictionaries and value generator expressions.\n",
    "\n",
    "Formally one can write: `[ expression for target in iterable ]`\n",
    "\n",
    "You can surely write many nested loops, but don't get it far. Remember, KISS!\n",
    "\n",
    "If you need to translate code into statements, than it should be statements.\n",
    "\n",
    "But, remember, that **for** is twice as slow as **map** , and **map** is slower than comprehension, due to **map** and **comprehensions** are implemented in **C**, rahter than stepping Python Virtual Machine. This is changing though as Python version increases, so check it with _timeit_ module"
   ]
  },
  {
   "cell_type": "markdown",
   "metadata": {
    "slideshow": {
     "slide_type": "subslide"
    }
   },
   "source": [
    "It worth mentioning that both **Map** and **Filter** can be expressed as list comprehension:\n",
    "\n",
    "**Map**: `[increase(x) for x in [1, 2, 3, 4,5]]`\n",
    "\n",
    "**Filter**: `[x for x in range(10) if x % 2 == 0]`"
   ]
  },
  {
   "cell_type": "code",
   "execution_count": null,
   "metadata": {
    "slideshow": {
     "slide_type": "fragment"
    }
   },
   "outputs": [],
   "source": [
    "[increase(x) for x in [1, 2, 3, 4, 5]]"
   ]
  },
  {
   "cell_type": "code",
   "execution_count": null,
   "metadata": {
    "slideshow": {
     "slide_type": "fragment"
    }
   },
   "outputs": [],
   "source": [
    "[x for x in range(10) if x % 2 == 0]"
   ]
  },
  {
   "cell_type": "markdown",
   "metadata": {
    "slideshow": {
     "slide_type": "subslide"
    }
   },
   "source": [
    "With list comprehensions, you can combine map and filter in single iteration"
   ]
  },
  {
   "cell_type": "code",
   "execution_count": null,
   "metadata": {
    "slideshow": {
     "slide_type": "fragment"
    }
   },
   "outputs": [],
   "source": [
    "[x**2 for x in range(10) if x % 2 ==0]"
   ]
  },
  {
   "cell_type": "markdown",
   "metadata": {
    "slideshow": {
     "slide_type": "slide"
    }
   },
   "source": [
    "## Generators"
   ]
  },
  {
   "cell_type": "markdown",
   "metadata": {
    "slideshow": {
     "slide_type": "subslide"
    }
   },
   "source": [
    "### Generator Functions"
   ]
  },
  {
   "cell_type": "markdown",
   "metadata": {
    "slideshow": {
     "slide_type": "fragment"
    }
   },
   "source": [
    "Unlike normal functions that return a value and exit, generator functions automatically\n",
    "suspend and resume their execution and state around the point of value generation. They preserve state, scope (local). The syntax difference is in using **yield** instead of **return** operator. "
   ]
  },
  {
   "cell_type": "code",
   "execution_count": null,
   "metadata": {
    "slideshow": {
     "slide_type": "fragment"
    }
   },
   "outputs": [],
   "source": [
    "def gen_list(N):\n",
    "    for i in range(N):\n",
    "        yield i"
   ]
  },
  {
   "cell_type": "code",
   "execution_count": null,
   "metadata": {
    "slideshow": {
     "slide_type": "fragment"
    }
   },
   "outputs": [],
   "source": [
    "k = gen_list(5)"
   ]
  },
  {
   "cell_type": "code",
   "execution_count": null,
   "metadata": {
    "slideshow": {
     "slide_type": "fragment"
    }
   },
   "outputs": [],
   "source": [
    "next(k)"
   ]
  },
  {
   "cell_type": "code",
   "execution_count": null,
   "metadata": {
    "slideshow": {
     "slide_type": "fragment"
    }
   },
   "outputs": [],
   "source": [
    "list(gen_list(5))"
   ]
  },
  {
   "cell_type": "markdown",
   "metadata": {
    "slideshow": {
     "slide_type": "fragment"
    }
   },
   "source": [
    "Generator functions are usefull for reducing memory consumption and increasing performance"
   ]
  },
  {
   "cell_type": "markdown",
   "metadata": {
    "slideshow": {
     "slide_type": "subslide"
    }
   },
   "source": [
    "### Generator Expressions "
   ]
  },
  {
   "cell_type": "code",
   "execution_count": null,
   "metadata": {
    "slideshow": {
     "slide_type": "fragment"
    }
   },
   "outputs": [],
   "source": [
    "[x**2 for x in range(10)]"
   ]
  },
  {
   "cell_type": "code",
   "execution_count": null,
   "metadata": {
    "slideshow": {
     "slide_type": "fragment"
    }
   },
   "outputs": [],
   "source": [
    "(x**2 for x in range(10))"
   ]
  },
  {
   "cell_type": "code",
   "execution_count": null,
   "metadata": {
    "slideshow": {
     "slide_type": "fragment"
    }
   },
   "outputs": [],
   "source": [
    "k = (x**2 for x in range(10))"
   ]
  },
  {
   "cell_type": "code",
   "execution_count": null,
   "metadata": {
    "slideshow": {
     "slide_type": "fragment"
    }
   },
   "outputs": [],
   "source": [
    "next(k)"
   ]
  },
  {
   "cell_type": "code",
   "execution_count": null,
   "metadata": {
    "slideshow": {
     "slide_type": "fragment"
    }
   },
   "outputs": [],
   "source": [
    "list(k)"
   ]
  },
  {
   "cell_type": "code",
   "execution_count": null,
   "metadata": {
    "slideshow": {
     "slide_type": "fragment"
    }
   },
   "outputs": [],
   "source": [
    "def intergral(f, low, upper):\n",
    "    "
   ]
  }
 ],
 "metadata": {
  "celltoolbar": "Slideshow",
  "kernelspec": {
   "display_name": "Python 3",
   "language": "python",
   "name": "python3"
  },
  "language_info": {
   "codemirror_mode": {
    "name": "ipython",
    "version": 3
   },
   "file_extension": ".py",
   "mimetype": "text/x-python",
   "name": "python",
   "nbconvert_exporter": "python",
   "pygments_lexer": "ipython3",
   "version": "3.8.5"
  }
 },
 "nbformat": 4,
 "nbformat_minor": 4
}
