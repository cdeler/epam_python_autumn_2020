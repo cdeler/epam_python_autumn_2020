{
 "cells": [
  {
   "cell_type": "markdown",
   "metadata": {
    "collapsed": true,
    "pycharm": {
     "name": "#%% md\n"
    }
   },
   "source": [
    "# Python (EPAM, 2020), лекция 01"
   ]
  },
  {
   "cell_type": "markdown",
   "metadata": {
    "pycharm": {
     "name": "#%% md\n"
    }
   },
   "source": [
    "## What the `python` is?\n",
    "\n",
    "> Python is a simple, yet powerful, interpreted programming language that bridges the gap between C and shell programming, and is thus ideally suited for \"throw-away programming\" and rapid prototyping\n",
    "\n",
    "(c) [python 1.4 ref](https://docs.python.org/release/1.4/ref/ref0.html#HDT0)\n",
    "\n",
    "> Python is an easy to learn, powerful programming language. It has efficient high-level data structures and a simple but effective approach to object-oriented programming. Python’s elegant syntax and dynamic typing, together with its interpreted nature, make it an ideal language for scripting and rapid application development in many areas on most platforms.\n",
    "\n",
    "(c) [python 3.9 ref](https://docs.python.org/release/3.9.0/tutorial/index.html#tutorial-index)"
   ]
  },
  {
   "cell_type": "markdown",
   "source": [
    "**Keywords**:\n",
    "1. easy to learn?\n",
    "1. high-level data structures? stdlib with batteries inside. By the way sometimes they [remove dead batteries](https://www.python.org/dev/peps/pep-0594/)\n",
    "1. elegant syntax? For us it means: [PEP-8](https://www.python.org/dev/peps/pep-0008/), `black` + `isort` formatting\n",
    "1. dynamic types? duck typing!"
   ],
   "metadata": {
    "collapsed": false,
    "pycharm": {
     "name": "#%% md\n"
    }
   }
  },
  {
   "cell_type": "code",
   "execution_count": null,
   "outputs": [],
   "source": [
    "foo = 5\n",
    "bar = foo + 5"
   ],
   "metadata": {
    "collapsed": false,
    "pycharm": {
     "name": "#%%\n"
    }
   }
  },
  {
   "cell_type": "code",
   "execution_count": null,
   "outputs": [],
   "source": [
    "baz = bar + \"bar\""
   ],
   "metadata": {
    "collapsed": false,
    "pycharm": {
     "name": "#%%\n"
    }
   }
  },
  {
   "cell_type": "markdown",
   "source": [
    "## Python types\n",
    "\n",
    "![python_types.png](img/python_types.png)\n",
    "\n",
    "_Note_:\n",
    "Some data types such as [`Ellipsis`](https://stackoverflow.com/questions/772124/what-does-the-ellipsis-object-do) are not presented here ^"
   ],
   "metadata": {
    "collapsed": false,
    "pycharm": {
     "name": "#%% md\n"
    }
   }
  },
  {
   "cell_type": "markdown",
   "source": [
    "### Lets check some variables type"
   ],
   "metadata": {
    "collapsed": false
   }
  },
  {
   "cell_type": "code",
   "execution_count": null,
   "outputs": [],
   "source": [
    "a = 6\n",
    "b = object()\n",
    "c = [1, 2, 3, 4, 5, 6]\n",
    "d = ...\n",
    "\n",
    "\n",
    "def e():\n",
    "    ...\n",
    "\n",
    "\n",
    "class F(list):\n",
    "    pass\n",
    "\n",
    "\n",
    "for var in (a, b, c, d, e, F):\n",
    "    print(f\"{var=}, its type is {type(var)=}\")"
   ],
   "metadata": {
    "collapsed": false,
    "pycharm": {
     "name": "#%%\n"
    }
   }
  },
  {
   "cell_type": "markdown",
   "source": [
    "_Note_: even if I showed it, do not use `type()` for type-checking :-)\n",
    "\n",
    "Usually type check is performed using `isinstance(...)` function"
   ],
   "metadata": {
    "collapsed": false
   }
  },
  {
   "cell_type": "markdown",
   "source": [
    "## Python statements\n",
    "\n",
    "How can we operate with data?"
   ],
   "metadata": {
    "collapsed": false
   }
  },
  {
   "cell_type": "markdown",
   "source": [
    "### Conditions"
   ],
   "metadata": {
    "collapsed": false,
    "pycharm": {
     "name": "#%% md\n"
    }
   }
  },
  {
   "cell_type": "code",
   "execution_count": null,
   "outputs": [],
   "source": [
    "a, b = 5, 6\n",
    "\n",
    "\n",
    "if a < b:\n",
    "    print(f\"{a=} is the less than other variable\")\n",
    "elif b < a:\n",
    "    print(f\"{b=} is the less than other variable\")\n",
    "else:\n",
    "    print(f\"Seems like a == b == {a}\")"
   ],
   "metadata": {
    "collapsed": false,
    "pycharm": {
     "name": "#%%\n"
    }
   }
  },
  {
   "cell_type": "markdown",
   "source": [
    "### Iterations and loops"
   ],
   "metadata": {
    "collapsed": false,
    "pycharm": {
     "name": "#%% md\n"
    }
   }
  },
  {
   "cell_type": "code",
   "execution_count": null,
   "outputs": [],
   "source": [
    "for val in [1, 2, 3, 4, 5, 6]:\n",
    "    print(f\"{val=}\", end=\" \")\n",
    "else:\n",
    "    print(\"That's all, folks!\")\n",
    "\n",
    "i = 63215\n",
    "\n",
    "while i & (i - 1):\n",
    "    i += 1\n",
    "\n",
    "print(f\"{i=}\")"
   ],
   "metadata": {
    "collapsed": false,
    "pycharm": {
     "name": "#%%\n"
    }
   }
  },
  {
   "cell_type": "markdown",
   "source": [
    "### Falsy values\n",
    "\n",
    "The above examples shows Falsy values usage ([doc reference](https://docs.python.org/3/library/stdtypes.html#truth-value-testing))."
   ],
   "metadata": {
    "collapsed": false
   }
  },
  {
   "cell_type": "code",
   "execution_count": null,
   "outputs": [],
   "source": [
    "from decimal import Decimal\n",
    "from fractions import Fraction\n",
    "\n",
    "\n",
    "just_falsy_values = [False, None]\n",
    "numeric_falsy_values = [0, 0.0, 0j, Decimal(0), Fraction(0, 1)]\n",
    "empty_sequencies_and_collections = [[], (), \"\", range(0), {}, set()]\n",
    "\n",
    "\n",
    "assert not any(just_falsy_values)\n",
    "assert not any(numeric_falsy_values)\n",
    "assert not any(empty_sequencies_and_collections)"
   ],
   "metadata": {
    "collapsed": false,
    "pycharm": {
     "name": "#%%\n"
    }
   }
  },
  {
   "cell_type": "markdown",
   "source": [
    "How could we use it?\n"
   ],
   "metadata": {
    "collapsed": false,
    "pycharm": {
     "name": "#%% md\n"
    }
   }
  },
  {
   "cell_type": "code",
   "execution_count": null,
   "outputs": [],
   "source": [
    "# this code probably contain bugs...\n",
    "\n",
    "\n",
    "def _check_window(x: int, y: int, z: int) -> bool:\n",
    "    return (x + y) == z\n",
    "\n",
    "\n",
    "data_to_process = [0, 1, 1, 2, 3, 5, 8, 13, 21, 34, 55, 89, 144, 233, 377, 610, 987, 1597, 2584, 4181, 6765]\n",
    "\n",
    "\n",
    "assert len(data_to_process) >= 3\n",
    "\n",
    "a, b, c = data_to_process[0], data_to_process[1], data_to_process[2]\n",
    "\n",
    "while data_to_process:\n",
    "    if not _check_window(a, b, c):\n",
    "        raise ValueError(\"Invalid data\")\n",
    "\n",
    "    a, b, c = b, c, data_to_process[0]\n",
    "    data_to_process = data_to_process[1:]\n",
    "\n",
    "print(\"it's a fib sequence!\")"
   ],
   "metadata": {
    "collapsed": false,
    "pycharm": {
     "name": "#%%\n"
    }
   }
  },
  {
   "cell_type": "markdown",
   "source": [
    "## What else should we know to complete homework?\n",
    "\n",
    "### How to start working?\n",
    "1. set up your git repository in github\n",
    "1. install >= python3.8 onto your system\n",
    "1. create a virtualenv with the python ([ref](https://docs.python.org/3/library/venv.html), [s/o](https://stackoverflow.com/questions/35017160/how-to-use-virtualenv-with-python))\n",
    "1. activate it\n",
    "1. ...\n",
    "1. PROFIT!\n",
    "\n",
    "![profit.jpg](img/profit.jpg)\n",
    "\n",
    "### Which IDE do we recommend?\n",
    "Either `PyCharm` or `VSCode`. Feel free to use what you want\n",
    "\n",
    "### How to organize your code?\n",
    "Each homework should follow the `sample_project/` structure:\n",
    "1. use a dedicated directory for hw\n",
    "1. add a python package for source\n",
    "1. add `tests/` dir\n",
    "\n",
    "### How to test your code?\n",
    "\n",
    "We need to do several things:\n",
    "1. install `pytest` (and `pytest-sugar` if you want)\n",
    "1. write the tests!\n",
    "\n",
    "### How to write the tests?\n",
    "Please check out `sample_project/`\n",
    "\n",
    "### How to check if your code might be accepted\n",
    "\n",
    "We do not accept the code, which is not well-formatted. **Without any exceptions**.\n",
    "\n",
    "To ensure that your code can be accepted, please:\n",
    "1. install `black` and `isort` to your venv\n",
    "1. add pre-commit hook with `black` and `isort` invocation ([howto](https://githooks.com/))"
   ],
   "metadata": {
    "collapsed": false,
    "pycharm": {
     "name": "#%% md\n"
    }
   }
  }
 ],
 "metadata": {
  "kernelspec": {
   "display_name": "Python 3",
   "language": "python",
   "name": "python3"
  },
  "language_info": {
   "codemirror_mode": {
    "name": "ipython",
    "version": 3
   },
   "file_extension": ".py",
   "mimetype": "text/x-python",
   "name": "python",
   "nbconvert_exporter": "python",
   "pygments_lexer": "ipython3",
   "version": "3.8.5"
  }
 },
 "nbformat": 4,
 "nbformat_minor": 1
}