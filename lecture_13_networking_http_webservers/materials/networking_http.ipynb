{
 "cells": [
  {
   "cell_type": "markdown",
   "metadata": {
    "slideshow": {
     "slide_type": "slide"
    }
   },
   "source": [
    "# Networking, HTTP, web services"
   ]
  },
  {
   "cell_type": "markdown",
   "metadata": {
    "slideshow": {
     "slide_type": "slide"
    }
   },
   "source": [
    "## ISO/OSI model\n",
    "\n",
    "![](img/iso.png)"
   ]
  },
  {
   "cell_type": "markdown",
   "metadata": {},
   "source": [
    "## TCP/IP model in relation to ISO\n",
    "\n",
    "![](img/tcp_ip.png)"
   ]
  },
  {
   "cell_type": "markdown",
   "metadata": {
    "slideshow": {
     "slide_type": "slide"
    }
   },
   "source": [
    "As application developers, we are interested in:\n",
    "\n",
    " - Transport protocols (TCP or UPD) - implemented by OPERATING SYSTEM libraries and kernel\n",
    " - Application protocols (like HTTP or HTTPs) - implemented by our APPLICATION"
   ]
  },
  {
   "cell_type": "markdown",
   "metadata": {
    "slideshow": {
     "slide_type": "slide"
    }
   },
   "source": [
    "## TCP and UDP\n",
    "\n",
    "  - both are associated with IP address and port number\n",
    "  - UDP messages (also called datagrams) are \"fire and forget\". delivery of messages are not guaranteed\n",
    "  - TCP controls order of messages and deliverability (error checking)\n",
    "    \n",
    "Cases for using UDP:\n",
    "\n",
    "  - Gaming network code\n",
    "  - Telemetry data collection from thin (IoT) devices\n",
    "  - Gathering image frames from monitoring cameras\n",
    "  - Other cases when deliverability / order of messages is not critical, but performance is"
   ]
  },
  {
   "cell_type": "markdown",
   "metadata": {
    "slideshow": {
     "slide_type": "slide"
    }
   },
   "source": [
    "![](img/tcp_udp_protocol.png)"
   ]
  },
  {
   "cell_type": "markdown",
   "metadata": {
    "slideshow": {
     "slide_type": "slide"
    }
   },
   "source": [
    "## Addressing\n",
    "\n",
    "IPv4 addresses:\n",
    "\n",
    "  - dotted decimal notation - denotes a single address  \n",
    "    * 192.168.1.1       \n",
    "    * 127.0.0.1       \n",
    "    * 10.10.1.55\n",
    "       \n",
    "  - prefix notation - denotes a group of addresses (subnetwork)\n",
    "    * 192.147.0.0/24\n"
   ]
  },
  {
   "cell_type": "markdown",
   "metadata": {
    "slideshow": {
     "slide_type": "subslide"
    }
   },
   "source": [
    "IPv6 addresses:\n",
    "\n",
    "  - hexadecimal notation\n",
    "    * 2001:db8:85a3:8d3:1319:8a2e:370:7348\n",
    "    \n",
    "  - prefix notation\n",
    "    * 2001:db8:1234::/48\n"
   ]
  },
  {
   "cell_type": "markdown",
   "metadata": {
    "slideshow": {
     "slide_type": "subslide"
    }
   },
   "source": [
    "Port number:\n",
    "\n",
    "  - 16-bit unsigned number (0-65535)."
   ]
  },
  {
   "cell_type": "markdown",
   "metadata": {
    "slideshow": {
     "slide_type": "subslide"
    }
   },
   "source": [
    "Host names, like \"google.com\" are NOT IP addresses. They are resolved by an application-level protocol DNS.\n",
    "\n",
    "\n",
    "Connection are ALWAYS made to ip ADDRESS (and port).\n"
   ]
  },
  {
   "cell_type": "markdown",
   "metadata": {
    "slideshow": {
     "slide_type": "slide"
    }
   },
   "source": [
    "### Network interfaces\n",
    "\n",
    "- a piece of hardware (can be virtual or emulated) that provides network communication \n",
    "- network address (including IP addresses) belong to that interface\n",
    "- single interface can have more than 1 addresses\n",
    "- an address will always have a network interface where it belongs to.\n",
    "- single machine can have multiple interfaces\n"
   ]
  },
  {
   "cell_type": "markdown",
   "metadata": {
    "slideshow": {
     "slide_type": "slide"
    }
   },
   "source": [
    "### LOOPBACK INTERFACE (LOCALHOST)\n",
    "\n",
    "- 127.0.0.1\n",
    "- ::1\n",
    "- localhost (can have more aliases, like localhost.localdomain)\n",
    "\n",
    "a special address (and hostname) referencing to current machine.\n",
    "Important that it's a separate _interface_.\n",
    "\n",
    "One common error related to that is when running containers or virtual machines on your local PC, they cannot connect to the host machine by specifying \"localhost\" or \"127.0.0.1\" - that address will reference themselves instead of host."
   ]
  },
  {
   "cell_type": "markdown",
   "metadata": {
    "slideshow": {
     "slide_type": "slide"
    }
   },
   "source": [
    "### PORT NUMBERS\n",
    "\n",
    "- 0 - 65535\n",
    "- under 1024 - reserved (\"well-known\" or system ports) - do not use them for your application\n",
    "- higher than 1024 - some ports are \"registered\" in IANA.\n",
    "\n"
   ]
  },
  {
   "cell_type": "markdown",
   "metadata": {
    "slideshow": {
     "slide_type": "slide"
    }
   },
   "source": [
    "## SOCKETS\n",
    "\n",
    "Abstraction of a \"data tunnel\" between network endpoints.\n",
    "\n",
    "- server \"listens\" for accepting connections, client \"connects\" to remote address and port\n",
    "- after communication is established, both sides can read from socket and send data to it.\n",
    "- communication is bidirectional"
   ]
  },
  {
   "cell_type": "markdown",
   "metadata": {
    "slideshow": {
     "slide_type": "slide"
    }
   },
   "source": [
    "![](img/sockets.png)"
   ]
  },
  {
   "cell_type": "markdown",
   "metadata": {
    "slideshow": {
     "slide_type": "slide"
    }
   },
   "source": [
    "Note that we did not specify what is actually sent and written. It's up to application and is denoted with _application-level protocol_.\n",
    "\n",
    "more details:\n",
    "\n",
    "- by default, data sent and received is \"raw\"\n",
    "- reads can be \"blocking\" and \"non-blocking\"\n",
    "- anothe important parameter for sockets is \"timeout\""
   ]
  },
  {
   "cell_type": "code",
   "execution_count": null,
   "metadata": {
    "slideshow": {
     "slide_type": "slide"
    }
   },
   "outputs": [],
   "source": [
    "# in python:\n",
    "# server:\n",
    "import socket\n",
    "\n",
    "s = socket.socket(socket.AF_INET, socket.SOCK_STREAM)\n",
    "s.bind((\"0.0.0.0\", 9000))\n",
    "s.listen(1)\n",
    "        \n",
    "while True:\n",
    "    conn, addr = s.accept()\n",
    "    print(\"Received connection from\", addr)\n",
    "    conn.send(f\"Hello {addr}\\n\".encode())\n",
    "    conn.close()\n",
    "    \n"
   ]
  },
  {
   "cell_type": "code",
   "execution_count": 11,
   "metadata": {
    "slideshow": {
     "slide_type": "subslide"
    }
   },
   "outputs": [
    {
     "name": "stdout",
     "output_type": "stream",
     "text": [
      "b\"Hello ('127.0.0.1', 52548)\\n\"\n"
     ]
    }
   ],
   "source": [
    "# client:\n",
    "import socket\n",
    "s = socket.socket()\n",
    "s.connect((\"127.0.0.1\", 9000))\n",
    "print(s.recv(1024))\n",
    "s.close()"
   ]
  },
  {
   "cell_type": "markdown",
   "metadata": {
    "slideshow": {
     "slide_type": "slide"
    }
   },
   "source": [
    "To be able to serve multiple connections at once, in python we can\n",
    "\n",
    " - .accept() connections in loop\n",
    " - open a new thread with connection handler for processing\n",
    "\n",
    "But usually is better to use higher-level frameworks, as they tend to be more optimized. Operating systems have more mechanisms of controlling and checking communication state.\n",
    "\n",
    "- whether new connections arrived\n",
    "- whether new data appeared available to read, etc.\n",
    "\n",
    "Usually as python programmers we dont need to go that deep. Raw socket programming with python is rare."
   ]
  },
  {
   "cell_type": "markdown",
   "metadata": {
    "slideshow": {
     "slide_type": "slide"
    }
   },
   "source": [
    "### Possible problems with sockets and troubleshooting\n",
    "\n",
    "Debugging and troubleshooting tools:\n",
    "\n",
    "  - `ping`\n",
    "  - `traceroute`  \n",
    "  - `netstat -p`\n",
    "  - `lsof -i` or `lsof -i -n`\n",
    "  - `telnet` command\n",
    "  - netcat (`nc`) command\n",
    "  \n",
    "\n",
    "possible problems:\n",
    "\n",
    "  - sockets in TIME_WAIT state - usually because of connection drops because of server exceptions\n",
    "  - number of open files / socket exceeded: check `ulimit -a`. default limit of open files is 1024.\n",
    "  - \"blocking\" connection - check socket timeouts. Very widespread problem. default is NO TIMEOUT.\n",
    "  - small packets not arriving at once (for 1-byte packets for example): use TCP_NODELAY flag"
   ]
  },
  {
   "cell_type": "markdown",
   "metadata": {
    "slideshow": {
     "slide_type": "slide"
    }
   },
   "source": [
    "## NAME RESOLUTION (DNS)\n",
    "\n",
    "from hostnames to IP addresses.\n",
    "\n",
    "- socket.gethostbyname()\n",
    "- socket.getaddrinfo()\n",
    "\n",
    "![](img/dns.png)\n",
    "\n",
    "\n"
   ]
  },
  {
   "cell_type": "markdown",
   "metadata": {
    "slideshow": {
     "slide_type": "slide"
    }
   },
   "source": [
    "### Important tools for name resolution troubleshooting\n",
    "\n",
    "  - ping\n",
    "  - nslookup (can point to specific name resolution server)\n",
    "  - hosts file (/etc/hosts, c:\\Windows\\System32\\drivers\\etc\\hosts)\n",
    "   \n"
   ]
  },
  {
   "cell_type": "markdown",
   "metadata": {
    "slideshow": {
     "slide_type": "slide"
    }
   },
   "source": [
    "### Modern DNS\n",
    "\n",
    "Due to privacy concerns a number of tools and standards are emerging related to name resolution\n",
    "\n",
    " - DNS over TLS (DoT)\n",
    " - DNS over HTTPS (DoH)\n",
    " - DNSCrypt (prevents forgery, but still visible)\n"
   ]
  },
  {
   "cell_type": "markdown",
   "metadata": {
    "slideshow": {
     "slide_type": "slide"
    }
   },
   "source": [
    "# HTTP\n",
    "\n",
    "Application-level protocol for serving hypertext content.\n"
   ]
  },
  {
   "cell_type": "markdown",
   "metadata": {
    "slideshow": {
     "slide_type": "slide"
    }
   },
   "source": [
    "## Time for demo!\n",
    "\n"
   ]
  },
  {
   "cell_type": "markdown",
   "metadata": {
    "slideshow": {
     "slide_type": "slide"
    }
   },
   "source": [
    "## Basic request components\n",
    "\n",
    "- outside of request itself\n",
    "   * server network address (host IP address and port)\n",
    "   * schema (https / http)\n",
    "   \n",
    "- inside http request:\n",
    "   * method (GET, POST, DELETE, OPTIONS, etc)\n",
    "   * request path\n",
    "   * request query string\n",
    "   * request headers\n",
    "   * request body\n",
    "   \n",
    "- inside http response:\n",
    "   * status code\n",
    "   * status message\n",
    "   * response headers\n",
    "   * response body\n",
    "   \n"
   ]
  },
  {
   "cell_type": "markdown",
   "metadata": {
    "slideshow": {
     "slide_type": "slide"
    }
   },
   "source": [
    "## Cookies\n",
    "\n",
    "Responses sometimes contain header `set-cookie`. This information is stored in browser and later reused for subsequent request to the same website (or its part).\n",
    "\n",
    "This is the main identification mechanism that is implemented in internet."
   ]
  },
  {
   "cell_type": "code",
   "execution_count": null,
   "metadata": {
    "slideshow": {
     "slide_type": "slide"
    }
   },
   "outputs": [],
   "source": [
    "# in python: \n",
    "\n",
    "import requests\n",
    "\n",
    "result = requests.get('https://google.com').text"
   ]
  },
  {
   "cell_type": "markdown",
   "metadata": {},
   "source": [
    "## content-types and encodings\n",
    "\n",
    "for responses:\n",
    "\n",
    "- text/plain\n",
    "- text/html\n",
    "- binary/octet-stream\n",
    "- application/json\n",
    "- image/jpeg\n",
    "- many others\n",
    "\n",
    "for requests:\n",
    "\n",
    "- multipart/form-data\n",
    "- application/x-www-form-urlencoded\n",
    "- application/json\n"
   ]
  },
  {
   "cell_type": "markdown",
   "metadata": {
    "slideshow": {
     "slide_type": "slide"
    }
   },
   "source": [
    "# SSL (TLS) and HTTPs\n",
    "\n",
    "- HTTPS is a transport layer wrapper ON TOP of HTTP\n",
    "- TLS (SSL) can be generally used not only for HTTP, but for any other socket-based communication.\n",
    "- Using PKI concepts and infrastructure\n",
    "\n",
    "\n",
    "Steps:\n",
    " - Server acquires _certificate_ from CERTIFICATE AUTHORITY (CA)\n",
    " - Server certificate is _*SERVER PUBLIC KEY SIGNED BY CA*_ with additional information (CN = server name)\n",
    " - Client already has ALL CA certificates (ROOT CAs). (provided by OS or separate package. In python: certifi).\n",
    " - When connection is established, server supplies its certificate. Client checks that server name matches to certificate's CN and verifies that server certificate is valid.\n",
    " - Client and server negotiate a session-level encryption protocol, generate symmetric session encryption key\n",
    " - All further communication between server and client is made by using negotiated session key\n",
    "\n"
   ]
  },
  {
   "cell_type": "markdown",
   "metadata": {
    "slideshow": {
     "slide_type": "slide"
    }
   },
   "source": [
    "### HTTPS in python:\n",
    "\n",
    "Most frameworks does NOT support HTTPs directly (and is actually discouraged to use certificate with applications directly).\n",
    "\n",
    "Usually web frameworks will receive unwrapped HTTP requests.\n",
    "\n",
    "\n",
    "Process of unwrapping SSL to underlying protocol is called SSL termination.\n",
    "\n",
    "SSL is usually performed at generic webserver (nginx) or load balancing level (gunicorn, haproxy, or container orchestration framework). Reasons: multiple HOSTs at singe webserver, load balancing, centralized webserver log collection, DDOS prevention, etc."
   ]
  },
  {
   "cell_type": "markdown",
   "metadata": {
    "slideshow": {
     "slide_type": "slide"
    }
   },
   "source": [
    "### Typical webservice stack for python webserver frameworks\n",
    "\n",
    "- load balancer (haproxy)\n",
    "- generic webserver (NGINX, apache, lighthttpd). Usually it also server static files.\n",
    "- python fastcgi / http server (uwsgi, gunicorn) that preforks python application workers\n",
    "- python web application processes\n"
   ]
  },
  {
   "cell_type": "markdown",
   "metadata": {
    "slideshow": {
     "slide_type": "slide"
    }
   },
   "source": [
    "### CGI, FASTCGI, WSGI\n",
    "\n",
    "Represent an evolution of web servers\n",
    "\n",
    " - Static pages \n",
    " - Dynamic pages ( CGI )\n",
    " - mod_python - embeds python into webserver code to run python applications (almost the same as CGI)\n",
    " - Dedicated processes serving dynamic content on-demand (fastcgi)\n",
    " - WSGI - python-specific interface standard similar to fastcgi ( PEP 3333 )\n",
    " - Modern async frameworks handle HTTP requests themselves "
   ]
  },
  {
   "cell_type": "markdown",
   "metadata": {
    "slideshow": {
     "slide_type": "slide"
    }
   },
   "source": [
    "EXAMPLE OF CGI environment variables (from CGI wiki page). Some are common and defined by OS, some are set by server\n",
    "\n",
    "```\n",
    "COMSPEC=\"C:\\Windows\\system32\\cmd.exe\"\n",
    "DOCUMENT_ROOT=\"C:/Program Files (x86)/Apache Software Foundation/Apache2.4/htdocs\"\n",
    "GATEWAY_INTERFACE=\"CGI/1.1\"\n",
    "HOME=\"/home/SYSTEM\"\n",
    "HTTP_ACCEPT=\"text/html,application/xhtml+xml,application/xml;q=0.9,*/*;q=0.8\"\n",
    "HTTP_ACCEPT_CHARSET=\"ISO-8859-1,utf-8;q=0.7,*;q=0.7\"\n",
    "HTTP_ACCEPT_ENCODING=\"gzip, deflate, br\"\n",
    "HTTP_ACCEPT_LANGUAGE=\"en-us,en;q=0.5\"\n",
    "HTTP_CONNECTION=\"keep-alive\"\n",
    "HTTP_HOST=\"example.com\"\n",
    "HTTP_USER_AGENT=\"Mozilla/5.0 (Windows NT 6.1; WOW64; rv:67.0) Gecko/20100101 Firefox/67.0\"\n",
    "PATH=\"/home/SYSTEM/bin:/bin:/cygdrive/c/progra~2/php:/cygdrive/c/windows/system32:...\"\n",
    "PATHEXT=\".COM;.EXE;.BAT;.CMD;.VBS;.VBE;.JS;.JSE;.WSF;.WSH;.MSC\"\n",
    "PATH_INFO=\"/foo/bar\"\n",
    "PATH_TRANSLATED=\"C:\\Program Files (x86)\\Apache Software Foundation\\Apache2.4\\htdocs\\foo\\bar\"\n",
    "QUERY_STRING=\"var1=value1&var2=with%20percent%20encoding\"\n",
    "REMOTE_ADDR=\"127.0.0.1\"\n",
    "REMOTE_PORT=\"63555\"\n",
    "REQUEST_METHOD=\"GET\"\n",
    "REQUEST_URI=\"/cgi-bin/printenv.pl/foo/bar?var1=value1&var2=with%20percent%20encoding\"\n",
    "SCRIPT_FILENAME=\"C:/Program Files (x86)/Apache Software Foundation/Apache2.4/cgi-bin/printenv.pl\"\n",
    "SCRIPT_NAME=\"/cgi-bin/printenv.pl\"\n",
    "SERVER_ADDR=\"127.0.0.1\"\n",
    "SERVER_ADMIN=\"(server admin's email address)\"\n",
    "SERVER_NAME=\"127.0.0.1\"\n",
    "SERVER_PORT=\"80\"\n",
    "SERVER_PROTOCOL=\"HTTP/1.1\"\n",
    "SERVER_SIGNATURE=\"\"\n",
    "SERVER_SOFTWARE=\"Apache/2.4.39 (Win32) PHP/7.3.7\"\n",
    "SYSTEMROOT=\"C:\\Windows\"\n",
    "TERM=\"cygwin\"\n",
    "WINDIR=\"C:\\Windows\"\n",
    "```"
   ]
  },
  {
   "cell_type": "code",
   "execution_count": null,
   "metadata": {
    "slideshow": {
     "slide_type": "slide"
    }
   },
   "outputs": [],
   "source": [
    "# WSGI application in python is just a callable with 2 positional parameters.\n",
    "\n",
    "\n",
    "def web_app(env, start_response):\n",
    "  print(env)\n",
    "  status = '200 OK'\n",
    "  response_headers = [('Content-type', 'text/plain')]\n",
    "  start_response(status, response_headers)\n",
    "  return [b\"Welcome to the machine\\n\"]\n",
    "\n",
    "\n",
    "class WebApp:\n",
    "    def __init__(self, env, start_response):\n",
    "        print(env)\n",
    "        self.env = env \n",
    "        self.callback = start_response\n",
    "\n",
    "    def __iter__(self):\n",
    "        status = '200 OK'\n",
    "        response_headers = [('Content-type', 'text/plain')]\n",
    "        self.callback(status, response_headers)\n",
    "        return iter([b\"Have a cigar\\n\"])\n",
    "\n",
    "        \n",
    "        \n",
    "        "
   ]
  },
  {
   "cell_type": "markdown",
   "metadata": {
    "slideshow": {
     "slide_type": "slide"
    }
   },
   "source": [
    "WSGI environement variables:\n",
    "\n",
    "```\n",
    "{ \n",
    "'wsgi.errors': <gunicorn.http.wsgi.WSGIErrorsWrapper object at 0x7f2734f35a60>, \n",
    "'wsgi.version': (1, 0), \n",
    "'wsgi.multithread': False, \n",
    "'wsgi.multiprocess': False, \n",
    "'wsgi.run_once': False, \n",
    "'wsgi.file_wrapper': <class 'gunicorn.http.wsgi.FileWrapper'>, \n",
    "'wsgi.input_terminated': True, \n",
    "'SERVER_SOFTWARE': 'gunicorn/20.0.4', \n",
    "'wsgi.input': <gunicorn.http.body.Body object at 0x7f2734f35f70>, \n",
    "'gunicorn.socket': \n",
    "    <socket.socket fd=12, family=AddressFamily.AF_INET, type=SocketKind.SOCK_STREAM, proto=0, laddr=('127.0.0.1', 8000), raddr=('127.0.0.1', 55766)>, \n",
    "'REQUEST_METHOD': 'GET', \n",
    "'QUERY_STRING': '', \n",
    "'RAW_URI': '/test', \n",
    "'SERVER_PROTOCOL': 'HTTP/1.1', \n",
    "'HTTP_HOST': '127.0.0.1:8000', \n",
    "'HTTP_USER_AGENT': 'curl/7.68.0', \n",
    "'HTTP_ACCEPT': '*/*', \n",
    "'wsgi.url_scheme': 'http', \n",
    "'REMOTE_ADDR': '127.0.0.1', \n",
    "'REMOTE_PORT': '55766', \n",
    "'SERVER_NAME': '127.0.0.1', \n",
    "'SERVER_PORT': '8000', \n",
    "'PATH_INFO': '/test', \n",
    "'SCRIPT_NAME': ''\n",
    "}\n",
    "```\n",
    "\n"
   ]
  },
  {
   "cell_type": "markdown",
   "metadata": {
    "slideshow": {
     "slide_type": "slide"
    }
   },
   "source": [
    "Note that all this data is pretty basic, you will still need to parse query string yourself, and even request headers are included _inside_ request body. "
   ]
  },
  {
   "cell_type": "markdown",
   "metadata": {
    "slideshow": {
     "slide_type": "slide"
    }
   },
   "source": [
    "# WEBSERVER FRAMEWORKS\n",
    "\n",
    "- Prepare request data for consumption\n",
    "- Organize your request handling code in structured way\n",
    "- Supply additional batteries to shorten and reuse common request-related tasks\n",
    "\n",
    "popular frameworks:\n",
    "\n",
    "  - synchronous (django, pyramid, flask, bottle, falcon, etc.)\n",
    "  - asynchronous (aiohttp, fastapi, sanic, tornado, etc) \n",
    "\n",
    "And MANY MANY different standalone libraries that supply specific pluggable functionality for each specific task.\n",
    "\n",
    "Examples: marshmallow, sqlalchemy, itsdangerous, deform, jinja, genshi, many others.\n",
    " "
   ]
  },
  {
   "cell_type": "markdown",
   "metadata": {
    "slideshow": {
     "slide_type": "slide"
    }
   },
   "source": [
    "## Anatomy of web framework\n",
    "\n",
    "- request parser\n",
    "- routing\n",
    "- template engine\n",
    "- modularity and code organization\n",
    "- data validation and XSS attack prevention\n",
    "- session handling\n",
    "- configuration management\n",
    "- built-in ORM\n",
    "\n",
    "\n",
    "\n",
    "ORM + request handler + template engine combination implements paradigm of MVC (model-view-controller). \n",
    "\n",
    "MVC frameworks usually aim to be a generic solution for classic single-server web applications.\n",
    "At the other end of spectrum we have microframeworks as bottle and frameworks tailored for specific tasks (like microservices: vivid example would be fastapi that is specifically designed to be a API framework, or DRF, that is tailored to be REST services provider).\n"
   ]
  },
  {
   "cell_type": "code",
   "execution_count": null,
   "metadata": {
    "slideshow": {
     "slide_type": "slide"
    }
   },
   "outputs": [],
   "source": [
    "from bottle import route, request, default_app\n",
    "\n",
    "@route('/')\n",
    "def index():\n",
    "    name = request.query.get('name', 'anonymous')\n",
    "    return f'Hello, {name}!'  # do not do things like that in production, XSS! \n",
    "                              # Use templating engine with safeguards\n",
    "\n",
    "app = default_app()   # you can create application object explicitly and add routes on top of it"
   ]
  },
  {
   "cell_type": "markdown",
   "metadata": {
    "slideshow": {
     "slide_type": "slide"
    }
   },
   "source": [
    "## Useful tools\n",
    "\n",
    "- CURL (the best tool for web request analysis)\n",
    "- python and requests library\n",
    "- web browser in developer mode.\n",
    "- various http bins (be wary about passwords and sensitive data though!, better to self-host them)\n",
    "- load testing: ab (Apache bench), gobench, locust, yandex-tank\n",
    "\n"
   ]
  },
  {
   "cell_type": "markdown",
   "metadata": {},
   "source": [
    "# THE END"
   ]
  }
 ],
 "metadata": {
  "celltoolbar": "Slideshow",
  "kernelspec": {
   "display_name": "Python 3",
   "language": "python",
   "name": "python3"
  },
  "language_info": {
   "codemirror_mode": {
    "name": "ipython",
    "version": 3
   },
   "file_extension": ".py",
   "mimetype": "text/x-python",
   "name": "python",
   "nbconvert_exporter": "python",
   "pygments_lexer": "ipython3",
   "version": "3.8.5"
  }
 },
 "nbformat": 4,
 "nbformat_minor": 4
}
