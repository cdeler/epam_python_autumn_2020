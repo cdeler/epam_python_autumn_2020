{
 "cells": [
  {
   "cell_type": "markdown",
   "metadata": {
    "colab_type": "text",
    "id": "Q0cbFpmlfB0q",
    "slideshow": {
     "slide_type": "slide"
    }
   },
   "source": [
    "# Data structures and Functions"
   ]
  },
  {
   "cell_type": "code",
   "execution_count": null,
   "metadata": {},
   "outputs": [],
   "source": []
  },
  {
   "cell_type": "markdown",
   "metadata": {
    "slideshow": {
     "slide_type": "subslide"
    }
   },
   "source": [
    "1. \n",
    "* Mutable and immutable types\n",
    "* String\n",
    "* List\n",
    "* Tuple (and named tuple)\n",
    "* Set (+frozen set)  \n",
    "* Dict    \n",
    "* File-like objects"
   ]
  },
  {
   "cell_type": "markdown",
   "metadata": {
    "colab_type": "text",
    "id": "LvZgIY4pfB0s",
    "slideshow": {
     "slide_type": "subslide"
    }
   },
   "source": [
    "2. \n",
    "* Functions\n",
    "\n",
    "* Arguments\n",
    "\n",
    "* Namespaces\n",
    "\n",
    "* Scopes (LEGB)\n",
    "\n",
    "* Enclosing"
   ]
  },
  {
   "cell_type": "markdown",
   "metadata": {
    "slideshow": {
     "slide_type": "slide"
    }
   },
   "source": [
    "### Data\n",
    "facts representation, terms or instructions in format suitable for processing.\n",
    "\n",
    "### Data structures\n",
    "is a data organization, management, and storage format that enables efficient access and modification\n"
   ]
  },
  {
   "cell_type": "markdown",
   "metadata": {
    "slideshow": {
     "slide_type": "slide"
    }
   },
   "source": [
    "#### A mutable object can be changed after it's created, and an immutable object can't. "
   ]
  },
  {
   "cell_type": "markdown",
   "metadata": {
    "slideshow": {
     "slide_type": "subslide"
    }
   },
   "source": [
    "<img src=\"images/datatypes.png\" width=\"2500\" height=\"1500\">"
   ]
  },
  {
   "cell_type": "markdown",
   "metadata": {
    "colab_type": "text",
    "id": "lxK8ssbofB0w",
    "slideshow": {
     "slide_type": "slide"
    }
   },
   "source": [
    "## String\n",
    "Ordered chars sequence, used to store and represent text information. \n",
    "\n",
    "Starting from  Python 3.x strings Unicode chars sequence."
   ]
  },
  {
   "cell_type": "markdown",
   "metadata": {
    "colab_type": "text",
    "id": "ajUwCOBdrl1w",
    "slideshow": {
     "slide_type": "slide"
    }
   },
   "source": [
    "## String literals"
   ]
  },
  {
   "cell_type": "code",
   "execution_count": 27,
   "metadata": {
    "slideshow": {
     "slide_type": "fragment"
    }
   },
   "outputs": [
    {
     "ename": "SyntaxError",
     "evalue": "invalid syntax (<ipython-input-27-c2ae5872fe8d>, line 4)",
     "output_type": "error",
     "traceback": [
      "\u001b[0;36m  File \u001b[0;32m\"<ipython-input-27-c2ae5872fe8d>\"\u001b[0;36m, line \u001b[0;32m4\u001b[0m\n\u001b[0;31m    print('we don't miss Python lectures')\u001b[0m\n\u001b[0m                  ^\u001b[0m\n\u001b[0;31mSyntaxError\u001b[0m\u001b[0;31m:\u001b[0m invalid syntax\n"
     ]
    }
   ],
   "source": [
    "print(\"python\" == 'python')\n",
    "\n",
    "print(\"we don't miss Python lectures\")\n",
    "print('we don't miss Python lectures')"
   ]
  },
  {
   "cell_type": "code",
   "execution_count": 133,
   "metadata": {
    "slideshow": {
     "slide_type": "fragment"
    }
   },
   "outputs": [
    {
     "ename": "SyntaxError",
     "evalue": "invalid syntax (<ipython-input-133-ad60d5e93d2b>, line 2)",
     "output_type": "error",
     "traceback": [
      "\u001b[0;36m  File \u001b[0;32m\"<ipython-input-133-ad60d5e93d2b>\"\u001b[0;36m, line \u001b[0;32m2\u001b[0m\n\u001b[0;31m    print(\"Guido van Rossum: \"Python is an experiment in how much freedom programmers need.\"\")\u001b[0m\n\u001b[0m                                   ^\u001b[0m\n\u001b[0;31mSyntaxError\u001b[0m\u001b[0;31m:\u001b[0m invalid syntax\n"
     ]
    }
   ],
   "source": [
    "print('Guido van Rossum: \"Python is an experiment in how much freedom programmers need.\"')\n",
    "# print(\"Guido van Rossum: \"Python is an experiment in how much freedom programmers need.\"\")"
   ]
  },
  {
   "cell_type": "code",
   "execution_count": 1,
   "metadata": {
    "colab": {
     "base_uri": "https://localhost:8080/",
     "height": 34
    },
    "colab_type": "code",
    "id": "9B8Bz-YOr2fI",
    "outputId": "00c6d9a7-7fa6-4390-dbe5-14b4b6dac298",
    "scrolled": true,
    "slideshow": {
     "slide_type": "subslide"
    }
   },
   "outputs": [
    {
     "name": "stdout",
     "output_type": "stream",
     "text": [
      "cat dog\n",
      "cat dog\n",
      "cat dog\n"
     ]
    }
   ],
   "source": [
    "a = \"cat \" \\\n",
    "    \"dog\"\n",
    "\n",
    "print(a)\n",
    "print(\"cat\"\" dog\")\n",
    "print(\"cat\"                      \" dog\")"
   ]
  },
  {
   "cell_type": "markdown",
   "metadata": {
    "colab_type": "text",
    "id": "mAHkTArw8JVr",
    "slideshow": {
     "slide_type": "subslide"
    }
   },
   "source": [
    "## Multiline strings"
   ]
  },
  {
   "cell_type": "code",
   "execution_count": 7,
   "metadata": {
    "colab": {
     "base_uri": "https://localhost:8080/",
     "height": 69
    },
    "colab_type": "code",
    "id": "dTNNClCvzTk0",
    "outputId": "460b60b4-c286-4b0f-a1ae-24d79ba56267",
    "slideshow": {
     "slide_type": "fragment"
    }
   },
   "outputs": [
    {
     "name": "stdout",
     "output_type": "stream",
     "text": [
      "a very very\n",
      "very big\n",
      "string\n",
      "\n",
      "\n",
      "\n",
      "a very very\n",
      "much bigger\n",
      "than normal one\n",
      "\n"
     ]
    }
   ],
   "source": [
    "big_1 = \"\"\"a very very\n",
    "... very big\n",
    "... string\n",
    "\"\"\"\n",
    "\n",
    "big_2 = \"\"\"\n",
    "a very very\n",
    "much bigger\n",
    "than normal one\n",
    "\"\"\"\n",
    "\n",
    "print(big_1)\n",
    "print()\n",
    "print(big_2)"
   ]
  },
  {
   "cell_type": "markdown",
   "metadata": {
    "colab_type": "text",
    "id": "bjDR_khjrIwR",
    "slideshow": {
     "slide_type": "slide"
    }
   },
   "source": [
    "# Escape Characters\n",
    "To insert characters that are illegal in a string, use an escape character.\n"
   ]
  },
  {
   "cell_type": "code",
   "execution_count": 29,
   "metadata": {
    "slideshow": {
     "slide_type": "fragment"
    }
   },
   "outputs": [],
   "source": [
    "problem = 'C:\\teeeeeeext.txt'\n",
    "no_problem = r'C:\\teeeeeeext.txt'\n",
    "no_problem_2 = 'C:\\\\teeeeeeext.txt'\n",
    "\n",
    "# print(problem, no_problem, no_problem_2, sep='\\n')"
   ]
  },
  {
   "cell_type": "code",
   "execution_count": 30,
   "metadata": {},
   "outputs": [
    {
     "data": {
      "text/plain": [
       "'t'"
      ]
     },
     "execution_count": 30,
     "metadata": {},
     "output_type": "execute_result"
    }
   ],
   "source": [
    "no_problem[-1]"
   ]
  },
  {
   "cell_type": "markdown",
   "metadata": {
    "slideshow": {
     "slide_type": "subslide"
    }
   },
   "source": [
    "<img src=\"images/special_chars.png\" width=\"700\" height=\"800\">"
   ]
  },
  {
   "cell_type": "markdown",
   "metadata": {
    "colab_type": "text",
    "id": "g2FiBoEXFjE0",
    "slideshow": {
     "slide_type": "slide"
    }
   },
   "source": [
    "# Character encoding\n",
    "\n",
    "__ASCII__ (American Standard Code for Information Interchange) - a 7-bit character code where every single bit represents a unique character. \n",
    "\n",
    "__Unicode__ -  is a specification that aims to list every character used by human languages and give each character its own unique code.\n",
    "\n",
    "__Byte char representation__\n",
    "\n",
    "- Unicode Transformation Format (UTF-8, UTF-16, UTF-32) - N __bit__ for each char\n",
    "- Universal Character Set (UCS-2, UCS-4) - N __byte__ for each char\n",
    "\n"
   ]
  },
  {
   "cell_type": "markdown",
   "metadata": {
    "slideshow": {
     "slide_type": "subslide"
    }
   },
   "source": [
    "## Flexible String Representation\n",
    "\n",
    "Python 3.3 (PEP-393)\n",
    "\n",
    "- If string contains only ASCII, each char is represented by 1 byte. (UCS-1)\n",
    "\n",
    "- If max code of any string char is more than 2^16, use UCS-2.\n",
    "\n",
    "- In other cases - UCS-4.\n",
    "\n",
    "https://www.python.org/dev/peps/pep-0393/\n"
   ]
  },
  {
   "cell_type": "code",
   "execution_count": 3,
   "metadata": {
    "colab": {
     "base_uri": "https://localhost:8080/",
     "height": 52
    },
    "colab_type": "code",
    "id": "eY5YMnUBfB0z",
    "outputId": "01fcc2dc-4fc9-4183-fd49-25ec936f8129",
    "slideshow": {
     "slide_type": "fragment"
    }
   },
   "outputs": [
    {
     "name": "stdout",
     "output_type": "stream",
     "text": [
      "1067\n",
      "Ы\n"
     ]
    }
   ],
   "source": [
    "var = \"Ы\"\n",
    "\n",
    "print(ord(var))\n",
    "print(chr(ord(var)))"
   ]
  },
  {
   "cell_type": "code",
   "execution_count": 9,
   "metadata": {
    "slideshow": {
     "slide_type": "subslide"
    }
   },
   "outputs": [
    {
     "data": {
      "text/plain": [
       "'ß'"
      ]
     },
     "execution_count": 9,
     "metadata": {},
     "output_type": "execute_result"
    }
   ],
   "source": [
    "char = \"\\N{LATIN SMALL LETTER SHARP S}\"\n",
    "char"
   ]
  },
  {
   "cell_type": "code",
   "execution_count": 10,
   "metadata": {
    "slideshow": {
     "slide_type": "fragment"
    }
   },
   "outputs": [
    {
     "data": {
      "text/plain": [
       "'SS'"
      ]
     },
     "execution_count": 10,
     "metadata": {},
     "output_type": "execute_result"
    }
   ],
   "source": [
    "char.upper()"
   ]
  },
  {
   "cell_type": "code",
   "execution_count": 11,
   "metadata": {
    "slideshow": {
     "slide_type": "fragment"
    }
   },
   "outputs": [
    {
     "data": {
      "text/plain": [
       "'ss'"
      ]
     },
     "execution_count": 11,
     "metadata": {},
     "output_type": "execute_result"
    }
   ],
   "source": [
    "char.upper().lower()"
   ]
  },
  {
   "cell_type": "markdown",
   "metadata": {
    "colab_type": "text",
    "id": "yRaSwyLpJeE4",
    "slideshow": {
     "slide_type": "slide"
    }
   },
   "source": [
    "## ascii(), str(), repr()\n",
    "\n",
    "### Common\n",
    "\n",
    "Methods to get objects string representation\n",
    "\n",
    "\n",
    "### What's the difference\n",
    "\n",
    "__repr__ -  “official” string representation of an object\n",
    "\n",
    "__str__ - nicely printable string representation of an object -- humanreadable\n",
    "\n",
    "__ascii__ - like repr,  but change non-ASCII symbols to escape characters\n"
   ]
  },
  {
   "cell_type": "code",
   "execution_count": 28,
   "metadata": {
    "colab": {
     "base_uri": "https://localhost:8080/",
     "height": 104
    },
    "colab_type": "code",
    "id": "NDk3IWV3JbUe",
    "outputId": "13882e95-9575-4874-e8bb-0219882470c3",
    "scrolled": true,
    "slideshow": {
     "slide_type": "subslide"
    }
   },
   "outputs": [
    {
     "name": "stdout",
     "output_type": "stream",
     "text": [
      "str() - 2020-11-02 18:17:09.170918 \n",
      "repr() - datetime.datetime(2020, 11, 2, 18, 17, 9, 170918)\n",
      "\n",
      "repr() - 'Les garçons' \n",
      "ascii() - 'Les gar\\xe7ons'\n"
     ]
    },
    {
     "data": {
      "text/plain": [
       "datetime.datetime(2019, 11, 7, 18, 33, 17, 341678)"
      ]
     },
     "execution_count": 28,
     "metadata": {},
     "output_type": "execute_result"
    }
   ],
   "source": [
    "import datetime\n",
    "today = datetime.datetime.now() \n",
    "\n",
    "print(\"str() -\", str(today),\n",
    "      \"\\nrepr() -\", repr(today))\n",
    "\n",
    "mot = \"Les garçons\"\n",
    "print(\"\\nrepr() -\", repr(mot),\n",
    "      \"\\nascii() -\", ascii(mot)) \n",
    "datetime.datetime(2019, 11, 7, 18, 33, 17, 341678)"
   ]
  },
  {
   "cell_type": "markdown",
   "metadata": {
    "slideshow": {
     "slide_type": "slide"
    }
   },
   "source": [
    "## Method - is an function associated with object and giving access to manipulate him\n",
    "\n"
   ]
  },
  {
   "cell_type": "code",
   "execution_count": 16,
   "metadata": {
    "colab": {
     "base_uri": "https://localhost:8080/",
     "height": 34
    },
    "colab_type": "code",
    "id": "EkKTyKu5NUFM",
    "outputId": "91becce9-7819-43ff-8998-3e3cf3a8d349",
    "scrolled": true,
    "slideshow": {
     "slide_type": "subslide"
    }
   },
   "outputs": [
    {
     "name": "stdout",
     "output_type": "stream",
     "text": [
      "['Python ', ' awesome']\n",
      "['Python', 'is', 'awesome']\n"
     ]
    }
   ],
   "source": [
    "example = \"Python is awesome\" \n",
    "print(example.split('is'))\n",
    "print(example.split())"
   ]
  },
  {
   "cell_type": "markdown",
   "metadata": {
    "colab_type": "text",
    "id": "Iwvk6lphfB03",
    "slideshow": {
     "slide_type": "fragment"
    }
   },
   "source": [
    "##  find() - to get substring index\n"
   ]
  },
  {
   "cell_type": "code",
   "execution_count": 163,
   "metadata": {
    "colab": {},
    "colab_type": "code",
    "id": "PoVyx_OxfB05",
    "outputId": "bebdeaa2-272c-4d15-9f33-5505a460fef2",
    "scrolled": true,
    "slideshow": {
     "slide_type": "fragment"
    }
   },
   "outputs": [
    {
     "data": {
      "text/plain": [
       "10"
      ]
     },
     "execution_count": 163,
     "metadata": {},
     "output_type": "execute_result"
    }
   ],
   "source": [
    "example.find(\"aw\")"
   ]
  },
  {
   "cell_type": "markdown",
   "metadata": {
    "colab_type": "text",
    "id": "EGWujNrpfB1B",
    "slideshow": {
     "slide_type": "fragment"
    }
   },
   "source": [
    "## If no match return -1"
   ]
  },
  {
   "cell_type": "code",
   "execution_count": 10,
   "metadata": {
    "colab": {},
    "colab_type": "code",
    "id": "Ua7vs7f8fB1C",
    "outputId": "e5ee1c6b-345e-492c-beb7-10e272b8e333",
    "scrolled": true,
    "slideshow": {
     "slide_type": "fragment"
    }
   },
   "outputs": [
    {
     "data": {
      "text/plain": [
       "-1"
      ]
     },
     "execution_count": 10,
     "metadata": {},
     "output_type": "execute_result"
    }
   ],
   "source": [
    "example.find(\"laaaaaaaa\")"
   ]
  },
  {
   "cell_type": "markdown",
   "metadata": {
    "colab_type": "text",
    "id": "4ztBsavMfB1H",
    "slideshow": {
     "slide_type": "subslide"
    }
   },
   "source": [
    "## Find beginning from right end\n"
   ]
  },
  {
   "cell_type": "code",
   "execution_count": 2,
   "metadata": {
    "colab": {},
    "colab_type": "code",
    "id": "xQv4D-kmfB1I",
    "outputId": "43d593b4-5dc9-4671-a11a-94318e161545",
    "scrolled": false,
    "slideshow": {
     "slide_type": "fragment"
    }
   },
   "outputs": [
    {
     "data": {
      "text/plain": [
       "13"
      ]
     },
     "execution_count": 2,
     "metadata": {},
     "output_type": "execute_result"
    }
   ],
   "source": [
    "example.rfind(\"some\")"
   ]
  },
  {
   "cell_type": "markdown",
   "metadata": {
    "colab_type": "text",
    "id": "RokO50RwfB1M",
    "slideshow": {
     "slide_type": "slide"
    }
   },
   "source": [
    "## Another options to find substring index"
   ]
  },
  {
   "cell_type": "code",
   "execution_count": 166,
   "metadata": {
    "colab": {},
    "colab_type": "code",
    "id": "FfSkarqQfB1N",
    "outputId": "fccb5e56-56fd-4c62-cbba-72785528165c",
    "slideshow": {
     "slide_type": "fragment"
    }
   },
   "outputs": [
    {
     "data": {
      "text/plain": [
       "0"
      ]
     },
     "execution_count": 166,
     "metadata": {},
     "output_type": "execute_result"
    }
   ],
   "source": [
    "example.index(\"Py\")"
   ]
  },
  {
   "cell_type": "markdown",
   "metadata": {
    "colab_type": "text",
    "id": "ZDAUXFKjfB1S",
    "slideshow": {
     "slide_type": "fragment"
    }
   },
   "source": [
    "## But what's the difference between index and find?"
   ]
  },
  {
   "cell_type": "code",
   "execution_count": 167,
   "metadata": {
    "colab": {},
    "colab_type": "code",
    "id": "7rsV1s4WfB1U",
    "outputId": "fd4cd093-8ac5-4484-8470-3c9addb1ac2a",
    "slideshow": {
     "slide_type": "fragment"
    }
   },
   "outputs": [
    {
     "ename": "ValueError",
     "evalue": "substring not found",
     "output_type": "error",
     "traceback": [
      "\u001b[0;31m---------------------------------------------------------------------------\u001b[0m",
      "\u001b[0;31mValueError\u001b[0m                                Traceback (most recent call last)",
      "\u001b[0;32m<ipython-input-167-accb9d7cb2ae>\u001b[0m in \u001b[0;36m<module>\u001b[0;34m\u001b[0m\n\u001b[0;32m----> 1\u001b[0;31m \u001b[0mexample\u001b[0m\u001b[0;34m.\u001b[0m\u001b[0mindex\u001b[0m\u001b[0;34m(\u001b[0m\u001b[0;34m\"Snake\"\u001b[0m\u001b[0;34m)\u001b[0m\u001b[0;34m\u001b[0m\u001b[0;34m\u001b[0m\u001b[0m\n\u001b[0m",
      "\u001b[0;31mValueError\u001b[0m: substring not found"
     ]
    }
   ],
   "source": [
    "example.index(\"Snake\")"
   ]
  },
  {
   "cell_type": "markdown",
   "metadata": {
    "colab_type": "text",
    "id": "pqnPGQrPfB1Z",
    "slideshow": {
     "slide_type": "slide"
    }
   },
   "source": [
    "# Strings could be concatenated"
   ]
  },
  {
   "cell_type": "code",
   "execution_count": 17,
   "metadata": {
    "colab": {
     "base_uri": "https://localhost:8080/",
     "height": 52
    },
    "colab_type": "code",
    "id": "t0-DSfwffB1b",
    "outputId": "f1d63890-8638-495b-fafc-30b68cb97a66",
    "slideshow": {
     "slide_type": "fragment"
    }
   },
   "outputs": [
    {
     "name": "stdout",
     "output_type": "stream",
     "text": [
      "lenin grib \n"
     ]
    },
    {
     "data": {
      "text/plain": [
       "'lenin grib'"
      ]
     },
     "execution_count": 17,
     "metadata": {},
     "output_type": "execute_result"
    }
   ],
   "source": [
    "first = \"lenin\"\n",
    "second = \"grib\"\n",
    "third = first + \" \" + second + \" \"\n",
    "print(third)\n",
    "\n",
    "# merge using given symbol\n",
    "\n",
    "\" \".join([first, second])\n"
   ]
  },
  {
   "cell_type": "markdown",
   "metadata": {
    "colab_type": "text",
    "id": "TfEUtQJGfB1f",
    "slideshow": {
     "slide_type": "subslide"
    }
   },
   "source": [
    "### And duplicate"
   ]
  },
  {
   "cell_type": "code",
   "execution_count": 18,
   "metadata": {
    "colab": {},
    "colab_type": "code",
    "id": "hiuek1Q5fB1h",
    "outputId": "48f25fe2-9744-4569-b2b4-f532fd84466e",
    "scrolled": true,
    "slideshow": {
     "slide_type": "fragment"
    }
   },
   "outputs": [
    {
     "name": "stdout",
     "output_type": "stream",
     "text": [
      "lenin grib lenin grib lenin grib lenin grib lenin grib lenin grib lenin grib lenin grib lenin grib lenin grib \n"
     ]
    }
   ],
   "source": [
    "print(third*10)"
   ]
  },
  {
   "cell_type": "markdown",
   "metadata": {
    "colab_type": "text",
    "id": "GGdIbRR5fB1m",
    "slideshow": {
     "slide_type": "slide"
    }
   },
   "source": [
    "## String slicing"
   ]
  },
  {
   "cell_type": "code",
   "execution_count": 17,
   "metadata": {
    "colab": {
     "base_uri": "https://localhost:8080/",
     "height": 139
    },
    "colab_type": "code",
    "id": "WyeFJxCffB1n",
    "outputId": "d6b7b26f-e041-4fd8-baa0-ecb4b4d16b88",
    "scrolled": true,
    "slideshow": {
     "slide_type": "fragment"
    }
   },
   "outputs": [
    {
     "name": "stdout",
     "output_type": "stream",
     "text": [
      "01\n",
      "012345\n",
      "2\n",
      "345\n",
      "0246\n"
     ]
    }
   ],
   "source": [
    "example = '0123456'\n",
    "\n",
    "print(example[:2])\n",
    "print(example[:-1])\n",
    "print(example[2:3])\n",
    "print(example[3:-1])\n",
    "print(example[::2])"
   ]
  },
  {
   "cell_type": "markdown",
   "metadata": {
    "colab_type": "text",
    "id": "yTrr4QMA9ZmG",
    "slideshow": {
     "slide_type": "subslide"
    }
   },
   "source": [
    "# Can we mutate string?"
   ]
  },
  {
   "cell_type": "code",
   "execution_count": 20,
   "metadata": {
    "colab": {
     "base_uri": "https://localhost:8080/",
     "height": 34
    },
    "colab_type": "code",
    "id": "_tY-Hd3m9Z6G",
    "outputId": "cea914fe-401d-41bf-eded-4fd7c2890b37",
    "slideshow": {
     "slide_type": "fragment"
    }
   },
   "outputs": [
    {
     "data": {
      "text/plain": [
       "'lenin molodec!'"
      ]
     },
     "execution_count": 20,
     "metadata": {},
     "output_type": "execute_result"
    }
   ],
   "source": [
    "# Nope. Only create new object\n",
    "third.replace(\"grib \", \"molodec!\")"
   ]
  },
  {
   "cell_type": "markdown",
   "metadata": {
    "colab_type": "text",
    "id": "QEOw1Q6ZCCEk",
    "slideshow": {
     "slide_type": "subslide"
    }
   },
   "source": [
    "# Trim whitespace chars from the beginning and the end\n",
    "_______________________\n",
    "\n",
    "S.lstrip([chars])\t- from begging\n",
    "\n",
    "S.rstrip([chars])\t- from end\n",
    "\n",
    "S.strip([chars])\t- both"
   ]
  },
  {
   "cell_type": "code",
   "execution_count": 21,
   "metadata": {},
   "outputs": [
    {
     "data": {
      "text/plain": [
       "'My name is \\t Vasya'"
      ]
     },
     "execution_count": 21,
     "metadata": {},
     "output_type": "execute_result"
    }
   ],
   "source": [
    "user_input = '   \\t My name is \\t Vasya \\n\\n\\n'\n",
    "\n",
    "user_input.strip()"
   ]
  },
  {
   "cell_type": "markdown",
   "metadata": {
    "colab_type": "text",
    "id": "Da6WJQhefB11",
    "slideshow": {
     "slide_type": "subslide"
    }
   },
   "source": [
    "# Change cases"
   ]
  },
  {
   "cell_type": "code",
   "execution_count": 27,
   "metadata": {
    "colab": {},
    "colab_type": "code",
    "id": "M3Dfg2WBfB12",
    "slideshow": {
     "slide_type": "fragment"
    }
   },
   "outputs": [
    {
     "name": "stdout",
     "output_type": "stream",
     "text": [
      "lenin grib \n",
      "\n",
      "Upper case -LENIN GRIB \n",
      "Title -Lenin Grib \n",
      "Lower case -lenin grib \n",
      "Capitalize -Lenin grib \n",
      "Swapcase - LENIN GRIB \n"
     ]
    }
   ],
   "source": [
    "print(third)\n",
    "print()\n",
    "print(\n",
    "    \"Upper case -\" + third.upper(),\n",
    "    \"Title -\" + third.title(),\n",
    "    \"Lower case -\" + third.lower(),\n",
    "    \"Capitalize -\" + third.capitalize(),\n",
    "    \"Swapcase - \" + third.swapcase(),\n",
    "    sep=\"\\n\",\n",
    ")"
   ]
  },
  {
   "cell_type": "code",
   "execution_count": 12,
   "metadata": {
    "slideshow": {
     "slide_type": "subslide"
    }
   },
   "outputs": [
    {
     "data": {
      "text/plain": [
       "'Vasya pupkin'"
      ]
     },
     "execution_count": 12,
     "metadata": {},
     "output_type": "execute_result"
    }
   ],
   "source": [
    "name = \"vasya pupkin\"\n",
    "\n",
    "name.capitalize()\n",
    "\n",
    "# how to capitalize both words?"
   ]
  },
  {
   "cell_type": "markdown",
   "metadata": {
    "colab_type": "text",
    "id": "O8TaAodk-taE",
    "slideshow": {
     "slide_type": "slide"
    }
   },
   "source": [
    "# Get some information about string\n",
    "___________________________\n",
    "S.isdigit()\t - consist only from digits\n",
    "\n",
    "S.isalpha()\t - consist only from letter\n",
    "\n",
    "S.isalnum()\t- consist both from letters and digits\n",
    "_________\n",
    "S.islower()\t- consist from chars in lowercase\n",
    "\n",
    "S.isupper()\t- consist from chars in uppercase\n",
    "\n",
    "S.istitle()\t- begins from capitalized char"
   ]
  },
  {
   "cell_type": "markdown",
   "metadata": {
    "slideshow": {
     "slide_type": "subslide"
    }
   },
   "source": [
    "___________\n",
    "\n",
    "`S.isspace()`\t- Check if all the characters in the text are whitespaces:\n",
    "___________\n",
    "\n",
    "`S.startswith(pattern)`\t - begins from pattern\n",
    "\n",
    "`S.endswith(pattern)`\t- ends with pattern"
   ]
  },
  {
   "cell_type": "markdown",
   "metadata": {
    "colab_type": "text",
    "id": "ZwoxKdv5fB17",
    "slideshow": {
     "slide_type": "slide"
    }
   },
   "source": [
    "#### But why it is immutable.."
   ]
  },
  {
   "cell_type": "code",
   "execution_count": 13,
   "metadata": {
    "colab": {},
    "colab_type": "code",
    "id": "MWZXaoITfB18",
    "outputId": "eca25160-a03f-4036-f190-1a88f0f5c067",
    "scrolled": false,
    "slideshow": {
     "slide_type": "fragment"
    }
   },
   "outputs": [
    {
     "ename": "TypeError",
     "evalue": "'str' object does not support item assignment",
     "output_type": "error",
     "traceback": [
      "\u001b[0;31m---------------------------------------------------------------------------\u001b[0m",
      "\u001b[0;31mTypeError\u001b[0m                                 Traceback (most recent call last)",
      "\u001b[0;32m<ipython-input-13-f4ca9c12eb8d>\u001b[0m in \u001b[0;36m<module>\u001b[0;34m\u001b[0m\n\u001b[1;32m      1\u001b[0m \u001b[0ms\u001b[0m \u001b[0;34m=\u001b[0m \u001b[0;34m'blah blah'\u001b[0m\u001b[0;34m\u001b[0m\u001b[0;34m\u001b[0m\u001b[0m\n\u001b[0;32m----> 2\u001b[0;31m \u001b[0ms\u001b[0m\u001b[0;34m[\u001b[0m\u001b[0;36m2\u001b[0m\u001b[0;34m]\u001b[0m \u001b[0;34m=\u001b[0m \u001b[0;34m\"A\"\u001b[0m\u001b[0;34m\u001b[0m\u001b[0;34m\u001b[0m\u001b[0m\n\u001b[0m",
      "\u001b[0;31mTypeError\u001b[0m: 'str' object does not support item assignment"
     ]
    }
   ],
   "source": [
    "s = 'blah blah'\n",
    "s[2] = \"A\""
   ]
  },
  {
   "cell_type": "markdown",
   "metadata": {
    "colab_type": "text",
    "id": "sHJQDHXLfB2C",
    "slideshow": {
     "slide_type": "fragment"
    }
   },
   "source": [
    "__but we can create new objects__"
   ]
  },
  {
   "cell_type": "code",
   "execution_count": 14,
   "metadata": {
    "colab": {},
    "colab_type": "code",
    "id": "PRmCouFRfB2F",
    "outputId": "6fdbfdad-fea3-4f9b-e7b1-1aa62d353b9b",
    "scrolled": false,
    "slideshow": {
     "slide_type": "fragment"
    }
   },
   "outputs": [
    {
     "name": "stdout",
     "output_type": "stream",
     "text": [
      "4634302320 4634401456\n",
      "blah blah blAh blAh\n"
     ]
    }
   ],
   "source": [
    "replace_result = s.replace(\"a\", \"A\")\n",
    "\n",
    "print(id(replace_result), id(s))\n",
    "print(s, replace_result)"
   ]
  },
  {
   "cell_type": "markdown",
   "metadata": {
    "colab_type": "text",
    "id": "5hwWGlzmfB2J",
    "slideshow": {
     "slide_type": "slide"
    }
   },
   "source": [
    "# String formatting\n",
    "________________________________\n",
    "\n",
    "\n",
    "### Approach 1 - real oldschool % \n",
    "\n",
    "- difficult to read on big strings\n",
    "- could lead to bugs"
   ]
  },
  {
   "cell_type": "code",
   "execution_count": 16,
   "metadata": {
    "colab": {},
    "colab_type": "code",
    "id": "hX7s5Gj3fB2N",
    "outputId": "434b504c-d4aa-46e3-fc88-2835039311ce",
    "scrolled": true,
    "slideshow": {
     "slide_type": "fragment"
    }
   },
   "outputs": [
    {
     "data": {
      "text/plain": [
       "\"'Talk is cheap. Show me the code.' ― Linus Torvalds\""
      ]
     },
     "execution_count": 16,
     "metadata": {},
     "output_type": "execute_result"
    }
   ],
   "source": [
    "price = \"cheap\"\n",
    "name = \"Linus Torvalds\"\n",
    "\"'Talk is %s. Show me the code.' ― %s\" % (price, name)"
   ]
  },
  {
   "cell_type": "markdown",
   "metadata": {
    "colab_type": "text",
    "id": "SrRJ-LUxfB2R",
    "slideshow": {
     "slide_type": "subslide"
    }
   },
   "source": [
    "### Approach 2 - .format()\n",
    "_______________________________\n",
    "- from Python 2.6\n",
    "- much readable than %-formatting"
   ]
  },
  {
   "cell_type": "code",
   "execution_count": 17,
   "metadata": {
    "colab": {},
    "colab_type": "code",
    "id": "_A9AHTcFfB2S",
    "outputId": "a8185f63-54a4-4cbf-a64e-2363ca95522c",
    "scrolled": true,
    "slideshow": {
     "slide_type": "fragment"
    }
   },
   "outputs": [
    {
     "data": {
      "text/plain": [
       "\"'Talk is cheap. Show me the code.' ― Linus Torvalds\""
      ]
     },
     "execution_count": 17,
     "metadata": {},
     "output_type": "execute_result"
    }
   ],
   "source": [
    "\"'Talk is {}. Show me the code.' ― {}\".format(price, name)"
   ]
  },
  {
   "cell_type": "code",
   "execution_count": 18,
   "metadata": {
    "colab": {},
    "colab_type": "code",
    "id": "dpcclzGifB2h",
    "outputId": "47906841-bb73-47eb-8d3b-61f427a97b34",
    "slideshow": {
     "slide_type": "fragment"
    }
   },
   "outputs": [
    {
     "data": {
      "text/plain": [
       "\"'Talk is cheap. Show me the code.' ― Linus Torvalds\""
      ]
     },
     "execution_count": 18,
     "metadata": {},
     "output_type": "execute_result"
    }
   ],
   "source": [
    "\"'Talk is {1}. Show me the code.' ― {0}\".format(name, price)"
   ]
  },
  {
   "cell_type": "code",
   "execution_count": 19,
   "metadata": {
    "colab": {},
    "colab_type": "code",
    "id": "GOQf8cWAfB2o",
    "outputId": "9473bdab-9023-4342-95f5-a6aa254c19a2",
    "slideshow": {
     "slide_type": "fragment"
    }
   },
   "outputs": [
    {
     "data": {
      "text/plain": [
       "\"'Talk is cheap. Show me the code.' ― Linus Torvalds\""
      ]
     },
     "execution_count": 19,
     "metadata": {},
     "output_type": "execute_result"
    }
   ],
   "source": [
    "data = {\"price\": \"cheap\", \"name\": \"Linus Torvalds\"}\n",
    "\"'Talk is {price}. Show me the code.' ― {name}\".format(**data)"
   ]
  },
  {
   "cell_type": "markdown",
   "metadata": {
    "colab_type": "text",
    "id": "kiD6hsA_fB2t",
    "slideshow": {
     "slide_type": "subslide"
    }
   },
   "source": [
    "### Approach 3 - just one simple.. great magnificent f \n",
    "- from Python 3.6 \n",
    "- fastest approach (1.4 times faster than .format())\n",
    "- PEP 498\n",
    "<img src=\"images/f.jpeg\" width=\"300\" height=\"300\">"
   ]
  },
  {
   "cell_type": "code",
   "execution_count": 20,
   "metadata": {
    "colab": {},
    "colab_type": "code",
    "id": "B7tbBgFjfB2v",
    "outputId": "05f10a5d-e2f4-49a2-f77c-19bbb6a4ccc9",
    "slideshow": {
     "slide_type": "fragment"
    }
   },
   "outputs": [
    {
     "data": {
      "text/plain": [
       "\"'Talk is cheap. Show me the code.' ― Linus Torvalds\""
      ]
     },
     "execution_count": 20,
     "metadata": {},
     "output_type": "execute_result"
    }
   ],
   "source": [
    "\n",
    "f\"'Talk is {price}. Show me the code.' ― {name}\" \n"
   ]
  },
  {
   "cell_type": "markdown",
   "metadata": {
    "colab_type": "text",
    "id": "9hVeFk2qfB2-",
    "slideshow": {
     "slide_type": "subslide"
    }
   },
   "source": [
    "### Place expression into format brackets"
   ]
  },
  {
   "cell_type": "code",
   "execution_count": 19,
   "metadata": {
    "colab": {},
    "colab_type": "code",
    "id": "Ee8_sPhkfB2_",
    "outputId": "327d3249-2fce-445d-e765-8848a3dc5fbe",
    "slideshow": {
     "slide_type": "fragment"
    }
   },
   "outputs": [
    {
     "data": {
      "text/plain": [
       "'ddddddddddddddddd92'"
      ]
     },
     "execution_count": 19,
     "metadata": {},
     "output_type": "execute_result"
    }
   ],
   "source": [
    "f\"ddddddddddddddddd{2 * 46}\""
   ]
  },
  {
   "cell_type": "markdown",
   "metadata": {
    "slideshow": {
     "slide_type": "subslide"
    }
   },
   "source": [
    "Specify how item should be converted to string:\n",
    "\n",
    "https://docs.python.org/3.4/library/string.html#formatexamples"
   ]
  },
  {
   "cell_type": "code",
   "execution_count": 18,
   "metadata": {
    "slideshow": {
     "slide_type": "fragment"
    }
   },
   "outputs": [
    {
     "name": "stdout",
     "output_type": "stream",
     "text": [
      "0.12\n",
      "*********very niiice**********\n"
     ]
    }
   ],
   "source": [
    "print(f'{0.123456789:.2f}')\n",
    "data = 'very niiice'\n",
    "print(f'{data:*^30}')"
   ]
  },
  {
   "cell_type": "markdown",
   "metadata": {
    "slideshow": {
     "slide_type": "subslide"
    }
   },
   "source": [
    "And never ever call str() on object passed to format methods"
   ]
  },
  {
   "cell_type": "code",
   "execution_count": 6,
   "metadata": {
    "slideshow": {
     "slide_type": "fragment"
    }
   },
   "outputs": [
    {
     "name": "stdout",
     "output_type": "stream",
     "text": [
      "[1, 2, 3, 4] -- 1234567\n",
      "[1, 2, 3, 4] -- 1234567\n"
     ]
    }
   ],
   "source": [
    "obj_1 = [1, 2, 3, 4,]\n",
    "obj_2 = 1234567\n",
    "\n",
    "# bad\n",
    "print('{} -- {}'.format(str(obj_1), str(obj_2)))\n",
    "\n",
    "# better\n",
    "print('{} -- {}'.format(obj_1, obj_2))"
   ]
  },
  {
   "cell_type": "markdown",
   "metadata": {
    "slideshow": {
     "slide_type": "slide"
    }
   },
   "source": [
    "### what we have leaned\n",
    "- string data type\n",
    "- string encodings\n",
    "- string method\n",
    "- string formatting"
   ]
  },
  {
   "cell_type": "markdown",
   "metadata": {
    "slideshow": {
     "slide_type": "slide"
    }
   },
   "source": [
    "<img src=\"images/q_1.png\" width=\"500\" height=\"500\">"
   ]
  },
  {
   "cell_type": "markdown",
   "metadata": {
    "slideshow": {
     "slide_type": "slide"
    }
   },
   "source": [
    "# List"
   ]
  },
  {
   "cell_type": "markdown",
   "metadata": {
    "colab_type": "text",
    "id": "nPtt_iYxGIeq",
    "slideshow": {
     "slide_type": "slide"
    }
   },
   "source": [
    "### Lists are mutable sequences, typically used to store collections of homogeneous items (where the precise degree of similarity will vary by application). \n",
    "\n",
    "dynamic array is under the hood."
   ]
  },
  {
   "cell_type": "markdown",
   "metadata": {
    "colab_type": "text",
    "id": "AH4XB5DRGIez",
    "slideshow": {
     "slide_type": "slide"
    }
   },
   "source": [
    "### Lists may be constructed in several ways:\n",
    "\n",
    "can contain any number of objects"
   ]
  },
  {
   "cell_type": "code",
   "execution_count": 31,
   "metadata": {
    "colab": {},
    "colab_type": "code",
    "id": "ea-vedM5GIfG",
    "slideshow": {
     "slide_type": "fragment"
    }
   },
   "outputs": [
    {
     "name": "stdout",
     "output_type": "stream",
     "text": [
      "['h', 'a', 't'] ['Knuth', 'Tanenbaum', 'bike'] [[1, 2], [3, 4]] []\n"
     ]
    }
   ],
   "source": [
    "snake = list('hat')\n",
    "noble_programmer = [\"Knuth\", \"Tanenbaum\", \"bike\"]\n",
    "matrix = [[1, 2], [3, 4]]\n",
    "hungry_list = []\n",
    "\n",
    "print(snake, noble_programmer, matrix, hungry_list)"
   ]
  },
  {
   "cell_type": "markdown",
   "metadata": {
    "colab_type": "text",
    "id": "e7Eth7oKGIfQ",
    "slideshow": {
     "slide_type": "subslide"
    }
   },
   "source": [
    "### Important: when creating a list with default value -- values are not copied"
   ]
  },
  {
   "cell_type": "code",
   "execution_count": 33,
   "metadata": {
    "colab": {},
    "colab_type": "code",
    "id": "bEw4hGN3GIfd",
    "outputId": "44827463-e48b-435e-a209-2af4042b31e4",
    "slideshow": {
     "slide_type": "fragment"
    }
   },
   "outputs": [
    {
     "data": {
      "text/plain": [
       "[[0], [0], [0]]"
      ]
     },
     "execution_count": 33,
     "metadata": {},
     "output_type": "execute_result"
    }
   ],
   "source": [
    "matrix = [[0]] * 3\n",
    "# matrix[0][0] = 'Null'\n",
    "\n",
    "# what is inside the matrix now?\n",
    "matrix"
   ]
  },
  {
   "cell_type": "code",
   "execution_count": 35,
   "metadata": {
    "colab": {},
    "colab_type": "code",
    "id": "0xWCCEAKGIfR",
    "outputId": "13104ee3-7826-4eab-97a8-f18c8545dedd",
    "slideshow": {
     "slide_type": "fragment"
    }
   },
   "outputs": [
    {
     "data": {
      "text/plain": [
       "[['Null'], ['Null'], ['Null']]"
      ]
     },
     "execution_count": 35,
     "metadata": {},
     "output_type": "execute_result"
    }
   ],
   "source": [
    "matrix "
   ]
  },
  {
   "cell_type": "code",
   "execution_count": 38,
   "metadata": {
    "slideshow": {
     "slide_type": "fragment"
    }
   },
   "outputs": [
    {
     "data": {
      "text/plain": [
       "[['Null'], [0], [0]]"
      ]
     },
     "execution_count": 38,
     "metadata": {},
     "output_type": "execute_result"
    }
   ],
   "source": [
    "matrix = [[0] for i in range(3)]\n",
    "matrix[0][0] = 'Null'\n",
    "matrix"
   ]
  },
  {
   "cell_type": "markdown",
   "metadata": {
    "colab_type": "text",
    "id": "DQdijjehGIfx",
    "slideshow": {
     "slide_type": "slide"
    }
   },
   "source": [
    "## Main methods:"
   ]
  },
  {
   "cell_type": "markdown",
   "metadata": {
    "colab_type": "text",
    "id": "vWU6QYXeGIf0",
    "slideshow": {
     "slide_type": "fragment"
    }
   },
   "source": [
    "### Add new elements\n",
    "\n",
    "- __append__ and __extend__ - add one element or sequence to the end"
   ]
  },
  {
   "cell_type": "code",
   "execution_count": 144,
   "metadata": {
    "colab": {},
    "colab_type": "code",
    "id": "78YfNdRaGIf4",
    "outputId": "7cf71e19-e264-4e0a-cfa6-45a25a2cbe68",
    "slideshow": {
     "slide_type": "fragment"
    }
   },
   "outputs": [
    {
     "data": {
      "text/plain": [
       "[1, 2, 3, [4], 5, 6]"
      ]
     },
     "execution_count": 144,
     "metadata": {},
     "output_type": "execute_result"
    }
   ],
   "source": [
    "l = [1, 2, 3]\n",
    "l.append([4])\n",
    "l.extend([5, 6])\n",
    "l  "
   ]
  },
  {
   "cell_type": "markdown",
   "metadata": {
    "colab_type": "text",
    "id": "mUEhsuagGIgE",
    "slideshow": {
     "slide_type": "fragment"
    }
   },
   "source": [
    "- past element to specific place __insert__"
   ]
  },
  {
   "cell_type": "code",
   "execution_count": 90,
   "metadata": {
    "colab": {},
    "colab_type": "code",
    "id": "ADqNbZQUGIgI",
    "outputId": "1b2e36cf-cd8d-483c-dd51-c1cef9c89f3e",
    "slideshow": {
     "slide_type": "subslide"
    }
   },
   "outputs": [
    {
     "name": "stdout",
     "output_type": "stream",
     "text": [
      "['Null', 1, 2, 3]\n",
      "['Null', 1, 2, 'some', 3]\n"
     ]
    }
   ],
   "source": [
    "l = [1, 2, 3]\n",
    "l.insert(0, 'Null')\n",
    "print(l)\n",
    "l.insert(-1, 'some')\n",
    "print(l)"
   ]
  },
  {
   "cell_type": "code",
   "execution_count": 39,
   "metadata": {},
   "outputs": [
    {
     "name": "stdout",
     "output_type": "stream",
     "text": [
      "[0, 0, 0]\n",
      "4450610704\n",
      "4450610704\n",
      "4450610704\n"
     ]
    }
   ],
   "source": [
    "matrix = [[0] * 3] * 3\n",
    "\n",
    "matrix[0][0] = 'some'\n",
    "\n",
    "matrix\n",
    "\n",
    "print([0] * 3)\n",
    "\n",
    "\n",
    "for i in matrix:\n",
    "    print(id(i))"
   ]
  },
  {
   "cell_type": "markdown",
   "metadata": {
    "colab_type": "text",
    "id": "vei1rPp_GIgV",
    "slideshow": {
     "slide_type": "subslide"
    }
   },
   "source": [
    "### Alter list\n",
    "- change sequence:"
   ]
  },
  {
   "cell_type": "code",
   "execution_count": 13,
   "metadata": {
    "colab": {},
    "colab_type": "code",
    "id": "yEWJMeJFGIgW",
    "outputId": "1f364488-0dd7-4102-9d40-93a5248fe068",
    "slideshow": {
     "slide_type": "fragment"
    }
   },
   "outputs": [
    {
     "data": {
      "text/plain": [
       "[1, 5, 5, 5, 3]"
      ]
     },
     "execution_count": 13,
     "metadata": {},
     "output_type": "execute_result"
    }
   ],
   "source": [
    "l = [4, 2, 3]\n",
    "l[1:2] = [5] * 3\n",
    "l[0] = 1\n",
    "l"
   ]
  },
  {
   "cell_type": "markdown",
   "metadata": {
    "colab_type": "text",
    "id": "TNtv3DTjGIgf",
    "slideshow": {
     "slide_type": "subslide"
    }
   },
   "source": [
    "### Concatenate lists"
   ]
  },
  {
   "cell_type": "code",
   "execution_count": 195,
   "metadata": {
    "colab": {},
    "colab_type": "code",
    "id": "F55oP5DUGIgj",
    "outputId": "26cbfe01-33ba-4d8b-b74f-1043aaf67363",
    "slideshow": {
     "slide_type": "fragment"
    }
   },
   "outputs": [
    {
     "name": "stdout",
     "output_type": "stream",
     "text": [
      "139803672921352 139803672915400\n",
      "139803672920968\n"
     ]
    }
   ],
   "source": [
    "l1 = [1, 2]\n",
    "l2 = [3]\n",
    "print(id(l1), id(l2))\n",
    "print(id(l1 + l2))"
   ]
  },
  {
   "cell_type": "markdown",
   "metadata": {
    "colab_type": "text",
    "id": "ozTn8R-_GIgt",
    "slideshow": {
     "slide_type": "fragment"
    }
   },
   "source": [
    "__Inplace__ concatenation "
   ]
  },
  {
   "cell_type": "code",
   "execution_count": 196,
   "metadata": {
    "colab": {},
    "colab_type": "code",
    "id": "oqUfknnhGIgx",
    "outputId": "4d8f4b19-751a-4bd3-a6a8-fdf0cbc7501a",
    "slideshow": {
     "slide_type": "fragment"
    }
   },
   "outputs": [
    {
     "name": "stdout",
     "output_type": "stream",
     "text": [
      "139803672922696 139803673082504\n",
      "139803672922696\n"
     ]
    }
   ],
   "source": [
    "l1 = [1, 2]\n",
    "l2 = [3]\n",
    "print(id(l1), id(l2))\n",
    "l1 += l2 \n",
    "print(id(l1))"
   ]
  },
  {
   "cell_type": "markdown",
   "metadata": {
    "colab_type": "text",
    "id": "MPS4ZGTFGIg4",
    "slideshow": {
     "slide_type": "subslide"
    }
   },
   "source": [
    "### Remove elements\n",
    "- remove element or sequence from list -- __del__ using index"
   ]
  },
  {
   "cell_type": "code",
   "execution_count": 148,
   "metadata": {
    "colab": {},
    "colab_type": "code",
    "id": "RSTMF6dtGIg8",
    "outputId": "c61875fd-cbf6-4c67-8630-864dfb8c01b3",
    "slideshow": {
     "slide_type": "fragment"
    }
   },
   "outputs": [
    {
     "name": "stdout",
     "output_type": "stream",
     "text": [
      "[3]\n",
      "[]\n"
     ]
    },
    {
     "ename": "NameError",
     "evalue": "name 'l' is not defined",
     "output_type": "error",
     "traceback": [
      "\u001b[0;31m---------------------------------------------------------------------------\u001b[0m",
      "\u001b[0;31mNameError\u001b[0m                                 Traceback (most recent call last)",
      "\u001b[0;32m<ipython-input-148-0ae5c7c8af29>\u001b[0m in \u001b[0;36m<module>\u001b[0;34m\u001b[0m\n\u001b[1;32m      5\u001b[0m \u001b[0mprint\u001b[0m\u001b[0;34m(\u001b[0m\u001b[0ml\u001b[0m\u001b[0;34m)\u001b[0m\u001b[0;34m\u001b[0m\u001b[0;34m\u001b[0m\u001b[0m\n\u001b[1;32m      6\u001b[0m \u001b[0;32mdel\u001b[0m \u001b[0ml\u001b[0m\u001b[0;34m\u001b[0m\u001b[0;34m\u001b[0m\u001b[0m\n\u001b[0;32m----> 7\u001b[0;31m \u001b[0ml\u001b[0m\u001b[0;34m\u001b[0m\u001b[0;34m\u001b[0m\u001b[0m\n\u001b[0m",
      "\u001b[0;31mNameError\u001b[0m: name 'l' is not defined"
     ]
    }
   ],
   "source": [
    "l = [1, 2, 3]\n",
    "del l[:2]\n",
    "print(l)\n",
    "del l[:]\n",
    "print(l)\n",
    "del l\n",
    "l"
   ]
  },
  {
   "cell_type": "markdown",
   "metadata": {
    "colab_type": "text",
    "id": "zpqNTRSpGIhX",
    "slideshow": {
     "slide_type": "subslide"
    }
   },
   "source": [
    "- __pop__ to get deleted value"
   ]
  },
  {
   "cell_type": "code",
   "execution_count": 40,
   "metadata": {
    "colab": {},
    "colab_type": "code",
    "id": "rU5lz2e2GIhY",
    "outputId": "88f0dbb1-a1c5-4092-858f-b4e57a61bcaf",
    "slideshow": {
     "slide_type": "fragment"
    }
   },
   "outputs": [
    {
     "name": "stdout",
     "output_type": "stream",
     "text": [
      "1 [2, 3]\n"
     ]
    }
   ],
   "source": [
    "l = [1, 2, 3]\n",
    "el = l.pop(0)\n",
    "print(el, l)"
   ]
  },
  {
   "cell_type": "markdown",
   "metadata": {
    "colab_type": "text",
    "id": "H5UzXhH4GIhf",
    "slideshow": {
     "slide_type": "fragment"
    }
   },
   "source": [
    "- delete first occurrence"
   ]
  },
  {
   "cell_type": "code",
   "execution_count": 94,
   "metadata": {
    "colab": {},
    "colab_type": "code",
    "id": "xKfXPuKZGIhk",
    "outputId": "9c335f3e-462b-4acc-9c29-0068732e1224",
    "scrolled": true,
    "slideshow": {
     "slide_type": "fragment"
    }
   },
   "outputs": [
    {
     "data": {
      "text/plain": [
       "[1, 3, 1]"
      ]
     },
     "execution_count": 94,
     "metadata": {},
     "output_type": "execute_result"
    }
   ],
   "source": [
    "kebab = [1, 1, 3, 1]\n",
    "kebab.remove(1)\n",
    "kebab"
   ]
  },
  {
   "cell_type": "markdown",
   "metadata": {
    "colab_type": "text",
    "id": "QxO1P63RGIh1",
    "slideshow": {
     "slide_type": "subslide"
    }
   },
   "source": [
    "__list.index(x, [start [, end]])__\n",
    "\n",
    "returns first occurrence of x (searching from start to end)"
   ]
  },
  {
   "cell_type": "code",
   "execution_count": 201,
   "metadata": {
    "slideshow": {
     "slide_type": "fragment"
    }
   },
   "outputs": [
    {
     "data": {
      "text/plain": [
       "0"
      ]
     },
     "execution_count": 201,
     "metadata": {},
     "output_type": "execute_result"
    }
   ],
   "source": [
    "l = [1, 2, 3]\n",
    "l.index(1)"
   ]
  },
  {
   "cell_type": "code",
   "execution_count": 202,
   "metadata": {
    "colab": {},
    "colab_type": "code",
    "id": "Jm083JkpGIh-",
    "outputId": "9852796a-5383-4416-f42a-1ed3dccff633",
    "slideshow": {
     "slide_type": "fragment"
    }
   },
   "outputs": [
    {
     "ename": "ValueError",
     "evalue": "4 is not in list",
     "output_type": "error",
     "traceback": [
      "\u001b[0;31m---------------------------------------------------------------------------\u001b[0m",
      "\u001b[0;31mValueError\u001b[0m                                Traceback (most recent call last)",
      "\u001b[0;32m<ipython-input-202-c2f7f05d3b2b>\u001b[0m in \u001b[0;36m<module>\u001b[0;34m\u001b[0m\n\u001b[1;32m      1\u001b[0m \u001b[0ml\u001b[0m \u001b[0;34m=\u001b[0m \u001b[0;34m[\u001b[0m\u001b[0;36m1\u001b[0m\u001b[0;34m,\u001b[0m \u001b[0;36m2\u001b[0m\u001b[0;34m,\u001b[0m \u001b[0;36m3\u001b[0m\u001b[0;34m]\u001b[0m\u001b[0;34m\u001b[0m\u001b[0;34m\u001b[0m\u001b[0m\n\u001b[0;32m----> 2\u001b[0;31m \u001b[0ml\u001b[0m\u001b[0;34m.\u001b[0m\u001b[0mindex\u001b[0m\u001b[0;34m(\u001b[0m\u001b[0;36m4\u001b[0m\u001b[0;34m)\u001b[0m\u001b[0;34m\u001b[0m\u001b[0;34m\u001b[0m\u001b[0m\n\u001b[0m",
      "\u001b[0;31mValueError\u001b[0m: 4 is not in list"
     ]
    }
   ],
   "source": [
    "l = [1, 2, 3]\n",
    "l.index(46)"
   ]
  },
  {
   "cell_type": "markdown",
   "metadata": {
    "colab_type": "text",
    "id": "0TTkEyOyGIiE",
    "slideshow": {
     "slide_type": "subslide"
    }
   },
   "source": [
    "__list.count(x)__\n",
    "Counts elements with value x"
   ]
  },
  {
   "cell_type": "code",
   "execution_count": 203,
   "metadata": {
    "colab": {},
    "colab_type": "code",
    "id": "7lTfA_FLGIiH",
    "outputId": "0ed00813-ccbd-4305-c567-699401ebc7e5",
    "slideshow": {
     "slide_type": "fragment"
    }
   },
   "outputs": [
    {
     "data": {
      "text/plain": [
       "3"
      ]
     },
     "execution_count": 203,
     "metadata": {},
     "output_type": "execute_result"
    }
   ],
   "source": [
    "l = [1, 1, 1, 2, 3]\n",
    "l.count(1)"
   ]
  },
  {
   "cell_type": "code",
   "execution_count": 204,
   "metadata": {
    "colab": {},
    "colab_type": "code",
    "id": "vO0GRnP2GIiR",
    "outputId": "5e3640d3-8cef-42a6-b709-be3f73b201a4",
    "slideshow": {
     "slide_type": "fragment"
    }
   },
   "outputs": [
    {
     "data": {
      "text/plain": [
       "0"
      ]
     },
     "execution_count": 204,
     "metadata": {},
     "output_type": "execute_result"
    }
   ],
   "source": [
    "l = [1, 1, 1, 2, 3]\n",
    "l.count(4)"
   ]
  },
  {
   "cell_type": "markdown",
   "metadata": {
    "colab_type": "text",
    "id": "eGUtXxLlGIiW",
    "slideshow": {
     "slide_type": "slide"
    }
   },
   "source": [
    "### How to reverse list?"
   ]
  },
  {
   "cell_type": "code",
   "execution_count": 21,
   "metadata": {
    "colab": {},
    "colab_type": "code",
    "id": "aGQ0DG_1GIiY",
    "slideshow": {
     "slide_type": "fragment"
    }
   },
   "outputs": [
    {
     "data": {
      "text/plain": [
       "[3, 2, 1]"
      ]
     },
     "execution_count": 21,
     "metadata": {},
     "output_type": "execute_result"
    }
   ],
   "source": [
    "l = [1, 2, 3]\n",
    "l.reverse()\n",
    "l"
   ]
  },
  {
   "cell_type": "code",
   "execution_count": 206,
   "metadata": {
    "colab": {},
    "colab_type": "code",
    "id": "Kpufrl3KGIie",
    "outputId": "150b3173-a619-44b7-d34f-97c8cca9c937",
    "scrolled": false,
    "slideshow": {
     "slide_type": "fragment"
    }
   },
   "outputs": [
    {
     "data": {
      "text/plain": [
       "[3, 2, 1]"
      ]
     },
     "execution_count": 206,
     "metadata": {},
     "output_type": "execute_result"
    }
   ],
   "source": [
    "l = [1, 2, 3]\n",
    "lr = l[::-1]\n",
    "lr"
   ]
  },
  {
   "cell_type": "code",
   "execution_count": 42,
   "metadata": {
    "colab": {},
    "colab_type": "code",
    "id": "sQCDosVuGIij",
    "outputId": "758f25e4-742b-421b-93c8-b96378825a4c",
    "slideshow": {
     "slide_type": "fragment"
    }
   },
   "outputs": [
    {
     "name": "stdout",
     "output_type": "stream",
     "text": [
      "[3, 2, 1]\n"
     ]
    },
    {
     "data": {
      "text/plain": [
       "[]"
      ]
     },
     "execution_count": 42,
     "metadata": {},
     "output_type": "execute_result"
    }
   ],
   "source": [
    "l = [1, 2, 3]\n",
    "lr = reversed(l)\n",
    "l.append(4)\n",
    "\n",
    "print(list(lr))\n",
    "\n",
    "list(lr)"
   ]
  },
  {
   "cell_type": "markdown",
   "metadata": {
    "colab_type": "text",
    "id": "00egt4WeGIin",
    "slideshow": {
     "slide_type": "subslide"
    }
   },
   "source": [
    "### How to sort list ?"
   ]
  },
  {
   "cell_type": "code",
   "execution_count": 43,
   "metadata": {
    "colab": {},
    "colab_type": "code",
    "id": "0rL5G5dLGIip",
    "outputId": "98f18d3f-ca22-4ca9-b561-092183faa3c5",
    "slideshow": {
     "slide_type": "fragment"
    }
   },
   "outputs": [
    {
     "data": {
      "text/plain": [
       "[1, 2, 3]"
      ]
     },
     "execution_count": 43,
     "metadata": {},
     "output_type": "execute_result"
    }
   ],
   "source": [
    "l = [3, 1, 2]\n",
    "l.sort()\n",
    "l"
   ]
  },
  {
   "cell_type": "code",
   "execution_count": 26,
   "metadata": {
    "slideshow": {
     "slide_type": "fragment"
    }
   },
   "outputs": [
    {
     "name": "stdout",
     "output_type": "stream",
     "text": [
      "[3, 1, 2] [1, 2, 3]\n"
     ]
    }
   ],
   "source": [
    "l = [3, 1, 2]\n",
    "l_sorted = sorted(l)\n",
    "print(l, l_sorted)"
   ]
  },
  {
   "cell_type": "markdown",
   "metadata": {
    "colab_type": "text",
    "id": "eOTlaq_VGIi3",
    "slideshow": {
     "slide_type": "subslide"
    }
   },
   "source": [
    "We can specify order and key for __sorted__  __sort__ "
   ]
  },
  {
   "cell_type": "code",
   "execution_count": 41,
   "metadata": {
    "colab": {},
    "colab_type": "code",
    "id": "hXqzwAqCGIi4",
    "outputId": "e9e92233-58d5-4c1c-c9ab-011f78b4eed9",
    "slideshow": {
     "slide_type": "fragment"
    }
   },
   "outputs": [
    {
     "data": {
      "text/plain": [
       "[4, 2, 3, 1]"
      ]
     },
     "execution_count": 41,
     "metadata": {},
     "output_type": "execute_result"
    }
   ],
   "source": [
    "l = [3, 4, 2, 1]\n",
    "l.sort(key=lambda x: x % 2, reverse=False)\n",
    "l"
   ]
  },
  {
   "cell_type": "markdown",
   "metadata": {
    "colab_type": "text",
    "id": "iXzT2FqKGIi7",
    "slideshow": {
     "slide_type": "slide"
    }
   },
   "source": [
    "### List comprehensions\n",
    "\n",
    "List comprehensions provide a concise way to create lists. \n",
    "\n",
    "Logically identical to for loop.\n",
    "\n",
    "A list comprehension consists of brackets containing an expression followed by a for clause, then zero or more for or if clauses. "
   ]
  },
  {
   "cell_type": "code",
   "execution_count": 45,
   "metadata": {
    "colab": {},
    "colab_type": "code",
    "id": "b_pt6J2lGIjB",
    "outputId": "38e472f7-2f0c-4861-af35-fee9f20fb54e",
    "slideshow": {
     "slide_type": "fragment"
    }
   },
   "outputs": [
    {
     "name": "stdout",
     "output_type": "stream",
     "text": [
      "[0, 1, 2, 3, 4, 5, 6, 7, 8, 9]\n",
      "[0, 2, 4, 6, 8]\n"
     ]
    }
   ],
   "source": [
    "a = []\n",
    "\n",
    "for i in range(10):\n",
    "    a.append(i)\n",
    "\n",
    "b = [i for i in range(10) if i%2==0]\n",
    "\n",
    "print(a)\n",
    "print(b)"
   ]
  },
  {
   "cell_type": "code",
   "execution_count": 27,
   "metadata": {
    "colab": {},
    "colab_type": "code",
    "id": "k_7WbImWGIjl",
    "outputId": "8df4d16c-7f4b-405b-dd44-fbe584abf5a0",
    "slideshow": {
     "slide_type": "subslide"
    }
   },
   "outputs": [
    {
     "data": {
      "text/plain": [
       "[[0, 1, 2, 3, 4],\n",
       " [0, 1, 2, 3, 4],\n",
       " [0, 1, 2, 3, 4],\n",
       " [0, 1, 2, 3, 4],\n",
       " [0, 1, 2, 3, 4]]"
      ]
     },
     "execution_count": 27,
     "metadata": {},
     "output_type": "execute_result"
    }
   ],
   "source": [
    "# list comprehensions could be nested\n",
    "[[j for j in range(5)] for i in range(5)]"
   ]
  },
  {
   "cell_type": "code",
   "execution_count": 21,
   "metadata": {
    "colab": {},
    "colab_type": "code",
    "id": "F_meJIPrGIjq",
    "outputId": "d3cee301-a94e-4364-eb6a-dd74e3f804c4",
    "slideshow": {
     "slide_type": "fragment"
    }
   },
   "outputs": [
    {
     "name": "stdout",
     "output_type": "stream",
     "text": [
      "[1, 2, 3, 4, 5, 6, 7, 8, 9]\n"
     ]
    }
   ],
   "source": [
    "matrix = [[1, 2, 3], [4, 5], [6, 7, 8, 9]] \n",
    "\n",
    "print([val for sublist in matrix for val in sublist])"
   ]
  },
  {
   "cell_type": "code",
   "execution_count": 22,
   "metadata": {
    "slideshow": {
     "slide_type": "fragment"
    }
   },
   "outputs": [
    {
     "name": "stdout",
     "output_type": "stream",
     "text": [
      "[1, 2, 3, 4, 5, 6, 7, 8, 9]\n"
     ]
    }
   ],
   "source": [
    "from itertools import chain\n",
    "\n",
    "\n",
    "print(list(chain(*matrix))) "
   ]
  },
  {
   "cell_type": "markdown",
   "metadata": {
    "colab_type": "text",
    "id": "OqLWkmD3Gjhd",
    "slideshow": {
     "slide_type": "slide"
    }
   },
   "source": [
    "## Slicing"
   ]
  },
  {
   "cell_type": "markdown",
   "metadata": {
    "slideshow": {
     "slide_type": "subslide"
    }
   },
   "source": [
    "```\n",
    "a[start:stop]  # items start through stop-1\n",
    "a[start:]      # items start through the rest of the array\n",
    "a[:stop]       # items from the beginning through stop-1\n",
    "a[:]           # a copy of the whole array\n",
    "```"
   ]
  },
  {
   "cell_type": "markdown",
   "metadata": {
    "colab_type": "text",
    "id": "m2rGg8QJG3YV",
    "slideshow": {
     "slide_type": "fragment"
    }
   },
   "source": [
    "`:stop` the value the is not in the selected slice."
   ]
  },
  {
   "cell_type": "markdown",
   "metadata": {
    "slideshow": {
     "slide_type": "fragment"
    }
   },
   "source": [
    "```\n",
    "a[::-1]    # all items in the array, reversed\n",
    "a[1::-1]   # the first two items, reversed\n",
    "a[:-3:-1]  # the last two items, reversed\n",
    "a[-3::-1]  # everything except the last two items, reversed\n",
    "```"
   ]
  },
  {
   "cell_type": "markdown",
   "metadata": {
    "slideshow": {
     "slide_type": "subslide"
    }
   },
   "source": [
    "The slice object is used to slice a given sequence (string, bytes, tuple, list or range) or any object which supports sequence protocol (implements __getitem__() and __len__() method)."
   ]
  },
  {
   "cell_type": "markdown",
   "metadata": {
    "colab": {},
    "colab_type": "code",
    "collapsed": true,
    "id": "PcWZ9YQfHCHQ",
    "slideshow": {
     "slide_type": "fragment"
    }
   },
   "source": [
    "slice(stop)\n",
    "slice(start, stop, step)"
   ]
  },
  {
   "cell_type": "code",
   "execution_count": 46,
   "metadata": {
    "colab": {
     "base_uri": "https://localhost:8080/",
     "height": 68
    },
    "colab_type": "code",
    "id": "1cSCwaJEIkoG",
    "outputId": "20b52125-25d0-4ccc-86cb-59c2a0346f49",
    "slideshow": {
     "slide_type": "subslide"
    }
   },
   "outputs": [
    {
     "name": "stdout",
     "output_type": "stream",
     "text": [
      "['Vasya']\n",
      "['Pupkin', 'senior']\n",
      "slice(3, None, None)\n"
     ]
    },
    {
     "data": {
      "text/plain": [
       "slice(None, 1, None)"
      ]
     },
     "execution_count": 46,
     "metadata": {},
     "output_type": "execute_result"
    }
   ],
   "source": [
    "employee = ['Vasya', 'Pupkin', 'senior', '300k/ns']\n",
    "\n",
    "NAME = slice(1)\n",
    "\n",
    "POSITION = slice(1, 3)\n",
    "SALARY = slice(3, None)\n",
    "\n",
    "print(employee[NAME])\n",
    "print(employee[POSITION])\n",
    "print(SALARY)\n",
    "\n",
    "NAME"
   ]
  },
  {
   "cell_type": "code",
   "execution_count": 59,
   "metadata": {},
   "outputs": [
    {
     "name": "stdout",
     "output_type": "stream",
     "text": [
      "[0, 1, 2, 3, 4, 5, 6, 7, 8, 9]\n"
     ]
    },
    {
     "data": {
      "text/plain": [
       "[6, 5, 4]"
      ]
     },
     "execution_count": 59,
     "metadata": {},
     "output_type": "execute_result"
    }
   ],
   "source": [
    "a = list(range(10))\n",
    "print(a)\n",
    "a[6:3:-1]"
   ]
  },
  {
   "cell_type": "markdown",
   "metadata": {
    "colab_type": "text",
    "id": "sFmjkKwTXUBZ",
    "slideshow": {
     "slide_type": "subslide"
    }
   },
   "source": [
    "### Now we know:"
   ]
  },
  {
   "cell_type": "markdown",
   "metadata": {
    "colab_type": "text",
    "id": "R6aA4rDgXah8",
    "slideshow": {
     "slide_type": "fragment"
    }
   },
   "source": [
    "* how to initialize lists\n",
    "* lists method\n",
    "* some of build-in functions\n",
    "* Slicing"
   ]
  },
  {
   "cell_type": "markdown",
   "metadata": {
    "colab_type": "text",
    "id": "prSD8bceGIjt",
    "slideshow": {
     "slide_type": "slide"
    }
   },
   "source": [
    "# Tuple\n",
    "\n",
    "A tuple is a collection which is ordered and unchangeable. In Python tuples are written with parentheses."
   ]
  },
  {
   "cell_type": "code",
   "execution_count": 28,
   "metadata": {
    "colab": {},
    "colab_type": "code",
    "id": "tEX2rt52GIju",
    "slideshow": {
     "slide_type": "fragment"
    }
   },
   "outputs": [],
   "source": [
    "point = (1, 2)\n",
    "date = ('may', 22)\n",
    "\n",
    "same_point = 1, 2\n",
    "same_date = 'may', 22"
   ]
  },
  {
   "cell_type": "markdown",
   "metadata": {
    "colab_type": "text",
    "id": "QShxWrfcGIjy",
    "slideshow": {
     "slide_type": "fragment"
    }
   },
   "source": [
    "One-element tuple should be defined with parentheses"
   ]
  },
  {
   "cell_type": "code",
   "execution_count": 30,
   "metadata": {
    "colab": {},
    "colab_type": "code",
    "id": "ktoQkjIiGIj0",
    "outputId": "0c1320e2-d25f-4e83-97b5-3d4bcfd9af1d",
    "slideshow": {
     "slide_type": "fragment"
    }
   },
   "outputs": [
    {
     "data": {
      "text/plain": [
       "('some',)"
      ]
     },
     "execution_count": 30,
     "metadata": {},
     "output_type": "execute_result"
    }
   ],
   "source": [
    "# bad - could lead to bugs\n",
    "t = 'some',\n",
    "t"
   ]
  },
  {
   "cell_type": "markdown",
   "metadata": {
    "colab_type": "text",
    "id": "lECQAKvkGIj8",
    "slideshow": {
     "slide_type": "subslide"
    }
   },
   "source": [
    "Is almost the same as list. \n",
    "But why we need it?"
   ]
  },
  {
   "cell_type": "markdown",
   "metadata": {
    "colab_type": "text",
    "id": "gURHNl4JGIj9",
    "slideshow": {
     "slide_type": "fragment"
    }
   },
   "source": [
    " * Safe us from sequence mutating\n",
    "\n",
    " * Usually faster than list\n",
    "\n",
    " * Consume fewer space\n",
    "\n",
    " * Can be dictionary key"
   ]
  },
  {
   "cell_type": "code",
   "execution_count": 161,
   "metadata": {
    "colab": {},
    "colab_type": "code",
    "id": "jGsu7qKvGIj-",
    "outputId": "7a1a90c4-1463-4c1a-ae2a-1c6b4fb99c02",
    "scrolled": true,
    "slideshow": {
     "slide_type": "fragment"
    }
   },
   "outputs": [
    {
     "name": "stdout",
     "output_type": "stream",
     "text": [
      "64\n",
      "48\n"
     ]
    }
   ],
   "source": [
    "lst = [10, 20, 30]\n",
    "tpl = (10, 20, 30)\n",
    "print(lst.__sizeof__())\n",
    "print(tpl.__sizeof__())"
   ]
  },
  {
   "cell_type": "markdown",
   "metadata": {
    "colab_type": "text",
    "id": "iXdI7DNzfB5v",
    "slideshow": {
     "slide_type": "subslide"
    }
   },
   "source": [
    "Tuples are compared position by position: the first item of the first tuple is compared to the first item of the second tuple; if they are not equal, this is the result of the comparison, else the second item is considered, then the third and so on. "
   ]
  },
  {
   "cell_type": "code",
   "execution_count": 158,
   "metadata": {
    "colab": {
     "base_uri": "https://localhost:8080/",
     "height": 34
    },
    "colab_type": "code",
    "id": "oDgJ4fxUHorD",
    "outputId": "521437dc-2d6d-48a1-f169-2011828c4997",
    "slideshow": {
     "slide_type": "fragment"
    }
   },
   "outputs": [
    {
     "data": {
      "text/plain": [
       "True"
      ]
     },
     "execution_count": 158,
     "metadata": {},
     "output_type": "execute_result"
    }
   ],
   "source": [
    "(1, 2, 3) < (1, 2, 4)\n"
   ]
  },
  {
   "cell_type": "code",
   "execution_count": 60,
   "metadata": {
    "colab": {
     "base_uri": "https://localhost:8080/",
     "height": 34
    },
    "colab_type": "code",
    "id": "1iMiRCqmHxps",
    "outputId": "b0bbcaaf-dfa3-4db7-89a4-06d50cd0d361",
    "scrolled": true,
    "slideshow": {
     "slide_type": "fragment"
    }
   },
   "outputs": [
    {
     "data": {
      "text/plain": [
       "True"
      ]
     },
     "execution_count": 60,
     "metadata": {},
     "output_type": "execute_result"
    }
   ],
   "source": [
    "(1, 2, 3, 4) < (1, 2, 4)"
   ]
  },
  {
   "cell_type": "code",
   "execution_count": 61,
   "metadata": {},
   "outputs": [],
   "source": [
    "a = ([1, 2], 1)\n",
    "\n",
    "a[0].append('text')"
   ]
  },
  {
   "cell_type": "markdown",
   "metadata": {
    "colab_type": "text",
    "id": "vL24OExeIQy-",
    "slideshow": {
     "slide_type": "fragment"
    }
   },
   "source": [
    "Can be concatenated using __+__ operator. New object is created."
   ]
  },
  {
   "cell_type": "markdown",
   "metadata": {
    "colab_type": "text",
    "id": "Job4MoNrGIkB",
    "slideshow": {
     "slide_type": "subslide"
    }
   },
   "source": [
    "### Reverse tuple"
   ]
  },
  {
   "cell_type": "code",
   "execution_count": 225,
   "metadata": {
    "colab": {},
    "colab_type": "code",
    "id": "GDHPz3pkGIkD",
    "outputId": "77a291ba-cccf-4b9e-8780-d8f3aa320b33",
    "slideshow": {
     "slide_type": "fragment"
    }
   },
   "outputs": [
    {
     "data": {
      "text/plain": [
       "(3, 2, 1)"
      ]
     },
     "execution_count": 225,
     "metadata": {},
     "output_type": "execute_result"
    }
   ],
   "source": [
    "tuple(reversed((1, 2, 3)))"
   ]
  },
  {
   "cell_type": "code",
   "execution_count": 226,
   "metadata": {
    "colab": {},
    "colab_type": "code",
    "id": "vn3FSO76GIkG",
    "outputId": "7c805ed8-b7de-4b5b-f64d-03fa174d8393",
    "slideshow": {
     "slide_type": "fragment"
    }
   },
   "outputs": [
    {
     "data": {
      "text/plain": [
       "(3, 2, 1)"
      ]
     },
     "execution_count": 226,
     "metadata": {},
     "output_type": "execute_result"
    }
   ],
   "source": [
    "(1, 2, 3)[::-1]"
   ]
  },
  {
   "cell_type": "markdown",
   "metadata": {
    "colab_type": "text",
    "id": "_Lq29M9PGIkV",
    "slideshow": {
     "slide_type": "subslide"
    }
   },
   "source": [
    "### Why we need 'extra' function reversed?"
   ]
  },
  {
   "cell_type": "markdown",
   "metadata": {
    "colab_type": "text",
    "id": "jOV_hScBfB54",
    "slideshow": {
     "slide_type": "fragment"
    }
   },
   "source": [
    "* slice always creates a copy\n",
    "* `reversed` is an iterator: can accept arbitrary types in memory efficient way. O(1)"
   ]
  },
  {
   "cell_type": "markdown",
   "metadata": {
    "colab_type": "text",
    "id": "mQzHE7ymfB55",
    "slideshow": {
     "slide_type": "slide"
    }
   },
   "source": [
    "### enumerate"
   ]
  },
  {
   "cell_type": "code",
   "execution_count": 63,
   "metadata": {
    "colab": {},
    "colab_type": "code",
    "id": "_Pb7FmobfB56",
    "outputId": "42936322-c401-4ada-9cad-7022d97d45c1",
    "slideshow": {
     "slide_type": "fragment"
    }
   },
   "outputs": [
    {
     "name": "stdout",
     "output_type": "stream",
     "text": [
      "1 apple\n",
      "2 banana\n",
      "3 grapes\n",
      "4 pear\n"
     ]
    }
   ],
   "source": [
    "my_list = ['apple', 'banana', 'grapes', 'pear']\n",
    "\n",
    "\n",
    "for c, value in enumerate(my_list, 1):\n",
    "    print(c, value)\n"
   ]
  },
  {
   "cell_type": "markdown",
   "metadata": {
    "colab_type": "text",
    "id": "TwiYI06VfB57",
    "slideshow": {
     "slide_type": "subslide"
    }
   },
   "source": [
    "Use iteration over object instead of loops with counter. If you need index -- use enumerate"
   ]
  },
  {
   "cell_type": "code",
   "execution_count": 31,
   "metadata": {
    "colab": {},
    "colab_type": "code",
    "collapsed": true,
    "id": "GZ8brRUGfB57",
    "slideshow": {
     "slide_type": "fragment"
    }
   },
   "outputs": [
    {
     "ename": "NameError",
     "evalue": "name 'xs' is not defined",
     "output_type": "error",
     "traceback": [
      "\u001b[0;31m---------------------------------------------------------------------------\u001b[0m",
      "\u001b[0;31mNameError\u001b[0m                                 Traceback (most recent call last)",
      "\u001b[0;32m<ipython-input-31-180f2ea2fd03>\u001b[0m in \u001b[0;36m<module>\u001b[0;34m\u001b[0m\n\u001b[1;32m      1\u001b[0m \u001b[0;31m# bad\u001b[0m\u001b[0;34m\u001b[0m\u001b[0;34m\u001b[0m\u001b[0;34m\u001b[0m\u001b[0m\n\u001b[0;32m----> 2\u001b[0;31m \u001b[0;32mfor\u001b[0m \u001b[0mi\u001b[0m \u001b[0;32min\u001b[0m \u001b[0mrange\u001b[0m\u001b[0;34m(\u001b[0m\u001b[0mlen\u001b[0m\u001b[0;34m(\u001b[0m\u001b[0mxs\u001b[0m\u001b[0;34m)\u001b[0m\u001b[0;34m)\u001b[0m \u001b[0;34m:\u001b[0m\u001b[0;34m\u001b[0m\u001b[0;34m\u001b[0m\u001b[0m\n\u001b[0m\u001b[1;32m      3\u001b[0m     \u001b[0mx\u001b[0m \u001b[0;34m=\u001b[0m \u001b[0mxs\u001b[0m\u001b[0;34m[\u001b[0m\u001b[0mi\u001b[0m\u001b[0;34m]\u001b[0m\u001b[0;34m\u001b[0m\u001b[0;34m\u001b[0m\u001b[0m\n\u001b[1;32m      4\u001b[0m \u001b[0;34m\u001b[0m\u001b[0m\n\u001b[1;32m      5\u001b[0m \u001b[0;31m# better\u001b[0m\u001b[0;34m\u001b[0m\u001b[0;34m\u001b[0m\u001b[0;34m\u001b[0m\u001b[0m\n",
      "\u001b[0;31mNameError\u001b[0m: name 'xs' is not defined"
     ]
    }
   ],
   "source": [
    "# bad\n",
    "for i in range(len(xs)) :\n",
    "    x = xs[i]\n",
    "\n",
    "# better\n",
    "for x in xs:\n",
    "    ...\n",
    "\n",
    "# or\n",
    "for i, x in enumerate(xs):\n",
    "    ..."
   ]
  },
  {
   "cell_type": "markdown",
   "metadata": {
    "colab_type": "text",
    "id": "dhjyNSbszAUk",
    "slideshow": {
     "slide_type": "skip"
    }
   },
   "source": [
    "#### [build-in functions](https://docs.python.org/3/library/functions.html)"
   ]
  },
  {
   "cell_type": "markdown",
   "metadata": {
    "colab_type": "text",
    "id": "x-OryYaRGIkV",
    "slideshow": {
     "slide_type": "slide"
    }
   },
   "source": [
    "### tuple vs list"
   ]
  },
  {
   "cell_type": "markdown",
   "metadata": {
    "colab_type": "text",
    "id": "7g3P2AIRGIkW",
    "slideshow": {
     "slide_type": "subslide"
    }
   },
   "source": [
    "__list__\n",
    "* Mutable\n",
    "\n",
    "* slower\n",
    "\n",
    "* homogeneous sequence\n",
    "\n",
    "* Unhashable\n"
   ]
  },
  {
   "cell_type": "markdown",
   "metadata": {
    "colab_type": "text",
    "id": "CZOXy1AtGIkX",
    "slideshow": {
     "slide_type": "fragment"
    }
   },
   "source": [
    "__tuple__\n",
    "* Immutable\n",
    "\n",
    "* faster\n",
    "\n",
    "* heterogeneous sequence\n",
    "\n",
    "* Hashable\n"
   ]
  },
  {
   "cell_type": "markdown",
   "metadata": {
    "slideshow": {
     "slide_type": "slide"
    }
   },
   "source": [
    "<img src=\"images/q_2.png\" width=\"600\" height=\"500\">"
   ]
  },
  {
   "cell_type": "markdown",
   "metadata": {
    "colab_type": "text",
    "id": "OgBJlLD9GIkY",
    "slideshow": {
     "slide_type": "slide"
    }
   },
   "source": [
    "### hashable"
   ]
  },
  {
   "cell_type": "markdown",
   "metadata": {
    "colab_type": "text",
    "id": "4wjeESTcGIkY",
    "slideshow": {
     "slide_type": "subslide"
    }
   },
   "source": [
    "An object is said to be hashable if it has a hash value that remains the same during its lifetime. It has a `__hash__()` method and it can be compared to other objects. For this, it needs the `__eq__()` or `__cmp__()` method.\n",
    "User-defined objects implementing `__hash__` by default (return object id)."
   ]
  },
  {
   "cell_type": "code",
   "execution_count": 229,
   "metadata": {
    "colab": {},
    "colab_type": "code",
    "id": "FC5EEzyPGIkb",
    "outputId": "6dd7afdb-6cfb-4341-b6e3-33774e65abd6",
    "slideshow": {
     "slide_type": "fragment"
    }
   },
   "outputs": [
    {
     "data": {
      "text/plain": [
       "True"
      ]
     },
     "execution_count": 229,
     "metadata": {},
     "output_type": "execute_result"
    }
   ],
   "source": [
    "a = (1, 2, 3)\n",
    "c = (1, 2, 3)\n",
    "a == c"
   ]
  },
  {
   "cell_type": "code",
   "execution_count": 230,
   "metadata": {
    "colab": {},
    "colab_type": "code",
    "id": "kiH3iShrGIke",
    "outputId": "0cc0b8d8-7cad-4385-aa53-803e0a38f536",
    "slideshow": {
     "slide_type": "fragment"
    }
   },
   "outputs": [
    {
     "data": {
      "text/plain": [
       "True"
      ]
     },
     "execution_count": 230,
     "metadata": {},
     "output_type": "execute_result"
    }
   ],
   "source": [
    "a.__hash__() == c.__hash__()"
   ]
  },
  {
   "cell_type": "code",
   "execution_count": 231,
   "metadata": {
    "colab": {},
    "colab_type": "code",
    "id": "F5u4OFEeGIkk",
    "outputId": "26a165a1-fa99-400e-edfb-207d09e94a10",
    "slideshow": {
     "slide_type": "fragment"
    }
   },
   "outputs": [
    {
     "data": {
      "text/plain": [
       "True"
      ]
     },
     "execution_count": 231,
     "metadata": {},
     "output_type": "execute_result"
    }
   ],
   "source": [
    "id(a) != id(c)"
   ]
  },
  {
   "attachments": {
    "image.png": {
     "image/png": "[encoded data removed]"
    }
   },
   "cell_type": "markdown",
   "metadata": {
    "slideshow": {
     "slide_type": "subslide"
    }
   },
   "source": [
    "![image.png](attachment:image.png)"
   ]
  },
  {
   "cell_type": "code",
   "execution_count": 41,
   "metadata": {
    "slideshow": {
     "slide_type": "skip"
    }
   },
   "outputs": [
    {
     "data": {
      "text/plain": [
       "True"
      ]
     },
     "execution_count": 41,
     "metadata": {},
     "output_type": "execute_result"
    }
   ],
   "source": [
    "hash(-1) == hash(-2)"
   ]
  },
  {
   "cell_type": "markdown",
   "metadata": {
    "colab_type": "text",
    "id": "BAldCH3mGIks",
    "slideshow": {
     "slide_type": "slide"
    }
   },
   "source": [
    "## namedtuple"
   ]
  },
  {
   "cell_type": "markdown",
   "metadata": {
    "colab_type": "text",
    "id": "E9FDx0FrGIk0",
    "slideshow": {
     "slide_type": "subslide"
    }
   },
   "source": [
    "Named tuples are basically easy-to-create, lightweight object types. Named tuple instances can be referenced using object-like variable dereferencing or the standard tuple syntax. They can be used similarly to `struct` or other common record types, except that they are immutable."
   ]
  },
  {
   "cell_type": "code",
   "execution_count": 65,
   "metadata": {
    "colab": {},
    "colab_type": "code",
    "id": "bj_1y3blGIk2",
    "outputId": "1f27d014-ccd4-42ec-a0ea-f30b9ed74ae6",
    "slideshow": {
     "slide_type": "fragment"
    }
   },
   "outputs": [
    {
     "name": "stdout",
     "output_type": "stream",
     "text": [
      "('red', 3812.4, 'white')\n"
     ]
    }
   ],
   "source": [
    "from collections import namedtuple\n",
    "\n",
    "Car = namedtuple('Car' , 'color mileage')\n",
    "Cat = namedtuple('Cat' , 'color')\n",
    "\n",
    "my_car = Car('red', 3812.4)\n",
    "my_cat = Cat(\"white\")\n",
    "print(my_car + my_cat)"
   ]
  },
  {
   "cell_type": "code",
   "execution_count": 235,
   "metadata": {
    "colab": {},
    "colab_type": "code",
    "id": "VnzEdUekGIk5",
    "outputId": "03e3c8f6-4457-4896-98bb-c41f318304a4",
    "slideshow": {
     "slide_type": "fragment"
    }
   },
   "outputs": [
    {
     "data": {
      "text/plain": [
       "'red'"
      ]
     },
     "execution_count": 235,
     "metadata": {},
     "output_type": "execute_result"
    }
   ],
   "source": [
    "my_car.color"
   ]
  },
  {
   "cell_type": "markdown",
   "metadata": {
    "colab_type": "text",
    "id": "wM7z9viZGIk-",
    "slideshow": {
     "slide_type": "subslide"
    }
   },
   "source": [
    "Can use indexes:"
   ]
  },
  {
   "cell_type": "code",
   "execution_count": 236,
   "metadata": {
    "colab": {},
    "colab_type": "code",
    "id": "XuhhOo2YGIk_",
    "outputId": "e891da91-43f7-4330-f554-22cb66cdf948",
    "scrolled": true,
    "slideshow": {
     "slide_type": "fragment"
    }
   },
   "outputs": [
    {
     "data": {
      "text/plain": [
       "'red'"
      ]
     },
     "execution_count": 236,
     "metadata": {},
     "output_type": "execute_result"
    }
   ],
   "source": [
    "my_car[0]"
   ]
  },
  {
   "cell_type": "markdown",
   "metadata": {
    "colab_type": "text",
    "id": "WeYquSDKGIlF",
    "slideshow": {
     "slide_type": "subslide"
    }
   },
   "source": [
    "### Has a few nice methods"
   ]
  },
  {
   "cell_type": "code",
   "execution_count": 69,
   "metadata": {
    "colab": {},
    "colab_type": "code",
    "id": "11VYCfuPGIlF",
    "outputId": "bc75924c-a7b7-48db-a242-3917a24f5427",
    "slideshow": {
     "slide_type": "fragment"
    }
   },
   "outputs": [
    {
     "data": {
      "text/plain": [
       "\"OrderedDict([('color', 'red'), ('mileage', 3812.4)])\""
      ]
     },
     "execution_count": 69,
     "metadata": {},
     "output_type": "execute_result"
    }
   ],
   "source": [
    "d = my_car._asdict()\n",
    "\n",
    "\n",
    "\n",
    "repr(d)"
   ]
  },
  {
   "cell_type": "markdown",
   "metadata": {
    "colab_type": "text",
    "id": "N1BDozLQGIlZ",
    "slideshow": {
     "slide_type": "subslide"
    }
   },
   "source": [
    "### `_replace()` method creates shallow copy in order to modify some of attributes"
   ]
  },
  {
   "cell_type": "code",
   "execution_count": 238,
   "metadata": {
    "colab": {},
    "colab_type": "code",
    "id": "i1HdTU3UGIla",
    "outputId": "e4e1e29e-d1ae-426e-8ae9-a7ca1f23fcbb",
    "slideshow": {
     "slide_type": "fragment"
    }
   },
   "outputs": [
    {
     "data": {
      "text/plain": [
       "Car(color='blue', mileage=3812.4)"
      ]
     },
     "execution_count": 238,
     "metadata": {},
     "output_type": "execute_result"
    }
   ],
   "source": [
    "my_car._replace(color='blue')"
   ]
  },
  {
   "cell_type": "markdown",
   "metadata": {
    "colab_type": "text",
    "id": "ANG2nbIBGIlh",
    "slideshow": {
     "slide_type": "fragment"
    }
   },
   "source": [
    "### `_make()` creates new instance from sequence"
   ]
  },
  {
   "cell_type": "code",
   "execution_count": 239,
   "metadata": {
    "colab": {},
    "colab_type": "code",
    "id": "I1UUXl6-GIlj",
    "outputId": "144474ae-2770-4404-cd21-fed6815d21b2",
    "slideshow": {
     "slide_type": "fragment"
    }
   },
   "outputs": [
    {
     "data": {
      "text/plain": [
       "Car(color='red', mileage=999)"
      ]
     },
     "execution_count": 239,
     "metadata": {},
     "output_type": "execute_result"
    }
   ],
   "source": [
    "Car._make(['red', 999])"
   ]
  },
  {
   "cell_type": "markdown",
   "metadata": {
    "colab_type": "text",
    "id": "-Y3lxGZNfB6e",
    "slideshow": {
     "slide_type": "slide"
    }
   },
   "source": [
    "## Multiple assignment and unpacking"
   ]
  },
  {
   "cell_type": "code",
   "execution_count": 240,
   "metadata": {
    "colab": {},
    "colab_type": "code",
    "id": "3Fb7BFpGfB6f",
    "slideshow": {
     "slide_type": "fragment"
    }
   },
   "outputs": [],
   "source": [
    "x, y = 10, 20"
   ]
  },
  {
   "cell_type": "markdown",
   "metadata": {
    "colab_type": "text",
    "id": "GdHHNqqufB6g",
    "slideshow": {
     "slide_type": "fragment"
    }
   },
   "source": [
    "### Same result but different spelling"
   ]
  },
  {
   "cell_type": "code",
   "execution_count": 241,
   "metadata": {
    "colab": {},
    "colab_type": "code",
    "id": "ySSF8YwMfB6g",
    "slideshow": {
     "slide_type": "fragment"
    }
   },
   "outputs": [],
   "source": [
    "x, y = 10, 20\n",
    "x, y = (10, 20)\n",
    "(x, y) = 10, 20\n",
    "(x, y) = (10, 20)"
   ]
  },
  {
   "cell_type": "markdown",
   "metadata": {
    "colab_type": "text",
    "id": "8GliekA9fB6k",
    "slideshow": {
     "slide_type": "subslide"
    }
   },
   "source": [
    "Can be used with any iterable object"
   ]
  },
  {
   "cell_type": "code",
   "execution_count": 242,
   "metadata": {
    "colab": {},
    "colab_type": "code",
    "id": "knmzxWzRfB6k",
    "outputId": "50cf48fd-ed82-4f6b-ee30-d16c4aa4d9bd",
    "slideshow": {
     "slide_type": "fragment"
    }
   },
   "outputs": [
    {
     "data": {
      "text/plain": [
       "10"
      ]
     },
     "execution_count": 242,
     "metadata": {},
     "output_type": "execute_result"
    }
   ],
   "source": [
    "x, y = [10, 20]\n",
    "x"
   ]
  },
  {
   "cell_type": "code",
   "execution_count": 243,
   "metadata": {
    "colab": {},
    "colab_type": "code",
    "id": "zQZCj6_9fB6m",
    "outputId": "6f91dacd-4a89-42b1-b362-c15879d089ff",
    "slideshow": {
     "slide_type": "fragment"
    }
   },
   "outputs": [
    {
     "data": {
      "text/plain": [
       "'h'"
      ]
     },
     "execution_count": 243,
     "metadata": {},
     "output_type": "execute_result"
    }
   ],
   "source": [
    "x, y = 'hi'\n",
    "x"
   ]
  },
  {
   "cell_type": "markdown",
   "metadata": {
    "colab_type": "text",
    "id": "QTVt5ssafB6p",
    "slideshow": {
     "slide_type": "subslide"
    }
   },
   "source": [
    "Works with any number of objects and even with variables"
   ]
  },
  {
   "cell_type": "code",
   "execution_count": 244,
   "metadata": {
    "colab": {},
    "colab_type": "code",
    "id": "GQw8I7kcfB6q",
    "outputId": "7fc1914f-5df2-4b34-c359-faa4b40d16f1",
    "scrolled": true,
    "slideshow": {
     "slide_type": "fragment"
    }
   },
   "outputs": [
    {
     "name": "stdout",
     "output_type": "stream",
     "text": [
      "10 20 30\n",
      "30 20 10\n"
     ]
    }
   ],
   "source": [
    "point = 10, 20, 30\n",
    "x, y, z = point\n",
    "print(x, y, z)\n",
    "\n",
    "(x, y, z) = (z, y, x)\n",
    "print(x, y, z) "
   ]
  },
  {
   "cell_type": "markdown",
   "metadata": {
    "colab_type": "text",
    "id": "N1x4MYf4fB61",
    "slideshow": {
     "slide_type": "subslide"
    }
   },
   "source": [
    "Can use asterisk:"
   ]
  },
  {
   "cell_type": "code",
   "execution_count": 245,
   "metadata": {
    "colab": {},
    "colab_type": "code",
    "id": "T_sc8DrRfB61",
    "outputId": "0f285cc0-9c40-4f39-b789-89e3d2275165",
    "slideshow": {
     "slide_type": "fragment"
    }
   },
   "outputs": [
    {
     "data": {
      "text/plain": [
       "(0, 3)"
      ]
     },
     "execution_count": 245,
     "metadata": {},
     "output_type": "execute_result"
    }
   ],
   "source": [
    "first, *_, last = range(4)\n",
    "first, last"
   ]
  },
  {
   "cell_type": "code",
   "execution_count": 246,
   "metadata": {
    "colab": {},
    "colab_type": "code",
    "id": "X_AvwCwtfB6u",
    "outputId": "5367ef19-ecac-4f72-ac67-a85e14664bca",
    "scrolled": true,
    "slideshow": {
     "slide_type": "fragment"
    }
   },
   "outputs": [
    {
     "name": "stdout",
     "output_type": "stream",
     "text": [
      "1 2 3\n"
     ]
    },
    {
     "data": {
      "text/plain": [
       "{0, 1, 2, 3, 4}"
      ]
     },
     "execution_count": 246,
     "metadata": {},
     "output_type": "execute_result"
    }
   ],
   "source": [
    "print(*[1], *[2], 3)\n",
    "{*range(4), 4}"
   ]
  },
  {
   "cell_type": "code",
   "execution_count": 247,
   "metadata": {
    "slideshow": {
     "slide_type": "fragment"
    }
   },
   "outputs": [
    {
     "data": {
      "text/plain": [
       "([1, 2], list)"
      ]
     },
     "execution_count": 247,
     "metadata": {},
     "output_type": "execute_result"
    }
   ],
   "source": [
    "first, *middle, last = range(4)\n",
    "middle, type(middle)"
   ]
  },
  {
   "cell_type": "markdown",
   "metadata": {
    "colab_type": "text",
    "id": "hxw7Swh3fB63",
    "slideshow": {
     "slide_type": "fragment"
    }
   },
   "source": [
    "### Unpacking to the asterisk is always [list](https://www.python.org/dev/peps/pep-3132/#acceptance)"
   ]
  },
  {
   "cell_type": "markdown",
   "metadata": {
    "colab_type": "text",
    "id": "ohjk6q_3fB64",
    "slideshow": {
     "slide_type": "subslide"
    }
   },
   "source": [
    "## The same way it works with double asterisk **\n",
    "\n",
    "New keys will overwrite old ones"
   ]
  },
  {
   "cell_type": "code",
   "execution_count": 248,
   "metadata": {
    "colab": {},
    "colab_type": "code",
    "id": "breh-7rufB64",
    "outputId": "24d7e8a7-0149-470d-f2d1-0a7951d04385",
    "slideshow": {
     "slide_type": "fragment"
    }
   },
   "outputs": [
    {
     "data": {
      "text/plain": [
       "{'x': 1, 'y': 2, 'z': 3}"
      ]
     },
     "execution_count": 248,
     "metadata": {},
     "output_type": "execute_result"
    }
   ],
   "source": [
    "dict(**{'x': 1}, y=2, **{'z': 3})"
   ]
  },
  {
   "cell_type": "code",
   "execution_count": 165,
   "metadata": {
    "colab": {},
    "colab_type": "code",
    "id": "4R2PeM5lfB66",
    "outputId": "0268ef7b-421f-4d76-cb0a-7a240127a103",
    "slideshow": {
     "slide_type": "fragment"
    }
   },
   "outputs": [
    {
     "data": {
      "text/plain": [
       "{'x': 2}"
      ]
     },
     "execution_count": 165,
     "metadata": {},
     "output_type": "execute_result"
    }
   ],
   "source": [
    "{'x': 1, **{\"x\": 3}, **{'x': 2}}"
   ]
  },
  {
   "cell_type": "markdown",
   "metadata": {
    "colab_type": "text",
    "id": "vzZESeuifB69",
    "slideshow": {
     "slide_type": "slide"
    }
   },
   "source": [
    "\n",
    "## Set\n",
    "__unordered__ collections of unique hashable objects\n"
   ]
  },
  {
   "cell_type": "markdown",
   "metadata": {
    "colab_type": "text",
    "id": "3zMESzLufB69",
    "slideshow": {
     "slide_type": "fragment"
    }
   },
   "source": [
    "### When to use?\n",
    "1. remove duplicates\n",
    "2. Membership testing\n",
    "3. count intersections, union, difference, symmetric difference\n",
    "\n",
    "\n",
    "#### NB!\n",
    "- No indexing and slicing\n",
    "- No ordered insertion"
   ]
  },
  {
   "cell_type": "markdown",
   "metadata": {
    "colab_type": "text",
    "id": "yNr2otIwfB6-",
    "slideshow": {
     "slide_type": "slide"
    }
   },
   "source": [
    "### How to initialize?"
   ]
  },
  {
   "cell_type": "code",
   "execution_count": 34,
   "metadata": {
    "colab": {},
    "colab_type": "code",
    "id": "PmOEANaGfB6_",
    "outputId": "7778616c-5554-4262-b9ba-27a09f571edf",
    "scrolled": true,
    "slideshow": {
     "slide_type": "fragment"
    }
   },
   "outputs": [
    {
     "name": "stdout",
     "output_type": "stream",
     "text": [
      "1\n",
      "2\n",
      "3\n"
     ]
    }
   ],
   "source": [
    "container = {1, 2, 3}\n",
    "for i in container:\n",
    "    print(i)"
   ]
  },
  {
   "cell_type": "code",
   "execution_count": 37,
   "metadata": {
    "slideshow": {
     "slide_type": "fragment"
    }
   },
   "outputs": [
    {
     "data": {
      "text/plain": [
       "{0, 1, 2, 3, 4}"
      ]
     },
     "execution_count": 37,
     "metadata": {},
     "output_type": "execute_result"
    }
   ],
   "source": [
    "new_set = {i for i in range(5)}\n",
    "new_set\n",
    "set()"
   ]
  },
  {
   "cell_type": "markdown",
   "metadata": {
    "colab_type": "text",
    "id": "KytbTByHfB7A",
    "slideshow": {
     "slide_type": "subslide"
    }
   },
   "source": [
    "No literals for empty set:"
   ]
  },
  {
   "cell_type": "code",
   "execution_count": 35,
   "metadata": {
    "colab": {},
    "colab_type": "code",
    "id": "lToup8sffB7B",
    "outputId": "6d8d4b2b-a190-4c9d-ad7a-bad01927c596",
    "scrolled": true,
    "slideshow": {
     "slide_type": "fragment"
    }
   },
   "outputs": [
    {
     "data": {
      "text/plain": [
       "dict"
      ]
     },
     "execution_count": 35,
     "metadata": {},
     "output_type": "execute_result"
    }
   ],
   "source": [
    "this_is_not_a_set_sorry = {}\n",
    "type(this_is_not_a_set_sorry)"
   ]
  },
  {
   "cell_type": "markdown",
   "metadata": {
    "colab_type": "text",
    "id": "Ff8At27pfB7G",
    "slideshow": {
     "slide_type": "fragment"
    }
   },
   "source": [
    "But we can create one with elements inside it"
   ]
  },
  {
   "cell_type": "code",
   "execution_count": 36,
   "metadata": {
    "colab": {},
    "colab_type": "code",
    "id": "4hTu4Mm5fB7G",
    "outputId": "0f36dbb0-eabd-4e93-b4d2-b9d21d48f72e",
    "slideshow": {
     "slide_type": "fragment"
    }
   },
   "outputs": [
    {
     "name": "stdout",
     "output_type": "stream",
     "text": [
      "{'of', 'the', 'youth', 'nation'} 4634879712\n",
      "{'me', 'of', 'the', 'youth', 'nation'} 4634879712\n"
     ]
    }
   ],
   "source": [
    "brand_new_set = {\"youth\", \"of\", \"the\", \"nation\"}\n",
    "print(brand_new_set, id(brand_new_set))\n",
    "brand_new_set.add(\"me\")\n",
    "print(brand_new_set, id(brand_new_set))"
   ]
  },
  {
   "cell_type": "markdown",
   "metadata": {
    "colab_type": "text",
    "id": "wsR4dc3lfB7K",
    "slideshow": {
     "slide_type": "subslide"
    }
   },
   "source": [
    "What will happen if we pass iterable to the constructor?"
   ]
  },
  {
   "cell_type": "code",
   "execution_count": 38,
   "metadata": {
    "colab": {},
    "colab_type": "code",
    "id": "zVm0T1tzfB7K",
    "outputId": "1347dcb8-9c13-451b-b98f-a0f784a05841",
    "slideshow": {
     "slide_type": "fragment"
    }
   },
   "outputs": [
    {
     "data": {
      "text/plain": [
       "{'e', 'i', 'p', 'r', 't', 'v'}"
      ]
     },
     "execution_count": 38,
     "metadata": {},
     "output_type": "execute_result"
    }
   ],
   "source": [
    "s = set(\"privet\")\n",
    "s"
   ]
  },
  {
   "cell_type": "markdown",
   "metadata": {
    "colab_type": "text",
    "id": "4nAwcv6rfB7Q",
    "slideshow": {
     "slide_type": "slide"
    }
   },
   "source": [
    "## Set methods"
   ]
  },
  {
   "cell_type": "markdown",
   "metadata": {
    "colab_type": "text",
    "id": "05CnJ13FfB7Q",
    "slideshow": {
     "slide_type": "fragment"
    }
   },
   "source": [
    "### Returns True or False:\n",
    "\n",
    "set.isdisjoint(another_set) - True, if set and another_set have no common elements.\n",
    "\n",
    "set.issubset(another_set) - True, if all set elements are in another_set.\n",
    "\n",
    "set.issuperset(another_set) - True, if all another_set's elements belong to set.\n"
   ]
  },
  {
   "cell_type": "markdown",
   "metadata": {
    "colab_type": "text",
    "id": "UmRC68qmfB7R",
    "slideshow": {
     "slide_type": "subslide"
    }
   },
   "source": [
    "### Set theory:\n",
    "\n",
    "set.union(set1, ...) - set's union.\n",
    "\n",
    "set.intersection(set1, ...) - set's intersection.\n",
    "\n",
    "set.difference(other, ...) - set of elements, that are not in any of other.\n",
    "\n",
    "set.symmetric_difference(other) - all elements, that are not in set and in any of other at the same time.\n"
   ]
  },
  {
   "cell_type": "markdown",
   "metadata": {
    "colab_type": "text",
    "id": "97edDWnlfB7R",
    "slideshow": {
     "slide_type": "subslide"
    }
   },
   "source": [
    "### Mutate set\n",
    "\n",
    "set.add(elem) - add new elements.\n",
    "\n",
    "set.remove(elem) - remove element from the set. __KeyError__ if no such element.\n",
    "\n",
    "set.discard(elem) - removes element if is in set.\n",
    "\n",
    "set.pop() - removes occurrence and returns it\n",
    "\n",
    "set.clear() - remove all elements"
   ]
  },
  {
   "cell_type": "markdown",
   "metadata": {
    "colab_type": "text",
    "id": "vLbyHNnnfB7S",
    "slideshow": {
     "slide_type": "slide"
    }
   },
   "source": [
    "## frozenset - immutable set \n",
    "\n",
    "we basically remove all methods that can mutate object and call it frozen."
   ]
  },
  {
   "cell_type": "code",
   "execution_count": 255,
   "metadata": {
    "colab": {},
    "colab_type": "code",
    "id": "iIdp_ZkrfB7S",
    "outputId": "d0795e33-0fb3-43fe-8bc0-dc91944240d0",
    "scrolled": false,
    "slideshow": {
     "slide_type": "fragment"
    }
   },
   "outputs": [
    {
     "ename": "AttributeError",
     "evalue": "'frozenset' object has no attribute 'add'",
     "output_type": "error",
     "traceback": [
      "\u001b[0;31m---------------------------------------------------------------------------\u001b[0m",
      "\u001b[0;31mAttributeError\u001b[0m                            Traceback (most recent call last)",
      "\u001b[0;32m<ipython-input-255-b00608177d90>\u001b[0m in \u001b[0;36m<module>\u001b[0;34m\u001b[0m\n\u001b[1;32m      1\u001b[0m \u001b[0mfrozen\u001b[0m \u001b[0;34m=\u001b[0m \u001b[0mfrozenset\u001b[0m\u001b[0;34m(\u001b[0m\u001b[0;34m\"diplome\"\u001b[0m\u001b[0;34m)\u001b[0m\u001b[0;34m\u001b[0m\u001b[0;34m\u001b[0m\u001b[0m\n\u001b[0;32m----> 2\u001b[0;31m \u001b[0mfrozen\u001b[0m\u001b[0;34m.\u001b[0m\u001b[0madd\u001b[0m\u001b[0;34m(\u001b[0m\u001b[0;34m\"water\"\u001b[0m\u001b[0;34m)\u001b[0m\u001b[0;34m\u001b[0m\u001b[0;34m\u001b[0m\u001b[0m\n\u001b[0m",
      "\u001b[0;31mAttributeError\u001b[0m: 'frozenset' object has no attribute 'add'"
     ]
    }
   ],
   "source": [
    "frozen = frozenset(\"diplome\")\n",
    "frozen.add(\"water\")"
   ]
  },
  {
   "cell_type": "markdown",
   "metadata": {
    "slideshow": {
     "slide_type": "slide"
    }
   },
   "source": [
    "#### Summary\n",
    "\n",
    "- We know what is the set and how to use it."
   ]
  },
  {
   "cell_type": "markdown",
   "metadata": {
    "colab_type": "text",
    "id": "zUyaKlg2fB7i",
    "slideshow": {
     "slide_type": "slide"
    }
   },
   "source": [
    "# dict -- ordered collection with access using key "
   ]
  },
  {
   "cell_type": "markdown",
   "metadata": {
    "colab_type": "text",
    "id": "ZqzS-MyQfB7j",
    "slideshow": {
     "slide_type": "fragment"
    }
   },
   "source": [
    "### How to initialize dict?"
   ]
  },
  {
   "cell_type": "markdown",
   "metadata": {
    "colab_type": "text",
    "id": "tJS_NtggfB7j",
    "slideshow": {
     "slide_type": "slide"
    }
   },
   "source": [
    "## 1. Using literals"
   ]
  },
  {
   "cell_type": "code",
   "execution_count": 256,
   "metadata": {
    "colab": {},
    "colab_type": "code",
    "id": "yTBUselNfB7k",
    "outputId": "4d2918e6-be2f-4f9c-bc74-dba00e702911",
    "slideshow": {
     "slide_type": "fragment"
    }
   },
   "outputs": [
    {
     "data": {
      "text/plain": [
       "{'West World': 8.4, 'True Detective': 7.6}"
      ]
     },
     "execution_count": 256,
     "metadata": {},
     "output_type": "execute_result"
    }
   ],
   "source": [
    "dictionary = {}\n",
    "# or\n",
    "dictionary = {'West World': 8.4, 'True Detective': 7.6}\n",
    "dictionary"
   ]
  },
  {
   "cell_type": "markdown",
   "metadata": {
    "colab_type": "text",
    "id": "OuXL42M7fB7n",
    "slideshow": {
     "slide_type": "slide"
    }
   },
   "source": [
    "## 2. function dict()"
   ]
  },
  {
   "cell_type": "code",
   "execution_count": 257,
   "metadata": {
    "colab": {},
    "colab_type": "code",
    "id": "Ipsx3Bl_fB7n",
    "outputId": "24ad037d-8dcb-4c23-b0de-df9459c6bca6",
    "slideshow": {
     "slide_type": "fragment"
    }
   },
   "outputs": [
    {
     "data": {
      "text/plain": [
       "{1: 100, 2: 400}"
      ]
     },
     "execution_count": 257,
     "metadata": {},
     "output_type": "execute_result"
    }
   ],
   "source": [
    "dictionary = dict()\n",
    "# or\n",
    "dictionary = dict([(1, 100), (2, 400)])\n",
    "dictionary"
   ]
  },
  {
   "cell_type": "markdown",
   "metadata": {
    "colab_type": "text",
    "id": "gTakWGzFfB7p",
    "slideshow": {
     "slide_type": "slide"
    }
   },
   "source": [
    "## 3. Method .fromkeys()"
   ]
  },
  {
   "cell_type": "code",
   "execution_count": 258,
   "metadata": {
    "colab": {},
    "colab_type": "code",
    "id": "aBcr14XAfB7p",
    "outputId": "6b5e6ed8-9168-491d-c6e1-1677b0601771",
    "scrolled": true,
    "slideshow": {
     "slide_type": "fragment"
    }
   },
   "outputs": [
    {
     "data": {
      "text/plain": [
       "{'Leonardo': 'ninja',\n",
       " 'Donatello': 'ninja',\n",
       " 'Raphael': 'ninja',\n",
       " 'Michelangelo': 'ninja'}"
      ]
     },
     "execution_count": 258,
     "metadata": {},
     "output_type": "execute_result"
    }
   ],
   "source": [
    "dictionary = dict.fromkeys(\n",
    "    [\"Leonardo\", \"Donatello\", \"Raphael\", \"Michelangelo\"], \n",
    "    \"ninja\"\n",
    ")\n",
    "dictionary"
   ]
  },
  {
   "cell_type": "markdown",
   "metadata": {
    "colab_type": "text",
    "id": "2LnAKmAdfB7q",
    "slideshow": {
     "slide_type": "slide"
    }
   },
   "source": [
    "## 4. dict-comprehension"
   ]
  },
  {
   "cell_type": "code",
   "execution_count": 24,
   "metadata": {
    "colab": {},
    "colab_type": "code",
    "id": "7TQFcTF8fB7s",
    "outputId": "47b2498d-7d71-4c8b-96f1-571c8a84e26f",
    "scrolled": true,
    "slideshow": {
     "slide_type": "fragment"
    }
   },
   "outputs": [
    {
     "data": {
      "text/plain": [
       "{0: 0, 2: 4, 4: 16, 6: 36}"
      ]
     },
     "execution_count": 24,
     "metadata": {},
     "output_type": "execute_result"
    }
   ],
   "source": [
    "dictionary = {number: number**2 for number in range(0, 7, 2)}\n",
    "dictionary"
   ]
  },
  {
   "cell_type": "markdown",
   "metadata": {
    "colab_type": "text",
    "id": "dxQHxBS6fB7t",
    "slideshow": {
     "slide_type": "slide"
    }
   },
   "source": [
    "## Key could be\n",
    "- unique object\n",
    "- hashable"
   ]
  },
  {
   "cell_type": "code",
   "execution_count": 70,
   "metadata": {},
   "outputs": [
    {
     "data": {
      "text/plain": [
       "{1: 'True'}"
      ]
     },
     "execution_count": 70,
     "metadata": {},
     "output_type": "execute_result"
    }
   ],
   "source": [
    "d = {1: '1', 1.0: '1.0', True: 'True'}\n",
    "\n",
    "d"
   ]
  },
  {
   "cell_type": "markdown",
   "metadata": {
    "colab_type": "text",
    "id": "nRcvLkfufB7u",
    "slideshow": {
     "slide_type": "slide"
    }
   },
   "source": [
    "## Dict methods"
   ]
  },
  {
   "cell_type": "code",
   "execution_count": 25,
   "metadata": {
    "colab": {},
    "colab_type": "code",
    "id": "bPgxLpnFfB7v",
    "outputId": "a6357257-cbf8-4e5f-b253-8f2aeaeee741",
    "scrolled": true,
    "slideshow": {
     "slide_type": "fragment"
    }
   },
   "outputs": [
    {
     "data": {
      "text/plain": [
       "[tuple, tuple, tuple, tuple]"
      ]
     },
     "execution_count": 25,
     "metadata": {},
     "output_type": "execute_result"
    }
   ],
   "source": [
    "[type(i) for i in dictionary.items()]\n",
    "\n",
    "d = dictionary.items()\n",
    "\n"
   ]
  },
  {
   "cell_type": "markdown",
   "metadata": {
    "colab_type": "text",
    "id": "iKBeCAz6fB7w",
    "slideshow": {
     "slide_type": "fragment"
    }
   },
   "source": [
    "`dict.items()` - returns pair (key, value).\n",
    "\n",
    "`dict.keys()` - returns key from dict.\n",
    "\n",
    "`dict.values()` - returns values from dict."
   ]
  },
  {
   "cell_type": "markdown",
   "metadata": {
    "colab_type": "text",
    "id": "toKHpQyufB7w",
    "slideshow": {
     "slide_type": "subslide"
    }
   },
   "source": [
    "Returns value for the key. If no such key in dict create new with given value (default is None)\n"
   ]
  },
  {
   "cell_type": "code",
   "execution_count": 26,
   "metadata": {
    "colab": {},
    "colab_type": "code",
    "id": "8YDT0lbrfB7x",
    "outputId": "523b46a3-614d-46f9-91be-97d0dc2756c3",
    "slideshow": {
     "slide_type": "fragment"
    }
   },
   "outputs": [
    {
     "name": "stdout",
     "output_type": "stream",
     "text": [
      "None\n",
      "new_2\n",
      "{0: 0, 2: 4, 4: 16, 6: 36, 'new': None, 'new_2': 'new_2'}\n"
     ]
    }
   ],
   "source": [
    "print(dictionary.setdefault(\"new\"))\n",
    "print(dictionary.setdefault(\"new_2\", 'new_2'))\n",
    "print(dictionary)"
   ]
  },
  {
   "cell_type": "markdown",
   "metadata": {
    "colab_type": "text",
    "id": "o1B7QeZtfB7z",
    "slideshow": {
     "slide_type": "subslide"
    }
   },
   "source": [
    "Returns key value. If no such key in dict -- returns default (by default is None)"
   ]
  },
  {
   "cell_type": "code",
   "execution_count": 43,
   "metadata": {
    "colab": {},
    "colab_type": "code",
    "id": "F50vDfTffB7z",
    "outputId": "c7aa4bbd-400f-415d-da8a-ee924ab86acc",
    "slideshow": {
     "slide_type": "fragment"
    }
   },
   "outputs": [
    {
     "data": {
      "text/plain": [
       "'other'"
      ]
     },
     "execution_count": 43,
     "metadata": {},
     "output_type": "execute_result"
    }
   ],
   "source": [
    "dictionary.get(\"smth\", \"other\")"
   ]
  },
  {
   "cell_type": "markdown",
   "metadata": {
    "colab_type": "text",
    "id": "wFb-A1MnfB71",
    "slideshow": {
     "slide_type": "subslide"
    }
   },
   "source": [
    "__dict.pop(key[, default])__ - remove key and returns value. If no key returns default (by default throws KeyError exception)\n",
    "\n",
    "__dict.popitem()__ - removes and returns pair (key, value). If dict is empty, throws KeyError.\n",
    "\n",
    "\n",
    "__dict.update([other])__ - updates dict by adding new pairs (key, value). Existing keys are updating. Is inplace operation"
   ]
  },
  {
   "cell_type": "markdown",
   "metadata": {
    "colab_type": "text",
    "id": "0FyYE5uHfB72",
    "slideshow": {
     "slide_type": "slide"
    }
   },
   "source": [
    "### Now we know\n",
    "\n",
    "- How to create new dictionary\n",
    "- who can be a key in dict\n",
    "- Dict methods"
   ]
  },
  {
   "cell_type": "markdown",
   "metadata": {
    "slideshow": {
     "slide_type": "slide"
    }
   },
   "source": [
    "## Time complexity"
   ]
  },
  {
   "cell_type": "markdown",
   "metadata": {
    "slideshow": {
     "slide_type": "subslide"
    }
   },
   "source": [
    "List"
   ]
  },
  {
   "attachments": {
    "image.png": {
     "image/png": "[encoded data removed]"
    }
   },
   "cell_type": "markdown",
   "metadata": {
    "slideshow": {
     "slide_type": "subslide"
    }
   },
   "source": [
    "![image.png](attachment:image.png)"
   ]
  },
  {
   "cell_type": "markdown",
   "metadata": {
    "slideshow": {
     "slide_type": "subslide"
    }
   },
   "source": [
    "Dict"
   ]
  },
  {
   "attachments": {
    "image.png": {
     "image/png": "[encoded data removed]"
    }
   },
   "cell_type": "markdown",
   "metadata": {
    "slideshow": {
     "slide_type": "subslide"
    }
   },
   "source": [
    "![image.png](attachment:image.png)"
   ]
  },
  {
   "cell_type": "markdown",
   "metadata": {
    "slideshow": {
     "slide_type": "subslide"
    }
   },
   "source": [
    "Set - Cpython implementation is very similar to dict"
   ]
  },
  {
   "attachments": {
    "image.png": {
     "image/png": "[encoded data removed]"
    }
   },
   "cell_type": "markdown",
   "metadata": {
    "slideshow": {
     "slide_type": "subslide"
    }
   },
   "source": [
    "![image.png](attachment:image.png)"
   ]
  },
  {
   "cell_type": "markdown",
   "metadata": {
    "colab_type": "text",
    "id": "EGIWwVuTLA_y",
    "slideshow": {
     "slide_type": "slide"
    }
   },
   "source": [
    "# Files, File-like object and how to use them"
   ]
  },
  {
   "cell_type": "markdown",
   "metadata": {
    "colab_type": "text",
    "id": "oxD9VVa7LA_4",
    "slideshow": {
     "slide_type": "subslide"
    }
   },
   "source": [
    "### Function open\n",
    "\n",
    "Text and binary data is very differ in Python\n",
    "\n",
    "Function open creates new File object. Accept one required argument -- path to the file."
   ]
  },
  {
   "cell_type": "code",
   "execution_count": 263,
   "metadata": {
    "colab": {},
    "colab_type": "code",
    "id": "O6fmeoXmLBAG",
    "outputId": "e9bb87e3-68d0-44e3-9bdb-2eb08a404f72",
    "slideshow": {
     "slide_type": "fragment"
    }
   },
   "outputs": [
    {
     "data": {
      "text/plain": [
       "<_io.TextIOWrapper name='./data/test.txt' mode='r' encoding='UTF-8'>"
      ]
     },
     "execution_count": 263,
     "metadata": {},
     "output_type": "execute_result"
    }
   ],
   "source": [
    "open('./data/test.txt')"
   ]
  },
  {
   "cell_type": "markdown",
   "metadata": {
    "colab_type": "text",
    "id": "Yb-yXofnLBAU",
    "slideshow": {
     "slide_type": "subslide"
    }
   },
   "source": [
    "open have a lot of argument - a few important:\n",
    "* __mode__ - how to open file:\n",
    "  * \"r\", \"w\", \"x\", \"a\", \"+\"\n",
    "  * \"b\", \"t\".\n",
    "* for text files:\n",
    "  * __encoding__"
   ]
  },
  {
   "cell_type": "code",
   "execution_count": 264,
   "metadata": {
    "colab_type": "text",
    "collapsed": true,
    "id": "Qr0FfBf8LBAZ",
    "slideshow": {
     "slide_type": "fragment"
    }
   },
   "outputs": [
    {
     "ename": "SyntaxError",
     "evalue": "invalid syntax (<ipython-input-264-c0fa45e7d330>, line 1)",
     "output_type": "error",
     "traceback": [
      "\u001b[0;36m  File \u001b[0;32m\"<ipython-input-264-c0fa45e7d330>\"\u001b[0;36m, line \u001b[0;32m1\u001b[0m\n\u001b[0;31m    | r   r+   w   w+   a   a+\u001b[0m\n\u001b[0m    ^\u001b[0m\n\u001b[0;31mSyntaxError\u001b[0m\u001b[0;31m:\u001b[0m invalid syntax\n"
     ]
    }
   ],
   "source": [
    "                  | r   r+   w   w+   a   a+\n",
    "------------------|--------------------------\n",
    "read              | +   +        +        +\n",
    "write             |     +    +   +    +   +\n",
    "write after seek  |     +    +   +\n",
    "create            |          +   +    +   +\n",
    "truncate          |          +   +\n",
    "position at start | +   +    +   +\n",
    "position at end   |                   +   +"
   ]
  },
  {
   "cell_type": "markdown",
   "metadata": {
    "colab_type": "text",
    "id": "dQtq6u9hLBAq",
    "slideshow": {
     "slide_type": "slide"
    }
   },
   "source": [
    "### Methods to works with files:"
   ]
  },
  {
   "cell_type": "markdown",
   "metadata": {
    "colab_type": "text",
    "id": "UQHxBMdBLBAv",
    "slideshow": {
     "slide_type": "subslide"
    }
   },
   "source": [
    "#### Reading"
   ]
  },
  {
   "cell_type": "markdown",
   "metadata": {
    "colab_type": "text",
    "id": "yOLQePPbLBAw",
    "slideshow": {
     "slide_type": "fragment"
    }
   },
   "source": [
    "Method __read__ reads no more than n symbols from file"
   ]
  },
  {
   "cell_type": "code",
   "execution_count": 142,
   "metadata": {
    "colab": {},
    "colab_type": "code",
    "id": "vEQre9P8LBAz",
    "outputId": "fbb0ff40-232b-4e1b-fe52-78bfdcbca691",
    "slideshow": {
     "slide_type": "fragment"
    }
   },
   "outputs": [
    {
     "data": {
      "text/plain": [
       "'line1\\nl'"
      ]
     },
     "execution_count": 142,
     "metadata": {},
     "output_type": "execute_result"
    }
   ],
   "source": [
    "file_handle = open('./data/test.txt')\n",
    "file_handle.read(7)"
   ]
  },
  {
   "cell_type": "markdown",
   "metadata": {
    "colab_type": "text",
    "id": "A5HQRSqCLBA_",
    "slideshow": {
     "slide_type": "fragment"
    }
   },
   "source": [
    "__readline__ and __readline__ reads line or all lines from file.\n"
   ]
  },
  {
   "cell_type": "code",
   "execution_count": 143,
   "metadata": {
    "colab": {},
    "colab_type": "code",
    "id": "T2jynpYFLBBB",
    "outputId": "ccaa96ba-ede8-491d-ff35-e6c6d37887b8",
    "slideshow": {
     "slide_type": "fragment"
    }
   },
   "outputs": [
    {
     "name": "stdout",
     "output_type": "stream",
     "text": [
      "6\n"
     ]
    },
    {
     "data": {
      "text/plain": [
       "['line2\\n', 'line3\\n']"
      ]
     },
     "execution_count": 143,
     "metadata": {},
     "output_type": "execute_result"
    }
   ],
   "source": [
    "file_handle = open('./data/test.txt')\n",
    "print(len(file_handle.readline()))\n",
    "\n",
    "file_handle.readlines()"
   ]
  },
  {
   "cell_type": "markdown",
   "metadata": {
    "colab_type": "text",
    "id": "1VuVM0-iLBBP",
    "slideshow": {
     "slide_type": "subslide"
    }
   },
   "source": [
    "### Write"
   ]
  },
  {
   "cell_type": "code",
   "execution_count": 128,
   "metadata": {
    "colab": {},
    "colab_type": "code",
    "id": "2S9YzyFtLBBS",
    "outputId": "1de8bc99-41f6-4855-b503-c40f8f0c5f1a",
    "slideshow": {
     "slide_type": "fragment"
    }
   },
   "outputs": [
    {
     "data": {
      "text/plain": [
       "15"
      ]
     },
     "execution_count": 128,
     "metadata": {},
     "output_type": "execute_result"
    }
   ],
   "source": [
    "file_handle = open(\"./data/example.txt\", \"w\")\n",
    "file_handle.write('someinformation')"
   ]
  },
  {
   "cell_type": "markdown",
   "metadata": {
    "colab_type": "text",
    "id": "HqO-IUKrLBBi",
    "slideshow": {
     "slide_type": "fragment"
    }
   },
   "source": [
    "Write sequence of lines to the file. Remember to add new line char `\\n`"
   ]
  },
  {
   "cell_type": "code",
   "execution_count": 129,
   "metadata": {
    "colab": {},
    "colab_type": "code",
    "id": "HSHfO0s4LBBk",
    "outputId": "55631ff6-4e08-4eba-b483-cec9e8508fca",
    "slideshow": {
     "slide_type": "fragment"
    }
   },
   "outputs": [
    {
     "data": {
      "text/plain": [
       "['someinformationspamegg']"
      ]
     },
     "execution_count": 129,
     "metadata": {},
     "output_type": "execute_result"
    }
   ],
   "source": [
    "file_handle.writelines(['spam', 'egg'])\n",
    "file_handle.close()\n",
    "open(\"./data/example.txt\", \"r\").readlines()"
   ]
  },
  {
   "cell_type": "markdown",
   "metadata": {
    "colab_type": "text",
    "id": "zdZHxiwoLBBs",
    "slideshow": {
     "slide_type": "subslide"
    }
   },
   "source": [
    "И еще немного методов работы с файлом"
   ]
  },
  {
   "cell_type": "code",
   "execution_count": 130,
   "metadata": {
    "colab": {},
    "colab_type": "code",
    "id": "loDDAfRTLBBv",
    "outputId": "046eb973-0b3f-46bb-e5c6-646b48a872de",
    "slideshow": {
     "slide_type": "fragment"
    }
   },
   "outputs": [
    {
     "data": {
      "text/plain": [
       "44"
      ]
     },
     "execution_count": 130,
     "metadata": {},
     "output_type": "execute_result"
    }
   ],
   "source": [
    "file_handle = open(\"./data/example.txt\", \"r+\")\n",
    "file_handle.fileno() # file descriptor"
   ]
  },
  {
   "cell_type": "code",
   "execution_count": 123,
   "metadata": {
    "colab": {},
    "colab_type": "code",
    "id": "8zP8aFhXLBB4",
    "outputId": "e15e41ef-79ad-4ec7-bcd4-22e5a5d8c381",
    "slideshow": {
     "slide_type": "fragment"
    }
   },
   "outputs": [
    {
     "data": {
      "text/plain": [
       "0"
      ]
     },
     "execution_count": 123,
     "metadata": {},
     "output_type": "execute_result"
    }
   ],
   "source": [
    "file_handle.tell() # file object’s current position in bytes"
   ]
  },
  {
   "cell_type": "code",
   "execution_count": 126,
   "metadata": {
    "colab": {},
    "colab_type": "code",
    "id": "W_Lb-xhULBCF",
    "outputId": "e4fa8989-afbe-49e9-d27d-54650b4f73bf",
    "scrolled": false,
    "slideshow": {
     "slide_type": "fragment"
    }
   },
   "outputs": [
    {
     "ename": "ValueError",
     "evalue": "I/O operation on closed file.",
     "output_type": "error",
     "traceback": [
      "\u001b[0;31m---------------------------------------------------------------------------\u001b[0m",
      "\u001b[0;31mValueError\u001b[0m                                Traceback (most recent call last)",
      "\u001b[0;32m<ipython-input-126-abfc6e0f76f9>\u001b[0m in \u001b[0;36m<module>\u001b[0;34m\u001b[0m\n\u001b[0;32m----> 1\u001b[0;31m \u001b[0mfile_handle\u001b[0m\u001b[0;34m.\u001b[0m\u001b[0mseek\u001b[0m\u001b[0;34m(\u001b[0m\u001b[0;36m8\u001b[0m\u001b[0;34m)\u001b[0m\u001b[0;34m\u001b[0m\u001b[0;34m\u001b[0m\u001b[0m\n\u001b[0m\u001b[1;32m      2\u001b[0m \u001b[0mfile_handle\u001b[0m\u001b[0;34m.\u001b[0m\u001b[0mtell\u001b[0m\u001b[0;34m(\u001b[0m\u001b[0;34m)\u001b[0m\u001b[0;34m\u001b[0m\u001b[0;34m\u001b[0m\u001b[0m\n",
      "\u001b[0;31mValueError\u001b[0m: I/O operation on closed file."
     ]
    }
   ],
   "source": [
    "file_handle.seek(8)\n",
    "file_handle.tell()"
   ]
  },
  {
   "cell_type": "code",
   "execution_count": 156,
   "metadata": {
    "colab": {},
    "colab_type": "code",
    "id": "6weWtl_nLBCN",
    "slideshow": {
     "slide_type": "fragment"
    }
   },
   "outputs": [],
   "source": [
    "file_handle.write(\"something unimportant\")\n",
    "file_handle.flush() # Flush the write buffers of the stream\n",
    "file_handle.close()"
   ]
  },
  {
   "cell_type": "markdown",
   "metadata": {
    "colab_type": "text",
    "id": "i0UWuQcALBCX",
    "slideshow": {
     "slide_type": "subslide"
    }
   },
   "source": [
    "### Remember to close file! Always!"
   ]
  },
  {
   "cell_type": "markdown",
   "metadata": {
    "colab_type": "text",
    "id": "btEE_MLkLBCa",
    "slideshow": {
     "slide_type": "fragment"
    }
   },
   "source": [
    "And to do it in convenient way:"
   ]
  },
  {
   "cell_type": "code",
   "execution_count": 157,
   "metadata": {
    "colab": {},
    "colab_type": "code",
    "id": "vog3kxJmLBCe",
    "slideshow": {
     "slide_type": "fragment"
    }
   },
   "outputs": [],
   "source": [
    "with open(\"./data/example.txt\", \"r+\") as ouf:\n",
    "    ...\n",
    "    # do your stuff here and dont worry about file closing\n"
   ]
  },
  {
   "cell_type": "code",
   "execution_count": 45,
   "metadata": {},
   "outputs": [
    {
     "name": "stdout",
     "output_type": "stream",
     "text": [
      "['line1\\n', 'line2\\n', 'line3\\n', 'line4\\n', 'line5\\n']\n"
     ]
    }
   ],
   "source": [
    "from io import StringIO\n",
    "\n",
    "file_like = StringIO('line1\\nline2\\nline3\\nline4\\nline5\\n')\n",
    "\n",
    "print(file_like.readlines())"
   ]
  },
  {
   "cell_type": "markdown",
   "metadata": {
    "slideshow": {
     "slide_type": "slide"
    }
   },
   "source": [
    "### What we have learned\n",
    "* how to open file\n",
    "* how to work with file\n",
    "* what is file-like object"
   ]
  },
  {
   "cell_type": "markdown",
   "metadata": {
    "slideshow": {
     "slide_type": "slide"
    }
   },
   "source": [
    "<img src=\"images/q_3.png\" width=\"600\" height=\"500\">"
   ]
  },
  {
   "cell_type": "markdown",
   "metadata": {
    "slideshow": {
     "slide_type": "slide"
    }
   },
   "source": [
    "## Functions"
   ]
  },
  {
   "cell_type": "code",
   "execution_count": 16,
   "metadata": {
    "slideshow": {
     "slide_type": "fragment"
    }
   },
   "outputs": [],
   "source": [
    "def funny_function():\n",
    "    \"\"\"\"\"\"\n",
    "    ...\n",
    "    return 'to_the_blue_lagoon'"
   ]
  },
  {
   "cell_type": "markdown",
   "metadata": {
    "slideshow": {
     "slide_type": "fragment"
    }
   },
   "source": [
    "A function definition is an executable statement. Its execution binds the function name in the current local namespace to a function object (a wrapper around the executable code for the function). This function object contains a reference to the current global namespace as the global namespace to be used when the function is called."
   ]
  },
  {
   "cell_type": "code",
   "execution_count": 17,
   "metadata": {
    "slideshow": {
     "slide_type": "subslide"
    }
   },
   "outputs": [
    {
     "data": {
      "text/plain": [
       "'to_the_blue_lagoon'"
      ]
     },
     "execution_count": 17,
     "metadata": {},
     "output_type": "execute_result"
    }
   ],
   "source": [
    "funny_function()"
   ]
  },
  {
   "cell_type": "code",
   "execution_count": 18,
   "metadata": {
    "scrolled": true,
    "slideshow": {
     "slide_type": "fragment"
    }
   },
   "outputs": [
    {
     "data": {
      "text/plain": [
       "<function __main__.funny_function()>"
      ]
     },
     "execution_count": 18,
     "metadata": {},
     "output_type": "execute_result"
    }
   ],
   "source": [
    "funny_function"
   ]
  },
  {
   "cell_type": "code",
   "execution_count": 20,
   "metadata": {
    "slideshow": {
     "slide_type": "subslide"
    }
   },
   "outputs": [
    {
     "data": {
      "text/plain": [
       "['__annotations__',\n",
       " '__call__',\n",
       " '__class__',\n",
       " '__closure__',\n",
       " '__code__',\n",
       " '__defaults__',\n",
       " '__delattr__',\n",
       " '__dict__',\n",
       " '__dir__',\n",
       " '__doc__',\n",
       " '__eq__',\n",
       " '__format__',\n",
       " '__ge__',\n",
       " '__get__',\n",
       " '__getattribute__',\n",
       " '__globals__',\n",
       " '__gt__',\n",
       " '__hash__',\n",
       " '__init__',\n",
       " '__init_subclass__',\n",
       " '__kwdefaults__',\n",
       " '__le__',\n",
       " '__lt__',\n",
       " '__module__',\n",
       " '__name__',\n",
       " '__ne__',\n",
       " '__new__',\n",
       " '__qualname__',\n",
       " '__reduce__',\n",
       " '__reduce_ex__',\n",
       " '__repr__',\n",
       " '__setattr__',\n",
       " '__sizeof__',\n",
       " '__str__',\n",
       " '__subclasshook__']"
      ]
     },
     "execution_count": 20,
     "metadata": {},
     "output_type": "execute_result"
    }
   ],
   "source": [
    "dir(funny_function) # __dict__"
   ]
  },
  {
   "cell_type": "markdown",
   "metadata": {
    "slideshow": {
     "slide_type": "subslide"
    }
   },
   "source": [
    "### Naming constrains\n",
    "- latin letters \n",
    "- underscore `_`\n",
    "- digits 0-9, __but no at the begging!__"
   ]
  },
  {
   "cell_type": "code",
   "execution_count": 21,
   "metadata": {
    "slideshow": {
     "slide_type": "fragment"
    }
   },
   "outputs": [
    {
     "ename": "SyntaxError",
     "evalue": "invalid syntax (<ipython-input-21-735460777140>, line 1)",
     "output_type": "error",
     "traceback": [
      "\u001b[0;36m  File \u001b[0;32m\"<ipython-input-21-735460777140>\"\u001b[0;36m, line \u001b[0;32m1\u001b[0m\n\u001b[0;31m    def 1foo():\u001b[0m\n\u001b[0m        ^\u001b[0m\n\u001b[0;31mSyntaxError\u001b[0m\u001b[0;31m:\u001b[0m invalid syntax\n"
     ]
    }
   ],
   "source": [
    "def 1foo():\n",
    "    pass"
   ]
  },
  {
   "cell_type": "markdown",
   "metadata": {
    "slideshow": {
     "slide_type": "slide"
    }
   },
   "source": [
    "__return__ could be omitted. Be default returns None"
   ]
  },
  {
   "cell_type": "code",
   "execution_count": 71,
   "metadata": {
    "slideshow": {
     "slide_type": "fragment"
    }
   },
   "outputs": [
    {
     "name": "stdout",
     "output_type": "stream",
     "text": [
      "(1, 2, 3)\n"
     ]
    }
   ],
   "source": [
    "def foo():\n",
    "    a = 1, 2, 3\n",
    "    return 1, 2, 3\n",
    "\n",
    "print(foo())"
   ]
  },
  {
   "cell_type": "code",
   "execution_count": 16,
   "metadata": {
    "scrolled": true,
    "slideshow": {
     "slide_type": "fragment"
    }
   },
   "outputs": [
    {
     "name": "stdout",
     "output_type": "stream",
     "text": [
      "None\n",
      "None\n"
     ]
    }
   ],
   "source": [
    "print(print(foo()))"
   ]
  },
  {
   "cell_type": "markdown",
   "metadata": {
    "slideshow": {
     "slide_type": "slide"
    }
   },
   "source": [
    "Functions could have several __return__"
   ]
  },
  {
   "cell_type": "code",
   "execution_count": 26,
   "metadata": {
    "slideshow": {
     "slide_type": "fragment"
    }
   },
   "outputs": [
    {
     "name": "stdout",
     "output_type": "stream",
     "text": [
      "give you up\n",
      "run around and desert you\n"
     ]
    }
   ],
   "source": [
    "def never_gonna(what):\n",
    "    if what == 1:\n",
    "        return 'give you up'\n",
    "    if what == 2:\n",
    "        return 'let you down'\n",
    "    return 'run around and desert you'\n",
    "    return \"You wouldn't get this from any other guy\"\n",
    "    \n",
    "print(never_gonna(1))\n",
    "print(never_gonna(10))"
   ]
  },
  {
   "cell_type": "markdown",
   "metadata": {
    "slideshow": {
     "slide_type": "subslide"
    }
   },
   "source": [
    "For documentation use multi-line string literals"
   ]
  },
  {
   "cell_type": "code",
   "execution_count": 29,
   "metadata": {
    "slideshow": {
     "slide_type": "fragment"
    }
   },
   "outputs": [],
   "source": [
    "def creep():\n",
    "    \"\"\"I wish I was special\"\"\"\n",
    "    return \"sorry\""
   ]
  },
  {
   "cell_type": "markdown",
   "metadata": {
    "slideshow": {
     "slide_type": "subslide"
    }
   },
   "source": [
    "How to reveal documentation?"
   ]
  },
  {
   "cell_type": "code",
   "execution_count": 30,
   "metadata": {
    "slideshow": {
     "slide_type": "fragment"
    }
   },
   "outputs": [
    {
     "data": {
      "text/plain": [
       "'I wish I was special'"
      ]
     },
     "execution_count": 30,
     "metadata": {},
     "output_type": "execute_result"
    }
   ],
   "source": [
    "creep.__doc__\n"
   ]
  },
  {
   "cell_type": "code",
   "execution_count": 31,
   "metadata": {
    "slideshow": {
     "slide_type": "fragment"
    }
   },
   "outputs": [
    {
     "name": "stdout",
     "output_type": "stream",
     "text": [
      "Help on function creep in module __main__:\n",
      "\n",
      "creep()\n",
      "    I wish I was special\n",
      "\n"
     ]
    }
   ],
   "source": [
    "help(creep)"
   ]
  },
  {
   "cell_type": "code",
   "execution_count": 72,
   "metadata": {
    "slideshow": {
     "slide_type": "subslide"
    }
   },
   "outputs": [],
   "source": [
    "?help"
   ]
  },
  {
   "cell_type": "code",
   "execution_count": 33,
   "metadata": {
    "slideshow": {
     "slide_type": "fragment"
    }
   },
   "outputs": [
    {
     "data": {
      "text/plain": [
       "'I wish I was special'"
      ]
     },
     "execution_count": 33,
     "metadata": {},
     "output_type": "execute_result"
    }
   ],
   "source": [
    "from inspect import getdoc\n",
    "\n",
    "getdoc(creep)"
   ]
  },
  {
   "cell_type": "markdown",
   "metadata": {
    "slideshow": {
     "slide_type": "slide"
    }
   },
   "source": [
    "### Arguments"
   ]
  },
  {
   "cell_type": "markdown",
   "metadata": {
    "slideshow": {
     "slide_type": "subslide"
    }
   },
   "source": [
    "#### Positional arguments"
   ]
  },
  {
   "cell_type": "code",
   "execution_count": 28,
   "metadata": {
    "scrolled": true,
    "slideshow": {
     "slide_type": "fragment"
    }
   },
   "outputs": [
    {
     "data": {
      "text/plain": [
       "9.5"
      ]
     },
     "execution_count": 28,
     "metadata": {},
     "output_type": "execute_result"
    }
   ],
   "source": [
    "def avg(a, b):\n",
    "    return (a+b)/2\n",
    "\n",
    "avg(10, 9)"
   ]
  },
  {
   "cell_type": "markdown",
   "metadata": {
    "slideshow": {
     "slide_type": "subslide"
    }
   },
   "source": [
    "#### Keyword arguments"
   ]
  },
  {
   "cell_type": "code",
   "execution_count": 46,
   "metadata": {
    "slideshow": {
     "slide_type": "fragment"
    }
   },
   "outputs": [
    {
     "name": "stdout",
     "output_type": "stream",
     "text": [
      "10 scoop(s) with chocolate and syrup toping\n",
      "3 scoop(s) with strawberries and bananas and nut toping\n",
      "1 scoop(s) with vanilla and KETCHUP??!?!? toping\n"
     ]
    }
   ],
   "source": [
    "def order_an_ice_cream(scoop, toping=\"syrup\", flavor=\"chocolate\"):\n",
    "    return \"{} scoop(s) with {} and {} toping\".format(\n",
    "        scoop, flavor, toping\n",
    "    )\n",
    "\n",
    "\n",
    "print(order_an_ice_cream(10))\n",
    "print(order_an_ice_cream(3, \"nut\", \"strawberries and bananas\"))\n",
    "print(order_an_ice_cream(scoop=1, toping=\"KETCHUP??!?!?\", flavor=\"vanilla\"))"
   ]
  },
  {
   "cell_type": "code",
   "execution_count": 24,
   "metadata": {
    "scrolled": false,
    "slideshow": {
     "slide_type": "fragment"
    }
   },
   "outputs": [
    {
     "ename": "SyntaxError",
     "evalue": "positional argument follows keyword argument (<ipython-input-24-1eaced7ef92e>, line 1)",
     "output_type": "error",
     "traceback": [
      "\u001b[0;36m  File \u001b[0;32m\"<ipython-input-24-1eaced7ef92e>\"\u001b[0;36m, line \u001b[0;32m1\u001b[0m\n\u001b[0;31m    print(order_an_ice_cream(3, toping=\"nut\", \"strawberries and bananas\"))\u001b[0m\n\u001b[0m                                             ^\u001b[0m\n\u001b[0;31mSyntaxError\u001b[0m\u001b[0;31m:\u001b[0m positional argument follows keyword argument\n"
     ]
    }
   ],
   "source": [
    "order_an_ice_cream(3, toping=\"nut\", \"strawberries and bananas\")"
   ]
  },
  {
   "cell_type": "markdown",
   "metadata": {
    "slideshow": {
     "slide_type": "slide"
    }
   },
   "source": [
    "### Default arguments initialization"
   ]
  },
  {
   "cell_type": "code",
   "execution_count": 49,
   "metadata": {
    "scrolled": false,
    "slideshow": {
     "slide_type": "fragment"
    }
   },
   "outputs": [
    {
     "name": "stdout",
     "output_type": "stream",
     "text": [
      "[1]\n",
      "[1, 2]\n",
      "[1, 2, 3]\n",
      "['q', 1]\n",
      "[1, 2, 3, 1]\n"
     ]
    }
   ],
   "source": [
    "def foo(a, lst=[]):\n",
    "    \n",
    "    lst.append(a)\n",
    "    return lst\n",
    "\n",
    "\n",
    "print(foo(1))\n",
    "print(foo(2))\n",
    "print(foo(3))\n",
    "print(foo(1, ['q']))\n",
    "print(foo(1))"
   ]
  },
  {
   "cell_type": "markdown",
   "metadata": {
    "slideshow": {
     "slide_type": "fragment"
    }
   },
   "source": [
    "Question: when and how many times are default arguments initialized?"
   ]
  },
  {
   "cell_type": "markdown",
   "metadata": {
    "slideshow": {
     "slide_type": "subslide"
    }
   },
   "source": [
    "Default parameter values are evaluated from left to right when the function definition is executed"
   ]
  },
  {
   "cell_type": "code",
   "execution_count": 47,
   "metadata": {
    "slideshow": {
     "slide_type": "fragment"
    }
   },
   "outputs": [
    {
     "name": "stdout",
     "output_type": "stream",
     "text": [
      "[1]\n",
      "[2]\n",
      "[3]\n",
      "['q', 1]\n",
      "[2]\n"
     ]
    }
   ],
   "source": [
    "def foo(a, lst=None):\n",
    "    #  lst = lst or []\n",
    "    if lst is None:\n",
    "        lst = []\n",
    "        \n",
    "    lst.append(a)\n",
    "    return lst\n",
    "\n",
    "\n",
    "print(foo(1))\n",
    "print(foo(2))\n",
    "print(foo(3))\n",
    "print(foo(1, ['q']))\n",
    "print(foo(2))"
   ]
  },
  {
   "cell_type": "markdown",
   "metadata": {
    "slideshow": {
     "slide_type": "slide"
    }
   },
   "source": [
    "### Packing"
   ]
  },
  {
   "cell_type": "code",
   "execution_count": 13,
   "metadata": {
    "slideshow": {
     "slide_type": "fragment"
    }
   },
   "outputs": [],
   "source": [
    "def avg(*args):\n",
    "    return sum(args)/len(args)"
   ]
  },
  {
   "cell_type": "code",
   "execution_count": 14,
   "metadata": {
    "slideshow": {
     "slide_type": "fragment"
    }
   },
   "outputs": [
    {
     "data": {
      "text/plain": [
       "4.5"
      ]
     },
     "execution_count": 14,
     "metadata": {},
     "output_type": "execute_result"
    }
   ],
   "source": [
    "a = [i for i in range(10)]\n",
    "avg(*a)"
   ]
  },
  {
   "cell_type": "code",
   "execution_count": 39,
   "metadata": {
    "scrolled": false,
    "slideshow": {
     "slide_type": "fragment"
    }
   },
   "outputs": [
    {
     "ename": "ZeroDivisionError",
     "evalue": "division by zero",
     "output_type": "error",
     "traceback": [
      "\u001b[0;31m---------------------------------------------------------------------------\u001b[0m",
      "\u001b[0;31mZeroDivisionError\u001b[0m                         Traceback (most recent call last)",
      "\u001b[0;32m<ipython-input-39-f5d909301850>\u001b[0m in \u001b[0;36m<module>\u001b[0;34m\u001b[0m\n\u001b[0;32m----> 1\u001b[0;31m \u001b[0mavg\u001b[0m\u001b[0;34m(\u001b[0m\u001b[0;34m)\u001b[0m\u001b[0;34m\u001b[0m\u001b[0;34m\u001b[0m\u001b[0m\n\u001b[0m",
      "\u001b[0;32m<ipython-input-37-983fe2e3ee7a>\u001b[0m in \u001b[0;36mavg\u001b[0;34m(*args)\u001b[0m\n\u001b[1;32m      1\u001b[0m \u001b[0;32mdef\u001b[0m \u001b[0mavg\u001b[0m\u001b[0;34m(\u001b[0m\u001b[0;34m*\u001b[0m\u001b[0margs\u001b[0m\u001b[0;34m)\u001b[0m\u001b[0;34m:\u001b[0m\u001b[0;34m\u001b[0m\u001b[0;34m\u001b[0m\u001b[0m\n\u001b[0;32m----> 2\u001b[0;31m     \u001b[0;32mreturn\u001b[0m \u001b[0msum\u001b[0m\u001b[0;34m(\u001b[0m\u001b[0margs\u001b[0m\u001b[0;34m)\u001b[0m\u001b[0;34m/\u001b[0m\u001b[0mlen\u001b[0m\u001b[0;34m(\u001b[0m\u001b[0margs\u001b[0m\u001b[0;34m)\u001b[0m\u001b[0;34m\u001b[0m\u001b[0;34m\u001b[0m\u001b[0m\n\u001b[0m",
      "\u001b[0;31mZeroDivisionError\u001b[0m: division by zero"
     ]
    }
   ],
   "source": [
    "avg()"
   ]
  },
  {
   "cell_type": "code",
   "execution_count": 17,
   "metadata": {
    "slideshow": {
     "slide_type": "subslide"
    }
   },
   "outputs": [
    {
     "name": "stdout",
     "output_type": "stream",
     "text": [
      "<class 'tuple'>\n",
      "(1, 2, 4)\n",
      "1; 2; 4\n",
      "<class 'tuple'>\n",
      "(1,)\n"
     ]
    },
    {
     "data": {
      "text/plain": [
       "'1'"
      ]
     },
     "execution_count": 17,
     "metadata": {},
     "output_type": "execute_result"
    }
   ],
   "source": [
    "def foo_with_args(first, *args):\n",
    "    print(type(args))\n",
    "    arguments = (first,) + args\n",
    "    print(arguments)\n",
    "    return '; '.join(map(str, arguments))\n",
    "\n",
    "print(foo_with_args(1, 2, 4))\n",
    "foo_with_args(1)"
   ]
  },
  {
   "cell_type": "code",
   "execution_count": 19,
   "metadata": {
    "scrolled": true,
    "slideshow": {
     "slide_type": "subslide"
    }
   },
   "outputs": [
    {
     "name": "stdout",
     "output_type": "stream",
     "text": [
      "1 10 100\n",
      "1 10 100 ('param', True)\n",
      "1 10 100 ('param', True) ('not_param', False)\n"
     ]
    }
   ],
   "source": [
    "def foo_with_args_and_kwargs(first, *args, **kwargs):\n",
    "    return [first, *args, *((k, v) for k,v in kwargs.items())]\n",
    "\n",
    "\n",
    "print(*foo_with_args_and_kwargs(1, 10, 100))\n",
    "print(*foo_with_args_and_kwargs(1, 10, 100, **{'param': True}))\n",
    "\n",
    "some_dict = {'param': True, 'not_param': False}\n",
    "\n",
    "print(*foo_with_args_and_kwargs(1, 10, 100, **some_dict))"
   ]
  },
  {
   "cell_type": "markdown",
   "metadata": {
    "slideshow": {
     "slide_type": "slide"
    }
   },
   "source": [
    "### keyword only arguments\n",
    "\n",
    "\n",
    "To mark parameters as keyword-only, indicating the parameters must be passed by keyword argument, place an * in the arguments list just before the first keyword-only parameter."
   ]
  },
  {
   "cell_type": "code",
   "execution_count": 167,
   "metadata": {
    "scrolled": true,
    "slideshow": {
     "slide_type": "fragment"
    }
   },
   "outputs": [
    {
     "name": "stdout",
     "output_type": "stream",
     "text": [
      "(1, 'password=yeeea')\n"
     ]
    },
    {
     "ename": "TypeError",
     "evalue": "obey_me() takes 1 positional argument but 2 were given",
     "output_type": "error",
     "traceback": [
      "\u001b[0;31m-----------------------------------------------------\u001b[0m",
      "\u001b[0;31mTypeError\u001b[0m           Traceback (most recent call last)",
      "\u001b[0;32m<ipython-input-167-9ab327248936>\u001b[0m in \u001b[0;36m<module>\u001b[0;34m\u001b[0m\n\u001b[1;32m      3\u001b[0m \u001b[0;34m\u001b[0m\u001b[0m\n\u001b[1;32m      4\u001b[0m \u001b[0mprint\u001b[0m\u001b[0;34m(\u001b[0m\u001b[0mobey_me\u001b[0m\u001b[0;34m(\u001b[0m\u001b[0;36m1\u001b[0m\u001b[0;34m,\u001b[0m \u001b[0mpassword\u001b[0m\u001b[0;34m=\u001b[0m\u001b[0;34m'yeeea'\u001b[0m\u001b[0;34m)\u001b[0m\u001b[0;34m)\u001b[0m\u001b[0;34m\u001b[0m\u001b[0;34m\u001b[0m\u001b[0m\n\u001b[0;32m----> 5\u001b[0;31m \u001b[0mobey_me\u001b[0m\u001b[0;34m(\u001b[0m\u001b[0;36m1\u001b[0m\u001b[0;34m,\u001b[0m \u001b[0;34m'noooo'\u001b[0m\u001b[0;34m)\u001b[0m\u001b[0;34m\u001b[0m\u001b[0;34m\u001b[0m\u001b[0m\n\u001b[0m",
      "\u001b[0;31mTypeError\u001b[0m: obey_me() takes 1 positional argument but 2 were given"
     ]
    }
   ],
   "source": [
    "def obey_me(param, *, password=None):\n",
    "    return param, f'password={password}'\n",
    "\n",
    "print(obey_me(1, password='yeeea'))\n",
    "obey_me(1, 'noooo')"
   ]
  },
  {
   "cell_type": "markdown",
   "metadata": {
    "slideshow": {
     "slide_type": "subslide"
    }
   },
   "source": [
    "One more function attribute"
   ]
  },
  {
   "cell_type": "code",
   "execution_count": 169,
   "metadata": {
    "slideshow": {
     "slide_type": "fragment"
    }
   },
   "outputs": [
    {
     "data": {
      "text/plain": [
       "{'password': None}"
      ]
     },
     "execution_count": 169,
     "metadata": {},
     "output_type": "execute_result"
    }
   ],
   "source": [
    "obey_me.__kwdefaults__"
   ]
  },
  {
   "cell_type": "markdown",
   "metadata": {
    "slideshow": {
     "slide_type": "subslide"
    }
   },
   "source": [
    "Since python 3.8:\n",
    "\n",
    "Looking at this in a bit more detail, it is possible to mark certain parameters as positional-only. If positional-only, the parameters’ order matters, and the parameters cannot be passed by keyword. Positional-only parameters are placed before a `/` (forward-slash). The `/` is used to logically separate the positional-only parameters from the rest of the parameters. If there is no / in the function definition, there are no positional-only parameters.\n",
    "\n",
    "Parameters following the `/` may be positional-or-keyword or keyword-only.\n",
    "\n"
   ]
  },
  {
   "cell_type": "code",
   "execution_count": null,
   "metadata": {
    "slideshow": {
     "slide_type": "fragment"
    }
   },
   "outputs": [],
   "source": [
    "def f(pos1, pos2, /, pos_or_kwd, *, kwd1, kwd2):\n",
    "      -----------    ----------     ----------\n",
    "        |             |                  |\n",
    "        |        Positional or keyword   |\n",
    "        |                                - Keyword only\n",
    "         -- Positional only\n",
    "            "
   ]
  },
  {
   "cell_type": "code",
   "execution_count": 73,
   "metadata": {
    "slideshow": {
     "slide_type": "subslide"
    }
   },
   "outputs": [
    {
     "ename": "SyntaxError",
     "evalue": "invalid syntax (<ipython-input-73-8d1ea1011c12>, line 12)",
     "output_type": "error",
     "traceback": [
      "\u001b[0;36m  File \u001b[0;32m\"<ipython-input-73-8d1ea1011c12>\"\u001b[0;36m, line \u001b[0;32m12\u001b[0m\n\u001b[0;31m    def calc_for_two_numbers(x, y, /, operator='+'):\u001b[0m\n\u001b[0m                                   ^\u001b[0m\n\u001b[0;31mSyntaxError\u001b[0m\u001b[0;31m:\u001b[0m invalid syntax\n"
     ]
    }
   ],
   "source": [
    "import operator\n",
    "\n",
    "\n",
    "OPERATORS = {\n",
    "    '+': operator.add,\n",
    "    '-': operator.sub,\n",
    "    '*': operator.mul,\n",
    "    '/': operator.floordiv,\n",
    "}\n",
    "\n",
    "\n",
    "def calc_for_two_numbers(x, y, /, operator='+'):\n",
    "    op = OPERATORS[operator]\n",
    "    return op(x, y)\n",
    "\n",
    "\n",
    "calc_for_two_numbers(2, 2, '*')\n",
    "calc_for_two_numbers(x=2, y=2, operator='*')  # invalid, will raise a TypeError"
   ]
  },
  {
   "cell_type": "markdown",
   "metadata": {
    "slideshow": {
     "slide_type": "subslide"
    }
   },
   "source": [
    "### Callable"
   ]
  },
  {
   "cell_type": "markdown",
   "metadata": {
    "slideshow": {
     "slide_type": "fragment"
    }
   },
   "source": [
    "Call function means to call `__call__` method. `add(1, 2)` == `add.__call__(1, 2)`"
   ]
  },
  {
   "cell_type": "markdown",
   "metadata": {
    "slideshow": {
     "slide_type": "fragment"
    }
   },
   "source": [
    "* user-defined functions\n",
    "* built-in functions \n",
    "* methods of built-in objects\n",
    "* class objects\n",
    "* methods of class instances\n",
    "* all objects having a `__call__` method are callable"
   ]
  },
  {
   "cell_type": "markdown",
   "metadata": {
    "slideshow": {
     "slide_type": "fragment"
    }
   },
   "source": [
    "Defining function like ```def funcname(parameters):``` you actually creates new object with defined `__call__` method."
   ]
  },
  {
   "cell_type": "markdown",
   "metadata": {
    "slideshow": {
     "slide_type": "subslide"
    }
   },
   "source": [
    "### Check if objects is `callable`"
   ]
  },
  {
   "cell_type": "code",
   "execution_count": 7,
   "metadata": {
    "slideshow": {
     "slide_type": "fragment"
    }
   },
   "outputs": [
    {
     "name": "stdout",
     "output_type": "stream",
     "text": [
      "True False True\n"
     ]
    }
   ],
   "source": [
    "print(callable(len), callable(45), callable(callable))"
   ]
  },
  {
   "cell_type": "markdown",
   "metadata": {
    "slideshow": {
     "slide_type": "slide"
    }
   },
   "source": [
    "### Function attributes"
   ]
  },
  {
   "cell_type": "markdown",
   "metadata": {
    "slideshow": {
     "slide_type": "subslide"
    }
   },
   "source": [
    "* `__doc__`\n",
    "\n",
    "* The function’s documentation string, or None if unavailable; not inherited by subclasses.\n",
    "\n",
    "* Writable"
   ]
  },
  {
   "cell_type": "code",
   "execution_count": 97,
   "metadata": {
    "slideshow": {
     "slide_type": "fragment"
    }
   },
   "outputs": [
    {
     "name": "stdout",
     "output_type": "stream",
     "text": [
      "\n",
      "    Basically this function does nothing, even has no body except \n",
      "    this docstring. But this is totally valid function.\n",
      "    \n",
      "    :returns: None\n",
      "    \n",
      "Basically this function does nothing, even has no body except \n",
      "this docstring. But this is totally valid function.\n",
      "\n",
      ":returns: None\n"
     ]
    }
   ],
   "source": [
    "from inspect import cleandoc\n",
    "\n",
    "\n",
    "def foo():\n",
    "    \"\"\"\n",
    "    Basically this function does nothing. Body of this fucntion \n",
    "    cosist only of docstring. But this is a totally valid function.\n",
    "    \n",
    "    :returns: None\n",
    "    \"\"\"\n",
    "\n",
    "\n",
    "foo()\n",
    "print(foo.__doc__)\n",
    "foo.__doc__ = cleandoc(foo.__doc__)\n",
    "print(foo.__doc__)"
   ]
  },
  {
   "cell_type": "markdown",
   "metadata": {
    "slideshow": {
     "slide_type": "subslide"
    }
   },
   "source": [
    "\n",
    "* `__name__`\n",
    "\n",
    "* The function’s name.\n",
    "\n",
    "* Writable"
   ]
  },
  {
   "cell_type": "code",
   "execution_count": 132,
   "metadata": {
    "slideshow": {
     "slide_type": "fragment"
    }
   },
   "outputs": [
    {
     "name": "stdout",
     "output_type": "stream",
     "text": [
      "foo\n",
      "23217db8774c4ba5906f1b096c10e5e4\n"
     ]
    },
    {
     "ename": "TypeError",
     "evalue": "__name__ must be set to a string object",
     "output_type": "error",
     "traceback": [
      "\u001b[0;31m---------------------------------------------------------------------------\u001b[0m",
      "\u001b[0;31mTypeError\u001b[0m                                 Traceback (most recent call last)",
      "\u001b[0;32m<ipython-input-132-18576fa14ecd>\u001b[0m in \u001b[0;36m<module>\u001b[0;34m\u001b[0m\n\u001b[1;32m      9\u001b[0m \u001b[0mfoo\u001b[0m\u001b[0;34m.\u001b[0m\u001b[0m__name__\u001b[0m \u001b[0;34m=\u001b[0m \u001b[0muuid\u001b[0m\u001b[0;34m.\u001b[0m\u001b[0muuid4\u001b[0m\u001b[0;34m(\u001b[0m\u001b[0;34m)\u001b[0m\u001b[0;34m.\u001b[0m\u001b[0mhex\u001b[0m\u001b[0;34m\u001b[0m\u001b[0;34m\u001b[0m\u001b[0m\n\u001b[1;32m     10\u001b[0m \u001b[0mprint\u001b[0m\u001b[0;34m(\u001b[0m\u001b[0mfoo\u001b[0m\u001b[0;34m.\u001b[0m\u001b[0m__name__\u001b[0m\u001b[0;34m)\u001b[0m\u001b[0;34m\u001b[0m\u001b[0;34m\u001b[0m\u001b[0m\n\u001b[0;32m---> 11\u001b[0;31m \u001b[0mfoo\u001b[0m\u001b[0;34m.\u001b[0m\u001b[0m__name__\u001b[0m \u001b[0;34m=\u001b[0m \u001b[0mobject\u001b[0m\u001b[0;34m(\u001b[0m\u001b[0;34m)\u001b[0m\u001b[0;34m\u001b[0m\u001b[0;34m\u001b[0m\u001b[0m\n\u001b[0m",
      "\u001b[0;31mTypeError\u001b[0m: __name__ must be set to a string object"
     ]
    }
   ],
   "source": [
    "import uuid\n",
    "\n",
    "\n",
    "def foo():\n",
    "    ...\n",
    "\n",
    "    \n",
    "print(foo.__name__)\n",
    "foo.__name__ = uuid.uuid4().hex\n",
    "print(foo.__name__)\n",
    "foo.__name__ = object()\n"
   ]
  },
  {
   "cell_type": "markdown",
   "metadata": {
    "slideshow": {
     "slide_type": "subslide"
    }
   },
   "source": [
    "* `__qualname__`\n",
    "\n",
    "* The function’s qualified name.\n",
    "\n",
    "* Writable\n",
    "\n",
    "A dotted name showing the “path” from a module’s global scope to a class, function or method defined in that module, as defined in PEP 3155. For top-level functions and classes, the qualified name is the same as the object’s name:"
   ]
  },
  {
   "cell_type": "code",
   "execution_count": 104,
   "metadata": {
    "slideshow": {
     "slide_type": "fragment"
    }
   },
   "outputs": [
    {
     "data": {
      "text/plain": [
       "'foo.<locals>.goo'"
      ]
     },
     "execution_count": 104,
     "metadata": {},
     "output_type": "execute_result"
    }
   ],
   "source": [
    "def foo():\n",
    "    def bar():\n",
    "        return\n",
    "    return bar\n",
    "\n",
    "\n",
    "foo().__qualname__"
   ]
  },
  {
   "cell_type": "markdown",
   "metadata": {
    "slideshow": {
     "slide_type": "subslide"
    }
   },
   "source": [
    "* `__module__`\n",
    "\n",
    "* The name of the module the function was defined in, or None if unavailable.\n",
    "\n",
    "* Writable"
   ]
  },
  {
   "cell_type": "code",
   "execution_count": 105,
   "metadata": {
    "slideshow": {
     "slide_type": "fragment"
    }
   },
   "outputs": [
    {
     "name": "stdout",
     "output_type": "stream",
     "text": [
      "__main__\n"
     ]
    }
   ],
   "source": [
    "def foo():\n",
    "    ...\n",
    "\n",
    "    \n",
    "print(foo.__module__)"
   ]
  },
  {
   "cell_type": "code",
   "execution_count": 106,
   "metadata": {
    "slideshow": {
     "slide_type": "fragment"
    }
   },
   "outputs": [
    {
     "data": {
      "text/plain": [
       "'functools'"
      ]
     },
     "execution_count": 106,
     "metadata": {},
     "output_type": "execute_result"
    }
   ],
   "source": [
    "from functools import partial\n",
    "\n",
    "\n",
    "partial.__module__"
   ]
  },
  {
   "cell_type": "markdown",
   "metadata": {
    "slideshow": {
     "slide_type": "subslide"
    }
   },
   "source": [
    "* `__code__`\n",
    "\n",
    "* The code object representing the compiled function body.\n",
    "\n",
    "* Writable"
   ]
  },
  {
   "cell_type": "code",
   "execution_count": 75,
   "metadata": {
    "slideshow": {
     "slide_type": "fragment"
    }
   },
   "outputs": [
    {
     "ename": "TypeError",
     "evalue": "foo() missing 1 required positional argument: 'a'",
     "output_type": "error",
     "traceback": [
      "\u001b[0;31m---------------------------------------------------------------------------\u001b[0m",
      "\u001b[0;31mTypeError\u001b[0m                                 Traceback (most recent call last)",
      "\u001b[0;32m<ipython-input-75-2487dc2c8096>\u001b[0m in \u001b[0;36m<module>\u001b[0;34m\u001b[0m\n\u001b[1;32m      6\u001b[0m \u001b[0;34m\u001b[0m\u001b[0m\n\u001b[1;32m      7\u001b[0m \u001b[0;34m\u001b[0m\u001b[0m\n\u001b[0;32m----> 8\u001b[0;31m \u001b[0meval\u001b[0m\u001b[0;34m(\u001b[0m\u001b[0mfoo\u001b[0m\u001b[0;34m.\u001b[0m\u001b[0m__code__\u001b[0m\u001b[0;34m)\u001b[0m\u001b[0;34m\u001b[0m\u001b[0;34m\u001b[0m\u001b[0m\n\u001b[0m\u001b[1;32m      9\u001b[0m \u001b[0mfoo\u001b[0m\u001b[0;34m.\u001b[0m\u001b[0m__code__\u001b[0m\u001b[0;34m(\u001b[0m\u001b[0ma\u001b[0m\u001b[0;34m=\u001b[0m\u001b[0;34m[\u001b[0m\u001b[0;36m1\u001b[0m\u001b[0;34m,\u001b[0m\u001b[0;36m2\u001b[0m\u001b[0;34m]\u001b[0m\u001b[0;34m)\u001b[0m\u001b[0;34m\u001b[0m\u001b[0;34m\u001b[0m\u001b[0m\n",
      "\u001b[0;31mTypeError\u001b[0m: foo() missing 1 required positional argument: 'a'"
     ]
    }
   ],
   "source": [
    "from typing import List\n",
    "\n",
    "\n",
    "def foo():\n",
    "    return 'return value'\n",
    "\n",
    "\n",
    "eval(foo.__code__)\n",
    "foo.__code__"
   ]
  },
  {
   "cell_type": "markdown",
   "metadata": {
    "slideshow": {
     "slide_type": "subslide"
    }
   },
   "source": [
    "* `__globals__`\n",
    "\n",
    "* A reference to the dictionary that holds the function’s global variables — the global namespace of the module in which the function was defined.\n",
    "\n",
    "* Read-only"
   ]
  },
  {
   "cell_type": "markdown",
   "metadata": {
    "slideshow": {
     "slide_type": "subslide"
    }
   },
   "source": [
    "<img src=\"images/ipython_output.png\" width=\"1600\" height=\"1500\">"
   ]
  },
  {
   "cell_type": "markdown",
   "metadata": {
    "colab_type": "text",
    "id": "nm8Moh-MKLza",
    "slideshow": {
     "slide_type": "slide"
    }
   },
   "source": [
    "### SCOPES"
   ]
  },
  {
   "cell_type": "markdown",
   "metadata": {
    "colab_type": "text",
    "id": "oACkehfHKLzg",
    "slideshow": {
     "slide_type": "slide"
    }
   },
   "source": [
    "Namespaces – associating variables with objects. Hopefully without mistakes.\n",
    "\n",
    "Namespace ~= dict\n",
    "<img src='./images/namespaces.png' style='float: right;width:70%'>"
   ]
  },
  {
   "cell_type": "markdown",
   "metadata": {
    "colab_type": "text",
    "id": "MRXs77MhKLzj",
    "slideshow": {
     "slide_type": "slide"
    }
   },
   "source": [
    "<img src='./images/python_namespace.png' style='float:right;width:70%;height:70%'>"
   ]
  },
  {
   "cell_type": "code",
   "execution_count": 2,
   "metadata": {
    "colab": {},
    "colab_type": "code",
    "id": "aepyBwqqKLzp",
    "outputId": "e4e7c71e-3797-497c-cb27-1a765b891065",
    "slideshow": {
     "slide_type": "fragment"
    }
   },
   "outputs": [
    {
     "name": "stdout",
     "output_type": "stream",
     "text": [
      "spam and eggs\n",
      "spam and eggs\n",
      "140714621322480\n",
      "140714621322480\n"
     ]
    }
   ],
   "source": [
    "spam = 'spam and eggs'\n",
    "eggs = spam\n",
    " \n",
    "print(spam)  # spam and eggs\n",
    "print(eggs)  # spam and eggs\n",
    "\n",
    "print(id(spam)) \n",
    "print(id(eggs))"
   ]
  },
  {
   "cell_type": "markdown",
   "metadata": {
    "colab_type": "text",
    "id": "xD5t00NgKLz2",
    "slideshow": {
     "slide_type": "slide"
    }
   },
   "source": [
    "### Encapsulation and scoping"
   ]
  },
  {
   "cell_type": "markdown",
   "metadata": {
    "colab_type": "text",
    "id": "xPoVyboCKLz5",
    "slideshow": {
     "slide_type": "subslide"
    }
   },
   "source": [
    "Enclosing – ability for function to use variables that not belongs to "
   ]
  },
  {
   "cell_type": "code",
   "execution_count": 19,
   "metadata": {
    "slideshow": {
     "slide_type": "fragment"
    }
   },
   "outputs": [
    {
     "name": "stdout",
     "output_type": "stream",
     "text": [
      "spam and eggs\n"
     ]
    }
   ],
   "source": [
    "def spam():\n",
    "    eggs = 'spam and eggs'    \n",
    "    def cantine():\n",
    "        print(eggs)\n",
    "    cantine()\n",
    "    \n",
    "spam()\n"
   ]
  },
  {
   "cell_type": "code",
   "execution_count": 21,
   "metadata": {
    "colab": {},
    "colab_type": "code",
    "id": "98fth9wyKL0F",
    "outputId": "59844548-49be-468d-82a6-abcdd43f222f",
    "slideshow": {
     "slide_type": "fragment"
    }
   },
   "outputs": [
    {
     "name": "stdout",
     "output_type": "stream",
     "text": [
      "spam and eggs\n"
     ]
    }
   ],
   "source": [
    "def spam():\n",
    "    print(eggs)\n",
    " \n",
    "eggs = 'spam and eggs'\n",
    "spam()  # spam and eggs"
   ]
  },
  {
   "cell_type": "code",
   "execution_count": 1,
   "metadata": {
    "colab": {},
    "colab_type": "code",
    "id": "Y7QLEiXVKLz9",
    "outputId": "1a1225f6-5aa6-47d1-a848-cd34ba0dd7ad",
    "scrolled": true,
    "slideshow": {
     "slide_type": "subslide"
    }
   },
   "outputs": [
    {
     "name": "stdout",
     "output_type": "stream",
     "text": [
      "spam and eggs\n"
     ]
    },
    {
     "ename": "NameError",
     "evalue": "name 'eggs' is not defined",
     "output_type": "error",
     "traceback": [
      "\u001b[0;31m---------------------------------------------------------------------------\u001b[0m",
      "\u001b[0;31mNameError\u001b[0m                                 Traceback (most recent call last)",
      "\u001b[0;32m<ipython-input-1-ae7795babba4>\u001b[0m in \u001b[0;36m<module>\u001b[0;34m\u001b[0m\n\u001b[1;32m      4\u001b[0m \u001b[0;34m\u001b[0m\u001b[0m\n\u001b[1;32m      5\u001b[0m \u001b[0mspam\u001b[0m\u001b[0;34m(\u001b[0m\u001b[0;34m)\u001b[0m       \u001b[0;31m# spam and eggs\u001b[0m\u001b[0;34m\u001b[0m\u001b[0;34m\u001b[0m\u001b[0m\n\u001b[0;32m----> 6\u001b[0;31m \u001b[0mprint\u001b[0m\u001b[0;34m(\u001b[0m\u001b[0meggs\u001b[0m\u001b[0;34m)\u001b[0m  \u001b[0;31m# raises a NameError exception\u001b[0m\u001b[0;34m\u001b[0m\u001b[0;34m\u001b[0m\u001b[0m\n\u001b[0m",
      "\u001b[0;31mNameError\u001b[0m: name 'eggs' is not defined"
     ]
    }
   ],
   "source": [
    "def spam():\n",
    "    eggs = 'spam and eggs'\n",
    "    print(eggs)\n",
    " \n",
    "spam()       # spam and eggs\n",
    "print(eggs)  # raises a NameError exception"
   ]
  },
  {
   "cell_type": "markdown",
   "metadata": {
    "colab_type": "text",
    "id": "pFqHQYYhKL0P",
    "slideshow": {
     "slide_type": "subslide"
    }
   },
   "source": [
    "### Initializing new object we do create new namespace"
   ]
  },
  {
   "cell_type": "code",
   "execution_count": 21,
   "metadata": {
    "slideshow": {
     "slide_type": "skip"
    }
   },
   "outputs": [],
   "source": [
    "del eggs"
   ]
  },
  {
   "cell_type": "code",
   "execution_count": 149,
   "metadata": {
    "colab": {},
    "colab_type": "code",
    "id": "cbHTCNA9KL0R",
    "outputId": "ee2e9830-603e-49d8-9eeb-2965313cf80a",
    "slideshow": {
     "slide_type": "fragment"
    }
   },
   "outputs": [
    {
     "name": "stdout",
     "output_type": "stream",
     "text": [
      "2\n"
     ]
    },
    {
     "ename": "NameError",
     "evalue": "name 'eggs' is not defined",
     "output_type": "error",
     "traceback": [
      "\u001b[0;31m---------------------------------------------------------------------------\u001b[0m",
      "\u001b[0;31mNameError\u001b[0m                                 Traceback (most recent call last)",
      "\u001b[0;32m<ipython-input-149-7e5d39d35a86>\u001b[0m in \u001b[0;36m<module>\u001b[0;34m\u001b[0m\n\u001b[1;32m      4\u001b[0m \u001b[0mmy_meal\u001b[0m \u001b[0;34m=\u001b[0m \u001b[0mMeal\u001b[0m\u001b[0;34m(\u001b[0m\u001b[0;34m)\u001b[0m\u001b[0;34m\u001b[0m\u001b[0;34m\u001b[0m\u001b[0m\n\u001b[1;32m      5\u001b[0m \u001b[0mprint\u001b[0m\u001b[0;34m(\u001b[0m\u001b[0mmy_meal\u001b[0m\u001b[0;34m.\u001b[0m\u001b[0meggs\u001b[0m\u001b[0;34m)\u001b[0m    \u001b[0;31m# 2\u001b[0m\u001b[0;34m\u001b[0m\u001b[0;34m\u001b[0m\u001b[0m\n\u001b[0;32m----> 6\u001b[0;31m \u001b[0mprint\u001b[0m\u001b[0;34m(\u001b[0m\u001b[0meggs\u001b[0m\u001b[0;34m)\u001b[0m            \u001b[0;31m# raises a NameError exception\u001b[0m\u001b[0;34m\u001b[0m\u001b[0;34m\u001b[0m\u001b[0m\n\u001b[0m",
      "\u001b[0;31mNameError\u001b[0m: name 'eggs' is not defined"
     ]
    }
   ],
   "source": [
    "class Meal:\n",
    "    eggs = 2\n",
    "  \n",
    "my_meal = Meal()\n",
    "print(my_meal.eggs)    # 2\n",
    "print(eggs)            # raises a NameError exception"
   ]
  },
  {
   "cell_type": "markdown",
   "metadata": {
    "colab_type": "text",
    "id": "HDqTUaU8KL0f",
    "slideshow": {
     "slide_type": "subslide"
    }
   },
   "source": [
    "###### To see what is in object namespace == `__dict__`, or ` vars()`"
   ]
  },
  {
   "cell_type": "code",
   "execution_count": 56,
   "metadata": {
    "colab": {},
    "colab_type": "code",
    "id": "dl7q7efXKL0h",
    "outputId": "2e1c7295-0342-4eb3-9106-b15dfec633df",
    "slideshow": {
     "slide_type": "fragment"
    }
   },
   "outputs": [
    {
     "data": {
      "text/plain": [
       "{'eggs': 2}"
      ]
     },
     "execution_count": 56,
     "metadata": {},
     "output_type": "execute_result"
    }
   ],
   "source": [
    "vars(my_meal)"
   ]
  },
  {
   "cell_type": "markdown",
   "metadata": {
    "colab_type": "text",
    "id": "VypVnTuBKL1E",
    "slideshow": {
     "slide_type": "slide"
    }
   },
   "source": [
    "### LEGB"
   ]
  },
  {
   "cell_type": "markdown",
   "metadata": {
    "colab_type": "text",
    "id": "6uF7xPByKL1F",
    "slideshow": {
     "slide_type": "subslide"
    }
   },
   "source": [
    "#### Name lookup is going no more than in 4 scopes: local -> enclosing -> global and built-id\n",
    "\n",
    "<img src='./images/python_namespaces_legb.jpg' style='float: right'>\n"
   ]
  },
  {
   "cell_type": "markdown",
   "metadata": {
    "colab_type": "text",
    "id": "WS-x0f-QKL1I",
    "slideshow": {
     "slide_type": "subslide"
    }
   },
   "source": [
    "<div style='float:left;width:40%;font-size:25px'>\n",
    "<b>Local</b>– Names which are assigned within a function.\n",
    "\n",
    "<b>Enclosing</b> – Names which are assigned in a closure (function in a function)\n",
    "\n",
    "<b>Global</b> – Names which are assigned at the top-level of a module, for example on the top-level of your Python file\n",
    "\n",
    "<b>Built-in</b> – Names which are standard Python built-ins, such as open, import, print, return, Exception</div>\n",
    "\n",
    "<img src='./images/python_namespaces_code.jpg' style='float:right;width:60%' >\n"
   ]
  },
  {
   "cell_type": "code",
   "execution_count": 23,
   "metadata": {
    "scrolled": true,
    "slideshow": {
     "slide_type": "subslide"
    }
   },
   "outputs": [
    {
     "name": "stdout",
     "output_type": "stream",
     "text": [
      "inner_var 1\n",
      "var variable\n",
      "global_var 0\n",
      "func <function func at 0x7fa18f705c80>\n"
     ]
    }
   ],
   "source": [
    "global_var = 0\n",
    "\n",
    "def func():\n",
    "    var = 'variable'\n",
    "    \n",
    "    def print_vars():\n",
    "        inner_var = 1 \n",
    "        print('inner_var', inner_var) # local\n",
    "        print('var', var) # enclosing\n",
    "        print('global_var', global_var) # global\n",
    "        print('func', func)\n",
    "\n",
    "    print_vars()\n",
    "\n",
    "func()"
   ]
  },
  {
   "cell_type": "code",
   "execution_count": 30,
   "metadata": {
    "slideshow": {
     "slide_type": "subslide"
    }
   },
   "outputs": [
    {
     "name": "stdout",
     "output_type": "stream",
     "text": [
      "  4           0 LOAD_CONST               1 ('variable')\n",
      "              2 STORE_DEREF              0 (var)\n",
      "\n",
      "  6           4 LOAD_CLOSURE             0 (var)\n",
      "              6 BUILD_TUPLE              1\n",
      "              8 LOAD_CONST               2 (<code object print_vars at 0x7fe4a4352420, file \"<ipython-input-29-9aac0c951ca1>\", line 6>)\n",
      "             10 LOAD_CONST               3 ('func.<locals>.print_vars')\n",
      "             12 MAKE_FUNCTION            8\n",
      "             14 STORE_FAST               0 (print_vars)\n",
      "\n",
      " 12          16 LOAD_FAST                0 (print_vars)\n",
      "             18 CALL_FUNCTION            0\n",
      "             20 POP_TOP\n",
      "             22 LOAD_CONST               0 (None)\n",
      "             24 RETURN_VALUE\n",
      "\n",
      "Disassembly of <code object print_vars at 0x7fe4a4352420, file \"<ipython-input-29-9aac0c951ca1>\", line 6>:\n",
      "  7           0 LOAD_CONST               1 (1)\n",
      "              2 STORE_FAST               0 (inner_var)\n",
      "\n",
      "  8           4 LOAD_GLOBAL              0 (print)\n",
      "              6 LOAD_CONST               2 ('inner_var')\n",
      "              8 LOAD_FAST                0 (inner_var)\n",
      "             10 CALL_FUNCTION            2\n",
      "             12 POP_TOP\n",
      "\n",
      "  9          14 LOAD_GLOBAL              0 (print)\n",
      "             16 LOAD_CONST               3 ('var')\n",
      "             18 LOAD_DEREF               0 (var)\n",
      "             20 CALL_FUNCTION            2\n",
      "             22 POP_TOP\n",
      "\n",
      " 10          24 LOAD_GLOBAL              0 (print)\n",
      "             26 LOAD_CONST               4 ('global_var')\n",
      "             28 CALL_FUNCTION            1\n",
      "             30 POP_TOP\n",
      "\n",
      " 11          32 LOAD_GLOBAL              0 (print)\n",
      "             34 LOAD_CONST               5 ('func')\n",
      "             36 LOAD_GLOBAL              1 (func)\n",
      "             38 CALL_FUNCTION            2\n",
      "             40 POP_TOP\n",
      "             42 LOAD_CONST               0 (None)\n",
      "             44 RETURN_VALUE\n"
     ]
    }
   ],
   "source": [
    "from dis import dis\n",
    "\n",
    "\n",
    "dis(func)"
   ]
  },
  {
   "cell_type": "markdown",
   "metadata": {
    "colab_type": "text",
    "id": "93-d3Ka6KL0t",
    "slideshow": {
     "slide_type": "slide"
    }
   },
   "source": [
    "#### LEXING / TOKENIZING."
   ]
  },
  {
   "cell_type": "code",
   "execution_count": 157,
   "metadata": {
    "colab": {},
    "colab_type": "code",
    "id": "3-Eubh7wKL0y",
    "slideshow": {
     "slide_type": "subslide"
    }
   },
   "outputs": [],
   "source": [
    "b = 6\n",
    "def f1(a):\n",
    "    print(a)\n",
    "    print(b)"
   ]
  },
  {
   "cell_type": "code",
   "execution_count": 158,
   "metadata": {
    "colab": {},
    "colab_type": "code",
    "id": "MkkfDX2nKL07",
    "outputId": "dfd3ce24-7e42-40ad-8ffb-d91752aff49b",
    "slideshow": {
     "slide_type": "fragment"
    }
   },
   "outputs": [
    {
     "name": "stdout",
     "output_type": "stream",
     "text": [
      "  3           0 LOAD_GLOBAL              0 (print)\n",
      "              2 LOAD_FAST                0 (a)\n",
      "              4 CALL_FUNCTION            1\n",
      "              6 POP_TOP\n",
      "\n",
      "  4           8 LOAD_GLOBAL              0 (print)\n",
      "             10 LOAD_GLOBAL              1 (b)\n",
      "             12 CALL_FUNCTION            1\n",
      "             14 POP_TOP\n",
      "             16 LOAD_CONST               0 (None)\n",
      "             18 RETURN_VALUE\n"
     ]
    }
   ],
   "source": [
    "from dis import dis\n",
    "dis(f1)"
   ]
  },
  {
   "cell_type": "markdown",
   "metadata": {
    "colab_type": "text",
    "id": "Y5GlHnSfKL1C",
    "slideshow": {
     "slide_type": "fragment"
    }
   },
   "source": [
    "* Load global name print.\n",
    "* Load local name a.\n",
    "* Call print function with 1 positional argument. \n",
    "* Load global name b.\n",
    "* Load constant, in which case there None."
   ]
  },
  {
   "cell_type": "markdown",
   "metadata": {
    "slideshow": {
     "slide_type": "subslide"
    }
   },
   "source": [
    "#### To see what is in scope"
   ]
  },
  {
   "cell_type": "code",
   "execution_count": null,
   "metadata": {
    "slideshow": {
     "slide_type": "fragment"
    }
   },
   "outputs": [],
   "source": [
    "glabal_var = 0\n",
    "\n",
    "def func():\n",
    "    var = 'variable'\n",
    "    \n",
    "    def print_vars(arg):\n",
    "        inner_var = 1\n",
    "        \n",
    "        print(locals()) # {'arg': 'argument', 'inner_var': 1}\n",
    "        print(globals()) # {'__name__': '__main__', '__doc__' ..., 'glabal_var' : 0}\n",
    "        \n",
    "    print_vars('argument')\n",
    "\n",
    "func()"
   ]
  },
  {
   "cell_type": "markdown",
   "metadata": {
    "colab_type": "text",
    "id": "t1szbJmWKL1N",
    "slideshow": {
     "slide_type": "subslide"
    }
   },
   "source": [
    "Functions is Python can access variables that are not in current scope. \n",
    "\n",
    "Important to remember: lookup is happens while functions is called.\n"
   ]
  },
  {
   "cell_type": "code",
   "execution_count": 58,
   "metadata": {
    "colab": {},
    "colab_type": "code",
    "id": "Pk7McQ8tKL1P",
    "outputId": "a42ffb9d-03d8-410a-a1a6-9389a4ed47e1",
    "slideshow": {
     "slide_type": "fragment"
    }
   },
   "outputs": [
    {
     "name": "stdout",
     "output_type": "stream",
     "text": [
      "0\n",
      "1\n",
      "2\n",
      "3\n",
      "4\n"
     ]
    }
   ],
   "source": [
    "def f():\n",
    "    print(i)\n",
    "\n",
    "for i in range(5):\n",
    "    f()"
   ]
  },
  {
   "cell_type": "code",
   "execution_count": 160,
   "metadata": {
    "slideshow": {
     "slide_type": "subslide"
    }
   },
   "outputs": [
    {
     "name": "stdout",
     "output_type": "stream",
     "text": [
      "0\n",
      "0\n"
     ]
    }
   ],
   "source": [
    "global_var = 0\n",
    "\n",
    "def func():\n",
    "    global_var = 1\n",
    "\n",
    "\n",
    "print(global_var)\n",
    "func()\n",
    "print(global_var)"
   ]
  },
  {
   "cell_type": "markdown",
   "metadata": {
    "slideshow": {
     "slide_type": "subslide"
    }
   },
   "source": [
    "For assignment LEGB is not working"
   ]
  },
  {
   "cell_type": "code",
   "execution_count": 39,
   "metadata": {
    "slideshow": {
     "slide_type": "fragment"
    }
   },
   "outputs": [
    {
     "ename": "UnboundLocalError",
     "evalue": "local variable 'global_var' referenced before assignment",
     "output_type": "error",
     "traceback": [
      "\u001b[0;31m---------------------------------------------------------------------------\u001b[0m",
      "\u001b[0;31mUnboundLocalError\u001b[0m                         Traceback (most recent call last)",
      "\u001b[0;32m<ipython-input-39-2553de2cc291>\u001b[0m in \u001b[0;36m<module>\u001b[0;34m\u001b[0m\n\u001b[1;32m      5\u001b[0m \u001b[0;34m\u001b[0m\u001b[0m\n\u001b[1;32m      6\u001b[0m     \u001b[0mprint\u001b[0m\u001b[0;34m(\u001b[0m\u001b[0mglobal_var\u001b[0m\u001b[0;34m)\u001b[0m\u001b[0;34m\u001b[0m\u001b[0;34m\u001b[0m\u001b[0m\n\u001b[0;32m----> 7\u001b[0;31m \u001b[0mfoo\u001b[0m\u001b[0;34m(\u001b[0m\u001b[0;34m)\u001b[0m\u001b[0;34m\u001b[0m\u001b[0;34m\u001b[0m\u001b[0m\n\u001b[0m",
      "\u001b[0;32m<ipython-input-39-2553de2cc291>\u001b[0m in \u001b[0;36mfoo\u001b[0;34m()\u001b[0m\n\u001b[1;32m      2\u001b[0m \u001b[0;34m\u001b[0m\u001b[0m\n\u001b[1;32m      3\u001b[0m \u001b[0;32mdef\u001b[0m \u001b[0mfoo\u001b[0m\u001b[0;34m(\u001b[0m\u001b[0;34m)\u001b[0m\u001b[0;34m:\u001b[0m\u001b[0;34m\u001b[0m\u001b[0;34m\u001b[0m\u001b[0m\n\u001b[0;32m----> 4\u001b[0;31m     \u001b[0mglobal_var\u001b[0m \u001b[0;34m=\u001b[0m \u001b[0mglobal_var\u001b[0m \u001b[0;34m+\u001b[0m \u001b[0;36m1\u001b[0m\u001b[0;34m\u001b[0m\u001b[0;34m\u001b[0m\u001b[0m\n\u001b[0m\u001b[1;32m      5\u001b[0m \u001b[0;34m\u001b[0m\u001b[0m\n\u001b[1;32m      6\u001b[0m     \u001b[0mprint\u001b[0m\u001b[0;34m(\u001b[0m\u001b[0mglobal_var\u001b[0m\u001b[0;34m)\u001b[0m\u001b[0;34m\u001b[0m\u001b[0;34m\u001b[0m\u001b[0m\n",
      "\u001b[0;31mUnboundLocalError\u001b[0m: local variable 'global_var' referenced before assignment"
     ]
    }
   ],
   "source": [
    "global_var = 0\n",
    "\n",
    "def foo():\n",
    "    global_var = global_var + 1\n",
    "\n",
    "print(global_var)\n",
    "foo()"
   ]
  },
  {
   "cell_type": "markdown",
   "metadata": {
    "colab_type": "text",
    "id": "sfdk1G86KL1a",
    "slideshow": {
     "slide_type": "subslide"
    }
   },
   "source": [
    "Change default behavior __nonlocal__ and __global__\n"
   ]
  },
  {
   "cell_type": "markdown",
   "metadata": {
    "colab_type": "text",
    "id": "VS8pxWWcKL1h",
    "slideshow": {
     "slide_type": "slide"
    }
   },
   "source": [
    "### global"
   ]
  },
  {
   "cell_type": "markdown",
   "metadata": {
    "colab_type": "text",
    "id": "cPKjSwUSKL1i",
    "slideshow": {
     "slide_type": "subslide"
    }
   },
   "source": [
    "To be able to assign new value to variable that is not in current scope:\n",
    "use __global__ operator.\n"
   ]
  },
  {
   "cell_type": "code",
   "execution_count": 44,
   "metadata": {
    "colab": {},
    "colab_type": "code",
    "id": "ng2dYUjGKL1j",
    "outputId": "7ffc1738-15b3-4b8b-9d6a-44234df4c3ff",
    "slideshow": {
     "slide_type": "fragment"
    }
   },
   "outputs": [
    {
     "name": "stdout",
     "output_type": "stream",
     "text": [
      "0\n",
      "1\n"
     ]
    }
   ],
   "source": [
    "global_var = 0\n",
    "\n",
    "\n",
    "def foo():\n",
    "    global global_var\n",
    "    global_var = global_var + 1\n",
    "\n",
    "\n",
    "print(global_var)\n",
    "foo()\n",
    "print(global_var)"
   ]
  },
  {
   "cell_type": "markdown",
   "metadata": {
    "colab_type": "text",
    "id": "YiPtr3HDKL1y",
    "slideshow": {
     "slide_type": "slide"
    }
   },
   "source": [
    "### nonlocal"
   ]
  },
  {
   "cell_type": "markdown",
   "metadata": {
    "colab_type": "text",
    "id": "UGNuMJTjKL15",
    "slideshow": {
     "slide_type": "subslide"
    }
   },
   "source": [
    "Nonlocal namespace – function defined inside of another fucntion.\n",
    "\n",
    "To be able to assign new value to variable that is enclosing scope:\n",
    "use __local__ operator.\n"
   ]
  },
  {
   "cell_type": "code",
   "execution_count": 47,
   "metadata": {
    "colab": {},
    "colab_type": "code",
    "id": "fAVYGZq6KL17",
    "outputId": "5d2ed86a-cec9-41d7-cec7-8f28318d7ca5",
    "slideshow": {
     "slide_type": "fragment"
    }
   },
   "outputs": [
    {
     "name": "stdout",
     "output_type": "stream",
     "text": [
      "local a is 3\n"
     ]
    }
   ],
   "source": [
    "def f1():\n",
    "    a = 1\n",
    "    b = 2\n",
    "    \n",
    "    def inner(): \n",
    "        nonlocal a\n",
    "        a = a + b\n",
    "        \n",
    "    inner()\n",
    "    print('local a is', a)\n",
    "\n",
    "    \n",
    "\n",
    "f1()"
   ]
  },
  {
   "cell_type": "markdown",
   "metadata": {
    "colab_type": "text",
    "id": "JoM9xbgCKL2D",
    "slideshow": {
     "slide_type": "slide"
    }
   },
   "source": [
    "### What need to remember:"
   ]
  },
  {
   "cell_type": "markdown",
   "metadata": {
    "colab_type": "text",
    "id": "tYT0LFBYKL2G",
    "slideshow": {
     "slide_type": "fragment"
    }
   },
   "source": [
    "1. Python have 4 scopes: local, enclosing, global, built-in\n",
    "\n",
    "2. Name lookup is going from local to built-in. Using assignment operator name considered local.\n",
    "\n",
    "3. This behavior could be changed by using global and nonlocal operators\n"
   ]
  },
  {
   "cell_type": "markdown",
   "metadata": {
    "slideshow": {
     "slide_type": "slide"
    }
   },
   "source": [
    "#### Function annotation "
   ]
  },
  {
   "cell_type": "code",
   "execution_count": 71,
   "metadata": {
    "slideshow": {
     "slide_type": "fragment"
    }
   },
   "outputs": [
    {
     "name": "stdout",
     "output_type": "stream",
     "text": [
      "True\n",
      "True\n"
     ]
    }
   ],
   "source": [
    "from typing import Union\n",
    "\n",
    "\n",
    "def is_palindrome_very_much(\n",
    "    s: Union[str, int], \n",
    "    variant: int,\n",
    "    key: None = None\n",
    ") -> bool:\n",
    "    \n",
    "    if variant == 1:\n",
    "        return s == ''.join(reversed(s)) \n",
    "    if variant == 2:\n",
    "        return s == s[::-1]\n",
    "    return 'coose variant'\n",
    "\n",
    "print(is_palindrome('madam', 1))\n",
    "print(is_palindrome('madam', 2))"
   ]
  },
  {
   "cell_type": "code",
   "execution_count": 175,
   "metadata": {
    "slideshow": {
     "slide_type": "subslide"
    }
   },
   "outputs": [
    {
     "data": {
      "text/plain": [
       "{'s': typing.Union[str, int], 'variant': int, 'return': bool}"
      ]
     },
     "execution_count": 175,
     "metadata": {},
     "output_type": "execute_result"
    }
   ],
   "source": [
    "#  пасхалка\n",
    "\n",
    "is_palindrome.__annotations__"
   ]
  },
  {
   "cell_type": "code",
   "execution_count": 73,
   "metadata": {
    "slideshow": {
     "slide_type": "subslide"
    }
   },
   "outputs": [],
   "source": [
    "a: None = None\n",
    "s: str = '123'\n",
    "    "
   ]
  },
  {
   "cell_type": "markdown",
   "metadata": {
    "slideshow": {
     "slide_type": "slide"
    }
   },
   "source": [
    "#### Naming and a few advices:"
   ]
  },
  {
   "cell_type": "markdown",
   "metadata": {
    "slideshow": {
     "slide_type": "fragment"
    }
   },
   "source": [
    "* Function should do only one thing (logically)\n",
    "* If it takes time to scroll other function: something goes wrong\n",
    "* Functions name should describe what is does in shorted manner\n",
    "* Better long and comprehensive name than short and unclear\n",
    "* Better use verb to name function"
   ]
  },
  {
   "cell_type": "markdown",
   "metadata": {
    "slideshow": {
     "slide_type": "slide"
    }
   },
   "source": [
    "<img src=\"images/q_4.png\" width=\"600\" height=\"500\">"
   ]
  },
  {
   "cell_type": "markdown",
   "metadata": {
    "pycharm": {
     "name": "#%% md\n"
    },
    "slideshow": {
     "slide_type": "slide"
    }
   },
   "source": [
    "The nice meme for that I was not able to find an appropriate place. \n",
    "<img src=\"images/meme.png\" width=\"600\" height=\"1000\">"
   ]
  }
 ],
 "metadata": {
  "celltoolbar": "Slideshow",
  "colab": {
   "collapsed_sections": [
    "bjDR_khjrIwR",
    "g2FiBoEXFjE0",
    "yRaSwyLpJeE4",
    "Iwvk6lphfB03",
    "EGWujNrpfB1B",
    "4ztBsavMfB1H",
    "RokO50RwfB1M",
    "ZDAUXFKjfB1S",
    "mcy_jilUfB1Y",
    "GGdIbRR5fB1m",
    "QEOw1Q6ZCCEk",
    "vFmSKHcxIx9L",
    "Da6WJQhefB11",
    "O8TaAodk-taE",
    "ZwoxKdv5fB17",
    "5hwWGlzmfB2J",
    "SrRJ-LUxfB2R",
    "kiD6hsA_fB2t",
    "nPtt_iYxGIeq",
    "AH4XB5DRGIez",
    "DQdijjehGIfx",
    "TNtv3DTjGIgf",
    "MPS4ZGTFGIg4",
    "7Le2oJpDGIhz",
    "eGUtXxLlGIiW",
    "00egt4WeGIin",
    "iXzT2FqKGIi7",
    "prSD8bceGIjt",
    "Job4MoNrGIkB",
    "_Lq29M9PGIkV",
    "mQzHE7ymfB55",
    "x-OryYaRGIkV",
    "OgBJlLD9GIkY",
    "mk6X31RhGIkp",
    "BAldCH3mGIks",
    "-Y3lxGZNfB6e",
    "hxw7Swh3fB63",
    "ohjk6q_3fB64",
    "vzZESeuifB69",
    "3zMESzLufB69",
    "yNr2otIwfB6-",
    "4nAwcv6rfB7Q",
    "05CnJ13FfB7Q",
    "UmRC68qmfB7R",
    "97edDWnlfB7R",
    "vLbyHNnnfB7S",
    "sHOkJCpWfB7V",
    "zUyaKlg2fB7i",
    "ZqzS-MyQfB7j",
    "tJS_NtggfB7j",
    "OuXL42M7fB7n",
    "gTakWGzFfB7p",
    "2LnAKmAdfB7q",
    "dxQHxBS6fB7t",
    "nRcvLkfufB7u",
    "NJNNp2QmfB7u",
    "0FyYE5uHfB72",
    "EGIWwVuTLA_y",
    "oxD9VVa7LA_4",
    "dQtq6u9hLBAq",
    "UQHxBMdBLBAv",
    "1VuVM0-iLBBP",
    "i0UWuQcALBCX",
    "PmA7CnLlLBCq",
    "lLrnSj0MLBDA"
   ],
   "name": "data_structs.ipynb",
   "provenance": [],
   "version": "0.3.2"
  },
  "kernelspec": {
   "display_name": "Python 3",
   "language": "python",
   "name": "python3"
  },
  "language_info": {
   "codemirror_mode": {
    "name": "ipython",
    "version": 3
   },
   "file_extension": ".py",
   "mimetype": "text/x-python",
   "name": "python",
   "nbconvert_exporter": "python",
   "pygments_lexer": "ipython3",
   "version": "3.7.7"
  }
 },
 "nbformat": 4,
 "nbformat_minor": 2
}
