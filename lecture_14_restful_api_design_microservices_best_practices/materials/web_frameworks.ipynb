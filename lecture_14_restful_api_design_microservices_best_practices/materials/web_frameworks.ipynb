{
 "cells": [
  {
   "cell_type": "markdown",
   "metadata": {
    "collapsed": true,
    "pycharm": {
     "name": "#%% md\n"
    },
    "slideshow": {
     "slide_type": "slide"
    }
   },
   "source": [
    "# Python web frameworks"
   ]
  },
  {
   "cell_type": "markdown",
   "metadata": {
    "slideshow": {
     "slide_type": "slide"
    }
   },
   "source": [
    "## What do you use python for\n",
    "\n",
    "![](img/jetbrains-python-stats.png)\n",
    "\n",
    "<https://www.jetbrains.com/lp/devecosystem-2021/python/>"
   ]
  },
  {
   "cell_type": "markdown",
   "metadata": {
    "slideshow": {
     "slide_type": "slide"
    }
   },
   "source": [
    "## Overview\n",
    "\n",
    "### Why Python for Web Development?\n",
    "\n",
    "- Easy to Learn. Easy to maintain.\n",
    "- Rich Ecosystem for Backend tasks\n",
    "- Rich production-grade community solutions\n",
    "- Easy for prototyping\n",
    "- Platform-independent"
   ]
  },
  {
   "cell_type": "markdown",
   "metadata": {
    "slideshow": {
     "slide_type": "slide"
    }
   },
   "source": [
    "## Overview\n",
    "\n",
    "### Why Python couldn’t be the Best of all for Web Development?\n",
    "\n",
    "- High memory consumption\n",
    "- Lack of real multiprocessing\n",
    "- Not popular for mobile backends\n",
    "- Runtime Errors"
   ]
  },
  {
   "cell_type": "markdown",
   "metadata": {
    "slideshow": {
     "slide_type": "slide"
    }
   },
   "source": [
    "## How it works?\n",
    "\n",
    "- Web Server accepting incoming connection Requests\n",
    "- Web Server applies routing according to Request Headers and Data\n",
    "- Web Server invoke Web App listener/worker via socket or port\n",
    "- Web App listener start working with Request\n",
    "- Web App applies business logic to Request Data and produce Response\n",
    "- Web Server pass Response to Web Browser\n",
    "\n",
    "![](img/general-WSGI-diag.png)"
   ]
  },
  {
   "cell_type": "markdown",
   "metadata": {
    "slideshow": {
     "slide_type": "slide"
    }
   },
   "source": [
    "## Web Application Basic Components\n",
    "\n",
    "- WSGI Server\n",
    "- URL Router\n",
    "- Middlewares\n",
    "- Business Logic (Controllers, Services, etc)\n",
    "- Data Representation (Views)\n",
    "- Data Model\n",
    "- Background Tasks"
   ]
  },
  {
   "cell_type": "markdown",
   "metadata": {
    "slideshow": {
     "slide_type": "slide"
    }
   },
   "source": [
    "## WSGI Server\n",
    "\n",
    "- Interface Protocol\n",
    "- Acts like the glue between Proxying Web Server (like nginx) and Web Application logic\n",
    "- Normally listens to specific port or file socket for incoming requests\n",
    "- Keep request-response session alive\n",
    "- Spawn multiple workers to serve many requests at the same time\n",
    "- Could be easily scaled up with Load Balancer architectural pattern\n",
    "- Popular Implementations:\n",
    "    - Gunicorn\n",
    "    - uWSGI"
   ]
  },
  {
   "cell_type": "markdown",
   "metadata": {
    "slideshow": {
     "slide_type": "slide"
    }
   },
   "source": [
    "## ASGI\n",
    "\n",
    "- Asynchronous approach to WSGI and async Python\n",
    "- Popular implementations:\n",
    "    - Uvicorn (uses wrapper around libuv)\n",
    "    - Daphne (uses Twisted)\n",
    "    - Hypercorn\n",
    "\n",
    "![](img/general-ASGI-diag.png)"
   ]
  },
  {
   "cell_type": "markdown",
   "metadata": {
    "slideshow": {
     "slide_type": "slide"
    }
   },
   "source": [
    "## URL Router\n",
    "\n",
    "- Match Request path with specific Application logic elements — mainly Views\n",
    "- Could support regex rules for describing URL patterns (classic way) or special synthax (modern way)\n",
    "- Could help limit or fully describe URL Parameters\n",
    "- Could been described in a dedicated URL Config files (Django-way) or be inlined using decorators (Flask-way)\n",
    "\n",
    "```python\n",
    "from django.urls import path\n",
    "\n",
    "from . import views\n",
    "\n",
    "\n",
    "urlpatterns = [\n",
    "    path(\"/articles/2003/\", views.special_case_2003),\n",
    "    path(\"/articles/<int:year>/\", views.year_archive),\n",
    "    path(\"/articles/<int:year>/<int:year>/\", views.month_archive),\n",
    "    path(\"/articles/<int:year>/<int:year>/<str:slug>/\", views.article),\n",
    "]\n",
    "```"
   ]
  },
  {
   "cell_type": "markdown",
   "metadata": {
    "slideshow": {
     "slide_type": "slide"
    }
   },
   "source": [
    "## Middlewares\n",
    "\n",
    "- Dispatch raw Request and Response data.\n",
    "- Could handle various tasks:\n",
    "    - Security checks (Auth, Rate limiting, CSRF, etc)\n",
    "    - Work with Headers (cache, x-frame, app-specific headers)\n",
    "    - Respond cached data\n",
    "    - Process user session (recognize user and add user information to request/response)\n",
    "    - Enrich Request or Response data"
   ]
  },
  {
   "cell_type": "markdown",
   "metadata": {
    "slideshow": {
     "slide_type": "slide"
    }
   },
   "source": [
    "## Middlewares diagram\n",
    "\n",
    "![](img/general-middleware-diag.png)"
   ]
  },
  {
   "cell_type": "markdown",
   "metadata": {
    "slideshow": {
     "slide_type": "slide"
    }
   },
   "source": [
    "## Middlewares example\n",
    "\n",
    "![](img/middleware-example-diag.png)"
   ]
  },
  {
   "cell_type": "markdown",
   "metadata": {
    "slideshow": {
     "slide_type": "slide"
    }
   },
   "source": [
    "## Controllers, Services, etc\n",
    "\n",
    "- Not a mandatory part of Web Application approach in Python frameworks\n",
    "- Could be useful for synchronous utilitary tasks — Data transformation on the fly, loading files from filesystem to read, read from cache, etc\n",
    "- Should be replaced with background tasks for heavy I/O or time-bound operations"
   ]
  },
  {
   "cell_type": "markdown",
   "metadata": {
    "slideshow": {
     "slide_type": "slide"
    }
   },
   "source": [
    "## Data Representation (Views)\n",
    "\n",
    "- Mainly overrides Controller role in MVC Pattern.\n",
    "- Prepare Data Model objects to be presented in specific format: render a Template, prepare JSON, serve file from filesystem, open a stream, etc\n",
    "- Works with full Request payload: Headers, Body, URL Params. Also could rely on data of User Session, Auth, and other business logic which could be matched with particular Request.\n",
    "- Basically One View per One REST verb (GET, POST, DELETE, etc)\n",
    "- Most of popular Web Frameworks already include many of Response solutions — JSON Response, Template Rendering, WebSocket Logic, Static Files"
   ]
  },
  {
   "cell_type": "markdown",
   "metadata": {
    "slideshow": {
     "slide_type": "slide"
    }
   },
   "source": [
    "## Data Representation example\n",
    "\n",
    "```python\n",
    "from django.http import Http404\n",
    "from django.shortcuts import render\n",
    "from polls.models import Poll\n",
    "\n",
    "\n",
    "def detail(request, poll_id):\n",
    "    try:\n",
    "        p = Poll.bjects.get(pk=poll_id)\n",
    "    except Poll.DoesNotExist:\n",
    "        raise Http404(\"Poll does not exist\")\n",
    "\n",
    "    return render(request, \"polls/detail.html\", {\"poll\": p})\n",
    "```"
   ]
  },
  {
   "cell_type": "markdown",
   "metadata": {
    "slideshow": {
     "slide_type": "slide"
    }
   },
   "source": [
    "## Data Model: ORM\n",
    "\n",
    "- Most of the time `model` word stands for ORM Objects.\n",
    "- ORM is a Object-Relational Mapping\n",
    "- Binds Data in Storage (DB) with Object-Oriented entities like Classes, Objects\n",
    "- Manipulate both Schema and Data itself\n",
    "- Basically have an eloquent and rich synthax for basic data manipulation: CRUD operations, aggregation, grouping, etc\n",
    "- Sanitize input and prevents popular data-related attack types, such as an SQL-injection\n",
    "- Help Keep DB Schema in historical manner using migrations\n",
    "- ORM Using also could be tricky\n",
    "- Developers should be aware of problems like N+1 query and always be ready to debug raw SQL output of ORM methods\n",
    "- Migrations conflicts like making nulled fields non-null could lead to serious problems in application data"
   ]
  },
  {
   "cell_type": "markdown",
   "metadata": {
    "slideshow": {
     "slide_type": "slide"
    }
   },
   "source": [
    "## Data Model: ORM example\n",
    "\n",
    "```python\n",
    "from django.db import models\n",
    "\n",
    "\n",
    "class Musician(models.Model):\n",
    "    first_name = models.CharField(max_length=50)\n",
    "    last_name = models.CharField(max_length=50)\n",
    "    instrument = models.CharField(max_length=100)\n",
    "\n",
    "\n",
    "class Album(models.Model):\n",
    "    artist = models.ForeignKey(Musician, on_delete=models.CASCADE)\n",
    "    name = models.CharField(max_length=100)\n",
    "    release_date = models.DateField()\n",
    "    num_start = models.IntegerField()\n",
    "```"
   ]
  },
  {
   "cell_type": "markdown",
   "metadata": {
    "slideshow": {
     "slide_type": "slide"
    }
   },
   "source": [
    "## Background Tasks\n",
    "\n",
    "- Useful for handling slow, heavy and asynchronous duties like:\n",
    "    - Updating cache or DB tables\n",
    "    - Recalculating statistics\n",
    "    - Preparing heavy data to response to user request\n",
    "- Do not interrupt or corrupt current requests\n",
    "- Could be scaled to another machines or cloud services\n",
    "- Help implementing Web Application as a part of [CQRS](https://ru.wikipedia.org/wiki/CQRS) or any other Asynchronous Messaging paradigm\n",
    "- Celery is the most popular task scheduler for Python"
   ]
  },
  {
   "cell_type": "markdown",
   "metadata": {
    "slideshow": {
     "slide_type": "slide"
    }
   },
   "source": [
    "## Advanced Web Development Topics\n",
    "\n",
    "- Caching\n",
    "- Auth\n",
    "- Template Engines\n",
    "- Static Files serving\n",
    "- Configuration and Deployment"
   ]
  },
  {
   "cell_type": "markdown",
   "metadata": {
    "slideshow": {
     "slide_type": "slide"
    }
   },
   "source": [
    "## Caching\n",
    "\n",
    "- Caching solve high availability problems for Web Applications:\n",
    "    - Caching content pages\n",
    "    - Caching API Responses\n",
    "    - Caching complex and repetitive DB Queries results (using Task Scheduler)\n",
    "- Cache is always need to be fresh\n",
    "- LRU Caching with Read Thru Cache is one of the most popular caching strategies\n",
    "- Redis is the most popular Key-Value store using for Cached data"
   ]
  },
  {
   "cell_type": "markdown",
   "metadata": {
    "slideshow": {
     "slide_type": "slide"
    }
   },
   "source": [
    "## Caching\n",
    "\n",
    "![](img/general-chaching-diag.png)"
   ]
  },
  {
   "cell_type": "markdown",
   "metadata": {
    "slideshow": {
     "slide_type": "slide"
    }
   },
   "source": [
    "## Authentication and Authorization\n",
    "\n",
    "- **Authentication** - confirms that users are who they say they are.\n",
    "- **Authorization** - gives those users permission to access a resource.\n",
    "- Popular web frameworks provides readymade Authentication solutions. This is the best choice for the most of Authentication duties.\n",
    "- Many of popular web frameworks also has community plugins for implementing third-party Authentication (Okta and other OAuth providers, LDAP, SAML SSO providers)"
   ]
  },
  {
   "cell_type": "markdown",
   "metadata": {
    "slideshow": {
     "slide_type": "slide"
    }
   },
   "source": [
    "## Authentication Types\n",
    "\n",
    "- HTTP Basic Auth (pass username and password in request parameters)\n",
    "- API Key (issue the key within a Web App profile and use it)\n",
    "- OAuth (user credentials do not pass to the application, security token using instead. Also any token is bind to specific role. Authentication with Authorization features)"
   ]
  },
  {
   "cell_type": "markdown",
   "metadata": {
    "slideshow": {
     "slide_type": "slide"
    }
   },
   "source": [
    "## OAuth\n",
    "\n",
    "![](img/slack-oauth-diag.png)\n",
    "\n",
    "<https://api.slack.com/legacy/oauth>"
   ]
  },
  {
   "cell_type": "markdown",
   "metadata": {
    "slideshow": {
     "slide_type": "slide"
    }
   },
   "source": [
    "## Template Engines\n",
    "\n",
    "- Template Engines stands for rendering dynamic HTML content with Web Application context (variables, functions, etc)\n",
    "- Template Engines widely using if Web Application do not need a standalone Frontend\n",
    "- The most popular Template Engines are: Jinja2 and Django Templates\n",
    "- Templates are rendering in realtime, unless you do not need to pre-render some of"
   ]
  },
  {
   "cell_type": "markdown",
   "metadata": {
    "slideshow": {
     "slide_type": "slide"
    }
   },
   "source": [
    "## Static Files serving\n",
    "\n",
    "- Web Frameworks also have an ability to serve static files within application: HTML, CSS and JS files, Images and Media, Downloadable artifacts, etc\n",
    "- Django have a build-in Staticfiles Framework which helps to discover, build, tag, and serve static content\n",
    "- But basically you do not need to serve static with your Backend, and have to rely on Nginx, Cloud CDN, or Frontend Application.\n",
    "\n",
    "![](img/general-static-files-serving-diag.png)"
   ]
  },
  {
   "cell_type": "markdown",
   "metadata": {
    "slideshow": {
     "slide_type": "slide"
    }
   },
   "source": [
    "## Configuration and Deployment\n",
    "\n",
    "- Modern Web Frameworks allows You to follow [Twelve Factor App](https://12factor.net/) principles for application Configuration and Deployment\n",
    "- Web application configs should be environment-dependent, and use only suitable configuration in particular environment — test, prod, dev, etc\n",
    "- Secret values must be keeped away from configuraton but also should be available to get imported into Application Runtime\n",
    "- Django support more verbose Debug mode for better development\n",
    "- Modern Python Web Application could be deployed with Docker container or deployed as is to Cloud infrastructure."
   ]
  },
  {
   "cell_type": "markdown",
   "metadata": {
    "slideshow": {
     "slide_type": "slide"
    }
   },
   "source": [
    "## Modern Python Web Frameworks\n",
    "\n",
    "- Full-Stack frameworks with built-in template rendering\n",
    "    - Django\n",
    "    - Pyramid\n",
    "- Extendable and Backend-Only Frameworks:\n",
    "    - Flask\n",
    "    - Starlette\n",
    "    - FastAPI\n",
    "    - Falcon\n",
    "    - Tornado\n",
    "    - Sanic"
   ]
  },
  {
   "cell_type": "markdown",
   "metadata": {
    "slideshow": {
     "slide_type": "slide"
    }
   },
   "source": [
    "## Django Essentials\n",
    "\n",
    "- Easy to start\n",
    "- Rich built-ins:\n",
    "    - Static Files Framework\n",
    "    - Authorization and Authentication, User Sessions\n",
    "    - Admin panel\n",
    "    - ORM\n",
    "    - First class Django Forms\n",
    "    - Own Template Engine\n",
    "    - Caching framework\n",
    "    - Advanced Security Features\n",
    "    - First class support for many popular backing services — DBs, Key-Value storages\n",
    "    - I18n, RSS, sitemaps\n",
    "- Backward compatibility\n",
    "- Truly follow [DRY](https://ru.wikipedia.org/wiki/Don%E2%80%99t_repeat_yourself) principles"
   ]
  },
  {
   "cell_type": "markdown",
   "metadata": {
    "slideshow": {
     "slide_type": "slide"
    }
   },
   "source": [
    "## Flask Essentials\n",
    "\n",
    "- Microframework with highly extensible modular design\n",
    "- You can use any library you like for ORM, Auth, Templates, Forms, etc\n",
    "- Very simple and ready-to-go API\n",
    "- Rich Documentation\n",
    "- Best for tiny applications or prototyping"
   ]
  },
  {
   "cell_type": "markdown",
   "metadata": {
    "slideshow": {
     "slide_type": "slide"
    }
   },
   "source": [
    "## RESTful API\n",
    "\n",
    "- RESTful API: Design\n",
    "- RESTful API Tools: OpenAPI\n",
    "- RESTful API Tools: FastAPI"
   ]
  },
  {
   "cell_type": "markdown",
   "metadata": {
    "slideshow": {
     "slide_type": "slide"
    }
   },
   "source": [
    "## RESTful API\n",
    "\n",
    "![](img/general-restful-diag.png)\n",
    "\n",
    "<https://tutorialedge.net/software-eng/what-is-a-rest-api/>"
   ]
  },
  {
   "cell_type": "markdown",
   "metadata": {
    "slideshow": {
     "slide_type": "slide"
    }
   },
   "source": [
    "## RESTful API: Design\n",
    "\n",
    "- Consider making your APIs RESTful and follow principles for good REST API Design:\n",
    "- Wrap HTTP Methods around Resources and their URI. Make them idempotent\n",
    "- Consider using Authentication and Authorization\n",
    "- Use representational status codes for method response: 201 for Created, 4xx for client-party errors, 5xx for server erorrs.\n",
    "- Do not return errors with 2xx code\n",
    "- Keep connection alive\n",
    "- Use compression for network performance\n",
    "- Use caching headers"
   ]
  },
  {
   "cell_type": "markdown",
   "metadata": {
    "slideshow": {
     "slide_type": "slide"
    }
   },
   "source": [
    "## RESTful API Tools: OpenAPI\n",
    "\n",
    "- OpenAPI is a specification for designing and documenting REST API\n",
    "- It describes:\n",
    "    - All possible resources\n",
    "    - All possible parameters\n",
    "    - All possible responses\n",
    "- Stores API Schema in JSON or YaML\n",
    "- Solve problems of bad API Documentation\n",
    "- Good for API auto-testing\n",
    "- Easy to track API changes"
   ]
  },
  {
   "cell_type": "markdown",
   "metadata": {
    "slideshow": {
     "slide_type": "slide"
    }
   },
   "source": [
    "## RESTful API Tools: FastAPI\n",
    "\n",
    "- FastAPI is a Python Web Framework designed to build REST API in a fast and effective way\n",
    "- Full support for asynchronous code\n",
    "- Minimalistic and simple API\n",
    "- Perfect in data validation with Python Type Hints and Pydantic Library\n",
    "- Great Documentation\n",
    "- Built-in support for OpenAPI"
   ]
  },
  {
   "cell_type": "markdown",
   "metadata": {
    "slideshow": {
     "slide_type": "slide"
    }
   },
   "source": [
    "## RESTful Frameworks and Tools\n",
    "\n",
    "- FastAPI\n",
    "- Django REST Framework\n",
    "- Flask-restful"
   ]
  },
  {
   "cell_type": "markdown",
   "metadata": {
    "slideshow": {
     "slide_type": "slide"
    }
   },
   "source": [
    "## More to Read\n",
    "\n",
    "- Tutorials:\n",
    "    - [Two Scoops of Django](https://www.feldroy.com/products/two-scoops-of-django-3-x)\n",
    "    - [Django Girls Tutorial 🇷🇺](https://tutorial.djangogirls.org/ru/)\n",
    "    - [Мега-Учебник Flask (Хабр) 🇷🇺](https://habr.com/ru/post/346306/)\n",
    "    - [FastAPI Tutorial](https://fastapi.tiangolo.com/tutorial/)\n",
    "- Advanced Web Development:\n",
    "    - [Web Developer Roadmap 2020](https://github.com/kamranahmedse/developer-roadmap)\n",
    "    - [Donne Martin System Design Primer](https://github.com/donnemartin/system-design-primer)\n",
    "    - [12 Factor App Manifest 🇷🇺](https://12factor.net/ru/)\n",
    "- Best Practices:\n",
    "    - [WeMake.services Django Template](https://github.com/wemake-services/wemake-django-template)\n",
    "- Django Batteries:\n",
    "    - [Awesome-django (Github)](https://github.com/wsvincent/awesome-django)\n",
    "- RESTful Design:\n",
    "    - [Best Practices (Microsoft)](https://docs.microsoft.com/ru-ru/azure/architecture/best-practices/api-design)\n",
    "    - [Django REST Framework Tutorial](https://www.django-rest-framework.org/tutorial/quickstart/)"
   ]
  },
  {
   "cell_type": "markdown",
   "metadata": {
    "slideshow": {
     "slide_type": "slide"
    }
   },
   "source": [
    "## Special thanks Evgenii Uvarov for original slides!\n",
    "\n",
    "# THE END"
   ]
  }
 ],
 "metadata": {
  "celltoolbar": "Slideshow",
  "kernelspec": {
   "display_name": "Python 3 (ipykernel)",
   "language": "python",
   "name": "python3"
  },
  "language_info": {
   "codemirror_mode": {
    "name": "ipython",
    "version": 3
   },
   "file_extension": ".py",
   "mimetype": "text/x-python",
   "name": "python",
   "nbconvert_exporter": "python",
   "pygments_lexer": "ipython3",
   "version": "3.9.9"
  }
 },
 "nbformat": 4,
 "nbformat_minor": 1
}