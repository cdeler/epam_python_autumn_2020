{
 "cells": [
  {
   "cell_type": "code",
   "execution_count": 63,
   "metadata": {},
   "outputs": [],
   "source": [
    "class MyClass:\n",
    "    pass\n",
    "\n",
    "class OtherClass:\n",
    "    \"\"\"Description\"\"\" "
   ]
  },
  {
   "cell_type": "code",
   "execution_count": 354,
   "metadata": {},
   "outputs": [],
   "source": [
    "class Customer:\n",
    "    \"\"\"Created when new customer registers\"\"\"\n",
    "    \n",
    "    def __init__(self, first_name, last_name, age=None):\n",
    "        self.first_name = first_name\n",
    "        self.last_name = last_name\n",
    "        self.age = age\n",
    "        self.full_name = f'{first_name} {last_name}'"
   ]
  },
  {
   "cell_type": "code",
   "execution_count": 355,
   "metadata": {},
   "outputs": [],
   "source": [
    "customer = Customer('Joe', 'Adams', 25)\n",
    "customer.first_name  # 'Joe'\n",
    "customer.age  # 25\n",
    "customer.full_name  #  'Joe Adams'\n",
    "\n",
    "another_customer = Customer('Maria', 'Smith')\n",
    "another_customer.age  # None"
   ]
  },
  {
   "cell_type": "code",
   "execution_count": 360,
   "metadata": {},
   "outputs": [
    {
     "data": {
      "text/plain": [
       "{<__main__.Customer at 0x7f2bf3c2f860>: 5,\n",
       " <__main__.Customer at 0x7f2bf3c2f828>: 6}"
      ]
     },
     "execution_count": 360,
     "metadata": {},
     "output_type": "execute_result"
    }
   ],
   "source": [
    "{customer: 5, another_customer:6}"
   ]
  },
  {
   "cell_type": "code",
   "execution_count": 87,
   "metadata": {},
   "outputs": [
    {
     "data": {
      "text/plain": [
       "'Customer'"
      ]
     },
     "execution_count": 87,
     "metadata": {},
     "output_type": "execute_result"
    }
   ],
   "source": [
    "Customer.__doc__  # 'Created when new customer registers'\n",
    "Customer.__module__  # '__main__'\n",
    "Customer.__base__  # parent class\n",
    "Customer.__name__  # 'Customer'"
   ]
  },
  {
   "cell_type": "code",
   "execution_count": 352,
   "metadata": {},
   "outputs": [
    {
     "name": "stdout",
     "output_type": "stream",
     "text": [
      "I was not deleted\n"
     ]
    }
   ],
   "source": [
    "class Customer:\n",
    "    def __init__(self, first_name):\n",
    "        self.first_name = first_name\n",
    "    \n",
    "    def __del__(self):\n",
    "        print('I was not deleted')\n",
    "\n",
    "customer = Customer('Joe')\n",
    "same_customer = customer\n",
    "del customer  # __del__ wasn't called\n",
    "same_customer.first_name  # 'Joe'\n",
    "del same_customer  # I was not deleted"
   ]
  },
  {
   "cell_type": "code",
   "execution_count": 69,
   "metadata": {},
   "outputs": [],
   "source": [
    "# Attributes"
   ]
  },
  {
   "cell_type": "code",
   "execution_count": 351,
   "metadata": {},
   "outputs": [
    {
     "data": {
      "text/plain": [
       "'!!!'"
      ]
     },
     "execution_count": 351,
     "metadata": {},
     "output_type": "execute_result"
    }
   ],
   "source": [
    "class MyClass:\n",
    "    class_attribute = 'Python is awesome!'\n",
    "\n",
    "foo = MyClass()\n",
    "bar = MyClass()\n",
    "foo.class_attribute  # 'Python is awesome!'\n",
    "bar.class_attribute  # 'Python is awesome!'\n",
    "foo.class_attribute = 'new value'\n",
    "bar.class_attribute  # ???\n",
    "\n",
    "MyClass.class_attribute = '!!!'\n",
    "foo.class_attribute  # ???\n",
    "bar.class_attribute  # ???"
   ]
  },
  {
   "cell_type": "code",
   "execution_count": 72,
   "metadata": {},
   "outputs": [
    {
     "data": {
      "text/plain": [
       "mappingproxy({'__module__': '__main__',\n",
       "              'class_attribute': '!!!',\n",
       "              '__dict__': <attribute '__dict__' of 'MyClass' objects>,\n",
       "              '__weakref__': <attribute '__weakref__' of 'MyClass' objects>,\n",
       "              '__doc__': None})"
      ]
     },
     "execution_count": 72,
     "metadata": {},
     "output_type": "execute_result"
    }
   ],
   "source": [
    "foo.__dict__  # {'class_attribute': 'new value'}\n",
    "bar.__dict__  # {}\n",
    "MyClass.__dict__  # mappingproxy('class_attribute': '!!!', ..."
   ]
  },
  {
   "cell_type": "code",
   "execution_count": 172,
   "metadata": {},
   "outputs": [
    {
     "ename": "AttributeError",
     "evalue": "'MyClass' object has no attribute '__dict__'",
     "output_type": "error",
     "traceback": [
      "\u001b[0;31m---------------------------------------------------------------------------\u001b[0m",
      "\u001b[0;31mAttributeError\u001b[0m                            Traceback (most recent call last)",
      "\u001b[0;32m<ipython-input-172-79c6e441a218>\u001b[0m in \u001b[0;36m<module>\u001b[0;34m\u001b[0m\n\u001b[1;32m      8\u001b[0m \u001b[0mfoo\u001b[0m \u001b[0;34m=\u001b[0m \u001b[0mMyClass\u001b[0m\u001b[0;34m(\u001b[0m\u001b[0;36m222\u001b[0m\u001b[0;34m)\u001b[0m\u001b[0;34m\u001b[0m\u001b[0;34m\u001b[0m\u001b[0m\n\u001b[1;32m      9\u001b[0m \u001b[0mfoo\u001b[0m\u001b[0;34m.\u001b[0m\u001b[0mjust_one\u001b[0m  \u001b[0;31m# 222\u001b[0m\u001b[0;34m\u001b[0m\u001b[0;34m\u001b[0m\u001b[0m\n\u001b[0;32m---> 10\u001b[0;31m \u001b[0mfoo\u001b[0m\u001b[0;34m.\u001b[0m\u001b[0m__dict__\u001b[0m  \u001b[0;31m# AttributeError: 'MyClass' object has no attribute '__dict__'\u001b[0m\u001b[0;34m\u001b[0m\u001b[0;34m\u001b[0m\u001b[0m\n\u001b[0m\u001b[1;32m     11\u001b[0m \u001b[0mfoo\u001b[0m\u001b[0;34m.\u001b[0m\u001b[0msome_attr\u001b[0m \u001b[0;34m=\u001b[0m \u001b[0;36m5\u001b[0m  \u001b[0;31m# AttributeError: 'MyClass' object has no attribute 'some_attr'\u001b[0m\u001b[0;34m\u001b[0m\u001b[0;34m\u001b[0m\u001b[0m\n\u001b[1;32m     12\u001b[0m \u001b[0mfoo\u001b[0m\u001b[0;34m.\u001b[0m\u001b[0mjust_one\u001b[0m \u001b[0;34m=\u001b[0m \u001b[0;34m'It works'\u001b[0m\u001b[0;34m\u001b[0m\u001b[0;34m\u001b[0m\u001b[0m\n",
      "\u001b[0;31mAttributeError\u001b[0m: 'MyClass' object has no attribute '__dict__'"
     ]
    }
   ],
   "source": [
    "class MyClass:\n",
    "    __slots__ = ['just_one']\n",
    "    \n",
    "    def __init__(self, number):\n",
    "        self.just_one = number\n",
    "\n",
    "\n",
    "foo = MyClass(222)\n",
    "foo.just_one  # 222\n",
    "foo.__dict__  # AttributeError\n",
    "foo.some_attr = 5  # AttributeError\n",
    "foo.just_one = 'It works'"
   ]
  },
  {
   "cell_type": "code",
   "execution_count": 163,
   "metadata": {},
   "outputs": [
    {
     "data": {
      "text/plain": [
       "'red'"
      ]
     },
     "execution_count": 163,
     "metadata": {},
     "output_type": "execute_result"
    }
   ],
   "source": [
    "from collections import namedtuple\n",
    "\n",
    "Car = namedtuple('Car' , 'color mileage')\n",
    "\n",
    "car_first = Car('blue', 9999) or Car(color='red', mileage=5544)\n",
    "car_second = Car('yellow', 9999) and Car(color='red', mileage=5544)\n",
    "\n",
    "car_first.color  # ???\n",
    "car_second.color  # ???"
   ]
  },
  {
   "cell_type": "code",
   "execution_count": 204,
   "metadata": {},
   "outputs": [
    {
     "data": {
      "text/plain": [
       "<bound method MyClass.bound_method of <__main__.MyClass object at 0x7f2bf3db5a58>>"
      ]
     },
     "execution_count": 204,
     "metadata": {},
     "output_type": "execute_result"
    }
   ],
   "source": [
    "'''Функция и метод. Отличие терминов в Питоне. Метод существует при каком то классе, связаная функция bound пример из консоли.\n",
    "метод классса может не получать self\n",
    "'''\n",
    "def just_func():\n",
    "    pass\n",
    "\n",
    "class MyClass:\n",
    "    def bound_method(self):\n",
    "        pass\n",
    "\n",
    "\n",
    "just_func  # <function __main__.just_func()>\n",
    "MyClass().bound_method  # <bound method ..."
   ]
  },
  {
   "cell_type": "code",
   "execution_count": 202,
   "metadata": {},
   "outputs": [],
   "source": [
    "class SomeClass:\n",
    "    \n",
    "    # bound_method\n",
    "    def __init__(self, number):\n",
    "        self.number = number\n",
    "    \n",
    "    # function\n",
    "    @staticmethod\n",
    "    def just_function():\n",
    "        return \"I cannot change class instance\"\n",
    "    \n",
    "    # bound_method\n",
    "    @classmethod\n",
    "    def create_new_object(cls, *args, **kwargs):\n",
    "        return cls(*args, **kwargs)\n",
    "\n",
    "\n",
    "foo = SomeClass(5)\n",
    "bar = foo.create_new_object(10)\n",
    "foo is bar  # False"
   ]
  },
  {
   "cell_type": "code",
   "execution_count": 234,
   "metadata": {},
   "outputs": [
    {
     "data": {
      "text/plain": [
       "32.55"
      ]
     },
     "execution_count": 234,
     "metadata": {},
     "output_type": "execute_result"
    }
   ],
   "source": [
    "'''\n",
    "Декоратор @property Изменяет поведение при get, в основе его лежат дескрипторы, подробно в следующих лекциях.\n",
    "Это метод, который предоставляет интерфейс атрибута и рассчитывается при каждом вызове\n",
    "Например для подсчета чего то на основе атрибутов класса\n",
    "можно так же изменить поведение при set и delete\n",
    "'''\n",
    "class Temperature:\n",
    "    \n",
    "    # temperature kelvin\n",
    "    def __init__(self, kelvin: float):\n",
    "        self.kelvin = kelvin\n",
    "    \n",
    "    @property\n",
    "    def celsius(self):\n",
    "        celsius = self.kelvin - 273.15\n",
    "        return round(celsius, 2)\n",
    "    \n",
    "\n",
    "t = Temperature(305.7)\n",
    "t.celsius  # 32.55"
   ]
  },
  {
   "cell_type": "code",
   "execution_count": 235,
   "metadata": {},
   "outputs": [],
   "source": [
    "class Temperature:\n",
    "    \n",
    "    # temperature kelvin\n",
    "    def __init__(self, kelvin: float):\n",
    "        self.kelvin = kelvin\n",
    "    \n",
    "    @property\n",
    "    def celsius(self):\n",
    "        celsius = self.kelvin - 273.15\n",
    "        return round(celsius, 2)\n",
    "        \n",
    "    @celsius.setter\n",
    "    def celsius(self, celsius):\n",
    "        self.kelvin = celsius + 273.15\n",
    "\n",
    "    @celsius.deleter\n",
    "    def celsius(self):\n",
    "        self.kelvin = None\n",
    "\n",
    "t = Temperature(305.7)\n",
    "\n",
    "t.celsius = 40\n",
    "t.kelvin  # 313.15\n",
    "t.celsius # 40.0\n",
    "\n",
    "del t.celsius\n",
    "t.kelvin  # None"
   ]
  },
  {
   "cell_type": "code",
   "execution_count": 237,
   "metadata": {},
   "outputs": [],
   "source": [
    "class Temperature:\n",
    "    \n",
    "    # temperature kelvin\n",
    "    def __init__(self, kelvin: float):\n",
    "        self.kelvin = kelvin\n",
    "    \n",
    "    def _get_celsius(self):\n",
    "        celsius = self.kelvin - 273.15\n",
    "        return round(celsius, 2)\n",
    "        \n",
    "    def _set_celsius(self, celsius):\n",
    "        self.kelvin = celsius + 273.15\n",
    "\n",
    "    def _delete_celsius(self):\n",
    "        self.kelvin = None\n",
    "    \n",
    "    celsius = property(_get_celsius, _set_celsius, _delete_celsius)"
   ]
  },
  {
   "cell_type": "code",
   "execution_count": 271,
   "metadata": {},
   "outputs": [
    {
     "data": {
      "text/plain": [
       "-9223363297682890096"
      ]
     },
     "execution_count": 271,
     "metadata": {},
     "output_type": "execute_result"
    }
   ],
   "source": [
    "#<singleton>\n",
    "import functools\n",
    "\n",
    "def singleton(cls):\n",
    "    instance = None\n",
    "    \n",
    "    @functools.wraps(cls)\n",
    "    def inner(*args, **kwargs):\n",
    "        nonlocal instance\n",
    "        if instance is None:\n",
    "            instance = cls(*args, **kwargs)\n",
    "        return instance\n",
    "    \n",
    "    return inner\n",
    "\n",
    "class MyClass:\n",
    "    \"\"\"Do nothing\"\"\"\n",
    "\n",
    "first, second = MyClass(), MyClass()\n",
    "first is second  # False\n",
    "first.__hash__()  # 8739171885120\n",
    "second.__hash__()  # 8739171885085\n",
    "\n",
    "@singleton\n",
    "class MyClass:\n",
    "    \"\"\"Do nothing\"\"\"\n",
    "    \n",
    "first, second = MyClass(), MyClass()\n",
    "first is second  # True\n",
    "first.__hash__()  # 8739171902840\n",
    "second.__hash__()  # 8739171902840"
   ]
  },
  {
   "cell_type": "code",
   "execution_count": 341,
   "metadata": {},
   "outputs": [
    {
     "ename": "FrozenInstanceError",
     "evalue": "cannot assign to field 'name'",
     "output_type": "error",
     "traceback": [
      "\u001b[0;31m---------------------------------------------------------------------------\u001b[0m",
      "\u001b[0;31mFrozenInstanceError\u001b[0m                       Traceback (most recent call last)",
      "\u001b[0;32m<ipython-input-341-cb99144793df>\u001b[0m in \u001b[0;36m<module>\u001b[0;34m\u001b[0m\n\u001b[1;32m     17\u001b[0m \u001b[0mfoo\u001b[0m\u001b[0;34m.\u001b[0m\u001b[0mtotal_cost\u001b[0m\u001b[0;34m(\u001b[0m\u001b[0;34m)\u001b[0m  \u001b[0;31m# 2000.0\u001b[0m\u001b[0;34m\u001b[0m\u001b[0;34m\u001b[0m\u001b[0m\n\u001b[1;32m     18\u001b[0m \u001b[0;34m\u001b[0m\u001b[0m\n\u001b[0;32m---> 19\u001b[0;31m \u001b[0mfoo\u001b[0m\u001b[0;34m.\u001b[0m\u001b[0mname\u001b[0m \u001b[0;34m=\u001b[0m \u001b[0;36m1\u001b[0m  \u001b[0;31m# FrozenInstanceError: cannot assign to field 'name'\u001b[0m\u001b[0;34m\u001b[0m\u001b[0;34m\u001b[0m\u001b[0m\n\u001b[0m\u001b[1;32m     20\u001b[0m \u001b[0mfoo\u001b[0m\u001b[0;34m.\u001b[0m\u001b[0manother\u001b[0m \u001b[0;34m=\u001b[0m \u001b[0;32mNone\u001b[0m  \u001b[0;31m# FrozenInstanceError: cannot assign to field 'another'\u001b[0m\u001b[0;34m\u001b[0m\u001b[0;34m\u001b[0m\u001b[0m\n",
      "\u001b[0;32m<string>\u001b[0m in \u001b[0;36m__setattr__\u001b[0;34m(self, name, value)\u001b[0m\n",
      "\u001b[0;31mFrozenInstanceError\u001b[0m: cannot assign to field 'name'"
     ]
    }
   ],
   "source": [
    "from dataclasses import dataclass\n",
    "from typing import Any\n",
    "\n",
    "@dataclass(frozen=True)\n",
    "class DataInventoryItem:\n",
    "    name: str\n",
    "    unit_price: float\n",
    "    quantity_on_hand: int\n",
    "\n",
    "    def total_cost(self) -> float:\n",
    "        return self.unit_price * self.quantity_on_hand\n",
    "\n",
    "\n",
    "foo = DataInventoryItem('chair', 500.0, 4)\n",
    "bar = DataInventoryItem('table', 2000.0, 6)\n",
    "foo == bar # False\n",
    "foo.total_cost()  # 2000.0\n",
    "\n",
    "foo.name = 1  # FrozenInstanceError: cannot assign to field 'name'\n",
    "foo.another = None  # FrozenInstanceError: cannot assign to field 'another'"
   ]
  },
  {
   "cell_type": "code",
   "execution_count": 342,
   "metadata": {},
   "outputs": [
    {
     "data": {
      "text/plain": [
       "12000.0"
      ]
     },
     "execution_count": 342,
     "metadata": {},
     "output_type": "execute_result"
    }
   ],
   "source": [
    "# Python 3.6+\n",
    "from typing import NamedTuple\n",
    "\n",
    "class TupleInventoryItem(NamedTuple):\n",
    "    name: str\n",
    "    unit_price: float\n",
    "    quantity_on_hand: int\n",
    "    \n",
    "    def total_cost(self) -> float:\n",
    "        return self.unit_price * self.quantity_on_hand\n",
    "\n",
    "    \n",
    "foo = TupleInventoryItem('table', 2000.0, 6)\n",
    "foo.total_cost()  # 12000.0"
   ]
  },
  {
   "cell_type": "code",
   "execution_count": 349,
   "metadata": {},
   "outputs": [],
   "source": [
    "from dataclasses import dataclass\n",
    "from typing import NamedTuple\n",
    "\n",
    "\n",
    "@dataclass(frozen=True)\n",
    "class FrozenData:\n",
    "    name: str\n",
    "    unit_price: float\n",
    "    quantity_on_hand: int\n",
    "\n",
    "    def total_cost(self) -> float:\n",
    "        return self.unit_price * self.quantity_on_hand\n",
    "\n",
    "\n",
    "@dataclass\n",
    "class Data:\n",
    "    name: str\n",
    "    unit_price: float\n",
    "    quantity_on_hand: int\n",
    "\n",
    "    def total_cost(self) -> float:\n",
    "        return self.unit_price * self.quantity_on_hand\n",
    "\n",
    "\n",
    "@dataclass\n",
    "class SlotsData:\n",
    "    __slots__ = ['name', 'unit_price', 'quantity_on_hand']\n",
    "    name: str\n",
    "    unit_price: float\n",
    "    quantity_on_hand: int\n",
    "\n",
    "    def total_cost(self) -> float:\n",
    "        return self.unit_price * self.quantity_on_hand\n",
    "\n",
    "\n",
    "class TupleClass(NamedTuple):\n",
    "    name: str\n",
    "    unit_price: float\n",
    "    quantity_on_hand: int\n",
    "\n",
    "    def total_cost(self) -> float:\n",
    "        return self.unit_price * self.quantity_on_hand"
   ]
  },
  {
   "cell_type": "code",
   "execution_count": 350,
   "metadata": {},
   "outputs": [
    {
     "ename": "ModuleNotFoundError",
     "evalue": "No module named 'pympler'",
     "output_type": "error",
     "traceback": [
      "\u001b[0;31m---------------------------------------------------------------------------\u001b[0m",
      "\u001b[0;31mModuleNotFoundError\u001b[0m                       Traceback (most recent call last)",
      "\u001b[0;32m<ipython-input-350-ade3384b5064>\u001b[0m in \u001b[0;36m<module>\u001b[0;34m\u001b[0m\n\u001b[0;32m----> 1\u001b[0;31m \u001b[0;32mfrom\u001b[0m \u001b[0mpympler\u001b[0m \u001b[0;32mimport\u001b[0m \u001b[0masizeof\u001b[0m\u001b[0;34m\u001b[0m\u001b[0;34m\u001b[0m\u001b[0m\n\u001b[0m\u001b[1;32m      2\u001b[0m \u001b[0;32mfrom\u001b[0m \u001b[0mtimeit\u001b[0m \u001b[0;32mimport\u001b[0m \u001b[0mtimeit\u001b[0m\u001b[0;34m\u001b[0m\u001b[0;34m\u001b[0m\u001b[0m\n\u001b[1;32m      3\u001b[0m \u001b[0;34m\u001b[0m\u001b[0m\n\u001b[1;32m      4\u001b[0m \u001b[0;34m\u001b[0m\u001b[0m\n\u001b[1;32m      5\u001b[0m \u001b[0margs\u001b[0m \u001b[0;34m=\u001b[0m \u001b[0;34m'table'\u001b[0m\u001b[0;34m,\u001b[0m \u001b[0;36m2000.0\u001b[0m\u001b[0;34m,\u001b[0m \u001b[0;36m6\u001b[0m\u001b[0;34m\u001b[0m\u001b[0;34m\u001b[0m\u001b[0m\n",
      "\u001b[0;31mModuleNotFoundError\u001b[0m: No module named 'pympler'"
     ]
    }
   ],
   "source": [
    "from pympler import asizeof\n",
    "from timeit import timeit\n",
    "\n",
    "\n",
    "args = 'table', 2000.0, 6\n",
    "simple_data = Data(*args)\n",
    "frozen_data = FrozenData(*args)\n",
    "tuple_data = TupleClass(*args)\n",
    "slots_data = SlotsData(*args)\n",
    "\n",
    "number = 100_000_000\n",
    "globals_ = globals()\n",
    "\n",
    "print(asizeof.asizesof(simple_data, frozen_data, tuple_data, slots_data))\n",
    "\n",
    "print(timeit('simple_data.name', number=number, globals=globals_))\n",
    "print(timeit('frozen_data.name', number=number, globals=globals_))\n",
    "print(timeit('tuple_data.name', number=number, globals=globals_))\n",
    "print(timeit('slots_data.name', number=number, globals=globals_))"
   ]
  },
  {
   "cell_type": "code",
   "execution_count": null,
   "metadata": {},
   "outputs": [],
   "source": []
  }
 ],
 "metadata": {
  "kernelspec": {
   "display_name": "Python 3",
   "language": "python",
   "name": "python3"
  },
  "language_info": {
   "codemirror_mode": {
    "name": "ipython",
    "version": 3
   },
   "file_extension": ".py",
   "mimetype": "text/x-python",
   "name": "python",
   "nbconvert_exporter": "python",
   "pygments_lexer": "ipython3",
   "version": "3.7.3"
  }
 },
 "nbformat": 4,
 "nbformat_minor": 2
}
