{
 "cells": [
  {
   "cell_type": "markdown",
   "metadata": {
    "slideshow": {
     "slide_type": "slide"
    }
   },
   "source": [
    "![figure](img/figure.png)\n",
    "\n",
    "# Tests \n",
    "\n",
    "- When?\n",
    "- Why?\n",
    "- How?\n",
    "\n",
    "\n",
    "\n"
   ]
  },
  {
   "cell_type": "markdown",
   "metadata": {
    "slideshow": {
     "slide_type": "slide"
    }
   },
   "source": [
    "## When? \n",
    "\n",
    "Always!\n",
    "\n",
    "Exceptions:\n",
    "- This code will be thrown away soon  \n",
    "  - Challenge solving (haccerrank.com, leetcode.com)\n",
    "  - Code that runs once\n",
    "  - code that does not require quality Prototypes, POC(prove of concept) \n",
    "- Technical code that has a single purpose and runned automatically\n",
    "  - Automation scripts \n",
    "\n"
   ]
  },
  {
   "cell_type": "markdown",
   "metadata": {
    "slideshow": {
     "slide_type": "slide"
    }
   },
   "source": [
    "# Why?\n",
    "\n",
    "- To be sure that your code do what you ask it to do (finding bug is side effect)\n",
    "- Get fast and precise feedback \n",
    "- Improve speed of introducing changes\n",
    "- Reduce time spent in dubugging\n",
    "- Remove fear of changes\n",
    "- Force you to have an architecture (boundaries management)\n",
    "- You think what you write. \n",
    "- Tests are code documentation"
   ]
  },
  {
   "cell_type": "markdown",
   "metadata": {
    "slideshow": {
     "slide_type": "slide"
    }
   },
   "source": [
    "# How?\n",
    "- Tests are first class citizens\n",
    "- You need to have an architecture to build tests"
   ]
  },
  {
   "cell_type": "markdown",
   "metadata": {
    "slideshow": {
     "slide_type": "slide"
    }
   },
   "source": [
    "## What is unit?\n",
    "- function\n",
    "- class\n",
    "- method\n",
    "- module\n",
    "- package\n",
    "- service\n",
    "\n",
    "Unit is a chunk of code that can be tested. \n"
   ]
  },
  {
   "cell_type": "markdown",
   "metadata": {
    "slideshow": {
     "slide_type": "slide"
    }
   },
   "source": [
    "## Test pyramid\n",
    "\n",
    "![https://martinfowler.com/articles/practical-test-pyramid.html](img/test_pyramid.png)\n"
   ]
  },
  {
   "cell_type": "markdown",
   "metadata": {
    "slideshow": {
     "slide_type": "slide"
    }
   },
   "source": [
    "# Application modules\n",
    "![arch_tree](img/arch_tree.png)\n"
   ]
  },
  {
   "cell_type": "markdown",
   "metadata": {
    "slideshow": {
     "slide_type": "slide"
    }
   },
   "source": [
    "# Test failures in module 6\n",
    "\n",
    "![arch_tree](img/arch_tree_red.png)\n"
   ]
  },
  {
   "cell_type": "markdown",
   "metadata": {
    "slideshow": {
     "slide_type": "slide"
    }
   },
   "source": [
    "# Example\n",
    "\n",
    "```python\n",
    "def get_color(img) -> str:\n",
    "    \"\"\"Return one of colors from Red,Green,Blue that uses more often.\"\"\"\n",
    "\n",
    "\n",
    "def get_shape(img) -> bool:\n",
    "    \"\"\"\n",
    "    Return one of shapes: Box, Circle. \n",
    "    \"\"\"\n",
    "\n",
    "def get_image_info(img):\n",
    "    shape = get_shape(img)\n",
    "    color = get_color(img)\n",
    "    return f\"This is {color} {shape}.\"\n",
    "```"
   ]
  },
  {
   "cell_type": "markdown",
   "metadata": {
    "slideshow": {
     "slide_type": "slide"
    }
   },
   "source": [
    "# Reversed test pyramid\n",
    "\n",
    "3 colors x 2 shapes => 6 tests, 6 images\n",
    "\n",
    "```\n",
    "test_red_box\n",
    "test_red_cycle\n",
    "test_green_box\n",
    "test_green_cycle\n",
    "test_blue_box\n",
    "test_blue_cycle\n",
    "```"
   ]
  },
  {
   "cell_type": "markdown",
   "metadata": {
    "slideshow": {
     "slide_type": "slide"
    }
   },
   "source": [
    "# Test pyramid\n",
    "\n",
    "3 colors => 3 test 3 images\n",
    "2 shapes => 2 test 2 images\n",
    "1 info => 1 test 1 image\n",
    "\n",
    "\n",
    "```\n",
    "test_red\n",
    "test_blue\n",
    "test_green\n",
    "\n",
    "test_box\n",
    "test_cycle\n",
    "\n",
    "test_info\n",
    "```"
   ]
  },
  {
   "cell_type": "markdown",
   "metadata": {
    "slideshow": {
     "slide_type": "slide"
    }
   },
   "source": [
    "# Add a new color\n",
    "\n",
    "```python\n",
    "def get_color(img) -> str:\n",
    "    \"\"\"Return one of colors from Red,Green,Blue,Violent that uses more often.\"\"\"\n",
    "```\n",
    "\n",
    "Inverted pyramid: 4 * 2 -> 8 tests\n",
    "Proper pyramid:  4 + 2 + 1 -> 7 tests\n"
   ]
  },
  {
   "cell_type": "markdown",
   "metadata": {
    "slideshow": {
     "slide_type": "slide"
    }
   },
   "source": [
    "# Rename color \n",
    "\n",
    "```python\n",
    "def get_color(img) -> str:\n",
    "    \"\"\"Return one of colors from Red,Green,Blue,Violt that uses more often.\"\"\"\n",
    "```\n",
    "\n",
    "Inverted pyramid: 2 test changed\n",
    "Proper pyramid:  1 test changed"
   ]
  },
  {
   "cell_type": "markdown",
   "metadata": {
    "slideshow": {
     "slide_type": "slide"
    }
   },
   "source": [
    "## Test requirements\n",
    "\n",
    "- independent\n",
    "- informative  \n"
   ]
  },
  {
   "cell_type": "markdown",
   "metadata": {
    "slideshow": {
     "slide_type": "slide"
    }
   },
   "source": [
    "# Find testing scenarious\n",
    "\n",
    "- Positive\n",
    "- Negative"
   ]
  },
  {
   "cell_type": "markdown",
   "metadata": {
    "slideshow": {
     "slide_type": "slide"
    }
   },
   "source": [
    "# Positive\n",
    "\n",
    "- most common\n",
    "- min, max\n",
    "- border, border + 1, border - 1\n",
    "- special 0, Null, special for function\n",
    "\n",
    "# Negative\n",
    "- exception raised with proper message\n"
   ]
  },
  {
   "cell_type": "markdown",
   "metadata": {
    "slideshow": {
     "slide_type": "slide"
    }
   },
   "source": [
    "# Keep it simple\n",
    "\n",
    "## bad\n",
    "```python\n",
    "assert find_maximal_subarray_sum([1, 3, -1, -3, 5, 3, 6, 7,  5, 3, 6, 7, -7 -2, 3, -15, 77, 11, -3, -5, 99], 10) == 179\n",
    "```\n",
    "\n",
    "```python\n",
    "file_maker(\n",
    "        [i for i in range(2)] + [-10] + [i + 10 for i in range(2)],\n",
    "        \"data_test_task03_min-10_max19.txt\",\n",
    "        )\n",
    "assert find_maximum_and_minimum(\"data_test_task03_min1_max1.txt\"), (1, 1)\n",
    "```\n",
    "\n",
    "\n",
    "## good\n",
    "```python\n",
    "assert find_maximal_subarray_sum([1, 2, 2], 10) == 6\n",
    "```"
   ]
  },
  {
   "cell_type": "markdown",
   "metadata": {
    "slideshow": {
     "slide_type": "slide"
    }
   },
   "source": [
    "# Guess a variable by name by its value\n",
    "\n",
    "- 42\n",
    "- \"ostolop\"\n",
    "- \"АВС\""
   ]
  },
  {
   "cell_type": "markdown",
   "metadata": {
    "slideshow": {
     "slide_type": "slide"
    }
   },
   "source": [
    "### Arrange Act Assert | Given When Then\n",
    "\n",
    "```python\n",
    "def test_constuctor_call_produces_object():\n",
    "    args = [1, 2, 3]  # Arrange | Given | constuctor\n",
    "    foo = Foo()  # Act | When | call\n",
    "    assert foo.sum = 6  # Assert | Then | produce_object\n",
    "```"
   ]
  },
  {
   "cell_type": "markdown",
   "metadata": {
    "slideshow": {
     "slide_type": "slide"
    }
   },
   "source": [
    "# pytest: helps you write better programs\n",
    "\n",
    "The pytest framework makes it easy to write small tests, yet scales to support complex functional testing for applications and libraries"
   ]
  },
  {
   "cell_type": "markdown",
   "metadata": {
    "slideshow": {
     "slide_type": "slide"
    }
   },
   "source": [
    "# test runner\n",
    "\n",
    "pytest will run all files of the form test_*.py or *_test.py in the current directory and its subdirectories. More generally, it follows standard test discovery rules."
   ]
  },
  {
   "cell_type": "markdown",
   "metadata": {
    "slideshow": {
     "slide_type": "slide"
    }
   },
   "source": [
    "# pytest fixtures: explicit, modular, scalable\n",
    "\n",
    "- function\n",
    "- scope\n",
    "- nested\n",
    "- builtin fixtures\n",
    "- tear down\n",
    "- autouse"
   ]
  },
  {
   "cell_type": "markdown",
   "metadata": {
    "slideshow": {
     "slide_type": "slide"
    }
   },
   "source": [
    "# Fixture is a function that can be passed as an argument to test\n",
    "\n",
    "```python\n",
    "import pytest\n",
    "\n",
    "\n",
    "@pytest.fixture\n",
    "def smtp_connection():\n",
    "    import smtplib\n",
    "\n",
    "    return smtplib.SMTP(\"smtp.gmail.com\", 587, timeout=5)\n",
    "\n",
    "\n",
    "def test_ehlo(smtp_connection):\n",
    "    response, msg = smtp_connection.ehlo()\n",
    "    assert response == 250\n",
    "    assert 0  # for demo purposes\n",
    "```"
   ]
  },
  {
   "cell_type": "markdown",
   "metadata": {
    "slideshow": {
     "slide_type": "slide"
    }
   },
   "source": [
    "# Test run cycle\n",
    "- Collect tests\n",
    "- Collect fixtures\n",
    "- Run tests"
   ]
  },
  {
   "cell_type": "markdown",
   "metadata": {
    "slideshow": {
     "slide_type": "slide"
    }
   },
   "source": [
    "# Fixture scopes\n",
    "- function\n",
    "- class\n",
    "- module\n",
    "- package\n",
    "- session\n",
    "\n",
    "```python\n",
    "# content of conftest.py\n",
    "import pytest\n",
    "import smtplib\n",
    "\n",
    "\n",
    "@pytest.fixture(scope=\"module\")\n",
    "def smtp_connection():\n",
    "    return smtplib.SMTP(\"smtp.gmail.com\", 587, timeout=5)\n",
    "```"
   ]
  },
  {
   "cell_type": "markdown",
   "metadata": {
    "slideshow": {
     "slide_type": "slide"
    }
   },
   "source": [
    "# Nested fixtures\n",
    "\n",
    "```python\n",
    "import pytest\n",
    "\n",
    "\n",
    "@pytest.fixture\n",
    "def john():\n",
    "    return \"John\"\n",
    "\n",
    "@pytest.fixture\n",
    "def user_john(name):\n",
    "    return User(name)\n",
    "```"
   ]
  },
  {
   "cell_type": "markdown",
   "metadata": {
    "slideshow": {
     "slide_type": "slide"
    }
   },
   "source": [
    "Fixtures are defined using the @pytest.fixture decorator, described below. Pytest has useful built-in fixtures, listed here for reference:\n",
    "\n",
    "- capfd Capture, as text, output to file descriptors 1 and 2.\n",
    "- capfdbinary Capture, as bytes, output to file descriptors 1 and 2. \n",
    "- caplog Control logging and access log entries.\n",
    "- capsys Capture, as text, output to sys.stdout and sys.stderr.\n",
    "- capsysbinary Capture, as bytes, output to sys.stdout and sys.stderr.\n",
    "- cache Store and retrieve values across pytest runs.\n",
    "- doctest_namespace Provide a dict injected into the docstests namespace.\n",
    "- monkeypatch Temporarily modify classes, functions, dictionaries, os.environ, and other objects.\n",
    "- pytestconfig Access to configuration values, pluginmanager and plugin hooks.\n",
    "- record_property Add extra properties to the test.\n",
    "- record_testsuite_property Add extra properties to the test suite.\n",
    "- recwarn Record warnings emitted by test functions.\n",
    "- request Provide information on the executing test function.\n",
    "- testdir Provide a temporary test directory to aid in running, and testing, pytest plugins.\n",
    "- tmp_path Provide a pathlib.Path object to a temporary directory which is unique to each test function.\n",
    "- tmp_path_factory Make session-scoped temporary directories and return pathlib.Path objects."
   ]
  },
  {
   "cell_type": "markdown",
   "metadata": {},
   "source": [
    "# monkeypatch\n",
    "\n",
    "- monkeypatch.setattr(obj, name, value, raising=True)\n",
    "- monkeypatch.delattr(obj, name, raising=True)\n",
    "- monkeypatch.setitem(mapping, name, value)\n",
    "- monkeypatch.delitem(obj, name, raising=True)\n",
    "- monkeypatch.setenv(name, value, prepend=False)\n",
    "- monkeypatch.delenv(name, raising=True)\n",
    "- monkeypatch.syspath_prepend(path)\n",
    "- monkeypatch.chdir(path)\n",
    "\n",
    "```python\n",
    "import sys\n",
    "\n",
    "\n",
    "def foo():\n",
    "    return 1\n",
    "\n",
    "\n",
    "def boo(x):\n",
    "    return x + foo()\n",
    "\n",
    "\n",
    "def test_boo_with_monkeypatch(monkeypatch):\n",
    "    this_module = sys.modules[__name__]\n",
    "    monkeypatch.setattr(this_module, \"foo\", lambda: 2)\n",
    "    assert boo(1) == 3\n",
    "\n",
    "\n",
    "def test_boo(monkeypatch):\n",
    "    assert boo(1) == 2\n",
    "```"
   ]
  },
  {
   "cell_type": "markdown",
   "metadata": {},
   "source": [
    "# Fixture setUp and tearDown\n",
    "\n",
    "```python\n",
    "import pytest\n",
    "\n",
    "\n",
    "@pytest.fixture\n",
    "def connection():\n",
    "    con = get_connection()\n",
    "    yield con\n",
    "    con.close()\n",
    "```"
   ]
  },
  {
   "cell_type": "markdown",
   "metadata": {
    "slideshow": {
     "slide_type": "slide"
    }
   },
   "source": [
    "# Use fixture without adding argument\n",
    "\n",
    "```python\n",
    "# content of test_setenv.py\n",
    "import os\n",
    "import pytest\n",
    "\n",
    "\n",
    "@pytest.mark.usefixtures(\"cleandir\")\n",
    "class TestDirectoryInit:\n",
    "    def test_cwd_starts_empty(self):\n",
    "        assert os.listdir(os.getcwd()) == []\n",
    "        with open(\"myfile\", \"w\") as f:\n",
    "            f.write(\"hello\")\n",
    "\n",
    "    def test_cwd_again_starts_empty(self):\n",
    "        assert os.listdir(os.getcwd()) == []\n",
    "```"
   ]
  },
  {
   "cell_type": "markdown",
   "metadata": {
    "slideshow": {
     "slide_type": "slide"
    }
   },
   "source": [
    "# Run before any test\n",
    "\n",
    "```python\n",
    "@pytest.fixture(autouse=True)\n",
    "def a1():\n",
    "    order.append(\"a1\")\n",
    "```"
   ]
  },
  {
   "cell_type": "markdown",
   "metadata": {
    "slideshow": {
     "slide_type": "slide"
    }
   },
   "source": [
    "# Test generation\n",
    "\n",
    "```python\n",
    "import pytest\n",
    "\n",
    "\n",
    "@pytest.mark.parametrize(\"color\", [\"red\", \"green\"])\n",
    "@pytest.mark.parametrize(\"shape\", [\"box\", \"circle\"])\n",
    "def test_shape(shape, color):\n",
    "    assert True\n",
    "```\n",
    "\n",
    "\n",
    "```\n",
    "test/test_example.py::test_shape[box-red] PASSED                                                                         \n",
    "test/test_example.py::test_shape[box-green] PASSED                                                                       \n",
    "test/test_example.py::test_shape[circle-red] PASSED                                                               \n",
    "test/test_example.py::test_shape[circle-green] PASSED   \n",
    "```"
   ]
  },
  {
   "cell_type": "markdown",
   "metadata": {
    "slideshow": {
     "slide_type": "slide"
    }
   },
   "source": [
    "# bad\n",
    "```python\n",
    "@pytest.mark.parametrize(\n",
    "    [\"value\", \"expected_result\"],\n",
    "    [\n",
    "        ([0, 1, 1, 2], True),\n",
    "        ([], False),\n",
    "        ([0], False),\n",
    "        ([0, 1, 1, 3], False),\n",
    "        ([1, 1, 2], False),\n",
    "    ],\n",
    ")\n",
    "def test_check_fibonacci(value: Sequence[int], expected_result: bool):\n",
    "    actual_result = check_fibonacci(value)\n",
    "\n",
    "    assert actual_result == expected_result\n",
    "```\n",
    "\n"
   ]
  },
  {
   "cell_type": "markdown",
   "metadata": {
    "slideshow": {
     "slide_type": "slide"
    }
   },
   "source": [
    "# good\n",
    "```python\n",
    "\n",
    "@pytest.mark.parametrize(\n",
    "    \"value\",\n",
    "    [\n",
    "        [0, 1, 1, 2]\n",
    "\n",
    "    ],\n",
    ")\n",
    "def test_sequence_is_fibonacci(value: Sequence[int]):\n",
    "    assert check_fibonacci(value) is True\n",
    "\n",
    "\n",
    "@pytest.mark.parametrize(\n",
    "    \"value\",\n",
    "    [\n",
    "        [],\n",
    "        [0],\n",
    "        [0, 1, 1, 3],\n",
    "        [1, 1, 2],\n",
    "    ],\n",
    ")\n",
    "def test_sequence_is_not_fibonacci(value: Sequence[int]):\n",
    "    assert check_fibonacci(value) is False\n",
    "```"
   ]
  },
  {
   "cell_type": "markdown",
   "metadata": {
    "slideshow": {
     "slide_type": "slide"
    }
   },
   "source": [
    "# conftest.py\n",
    "\n",
    "- stores fixtures that will be available to all files in module\n",
    "- can be present in each test subfolder\n",
    "- if multiple files are present in hierarchy, all of the executed"
   ]
  },
  {
   "cell_type": "markdown",
   "metadata": {},
   "source": [
    "# Unittest vs pytest\n",
    "- pytest asserts are more informative\n",
    "- pytest fixtures are more flexible that setUp and tearDown\n",
    "- pytest does not reqire to do test classes\n",
    "- pytest has plugins\n",
    "- pytest is more widly used"
   ]
  },
  {
   "cell_type": "markdown",
   "metadata": {
    "slideshow": {
     "slide_type": "slide"
    }
   },
   "source": [
    "# Typical errors\n",
    "- Many test in a singel test\n",
    "- Test coupling\n",
    "- Test only exception\n",
    "- Assert nothing\n",
    "- Not detailed assert\n",
    "- Assert floating point \n",
    "- Test your mock\n",
    "- Test unreliable sources (fail with no reason)\n",
    "- Cleanup in test body"
   ]
  },
  {
   "cell_type": "markdown",
   "metadata": {
    "slideshow": {
     "slide_type": "subslide"
    }
   },
   "source": [
    "## Many test in a singel test\n",
    "\n",
    "```python\n",
    "def test_user_...():\n",
    "    admin = User(...)\n",
    "    assert admin.get....\n",
    "    \n",
    "    user = User(...)\n",
    "    assert user.get....\n",
    "    \n",
    "    guest = User(...)\n",
    "    assert guest.get....\n",
    "```"
   ]
  },
  {
   "cell_type": "markdown",
   "metadata": {
    "slideshow": {
     "slide_type": "subslide"
    }
   },
   "source": [
    "## Test coupling\n",
    "```python\n",
    "state = True\n",
    "\n",
    "\n",
    "def test_set_state():\n",
    "    global state\n",
    "    state = False\n",
    "    assert state is False\n",
    "\n",
    "\n",
    "def test_get_state():\n",
    "    assert state is False\n",
    "```"
   ]
  },
  {
   "cell_type": "markdown",
   "metadata": {
    "slideshow": {
     "slide_type": "subslide"
    }
   },
   "source": [
    "## Test only exception\n",
    "```python\n",
    "def foo(text: str):\n",
    "    if int(text) <= 0:\n",
    "        raise ValueError(\"Positive number required\")\n",
    "\n",
    "\n",
    "def test_foo_bad():\n",
    "    with pytest.raises(ValueError):\n",
    "        foo(\"aaa\")\n",
    "\n",
    "\n",
    "def test_foo_good():\n",
    "    with pytest.raises(ValueError, match=\"Positive number required\"):\n",
    "        foo(\"aaa\")\n",
    "```"
   ]
  },
  {
   "cell_type": "markdown",
   "metadata": {
    "slideshow": {
     "slide_type": "subslide"
    }
   },
   "source": [
    "## Assert nothing\n",
    "```python\n",
    "def test_fibonacci():\n",
    "    check_fibonacci([3, 1])\n",
    "```"
   ]
  },
  {
   "cell_type": "markdown",
   "metadata": {
    "slideshow": {
     "slide_type": "subslide"
    }
   },
   "source": [
    "## Not detailed assert\n",
    "```python\n",
    "def test_minor_and_major():\n",
    "    assert major_and_minor_elem([1,2, 3])\n",
    "```"
   ]
  },
  {
   "cell_type": "markdown",
   "metadata": {
    "slideshow": {
     "slide_type": "subslide"
    }
   },
   "source": [
    "## Assert floating point \n",
    "```python\n",
    "import pytest\n",
    "\n",
    "\n",
    "def test_float_bad():\n",
    "    assert 0.1 + 0.2 == 0.3\n",
    "\n",
    "\n",
    "def test_float_good():\n",
    "    assert 0.1 + 0.2 == pytest.approx(0.3)\n",
    "```\n",
    "\n",
    "```\n",
    "    def test_float_bad():\n",
    ">       assert 0.1 + 0.2 == 0.3\n",
    "E       assert 0.30000000000000004 == 0.3\n",
    "E         +0.30000000000000004\n",
    "E         -0.3\n",
    "```"
   ]
  },
  {
   "cell_type": "markdown",
   "metadata": {
    "slideshow": {
     "slide_type": "subslide"
    }
   },
   "source": [
    "## Test your mock\n",
    "```python\n",
    "def connection_mock(url):\n",
    "    return {\"message\": \"OK\"}\n",
    "\n",
    "\n",
    "def test_connection():\n",
    "    assert connection_mock(\"http://localhost\") == {\"message\": \"OK\"}\n",
    "```"
   ]
  },
  {
   "cell_type": "markdown",
   "metadata": {
    "slideshow": {
     "slide_type": "subslide"
    }
   },
   "source": [
    "## Test unreliable sources (fail with no reason)\n",
    "```python\n",
    "def test_connection():\n",
    "    assert connect(\"http://production.com/api/v3/status\") == {\"message\": \"OK\"}\n",
    "```\n"
   ]
  },
  {
   "cell_type": "markdown",
   "metadata": {},
   "source": [
    "# Cleanup in test body\n",
    "\n",
    "```python\n",
    "def test_file():    \n",
    "    create_txt_file(text, \"test_text.txt\")\n",
    "    assert count_punctuation_chars(\"test_text.txt\") == 6\n",
    "    os.remove(\"test_text.txt\")\n",
    "```"
   ]
  },
  {
   "cell_type": "markdown",
   "metadata": {
    "slideshow": {
     "slide_type": "slide"
    }
   },
   "source": [
    "# Test doubles\n",
    "\n",
    "- Dummies\n",
    "- Fakes\n",
    "- Stubs\n",
    "- Spys \n",
    "- Mocks \n",
    "\n",
    "\n",
    "\n"
   ]
  },
  {
   "cell_type": "markdown",
   "metadata": {
    "slideshow": {
     "slide_type": "slide"
    }
   },
   "source": [
    "Mock and MagicMock objects create all attributes and methods as you access them and store details of how they have been used. You can configure them, to specify return values or limit what attributes are available, and then make assertions about how they have been used:\n",
    "\n",
    "```python\n",
    "from unittest.mock import MagicMock\n",
    "thing = ProductionClass()\n",
    "thing.method = MagicMock(return_value=3)\n",
    "thing.method(3, 4, 5, key='value')\n",
    "\n",
    "thing.method.assert_called_with(3, 4, 5, key='value')\n",
    "```"
   ]
  },
  {
   "cell_type": "markdown",
   "metadata": {
    "slideshow": {
     "slide_type": "slide"
    }
   },
   "source": [
    "# Assert call\n",
    "- assert_called()\n",
    "- assert_called_once()\n",
    "- assert_called_with(*args, **kwargs)\n",
    "- assert_called_once_with(*args, **kwargs)\n",
    "- assert_any_call(*args, **kwargs)\n",
    "- assert_has_calls(calls, any_order=False)\n",
    "- assert_not_called()\n",
    "\n",
    "```python\n",
    "mock = Mock()\n",
    "mock.method()\n",
    "\n",
    "mock.method.assert_called()\n",
    "```"
   ]
  },
  {
   "cell_type": "markdown",
   "metadata": {
    "slideshow": {
     "slide_type": "slide"
    }
   },
   "source": [
    "# Raw call information\n",
    "\n",
    "```python\n",
    "mock = MagicMock()\n",
    "result = mock(1, 2, 3)\n",
    "mock.first(a=3)\n",
    "\n",
    "mock.second()\n",
    "\n",
    "int(mock)\n",
    "\n",
    "result(1)\n",
    "\n",
    "expected = [call(1, 2, 3), call.first(a=3), call.second(),\n",
    "call.__int__(), call()(1)]\n",
    "mock.mock_calls == expected\n",
    "```"
   ]
  },
  {
   "cell_type": "markdown",
   "metadata": {
    "slideshow": {
     "slide_type": "slide"
    }
   },
   "source": [
    "# doctest\n",
    "\n",
    "```python\n",
    "def is_even(num):\n",
    "    \"\"\"\n",
    "    Return true if number is even\n",
    "\n",
    "    >>> is_even(2)\n",
    "    True\n",
    "\n",
    "    >>> is_even(3)\n",
    "    False\n",
    "    \"\"\"\n",
    "\n",
    "    return num % 2 == 0\n",
    "```"
   ]
  },
  {
   "cell_type": "markdown",
   "metadata": {
    "slideshow": {
     "slide_type": "slide"
    }
   },
   "source": [
    "# Сoverage \n",
    "\n",
    "## pytest-cov summary report\n",
    "\n",
    "```\n",
    "Name                        Stmts   Miss  Cover\n",
    "-----------------------------------------------\n",
    "test\\conftest.py               10      0   100%\n",
    "test\\test_declared_env.py      33      0   100%\n",
    "test\\test_example.py            4      1    75%\n",
    "test\\test_variables.py         67      0   100%\n",
    "-----------------------------------------------\n",
    "TOTAL                         114      1    99%\n",
    "```\n",
    "\n",
    "## pytest-cov detailed coverage report\n",
    "![htmlcov/test_test_example_py.html](img/cov.png)\n",
    "\n"
   ]
  },
  {
   "cell_type": "markdown",
   "metadata": {
    "slideshow": {
     "slide_type": "slide"
    }
   },
   "source": [
    "# 100% coverage does not mean your programm works well\n",
    "\n",
    "![htmlcov/test_test_example_py.html](img/cov100.png)"
   ]
  },
  {
   "cell_type": "markdown",
   "metadata": {
    "slideshow": {
     "slide_type": "slide"
    }
   },
   "source": [
    "# Coverage metrics\n",
    "\n",
    "| Metric name                     | for managers | for managers |\n",
    "| --- | --- | --- |\n",
    "| Coverage percent                | useless      | useless      |\n",
    "| Coverage changes since previous | important    | usefull      |\n",
    "| Coverage detailed report        | important    | useless      |"
   ]
  },
  {
   "cell_type": "markdown",
   "metadata": {
    "slideshow": {
     "slide_type": "slide"
    }
   },
   "source": [
    "# Debug\n",
    "\n",
    "- debug prints\n",
    "- debug in Pycharm  (https://www.youtube.com/watch?v=sRGpvbhOhQs)\n",
    "- debug with console\n",
    "- remote debug (Pycharm pro, Eclipse)"
   ]
  }
 ],
 "metadata": {
  "celltoolbar": "Slideshow",
  "kernelspec": {
   "display_name": "Python 3",
   "language": "python",
   "name": "python3"
  },
  "language_info": {
   "codemirror_mode": {
    "name": "ipython",
    "version": 3
   },
   "file_extension": ".py",
   "mimetype": "text/x-python",
   "name": "python",
   "nbconvert_exporter": "python",
   "pygments_lexer": "ipython3",
   "version": "3.8.1"
  }
 },
 "nbformat": 4,
 "nbformat_minor": 4
}
