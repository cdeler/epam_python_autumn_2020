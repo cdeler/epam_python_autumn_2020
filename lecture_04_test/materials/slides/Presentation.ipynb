{
 "cells": [
  {
   "cell_type": "markdown",
   "metadata": {
    "slideshow": {
     "slide_type": "slide"
    }
   },
   "source": [
    "![figure](img/figure.png)\n",
    "\n",
    "# Tests \n",
    "\n",
    "- When?\n",
    "- Why?\n",
    "- How?\n",
    "\n",
    "\n",
    "\n"
   ]
  },
  {
   "cell_type": "markdown",
   "metadata": {
    "slideshow": {
     "slide_type": "skip"
    }
   },
   "source": [
    "Так же как и на этой картинке не всегдя понятно сразу какой путь самый короткий и даже дойдя до конца это может быть не понятно. Такая же проблема есть и у тестов. Кажется что путь с тестами сложнее и длиннее, сегодня я расскажу что это не так.\n",
    "\n",
    "Тесты сокращают время разработки, но также они требуют время на написание и поддержку.\n",
    "Каждый проект, даже самый маленький, должен начинаться с решения нужно ли писать тесты или нет."
   ]
  },
  {
   "cell_type": "markdown",
   "metadata": {
    "slideshow": {
     "slide_type": "slide"
    }
   },
   "source": [
    "## When? \n",
    "\n",
    "Always!\n",
    "\n",
    "Exceptions:\n",
    "- This code will be thrown away soon  \n",
    "  - Challenge solving (haccerrank.com, leetcode.com)\n",
    "  - Code that runs once\n",
    "  - code that does not require quality Prototypes, POC(prove of concept) \n",
    "- Technical code that has a single purpose and runned automatically\n",
    "  - Automation scripts \n",
    "\n"
   ]
  },
  {
   "cell_type": "markdown",
   "metadata": {
    "slideshow": {
     "slide_type": "skip"
    }
   },
   "source": [
    "Простой ответ всегда. Но есть несколько случаев, когда тесты не окупятся. \n",
    "\n",
    "Небольшие учебные задачки, чья жизнь ограничена сдачей преподавателю (если тесты не являются частью домашнего задания).\n",
    "Одноразовый код, который запустили и выкинули. Обычно он делает одно дело и будет сложно заметить если он с ним не справился.\n",
    "\n",
    "Прототипы и прочие проверки идей, точность обычно не важна, главное скорость.\n",
    "\n",
    "И в отдельную группу стоит отнести всякие скрипты автоматизации, если что-то пойдёт не так это будет сразу видно."
   ]
  },
  {
   "cell_type": "markdown",
   "metadata": {
    "slideshow": {
     "slide_type": "slide"
    }
   },
   "source": [
    "# Why?\n",
    "\n",
    "- To be sure that your code do what you ask it to do (finding bug is side effect)\n",
    "- Get fast and precise feedback \n",
    "- Improve speed of introducing changes\n",
    "- Reduce time spent in dubugging\n",
    "- Remove fear of changes\n",
    "- Force you to have an architecture (boundaries management)\n",
    "- You think what you write. \n",
    "- Tests are code documentation"
   ]
  },
  {
   "cell_type": "markdown",
   "metadata": {
    "slideshow": {
     "slide_type": "skip"
    }
   },
   "source": [
    "Разберёмся почему нам нужны тесты.\n",
    "\n",
    "Поиск ошибок - это побочный эффект тестов. Тесты нужны чтобы убедиться, что код работает так, как вы хотите чтобы он работал.\n",
    "\n",
    "Кроме этого тесты позволяют получить обратную связь очень быстро, не дожидаясь пока кто-то найдёт ошибку. Я узнал об опечатке, из-за которой код перестал работать (syntax error) через 2 месяца от пользователя. \n",
    "\n",
    "Для того, чтобы тесты было удобно писать приходится заботиться об архитектуре. Если делать всё одним большим комом, то и тесты на это сложно писать.   \n",
    "\n",
    "Когда в системе есть тесты, то можно смело вносить изменения не боясь что-нибудь сломать. Работает не трогай, это не про проекты с нормальными тестами.\n",
    "\n",
    "Это огромное удовольствие работать с кодм покрытым тестами. Хочешь сделать рефакториг: сделал, через секнду уже знаешь, что ничего не сломал. Оптимизация алгоритма, легко. \n",
    "\n",
    "Важный момент, можно писать код не понимая, что происходит, но нельзя писать тесты без понимания.  А понимание того, что вы должны получить на выходе - это одна из самых главных вещей в программировании. Если вы не знаете язык, то вы можете найти переводчика, если вы не знаете что сказать, то и знание 10 языков не поможет.\n",
    "\n",
    "Программист - существо состоящее из лени и кофе, наличие тестов может заменить документацию.\n",
    "\n",
    "\n",
    "Тесты повышают качество кода и жизни программиста. Вас не отрывают от задачи, потому что нашли баг в коде, который вы писали день назад, и вам не надо полчаса перенастраивать окружение. Вам не приходится перелопачивать всю систему, когда после ваших изменений отвалилось что-то в дальнем углу. Клиент не бегает с криками, что дедлайн прошёл уже давно а программа не работает от слова совсем. Вы не тратите 6 часов в пятницу вечером на поиск почему система не запускается.\n",
    "\n"
   ]
  },
  {
   "cell_type": "markdown",
   "metadata": {
    "slideshow": {
     "slide_type": "slide"
    }
   },
   "source": [
    "# How?\n",
    "- Tests are first class citizens\n",
    "- You need to have an architecture to build tests"
   ]
  },
  {
   "cell_type": "markdown",
   "metadata": {
    "slideshow": {
     "slide_type": "skip"
    }
   },
   "source": [
    "Для того, чтобы писать тесты нужно понимать две вещи.  \n",
    "- Тесты - это такой же код, как и код самой программы.\n",
    "- Для написания эффективных тестов нужно заботиться об архитектуре.\n",
    "\n",
    "Архитектура - это границы и зависимости. Пример кода с границами - это встроенные модули питона. Каждый отвечает за что-то свое. И у него чётко очерчен набор того, что он может делать. Например, модуль os.path занимается работой с путями файловой системы. Если вам нужно работать с путями, то вам сюда и только сюда. Зависимости - это связи между модулями. Чем меньше зависимостей, тем проще переиспользовать модули в других местах. Модули встроенные в Питон - это кирпичики, из которых вы строете свои программы. Ваши программы тоже можно делать в виде кирпичиков, чтобы эти кирпичики можно было переиспользовать. Чем меньше у модуля внешних зависимостей, тем проще его тестировать.\n",
    "\n",
    "И теперь немного о коде тестов. Да, для них используются немного другие правила написания, тесты должны быть проще, некоторое дублирование кода не возбраняется. \n",
    "\n"
   ]
  },
  {
   "cell_type": "markdown",
   "metadata": {
    "slideshow": {
     "slide_type": "slide"
    }
   },
   "source": [
    "## What is unit?\n",
    "- function\n",
    "- class\n",
    "- method\n",
    "- module\n",
    "- package\n",
    "- service\n",
    "\n",
    "Unit is a chunk of code that can be tested. \n"
   ]
  },
  {
   "cell_type": "markdown",
   "metadata": {
    "slideshow": {
     "slide_type": "skip"
    }
   },
   "source": [
    "Главный вопрос всего автоматического тестирования - это кто же такой этот Unit. Ответов для него нет, для каждого случая решайте его самостоятельно. \n",
    "\n",
    "Это минимальный кусочек кода который можно тестировать. Для себя я выбираю такой подход, что всё, что можно протестировать в пределах репозитория без дополнительных сервисов (типа базы данных), является юнитом. \n",
    "\n",
    "Если заменить всю интеграцию на моки, то юнит тесты будут отрабатывать быстро.  \n",
    "\n",
    "Как только вы подключили к тестам базу, то всё это уже интеграция."
   ]
  },
  {
   "cell_type": "markdown",
   "metadata": {
    "slideshow": {
     "slide_type": "slide"
    }
   },
   "source": [
    "## Test pyramid\n",
    "\n",
    "![https://martinfowler.com/articles/practical-test-pyramid.html](img/test_pyramid.png)\n"
   ]
  },
  {
   "cell_type": "markdown",
   "metadata": {
    "slideshow": {
     "slide_type": "skip"
    }
   },
   "source": [
    "Пирамида тестирования символизирует оптимальную пропорцию между разного вида тестами.\n",
    "\n",
    "Внизу находятся надёжные юниттесты. Их легко писать, они практически никогда не дают случайных осечек, их легко поддерживать.\n"
   ]
  },
  {
   "cell_type": "markdown",
   "metadata": {
    "slideshow": {
     "slide_type": "slide"
    }
   },
   "source": [
    "# Application modules\n",
    "![arch_tree](img/arch_tree.png)\n"
   ]
  },
  {
   "cell_type": "markdown",
   "metadata": {
    "slideshow": {
     "slide_type": "slide"
    }
   },
   "source": [
    "# Test failures in module 6\n",
    "\n",
    "![arch_tree](img/arch_tree_red.png)\n"
   ]
  },
  {
   "cell_type": "markdown",
   "metadata": {
    "slideshow": {
     "slide_type": "skip"
    }
   },
   "source": [
    "Нам нужно исправить тесты в модулях 6, 3, 1. Изменение в тестах 6 проще, чем в тестах 3, а изменения в тестах 3 проще, чем в тестах 1.\n",
    "\n",
    "Значит, чем выше расположен тест, тем дороже его исправлять. Если мы следуем пирамиде тестирования, то мы поправим много простых тестов, несколько средних и единицы сложных.\n",
    "\n",
    "Пирамида описывает энономически выгодный подход к организации тестов. Не всегда этот подход самый лучший, но в большинстве случаев работает."
   ]
  },
  {
   "cell_type": "markdown",
   "metadata": {
    "slideshow": {
     "slide_type": "slide"
    }
   },
   "source": [
    "# Example\n",
    "\n",
    "```python\n",
    "def get_color(img) -> str:\n",
    "    \"\"\"Return one of colors from Red,Green,Blue that uses more often.\"\"\"\n",
    "\n",
    "\n",
    "def get_shape(img) -> bool:\n",
    "    \"\"\"\n",
    "    Return one of shapes: Box, Circle. \n",
    "    \"\"\"\n",
    "\n",
    "def get_image_info(img):\n",
    "    shape = get_shape(img)\n",
    "    color = get_color(img)\n",
    "    return f\"This is {color} {shape}.\"\n",
    "```"
   ]
  },
  {
   "cell_type": "markdown",
   "metadata": {
    "slideshow": {
     "slide_type": "slide"
    }
   },
   "source": [
    "# Reversed test pyramid\n",
    "\n",
    "3 colors x 2 shapes => 6 tests, 6 images\n",
    "\n",
    "```\n",
    "test_red_box\n",
    "test_red_cycle\n",
    "test_green_box\n",
    "test_green_cycle\n",
    "test_blue_box\n",
    "test_blue_cycle\n",
    "```"
   ]
  },
  {
   "cell_type": "markdown",
   "metadata": {
    "slideshow": {
     "slide_type": "skip"
    }
   },
   "source": [
    "Вот у нас есть три сущности. И зависимости между ними. Попробуем их потестировать. Для простоты рассматриваем только положительные сценарии, когда всё работает.\n",
    "\n",
    "Сначала начнем с обратной пирамиды тестирования, когда приоритет отдаётся высокоуровневым тестам. \n",
    "У нас есть 3 три цвета и 2 формы. Итого 6 тестов и шесть картинок. "
   ]
  },
  {
   "cell_type": "markdown",
   "metadata": {
    "slideshow": {
     "slide_type": "slide"
    }
   },
   "source": [
    "# Test pyramid\n",
    "\n",
    "3 colors => 3 test 3 images\n",
    "2 shapes => 2 test 2 images\n",
    "1 info => 1 test 1 image\n",
    "\n",
    "\n",
    "```\n",
    "test_red\n",
    "test_blue\n",
    "test_green\n",
    "\n",
    "test_box\n",
    "test_cycle\n",
    "\n",
    "test_info\n",
    "```"
   ]
  },
  {
   "cell_type": "markdown",
   "metadata": {
    "slideshow": {
     "slide_type": "skip"
    }
   },
   "source": [
    "Получаем те же 6 тестов, 6 картинок. Хотя при желании можно обойтись 3мя картинками. \n",
    "\n",
    "Обратите внимание, что test_info внутри вызывает код get_shape и get_color, то есть некоторые сценарии тестируются дважды. Но это вынужденное дублирование и от него ни в коем случае нельзя избавляться. Как бы верхний слой знает, что всё, что ниже протестировано, а слой снизу вообще не знает о том, что выше. Иногда эти тесты могут писаться даже разными людьми. "
   ]
  },
  {
   "cell_type": "markdown",
   "metadata": {
    "slideshow": {
     "slide_type": "slide"
    }
   },
   "source": [
    "# Add a new color\n",
    "\n",
    "```python\n",
    "def get_color(img) -> str:\n",
    "    \"\"\"Return one of colors from Red,Green,Blue,Violent that uses more often.\"\"\"\n",
    "```\n",
    "\n",
    "Inverted pyramid: 4 * 2 -> 8 tests\n",
    "Proper pyramid:  4 + 2 + 1 -> 7 tests\n"
   ]
  },
  {
   "cell_type": "markdown",
   "metadata": {
    "slideshow": {
     "slide_type": "skip"
    }
   },
   "source": [
    "Давайте добавим еще один цвет.  Фиолетовый. Если мы выбрали подход писать высокоуровневые тесты, то надо будет добавить два теста на фиолетовый квадрат и круг. Для низкоуровневого подхода достаточно будет и одного теста."
   ]
  },
  {
   "cell_type": "markdown",
   "metadata": {
    "slideshow": {
     "slide_type": "slide"
    }
   },
   "source": [
    "# Rename color \n",
    "\n",
    "```python\n",
    "def get_color(img) -> str:\n",
    "    \"\"\"Return one of colors from Red,Green,Blue,Violt that uses more often.\"\"\"\n",
    "```\n",
    "\n",
    "Inverted pyramid: 2 test changed\n",
    "Proper pyramid:  1 test changed"
   ]
  },
  {
   "cell_type": "markdown",
   "metadata": {
    "slideshow": {
     "slide_type": "skip"
    }
   },
   "source": [
    "Вот мы решили переименовать цвет, и в одном случае затронуто два теста, а в правильном один.\n",
    "А теперь представьте, что мы решили смазать краску будня и плеснули 10 цветов. И еще форму добавили: форму чешуйку и треугольник.\n",
    "    \n",
    "14 * 4 это уже больше полусотни.\n",
    "\n",
    "\n",
    "Вопрос к студентам:  вот у нас есть райские кущи и бездна отчаяния? Как нужно изменить код, чтобы райские кущи стали недоступны?\n",
    "\n",
    "Очень просто, убрать архитектуру и объединить три функции одну.\n",
    "\n",
    "Тесты сложно писать, они не покрывают все 100500 случаев, небольшое изменение ведёт к часам переписывания тестов. Всё становится грустно. Сложный код, отсутствие тестов. Работает, не трогай. Не дыши во время деплоя. Как вспомню, так вздрогну.\n",
    "\n",
    "Хотя есть и обратный путь, если внутренних вариантов немного, то проще сразу писать тесты на верхний уровень. А потом, если модуль начнёт расти, разделить его на части и вынести тесты в нижние модули. Кстати, частая ошибка, когда с ростом модуля это забывают."
   ]
  },
  {
   "cell_type": "markdown",
   "metadata": {
    "slideshow": {
     "slide_type": "slide"
    }
   },
   "source": [
    "## Test requirements\n",
    "\n",
    "- independent\n",
    "- informative  \n"
   ]
  },
  {
   "cell_type": "markdown",
   "metadata": {
    "slideshow": {
     "slide_type": "skip"
    }
   },
   "source": [
    "Тесты должны быть независимы. Каждый тест выполняется в своём окружении, потом окружение очищается. Тесты можно запускать в любом порядке, тесты можно запускать в любых комбинациях. Для юнит тестов это легко обеспечить, они ни от чего не зависят, с интергационными сложней, поднимать базу каждый раз дорого, поэтому что-то может быть переиспользовано. Но тут уже надо учитывать эти особенности. Например, если база возвращает созданный идентификатор объекта, то нужно учитывать, что для каждого запуска он будет разный и делать проверки с учётом этого факта (тест становится сложнее).\n",
    "\n",
    "Второе требование это то, что тесты должны быть информативны. С упавшими тестами может столкнуться любой участник команды."
   ]
  },
  {
   "cell_type": "markdown",
   "metadata": {
    "slideshow": {
     "slide_type": "slide"
    }
   },
   "source": [
    "# Find testing scenarious\n",
    "\n",
    "- Positive\n",
    "- Negative"
   ]
  },
  {
   "cell_type": "markdown",
   "metadata": {
    "slideshow": {
     "slide_type": "skip"
    }
   },
   "source": [
    "Теперь поговорим, как выбирать что именно тестировать.\n",
    "\n",
    "Если мы вводим правильные данные и ожидаем, что программа выдаст правильный результат, то это положительный (positive) сценарий.\n",
    "\n",
    "Если мы вводим неправильные данные и ожидаем, что программа выдаст ошибку или код возврата ошибки, это негативный сцераний.\n",
    "\n",
    "Если мы вводим неправильные данные и хотим получить правильный результат, то надо начать задавать себе вопросы. [1]\n",
    " \n",
    "[1] On two occasions I have been asked (by members of Parliament), 'Pray, Mr. Babbage, if you put into the machine wrong figures, will the right answers come out?' I am not able rightly to apprehend the kind of confusion of ideas that could provoke such a question. (c) Charles Babbage"
   ]
  },
  {
   "cell_type": "markdown",
   "metadata": {
    "slideshow": {
     "slide_type": "slide"
    }
   },
   "source": [
    "# Positive\n",
    "\n",
    "- most common\n",
    "- min, max\n",
    "- border, border + 1, border - 1\n",
    "- special 0, Null, special for function\n",
    "\n",
    "# Negative\n",
    "- exception raised with proper message\n"
   ]
  },
  {
   "cell_type": "markdown",
   "metadata": {
    "slideshow": {
     "slide_type": "skip"
    }
   },
   "source": [
    "Выбор тестовых заданий - это логический процесс.  Нужно множество входящих данных разделить на группы, которые принципиально меняют или могут поменять результат. Тут на помощь приходит интуиция и простые рекомендации.\n",
    "\n",
    "Взять типичное значение, которое будет передаваться. Это первый главный тест.\n",
    "Дальше мы идём к границам. Минимальное и максимальное значения, по возможности. Иногда это понятно из контекста или бизнеса, иногда неизвестно. Если совсем не понятно, то это можно пропустить.\n",
    "\n",
    "Специальные значения, например границы. Если ожидается положительное целое число, то граница на 1.  если ожидается от 3 до семи то границы две 3 и 7. Проверяем границу, +1 и -1.  То что внутри будут положительные тесты, то что снаружи отрицательные.\n",
    "\n",
    "Прочие границы - это специальные значений внутри диапазона. Например 0, Null, пустая коллекция. Например, деление на ноль.\n",
    "\n",
    "Проверка типов это отдельный вопрос. Если вы тестируете обработку сообщений от пользователя, то тут надо проверить всё, что можно. Ожидаете число, получите строку. Для тестирования кода, который будет вызываться изнутри приложения можно положится на то, что туда не передадут ничего лишнего. Для апи библиотеки которую вы пишите будет что-то посередине.\n",
    "\n",
    "Кстати, ошибка при обработке ошибок это очень частый случай.\n",
    " "
   ]
  },
  {
   "cell_type": "markdown",
   "metadata": {
    "slideshow": {
     "slide_type": "slide"
    }
   },
   "source": [
    "# Keep it simple\n",
    "\n",
    "## bad\n",
    "```python\n",
    "assert find_maximal_subarray_sum([1, 3, -1, -3, 5, 3, 6, 7,  5, 3, 6, 7, -7 -2, 3, -15, 77, 11, -3, -5, 99], 10) == 179\n",
    "```\n",
    "\n",
    "```python\n",
    "file_maker(\n",
    "        [i for i in range(2)] + [-10] + [i + 10 for i in range(2)],\n",
    "        \"data_test_task03_min-10_max19.txt\",\n",
    "        )\n",
    "assert find_maximum_and_minimum(\"data_test_task03_min1_max1.txt\"), (1, 1)\n",
    "```\n",
    "\n",
    "\n",
    "## good\n",
    "```python\n",
    "assert find_maximal_subarray_sum([1, 2, 2], 10) == 6\n",
    "```"
   ]
  },
  {
   "cell_type": "markdown",
   "metadata": {
    "slideshow": {
     "slide_type": "skip"
    }
   },
   "source": [
    "Тестовые данные должны быть максимально простыми.  \n",
    "Из того, что мы видим мы должны легко провести проверку в голове.\n",
    "\n"
   ]
  },
  {
   "cell_type": "markdown",
   "metadata": {
    "slideshow": {
     "slide_type": "slide"
    }
   },
   "source": [
    "# Guess a variable by name by its value\n",
    "\n",
    "- 42\n",
    "- \"ostolop\"\n",
    "- \"АВС\""
   ]
  },
  {
   "cell_type": "markdown",
   "metadata": {
    "slideshow": {
     "slide_type": "skip"
    }
   },
   "source": [
    "Интерактивная игра\n",
    "\n",
    "Угадай значение по переменной\n",
    "42 - 2020\n",
    "\"ostolop\" -> \"admin_name\"\n",
    "`АВС` -> `ФБГ` проверка работы с русским текстом\n",
    "\n",
    "В каждом проекте есть особенности и локальный слэнг. \n",
    "Избегайте нумерации, старайтесь подчеркнуть в названии и содержании разницу объектов.\n"
   ]
  },
  {
   "cell_type": "markdown",
   "metadata": {
    "slideshow": {
     "slide_type": "slide"
    }
   },
   "source": [
    "### Arrange Act Assert | Given When Then\n",
    "\n",
    "```python\n",
    "def test_constuctor_call_produces_object():\n",
    "    args = [1, 2, 3]  # Arrange | Given | constuctor\n",
    "    foo = Foo()  # Act | When | call\n",
    "    assert foo.sum = 6  # Assert | Then | produce_object\n",
    "```"
   ]
  },
  {
   "cell_type": "markdown",
   "metadata": {
    "slideshow": {
     "slide_type": "skip"
    }
   },
   "source": [
    "Структура теста простая.  Мы готовим исходное состояние, производим действие, проверяем результат.\n",
    "Есть несколько способов это запомнить AAA и BDD.\n",
    "\n",
    "Неплохо если эту информацию можно прочитать в имени теста. Напоминаю, имя теста - это имя модуля, имя класса и имя тестового метода.\n",
    "\n",
    "Какие-то шаги можно объеденить в одну строку, главное не терять порядок выполнения. Одино из грубых правил нарушения порядка, это добавление нового теста в уже существующий. Значит, когда упадёт первый тест, то второй просто не запустится."
   ]
  },
  {
   "cell_type": "markdown",
   "metadata": {
    "slideshow": {
     "slide_type": "slide"
    }
   },
   "source": [
    "# pytest: helps you write better programs\n",
    "\n",
    "The pytest framework makes it easy to write small tests, yet scales to support complex functional testing for applications and libraries"
   ]
  },
  {
   "cell_type": "markdown",
   "metadata": {
    "slideshow": {
     "slide_type": "skip"
    }
   },
   "source": [
    "Пайтест это фреймворк для написания и запуска тестов. Если сравнивать со встроенным unnittests, то оно проще, читабельней и удобнее. Я бы сказал де факто это стандарт в индустрии."
   ]
  },
  {
   "cell_type": "markdown",
   "metadata": {
    "slideshow": {
     "slide_type": "slide"
    }
   },
   "source": [
    "# test runner\n",
    "\n",
    "pytest will run all files of the form test_*.py or *_test.py in the current directory and its subdirectories. More generally, it follows standard test discovery rules."
   ]
  },
  {
   "cell_type": "markdown",
   "metadata": {
    "slideshow": {
     "slide_type": "skip"
    }
   },
   "source": [
    "Пайтест умеет находить и запускать тесты, рекурсивно заглядывает во все папки и находит всё что есть подходящее."
   ]
  },
  {
   "cell_type": "markdown",
   "metadata": {
    "slideshow": {
     "slide_type": "slide"
    }
   },
   "source": [
    "# pytest fixtures: explicit, modular, scalable\n",
    "\n",
    "- function\n",
    "- scope\n",
    "- nested\n",
    "- builtin fixtures\n",
    "- tear down\n",
    "- autouse"
   ]
  },
  {
   "cell_type": "markdown",
   "metadata": {
    "slideshow": {
     "slide_type": "skip"
    }
   },
   "source": [
    "Фикстура это заранее подготовленные данные. Первое A в AAA или Given.\n",
    "\n",
    "То что в unittests пишется в сетап и тиардоун можно делать фикстурами. Кроме этого создание классов для пайтеста становится ненужным. Иногда можно их использовать для организации кода, но это опционально.\n",
    "\n"
   ]
  },
  {
   "cell_type": "markdown",
   "metadata": {
    "slideshow": {
     "slide_type": "slide"
    }
   },
   "source": [
    "# Fixture is a function that can be passed as an argument to test\n",
    "\n",
    "```python\n",
    "import pytest\n",
    "\n",
    "\n",
    "@pytest.fixture\n",
    "def smtp_connection():\n",
    "    import smtplib\n",
    "\n",
    "    return smtplib.SMTP(\"smtp.gmail.com\", 587, timeout=5)\n",
    "\n",
    "\n",
    "def test_ehlo(smtp_connection):\n",
    "    response, msg = smtp_connection.ehlo()\n",
    "    assert response == 250\n",
    "    assert 0  # for demo purposes\n",
    "```"
   ]
  },
  {
   "cell_type": "markdown",
   "metadata": {
    "slideshow": {
     "slide_type": "skip"
    }
   },
   "source": [
    "Перед вами простой пример фикстуры которая создаёт подключение СМТП и передаёт его в тест.  Когда у нас тест один можно было бы просто написать код в тесте, но когда их много то фикстура может быть переиспользована. \n"
   ]
  },
  {
   "cell_type": "markdown",
   "metadata": {
    "slideshow": {
     "slide_type": "slide"
    }
   },
   "source": [
    "# Test run cycle\n",
    "- Collect tests\n",
    "- Collect fixtures\n",
    "- Run tests"
   ]
  },
  {
   "cell_type": "markdown",
   "metadata": {
    "slideshow": {
     "slide_type": "skip"
    }
   },
   "source": [
    "Сначала мы собираем тесты и фикстуры, а потом стартуем запуск. Пайтест берёт тестовую функцию, смотрит на имена аргументов, которые она принимает, и находит у себя в каталоге фикстуры с таким именем. После этого фикстуры выполняются и тесты вызываются с результатами их выполнения. На каждый тест фикстура вызывается заново, что даёт независимость между тестами."
   ]
  },
  {
   "cell_type": "markdown",
   "metadata": {
    "slideshow": {
     "slide_type": "slide"
    }
   },
   "source": [
    "# Fixture scopes\n",
    "- function\n",
    "- class\n",
    "- module\n",
    "- package\n",
    "- session\n",
    "\n",
    "```python\n",
    "# content of conftest.py\n",
    "import pytest\n",
    "import smtplib\n",
    "\n",
    "\n",
    "@pytest.fixture(scope=\"module\")\n",
    "def smtp_connection():\n",
    "    return smtplib.SMTP(\"smtp.gmail.com\", 587, timeout=5)\n",
    "```"
   ]
  },
  {
   "cell_type": "markdown",
   "metadata": {
    "slideshow": {
     "slide_type": "skip"
    }
   },
   "source": [
    "По умолчанию фикстура выполняется перед каждый тестом (область функция), но это можно поменять, чтобы не вызывать дорогостоящую операция часто. Используйте эти опции только когда это критически необходимо."
   ]
  },
  {
   "cell_type": "markdown",
   "metadata": {
    "slideshow": {
     "slide_type": "slide"
    }
   },
   "source": [
    "# Nested fixtures\n",
    "\n",
    "```python\n",
    "import pytest\n",
    "\n",
    "\n",
    "@pytest.fixture\n",
    "def john():\n",
    "    return \"John\"\n",
    "\n",
    "@pytest.fixture\n",
    "def user_john(name):\n",
    "    return User(name)\n",
    "```"
   ]
  },
  {
   "cell_type": "markdown",
   "metadata": {
    "slideshow": {
     "slide_type": "skip"
    }
   },
   "source": [
    "Фикстура может принимать фикстуру в качестве аргумента"
   ]
  },
  {
   "cell_type": "markdown",
   "metadata": {
    "slideshow": {
     "slide_type": "slide"
    }
   },
   "source": [
    "Fixtures are defined using the @pytest.fixture decorator, described below. Pytest has useful built-in fixtures, listed here for reference:\n",
    "\n",
    "- capfd Capture, as text, output to file descriptors 1 and 2.\n",
    "- capfdbinary Capture, as bytes, output to file descriptors 1 and 2. \n",
    "- caplog Control logging and access log entries.\n",
    "- capsys Capture, as text, output to sys.stdout and sys.stderr.\n",
    "- capsysbinary Capture, as bytes, output to sys.stdout and sys.stderr.\n",
    "- cache Store and retrieve values across pytest runs.\n",
    "- doctest_namespace Provide a dict injected into the docstests namespace.\n",
    "- monkeypatch Temporarily modify classes, functions, dictionaries, os.environ, and other objects.\n",
    "- pytestconfig Access to configuration values, pluginmanager and plugin hooks.\n",
    "- record_property Add extra properties to the test.\n",
    "- record_testsuite_property Add extra properties to the test suite.\n",
    "- recwarn Record warnings emitted by test functions.\n",
    "- request Provide information on the executing test function.\n",
    "- testdir Provide a temporary test directory to aid in running, and testing, pytest plugins.\n",
    "- tmp_path Provide a pathlib.Path object to a temporary directory which is unique to each test function.\n",
    "- tmp_path_factory Make session-scoped temporary directories and return pathlib.Path objects."
   ]
  },
  {
   "cell_type": "markdown",
   "metadata": {
    "slideshow": {
     "slide_type": "skip"
    }
   },
   "source": [
    "В пайтесте уже есть набор фикстур на все случаи жазни. Можно смотреть на вывод в консоль и логи, работать с аргументами командной строки при запуске и временными директориями."
   ]
  },
  {
   "cell_type": "markdown",
   "metadata": {},
   "source": [
    "# monkeypatch\n",
    "\n",
    "- monkeypatch.setattr(obj, name, value, raising=True)\n",
    "- monkeypatch.delattr(obj, name, raising=True)\n",
    "- monkeypatch.setitem(mapping, name, value)\n",
    "- monkeypatch.delitem(obj, name, raising=True)\n",
    "- monkeypatch.setenv(name, value, prepend=False)\n",
    "- monkeypatch.delenv(name, raising=True)\n",
    "- monkeypatch.syspath_prepend(path)\n",
    "- monkeypatch.chdir(path)\n",
    "\n",
    "```python\n",
    "import sys\n",
    "\n",
    "\n",
    "def foo():\n",
    "    return 1\n",
    "\n",
    "\n",
    "def boo(x):\n",
    "    return x + foo()\n",
    "\n",
    "\n",
    "def test_boo_with_monkeypatch(monkeypatch):\n",
    "    this_module = sys.modules[__name__]\n",
    "    monkeypatch.setattr(this_module, \"foo\", lambda: 2)\n",
    "    assert boo(1) == 3\n",
    "\n",
    "\n",
    "def test_boo(monkeypatch):\n",
    "    assert boo(1) == 2\n",
    "```"
   ]
  },
  {
   "cell_type": "markdown",
   "metadata": {},
   "source": [
    "Самая полезная фикстура - это monkeypatch, этот термин означает изменение объектов на стадии выполнения программы в местах не предназначенных для изменения. Например подправить поля класса, заменить функцию в модуле. Такой подход ведёт к сложно понимаемому коду. Нужно страраться избегать написания логики приложения таким способом. Но для тестов или например логирования это вполне подходит.\n",
    "\n",
    "В данном случае на момент теста мы меняем окружение так, как нам удобно. Это позволяет добавлять моки в любую часть программы. "
   ]
  },
  {
   "cell_type": "markdown",
   "metadata": {},
   "source": [
    "# Fixture setUp and tearDown\n",
    "\n",
    "```python\n",
    "import pytest\n",
    "\n",
    "\n",
    "@pytest.fixture\n",
    "def connection():\n",
    "    con = get_connection()\n",
    "    yield con\n",
    "    con.close()\n",
    "```"
   ]
  },
  {
   "cell_type": "markdown",
   "metadata": {},
   "source": [
    "Почистить после теста так же легко как к нему приготовиться.  До yield включительно выполняется до теста, остальное после."
   ]
  },
  {
   "cell_type": "markdown",
   "metadata": {
    "slideshow": {
     "slide_type": "slide"
    }
   },
   "source": [
    "# Use fixture without adding argument\n",
    "\n",
    "```python\n",
    "# content of test_setenv.py\n",
    "import os\n",
    "import pytest\n",
    "\n",
    "\n",
    "@pytest.mark.usefixtures(\"cleandir\")\n",
    "class TestDirectoryInit:\n",
    "    def test_cwd_starts_empty(self):\n",
    "        assert os.listdir(os.getcwd()) == []\n",
    "        with open(\"myfile\", \"w\") as f:\n",
    "            f.write(\"hello\")\n",
    "\n",
    "    def test_cwd_again_starts_empty(self):\n",
    "        assert os.listdir(os.getcwd()) == []\n",
    "```"
   ]
  },
  {
   "cell_type": "markdown",
   "metadata": {
    "slideshow": {
     "slide_type": "slide"
    }
   },
   "source": [
    "# Run before any test\n",
    "\n",
    "```python\n",
    "@pytest.fixture(autouse=True)\n",
    "def a1():\n",
    "    order.append(\"a1\")\n",
    "```"
   ]
  },
  {
   "cell_type": "markdown",
   "metadata": {
    "slideshow": {
     "slide_type": "slide"
    }
   },
   "source": [
    "# Test generation\n",
    "\n",
    "```python\n",
    "import pytest\n",
    "\n",
    "\n",
    "@pytest.mark.parametrize(\"color\", [\"red\", \"green\"])\n",
    "@pytest.mark.parametrize(\"shape\", [\"box\", \"circle\"])\n",
    "def test_shape(shape, color):\n",
    "    assert True\n",
    "```\n",
    "\n",
    "\n",
    "```\n",
    "test/test_example.py::test_shape[box-red] PASSED                                                                         \n",
    "test/test_example.py::test_shape[box-green] PASSED                                                                       \n",
    "test/test_example.py::test_shape[circle-red] PASSED                                                               \n",
    "test/test_example.py::test_shape[circle-green] PASSED   \n",
    "```"
   ]
  },
  {
   "cell_type": "markdown",
   "metadata": {
    "slideshow": {
     "slide_type": "skip"
    }
   },
   "source": [
    "Декоратор параметрайз позволяет создавать тесты на основе входящих данных.\n",
    "\n",
    "Хотя это и похоже на несколько тестов в одном флаконе, но это не так. В случае с параметрайз мы на каждый случай создаём новый тест и падение одного из них не сказывается на других.  Если добавить несколько декораторов, то их выводы перемножатся. \n",
    "\n",
    "Этот подход позволяет легко создавать большое количество тестов, но будьте аккуратными, такие тесты сложнее читать.  \n",
    "Лучше разбивать тесты на разные группы или по типу входящих значений, или по типу возвращаемых.  \n"
   ]
  },
  {
   "cell_type": "markdown",
   "metadata": {
    "slideshow": {
     "slide_type": "slide"
    }
   },
   "source": [
    "# bad\n",
    "```python\n",
    "@pytest.mark.parametrize(\n",
    "    [\"value\", \"expected_result\"],\n",
    "    [\n",
    "        ([0, 1, 1, 2], True),\n",
    "        ([], False),\n",
    "        ([0], False),\n",
    "        ([0, 1, 1, 3], False),\n",
    "        ([1, 1, 2], False),\n",
    "    ],\n",
    ")\n",
    "def test_check_fibonacci(value: Sequence[int], expected_result: bool):\n",
    "    actual_result = check_fibonacci(value)\n",
    "\n",
    "    assert actual_result == expected_result\n",
    "```\n",
    "\n"
   ]
  },
  {
   "cell_type": "markdown",
   "metadata": {
    "slideshow": {
     "slide_type": "slide"
    }
   },
   "source": [
    "# good\n",
    "```python\n",
    "\n",
    "@pytest.mark.parametrize(\n",
    "    \"value\",\n",
    "    [\n",
    "        [0, 1, 1, 2]\n",
    "\n",
    "    ],\n",
    ")\n",
    "def test_sequence_is_fibonacci(value: Sequence[int]):\n",
    "    assert check_fibonacci(value) is True\n",
    "\n",
    "\n",
    "@pytest.mark.parametrize(\n",
    "    \"value\",\n",
    "    [\n",
    "        [],\n",
    "        [0],\n",
    "        [0, 1, 1, 3],\n",
    "        [1, 1, 2],\n",
    "    ],\n",
    ")\n",
    "def test_sequence_is_not_fibonacci(value: Sequence[int]):\n",
    "    assert check_fibonacci(value) is False\n",
    "```"
   ]
  },
  {
   "cell_type": "markdown",
   "metadata": {
    "slideshow": {
     "slide_type": "slide"
    }
   },
   "source": [
    "# conftest.py\n",
    "\n",
    "- stores fixtures that will be available to all files in module\n",
    "- can be present in each test subfolder\n",
    "- if multiple files are present in hierarchy, all of the executed"
   ]
  },
  {
   "cell_type": "markdown",
   "metadata": {
    "slideshow": {
     "slide_type": "skip"
    }
   },
   "source": [
    "Файл конфтест позволяет хранить фикстуры, которые можно использовать во всех тестовых файлах в этой папке и её подпапках.\n",
    "В каждой подпапке можно иметь по одному файлу.\n",
    "В модуле доступны все фикстуры, которые лежат в иерархии папок.\n",
    "\n",
    "Это позволяет управлять видимостью фикстур в тестах."
   ]
  },
  {
   "cell_type": "markdown",
   "metadata": {},
   "source": [
    "# Unittest vs pytest\n",
    "- pytest asserts are more informative\n",
    "- pytest fixtures are more flexible that setUp and tearDown\n",
    "- pytest does not reqire to do test classes\n",
    "- pytest has plugins\n",
    "- pytest is more widly used"
   ]
  },
  {
   "cell_type": "markdown",
   "metadata": {
    "slideshow": {
     "slide_type": "slide"
    }
   },
   "source": [
    "# Typical errors\n",
    "- Many test in a singel test\n",
    "- Test coupling\n",
    "- Test only exception\n",
    "- Assert nothing\n",
    "- Not detailed assert\n",
    "- Assert floating point \n",
    "- Test your mock\n",
    "- Test unreliable sources (fail with no reason)\n",
    "- Cleanup in test body"
   ]
  },
  {
   "cell_type": "markdown",
   "metadata": {},
   "source": [
    "Про то что если архитектура плохая то она мешает тестам я уже сказал, теперь пройдёмся по типчным ошибкам в тестах."
   ]
  },
  {
   "cell_type": "markdown",
   "metadata": {
    "slideshow": {
     "slide_type": "subslide"
    }
   },
   "source": [
    "## Many test in a singel test\n",
    "\n",
    "```python\n",
    "def test_user_...():\n",
    "    admin = User(...)\n",
    "    assert admin.get....\n",
    "    \n",
    "    user = User(...)\n",
    "    assert user.get....\n",
    "    \n",
    "    guest = User(...)\n",
    "    assert guest.get....\n",
    "```"
   ]
  },
  {
   "cell_type": "markdown",
   "metadata": {
    "slideshow": {
     "slide_type": "subslide"
    }
   },
   "source": [
    "## Test coupling\n",
    "```python\n",
    "state = True\n",
    "\n",
    "\n",
    "def test_set_state():\n",
    "    global state\n",
    "    state = False\n",
    "    assert state is False\n",
    "\n",
    "\n",
    "def test_get_state():\n",
    "    assert state is False\n",
    "```"
   ]
  },
  {
   "cell_type": "markdown",
   "metadata": {
    "slideshow": {
     "slide_type": "subslide"
    }
   },
   "source": [
    "## Test only exception\n",
    "```python\n",
    "def foo(text: str):\n",
    "    if int(text) <= 0:\n",
    "        raise ValueError(\"Positive number required\")\n",
    "\n",
    "\n",
    "def test_foo_bad():\n",
    "    with pytest.raises(ValueError):\n",
    "        foo(\"aaa\")\n",
    "\n",
    "\n",
    "def test_foo_good():\n",
    "    with pytest.raises(ValueError, match=\"Positive number required\"):\n",
    "        foo(\"aaa\")\n",
    "```"
   ]
  },
  {
   "cell_type": "markdown",
   "metadata": {
    "slideshow": {
     "slide_type": "subslide"
    }
   },
   "source": [
    "## Assert nothing\n",
    "```python\n",
    "def test_fibonacci():\n",
    "    check_fibonacci([3, 1])\n",
    "```"
   ]
  },
  {
   "cell_type": "markdown",
   "metadata": {
    "slideshow": {
     "slide_type": "subslide"
    }
   },
   "source": [
    "## Not detailed assert\n",
    "```python\n",
    "def test_minor_and_major():\n",
    "    assert major_and_minor_elem([1,2, 3])\n",
    "```"
   ]
  },
  {
   "cell_type": "markdown",
   "metadata": {
    "slideshow": {
     "slide_type": "subslide"
    }
   },
   "source": [
    "## Assert floating point \n",
    "```python\n",
    "import pytest\n",
    "\n",
    "\n",
    "def test_float_bad():\n",
    "    assert 0.1 + 0.2 == 0.3\n",
    "\n",
    "\n",
    "def test_float_good():\n",
    "    assert 0.1 + 0.2 == pytest.approx(0.3)\n",
    "```\n",
    "\n",
    "```\n",
    "    def test_float_bad():\n",
    ">       assert 0.1 + 0.2 == 0.3\n",
    "E       assert 0.30000000000000004 == 0.3\n",
    "E         +0.30000000000000004\n",
    "E         -0.3\n",
    "```"
   ]
  },
  {
   "cell_type": "markdown",
   "metadata": {
    "slideshow": {
     "slide_type": "subslide"
    }
   },
   "source": [
    "## Test your mock\n",
    "```python\n",
    "def connection_mock(url):\n",
    "    return {\"message\": \"OK\"}\n",
    "\n",
    "\n",
    "def test_connection():\n",
    "    assert connection_mock(\"http://localhost\") == {\"message\": \"OK\"}\n",
    "```"
   ]
  },
  {
   "cell_type": "markdown",
   "metadata": {
    "slideshow": {
     "slide_type": "subslide"
    }
   },
   "source": [
    "## Test unreliable sources (fail with no reason)\n",
    "```python\n",
    "def test_connection():\n",
    "    assert connect(\"http://production.com/api/v3/status\") == {\"message\": \"OK\"}\n",
    "```\n"
   ]
  },
  {
   "cell_type": "markdown",
   "metadata": {},
   "source": [
    "# Cleanup in test body\n",
    "\n",
    "```python\n",
    "def test_file():    \n",
    "    create_txt_file(text, \"test_text.txt\")\n",
    "    assert count_punctuation_chars(\"test_text.txt\") == 6\n",
    "    os.remove(\"test_text.txt\")\n",
    "```"
   ]
  },
  {
   "cell_type": "markdown",
   "metadata": {
    "slideshow": {
     "slide_type": "slide"
    }
   },
   "source": [
    "# Test doubles\n",
    "\n",
    "- Dummies\n",
    "- Fakes\n",
    "- Stubs\n",
    "- Spys \n",
    "- Mocks \n",
    "\n",
    "\n",
    "\n"
   ]
  },
  {
   "cell_type": "markdown",
   "metadata": {
    "slideshow": {
     "slide_type": "skip"
    }
   },
   "source": [
    "Есть разные типы тестовых двойников.\n",
    "\n",
    "Dummy просто заглушка, которую можно передать в другой метод и она не вызовет падения.\n",
    "\n",
    "Фэйк - упрощенная реализация какого-то сервиса. Этот код обладает логикой и может выдавать результат, который похож на настоящий. Например: база данных в памяти.\n",
    "\n",
    "Stub - объект, который запрограммирован сделать одно или несколько действий. В отличии от фэйка логикой не обладает, обычно время жизни равно времени жизни теста.\n",
    "\n",
    "Шпионы - объекты, которые записывают результат их вызова для последующей проверки.\n",
    "\n",
    "Mock - объект, который умеет отвечать на определённые вызовы и может быть проверен на то, что эти вызовы произошли.\n",
    "\n",
    "Определения стабов, шпионов и моков несколько пересекаются, но пусть вас это не пугает, в питоне за всё это отвечает один класс. "
   ]
  },
  {
   "cell_type": "markdown",
   "metadata": {
    "slideshow": {
     "slide_type": "slide"
    }
   },
   "source": [
    "Mock and MagicMock objects create all attributes and methods as you access them and store details of how they have been used. You can configure them, to specify return values or limit what attributes are available, and then make assertions about how they have been used:\n",
    "\n",
    "```python\n",
    "from unittest.mock import MagicMock\n",
    "thing = ProductionClass()\n",
    "thing.method = MagicMock(return_value=3)\n",
    "thing.method(3, 4, 5, key='value')\n",
    "\n",
    "thing.method.assert_called_with(3, 4, 5, key='value')\n",
    "```"
   ]
  },
  {
   "cell_type": "markdown",
   "metadata": {
    "slideshow": {
     "slide_type": "slide"
    }
   },
   "source": [
    "# Assert call\n",
    "- assert_called()\n",
    "- assert_called_once()\n",
    "- assert_called_with(*args, **kwargs)\n",
    "- assert_called_once_with(*args, **kwargs)\n",
    "- assert_any_call(*args, **kwargs)\n",
    "- assert_has_calls(calls, any_order=False)\n",
    "- assert_not_called()\n",
    "\n",
    "```python\n",
    "mock = Mock()\n",
    "mock.method()\n",
    "\n",
    "mock.method.assert_called()\n",
    "```"
   ]
  },
  {
   "cell_type": "markdown",
   "metadata": {
    "slideshow": {
     "slide_type": "skip"
    }
   },
   "source": [
    "После того как мок побывал в работе есть много методов для того, чтобы провериь, как именно его вызывали."
   ]
  },
  {
   "cell_type": "markdown",
   "metadata": {
    "slideshow": {
     "slide_type": "slide"
    }
   },
   "source": [
    "# Raw call information\n",
    "\n",
    "```python\n",
    "mock = MagicMock()\n",
    "result = mock(1, 2, 3)\n",
    "mock.first(a=3)\n",
    "\n",
    "mock.second()\n",
    "\n",
    "int(mock)\n",
    "\n",
    "result(1)\n",
    "\n",
    "expected = [call(1, 2, 3), call.first(a=3), call.second(),\n",
    "call.__int__(), call()(1)]\n",
    "mock.mock_calls == expected\n",
    "```"
   ]
  },
  {
   "cell_type": "markdown",
   "metadata": {
    "slideshow": {
     "slide_type": "skip"
    }
   },
   "source": [
    "Все методы проверки так или иначе работают с аттрибутом mock_calls.  К нему удобно обращаться чтобы посмотреть что же там произошло."
   ]
  },
  {
   "cell_type": "markdown",
   "metadata": {
    "slideshow": {
     "slide_type": "slide"
    }
   },
   "source": [
    "# doctest\n",
    "\n",
    "```python\n",
    "def is_even(num):\n",
    "    \"\"\"\n",
    "    Return true if number is even\n",
    "\n",
    "    >>> is_even(2)\n",
    "    True\n",
    "\n",
    "    >>> is_even(3)\n",
    "    False\n",
    "    \"\"\"\n",
    "\n",
    "    return num % 2 == 0\n",
    "```"
   ]
  },
  {
   "cell_type": "markdown",
   "metadata": {
    "slideshow": {
     "slide_type": "skip"
    }
   },
   "source": [
    "Простой механизм написания тестов, прямо в документации. Из плюсов легко писать и находится рядом с кодом, из минусов если занимает больше одной строки, то выглядит ужасно.  \n",
    "\n",
    "Про запуск почитаете самостоятельно, например пайтест умеет находить и запускать тесты.  Каждый тест запускается отдельно. Хотя при этом пайтест отображает его как один тест. "
   ]
  },
  {
   "cell_type": "markdown",
   "metadata": {
    "slideshow": {
     "slide_type": "slide"
    }
   },
   "source": [
    "# Сoverage \n",
    "\n",
    "## pytest-cov summary report\n",
    "\n",
    "```\n",
    "Name                        Stmts   Miss  Cover\n",
    "-----------------------------------------------\n",
    "test\\conftest.py               10      0   100%\n",
    "test\\test_declared_env.py      33      0   100%\n",
    "test\\test_example.py            4      1    75%\n",
    "test\\test_variables.py         67      0   100%\n",
    "-----------------------------------------------\n",
    "TOTAL                         114      1    99%\n",
    "```\n",
    "\n",
    "## pytest-cov detailed coverage report\n",
    "![htmlcov/test_test_example_py.html](img/cov.png)\n",
    "\n"
   ]
  },
  {
   "cell_type": "markdown",
   "metadata": {
    "slideshow": {
     "slide_type": "skip"
    }
   },
   "source": [
    "Питону при старте программы можно сказать, следи за каждой строкой в файле выполнилась ли она. А в конце по этой статистики можно построить отчёт. Давайте рассмотрим метрики, которые мы можем из этого получить."
   ]
  },
  {
   "cell_type": "markdown",
   "metadata": {
    "slideshow": {
     "slide_type": "slide"
    }
   },
   "source": [
    "# 100% coverage does not mean your programm works well\n",
    "\n",
    "![htmlcov/test_test_example_py.html](img/cov100.png)"
   ]
  },
  {
   "cell_type": "markdown",
   "metadata": {
    "slideshow": {
     "slide_type": "skip"
    }
   },
   "source": [
    "Вопрос студентам, что может пойти не так."
   ]
  },
  {
   "cell_type": "markdown",
   "metadata": {
    "slideshow": {
     "slide_type": "slide"
    }
   },
   "source": [
    "# Coverage metrics\n",
    "\n",
    "| Metric name                     | for managers | for managers |\n",
    "| --- | --- | --- |\n",
    "| Coverage percent                | useless      | useless      |\n",
    "| Coverage changes since previous | important    | usefull      |\n",
    "| Coverage detailed report        | important    | useless      |"
   ]
  },
  {
   "cell_type": "markdown",
   "metadata": {
    "slideshow": {
     "slide_type": "slide"
    }
   },
   "source": [
    "# Debug\n",
    "\n",
    "- debug prints\n",
    "- debug in Pycharm  (https://www.youtube.com/watch?v=sRGpvbhOhQs)\n",
    "- debug with console\n",
    "- remote debug (Pycharm pro, Eclipse)"
   ]
  }
 ],
 "metadata": {
  "celltoolbar": "Slideshow",
  "kernelspec": {
   "display_name": "Python 3",
   "language": "python",
   "name": "python3"
  },
  "language_info": {
   "codemirror_mode": {
    "name": "ipython",
    "version": 3
   },
   "file_extension": ".py",
   "mimetype": "text/x-python",
   "name": "python",
   "nbconvert_exporter": "python",
   "pygments_lexer": "ipython3",
   "version": "3.8.1"
  }
 },
 "nbformat": 4,
 "nbformat_minor": 4
}
