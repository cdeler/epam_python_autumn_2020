{
 "cells": [
  {
   "cell_type": "markdown",
   "metadata": {
    "collapsed": true,
    "pycharm": {
     "name": "#%% md\n"
    },
    "slideshow": {
     "slide_type": "slide"
    }
   },
   "source": [
    "# Python (EPAM, 2020), lecture 08"
   ]
  },
  {
   "cell_type": "markdown",
   "metadata": {
    "slideshow": {
     "slide_type": "slide"
    }
   },
   "source": [
    "## Python object model\n",
    "\n",
    "Full documentation\n",
    "https://docs.python.org/3/reference/datamodel.html\n"
   ]
  },
  {
   "cell_type": "markdown",
   "metadata": {
    "slideshow": {
     "slide_type": "slide"
    }
   },
   "source": [
    "# Section 1. Everything is object\n",
    "\n",
    "  three main characteristics of each object:\n",
    "   - type (or class)\n",
    "   - identity (id)\n",
    "   - value\n"
   ]
  },
  {
   "cell_type": "markdown",
   "metadata": {
    "slideshow": {
     "slide_type": "slide"
    }
   },
   "source": [
    "### Objects, references and values. Mutability and immutability\n",
    "\n",
    "\n",
    "```python\n",
    "x = 1\n",
    "type(x)  # int\n",
    "id(x)    # address\n",
    "x\n",
    "\n",
    "1\n",
    "type(1)   # int\n",
    "id(1)     # address same as x\n",
    "x is 1    # true\n",
    "\n",
    "y = 1     \n",
    "type(y)   # int\n",
    "id(y)     # same as x and 1\n",
    "x is y    # true !\n",
    "\n",
    "y = 2\n",
    "id(y)     # different!\n",
    "```\n",
    "\n",
    "You see that objects (data) and variables (syntaxic constructs) are actually decoupled from each other, and _all_ data in python is accessed through variables _by reference_.\n"
   ]
  },
  {
   "cell_type": "markdown",
   "metadata": {
    "slideshow": {
     "slide_type": "slide"
    }
   },
   "source": [
    "Consider the following example:"
   ]
  },
  {
   "cell_type": "code",
   "execution_count": 30,
   "metadata": {
    "slideshow": {
     "slide_type": "subslide"
    }
   },
   "outputs": [
    {
     "data": {
      "text/plain": [
       "{'a': 1, 'b': 2}"
      ]
     },
     "execution_count": 30,
     "metadata": {},
     "output_type": "execute_result"
    }
   ],
   "source": [
    "x = {'a': 1}\n",
    "y = x\n",
    "x is y  # should be True\n",
    "y['b'] = 2\n",
    "x"
   ]
  },
  {
   "cell_type": "markdown",
   "metadata": {
    "slideshow": {
     "slide_type": "slide"
    }
   },
   "source": [
    "When assigning to variable, you are not copying data, you are passing a reference to a variable to the very same object. In order to create a new copy of data in our case we should've used \n",
    "\n",
    "```python\n",
    "y = dict(x)\n",
    "# or y = x.copy()\n",
    "# or y = copy.copy(x)\n",
    "# or y = copy.deepcopy(x)\n",
    "```\n",
    "what's the difference? Here's a example. You know that some types may be _mutable_ and some may be _immutable_. For example, integer values are immutable. Tuples are immutable. Sets are immutable. BUT, those immutable objects (like collections), can have arbitrary sets of items, and those on their own can be mutable.\n",
    "\n",
    "```python\n",
    "x = ('test', {'me': 1})\n",
    "x[1]\n",
    "x[2] = 'something'  # error\n",
    "x[1]['test'] = 'abc'  # will work\n",
    "```\n",
    "\n",
    "So, when you perform a simple .copy(), or _shallow_ copy, only top level contents are copied. _Deep copy_ instead will try to (nestedly) dublicate also collection contents.\n",
    "\n",
    "\n",
    "dont forget basic immutable types: tuples, sets, strings, bytes."
   ]
  },
  {
   "cell_type": "markdown",
   "metadata": {
    "slideshow": {
     "slide_type": "slide"
    }
   },
   "source": [
    "## Type\n",
    "\n",
    "\n",
    "Each object has a _type_. (actually, types are also objects and they are an instance of their own, but that''s a little bit of advanced thing right now). \n",
    "\n",
    "Examples of types:\n",
    "   \n",
    "   - built-in types (int, bool, str, ...)\n",
    "   - collections (list, set, dict, tuple, ...)\n",
    "   - classes\n",
    "   - function types (objects that you can call() )"
   ]
  },
  {
   "cell_type": "markdown",
   "metadata": {
    "slideshow": {
     "slide_type": "slide"
    }
   },
   "source": [
    "## Object creation and initialization\n",
    "\n",
    "\n",
    "when you are using object somewhere (like assigning to variable), actual data (an object) has to be created. This holds true for all objects (but some commonly-used objects, like True, False, some integers are actually pre-created).  To create an object, a _constructor_ has to be called.\n",
    "\n"
   ]
  },
  {
   "cell_type": "markdown",
   "metadata": {
    "slideshow": {
     "slide_type": "subslide"
    }
   },
   "source": [
    "\n",
    "```python\n",
    "class C:\n",
    "    pass\n",
    "\n",
    "x = C()\n",
    "```\n",
    "\n",
    "\n",
    "Under the hood, there 2 actual things happened. First, a ``C.__new__`` was called that is used to create a new instance of class C - an actual object. This is a _static_ method of C (means it just a simple function in C namespace, that is required to take class _type_ as argument, C in this case). After that, an  _instance_ method of newly created _object_ (with type C) ``__init__`` is called with same arguments (save for the first one).\n",
    "\n"
   ]
  },
  {
   "cell_type": "markdown",
   "metadata": {
    "slideshow": {
     "slide_type": "slide"
    }
   },
   "source": [
    "Reminder of difference between static methods, class methods and instance methods.\n",
    "\n",
    "\n",
    "```python\n",
    "class C():\n",
    "    @classmethod\n",
    "    def hello_class(cls):\n",
    "        print(f'{str(cls)} welcomes you')\n",
    "\n",
    "    @staticmethod\n",
    "    def hello_static():\n",
    "        print(f'hello from {str(C)}!')\n",
    "        \n",
    "    def hello_instance(self):\n",
    "        print(f'Hello from {self.__class__)')\n",
    "```\n",
    "\n",
    "- static method - just a plain function that is called from C namespace (we'll talk about namespaces later)\n",
    "- class method - a function that takes _current class_ as an argument\n",
    "- instance method - a function that operates on current instance.\n"
   ]
  },
  {
   "cell_type": "markdown",
   "metadata": {
    "slideshow": {
     "slide_type": "slide"
    }
   },
   "source": [
    "## What else is an object?\n",
    "\n",
    "\n",
    " - types\n",
    " - modules\n",
    " - functions\n",
    " - classes\n",
    " - everything\n"
   ]
  },
  {
   "cell_type": "markdown",
   "metadata": {
    "slideshow": {
     "slide_type": "slide"
    }
   },
   "source": [
    "some esotheric example:\n",
    "\n",
    "```python\n",
    "\n",
    "def z(a):\n",
    "   print(a)\n",
    "\n",
    "x = type(z)  # type `function`\n",
    "y = x(z.__code__, globals())  # create a new instance of function with same code as z, same global variables\n",
    "y('test')   # run it\n",
    "type(x)  # type `type`\n",
    "```\n",
    "\n",
    "``type`` is a bit special, it is an instance of its own."
   ]
  },
  {
   "cell_type": "markdown",
   "metadata": {
    "slideshow": {
     "slide_type": "slide"
    }
   },
   "source": [
    "# Section 2: Protocols and dunder methods\n"
   ]
  },
  {
   "cell_type": "markdown",
   "metadata": {
    "slideshow": {
     "slide_type": "slide"
    }
   },
   "source": [
    "There's a very neat and useful built-in function that allows you to see what is actually inside of an object, dir().\n",
    "\n",
    "\n",
    "You will see some:\n",
    "\n",
    "    - methods (hello)\n",
    "    - attributes (name)\n",
    "    - __double under (dunder) methods__ and attributes\n",
    "\n",
    "\n",
    "those dunder methods/attributes are actually powering all that neat and cozy python syntax (and you will be able to use that to your advantage). Most of them are inherited from class `object`.\n"
   ]
  },
  {
   "cell_type": "code",
   "execution_count": 31,
   "metadata": {
    "slideshow": {
     "slide_type": "slide"
    }
   },
   "outputs": [
    {
     "data": {
      "text/plain": [
       "['__class__',\n",
       " '__delattr__',\n",
       " '__dict__',\n",
       " '__dir__',\n",
       " '__doc__',\n",
       " '__eq__',\n",
       " '__format__',\n",
       " '__ge__',\n",
       " '__getattribute__',\n",
       " '__gt__',\n",
       " '__hash__',\n",
       " '__init__',\n",
       " '__init_subclass__',\n",
       " '__le__',\n",
       " '__lt__',\n",
       " '__module__',\n",
       " '__ne__',\n",
       " '__new__',\n",
       " '__reduce__',\n",
       " '__reduce_ex__',\n",
       " '__repr__',\n",
       " '__setattr__',\n",
       " '__sizeof__',\n",
       " '__str__',\n",
       " '__subclasshook__',\n",
       " '__weakref__',\n",
       " 'hello',\n",
       " 'name']"
      ]
     },
     "execution_count": 31,
     "metadata": {},
     "output_type": "execute_result"
    }
   ],
   "source": [
    "class C:\n",
    "    def __init__(self, name):\n",
    "        self.name = name\n",
    "\n",
    "    def hello(self):\n",
    "        print('test')\n",
    "\n",
    "x = C('superobject')\n",
    "dir(x)"
   ]
  },
  {
   "cell_type": "markdown",
   "metadata": {
    "slideshow": {
     "slide_type": "slide"
    }
   },
   "source": [
    "some of standard dunder methods ones that you will use:\n",
    "\n",
    "```\n",
    "  - x.__class__ - reference to a current instance class\n",
    "  - x.__doc__ - docstring\n",
    "  - x.__dict__ - dictionary containing _instance_ attributes (the ones that were defined on class go into x.__class__.__dict__ . It is this object `namespace`\n",
    "  - x.__str__ - controls string conversion of X (used by string formatting or printing).\n",
    "  - x.__repr__ - controls string representation (that could be used to reconstruct object, but nobody uses that anyway, so it's analogue to __str__ usually)\n",
    "  - x.__init__ , x.__new__ - we already mentioned those\n",
    "  - x.__hash__ - to be used in dicts (hashmaps)\n",
    "  - x.__bool__ - how it evaluates to boolean, for example in if statements.\n",
    "  - x.__eq__, x.__lt__, x.__gt__, ... - comparison and equality.\n",
    "```  \n",
    "\n",
    "\n",
    "If you (re)define those dunder methods, you can modify object behaviour, how it fits into your programming code. This allows flexibility of creating a specific object exactly for your need."
   ]
  },
  {
   "cell_type": "markdown",
   "metadata": {
    "slideshow": {
     "slide_type": "slide"
    }
   },
   "source": [
    "For example, you could create class to search and instantly enumerate lines from the wikipedia article by implementing dunder methods `__iter__` and `__next__` (from iterator protocol):\n",
    "\n",
    "```python\n",
    "class WikiReader():\n",
    "    def __init__(self, search):\n",
    "        self.line_no = 0\n",
    "        self.lines = requests.get('https://wikipedia.org/wiki/{search}').text\n",
    "      \n",
    "    def __iter__(self):\n",
    "        return self\n",
    "          \n",
    "    def __next__(self):\n",
    "        if self.line_no > len(self.lines):\n",
    "            raise StopIteration\n",
    "        to_return = self.article.splitlines()[self.line_no]\n",
    "        self.line_no += 1\n",
    "\n",
    "      \n",
    "\n",
    "for line in WikiReader(search='python'):\n",
    "    if 'programming language' in line.lower():\n",
    "        print('Success!')\n",
    "        break\n",
    "```            \n",
    "\n"
   ]
  },
  {
   "cell_type": "markdown",
   "metadata": {
    "slideshow": {
     "slide_type": "slide"
    }
   },
   "source": [
    "\n",
    "Or, by implementing `__getattr__` and `__setattr__` you could extend simple dictionary class to be able to access dictionary elements as attributes:\n",
    "\n",
    "```python\n",
    "class MagicDict(dict):\n",
    "    pass   # not going to implement\n",
    "\n",
    "x = MagicDict({'a':1, 'b': 'test'})\n",
    "x.b   # now allowed!\n",
    "x.c = 'another collection item'\n",
    "```"
   ]
  },
  {
   "cell_type": "markdown",
   "metadata": {
    "slideshow": {
     "slide_type": "slide"
    }
   },
   "source": [
    "This kind of flexibility is supported by _protocols_ - conventions on what dunder method does what and what is needed to be implemented for specific language feature.\n",
    "In other languages those may be called _interfaces_, but in python it's way less formal."
   ]
  },
  {
   "cell_type": "markdown",
   "metadata": {
    "slideshow": {
     "slide_type": "slide"
    }
   },
   "source": [
    "List of protocols that you will encounter that allow to use object in certain language constructs:\n",
    "```\n",
    "   - Iteration:\n",
    "     * Iterable (__iter__)\n",
    "     * Iterator  (__iter__, __next__)\n",
    "   - Collections (with __getitem__ inherited from object)\n",
    "     * Sized (__len__)\n",
    "     * Sequence (__len__)\n",
    "     * Container (__contains__)\n",
    "     * Collection (__len__, __iter__, __contains__)\n",
    "   - Context managers \n",
    "     * synchronous (__enter__, __exit__)\n",
    "     * asynchronous (__aenter__, __aexit__)\n",
    "   - Callable  (__call__)\n",
    "   - Asynchronous programming\n",
    "     * awaitable (__await__)\n",
    "     * asynchronous iterable (__aiter__)\n",
    "     * asynchronous iterator (__anext__, __aiter__)\n",
    "```     "
   ]
  },
  {
   "cell_type": "markdown",
   "metadata": {
    "slideshow": {
     "slide_type": "slide"
    }
   },
   "source": [
    "Additionally, there are protocols related to object elements access:\n",
    "\n",
    "```    \n",
    "  - to access attributes and methods through . notation\n",
    "      __setattr__, __getattr__, __getattribute__, __setattribute__ \n",
    "  - to access collection _items_ through ['key'] notation:\n",
    "      __getitem__, __setitem__, __delitem__, __missing__\n",
    "```        \n"
   ]
  },
  {
   "cell_type": "markdown",
   "metadata": {
    "slideshow": {
     "slide_type": "subslide"
    }
   },
   "source": [
    "Type conversion and comparison:\n",
    "```__bool__, __int__, __float__, __str__, __lt__, __eq__, etc.```"
   ]
  },
  {
   "cell_type": "markdown",
   "metadata": {
    "slideshow": {
     "slide_type": "slide"
    }
   },
   "source": [
    "Additionally, there are additional conventions that are commonly used.\n",
    "  - File-like object (.read(), .write(), see io module)\n",
    "\n",
    "There are probably more of them and more will follow with language development.\n"
   ]
  },
  {
   "cell_type": "markdown",
   "metadata": {
    "slideshow": {
     "slide_type": "slide"
    }
   },
   "source": [
    "# Section 3: Object dissection"
   ]
  },
  {
   "cell_type": "code",
   "execution_count": 32,
   "metadata": {
    "slideshow": {
     "slide_type": "slide"
    }
   },
   "outputs": [
    {
     "name": "stdout",
     "output_type": "stream",
     "text": [
      "test\n"
     ]
    },
    {
     "data": {
      "text/plain": [
       "<bound method C.hello of <__main__.C object at 0x7fc5000711f0>>"
      ]
     },
     "execution_count": 32,
     "metadata": {},
     "output_type": "execute_result"
    }
   ],
   "source": [
    "class C():\n",
    "    def __init__(self, name):\n",
    "        self.name = name\n",
    "\n",
    "    def hello(self):\n",
    "        print('test')\n",
    "\n",
    "    @classmethod\n",
    "    def foo(cls):\n",
    "        pass\n",
    "    \n",
    "    print('test')\n",
    "\n",
    "x = C('abc')\n",
    "x.hello\n"
   ]
  },
  {
   "cell_type": "code",
   "execution_count": 33,
   "metadata": {
    "slideshow": {
     "slide_type": "subslide"
    }
   },
   "outputs": [
    {
     "data": {
      "text/plain": [
       "'abc'"
      ]
     },
     "execution_count": 33,
     "metadata": {},
     "output_type": "execute_result"
    }
   ],
   "source": [
    "x.name\n"
   ]
  },
  {
   "cell_type": "code",
   "execution_count": 34,
   "metadata": {
    "slideshow": {
     "slide_type": "subslide"
    }
   },
   "outputs": [
    {
     "data": {
      "text/plain": [
       "<bound method C.foo of <class '__main__.C'>>"
      ]
     },
     "execution_count": 34,
     "metadata": {},
     "output_type": "execute_result"
    }
   ],
   "source": [
    "x.foo\n"
   ]
  },
  {
   "cell_type": "code",
   "execution_count": 35,
   "metadata": {
    "slideshow": {
     "slide_type": "subslide"
    }
   },
   "outputs": [
    {
     "data": {
      "text/plain": [
       "{'name': 'abc'}"
      ]
     },
     "execution_count": 35,
     "metadata": {},
     "output_type": "execute_result"
    }
   ],
   "source": [
    "x.__dict__ "
   ]
  },
  {
   "cell_type": "code",
   "execution_count": 36,
   "metadata": {
    "slideshow": {
     "slide_type": "subslide"
    }
   },
   "outputs": [
    {
     "data": {
      "text/plain": [
       "mappingproxy({'__module__': '__main__',\n",
       "              '__init__': <function __main__.C.__init__(self, name)>,\n",
       "              'hello': <function __main__.C.hello(self)>,\n",
       "              'foo': <classmethod at 0x7fc500071ee0>,\n",
       "              '__dict__': <attribute '__dict__' of 'C' objects>,\n",
       "              '__weakref__': <attribute '__weakref__' of 'C' objects>,\n",
       "              '__doc__': None})"
      ]
     },
     "execution_count": 36,
     "metadata": {},
     "output_type": "execute_result"
    }
   ],
   "source": [
    "x.__class__.__dict__"
   ]
  },
  {
   "cell_type": "markdown",
   "metadata": {
    "slideshow": {
     "slide_type": "slide"
    }
   },
   "source": [
    "everything that you access through dot (.) is object attribute. everything you access through brackets is collection item.\n",
    "When you are accessing an attribute of object, first the lookup is being done on object namespace.\n",
    "If object is not found, it is being looked up in ``x.__class__``, and from that point a lookup is made through parent classes according to class method resolution order (``x.__class__.__mro__``).\n",
    "\n",
    "This behaviour can be changed with altering ``__getattr__, __setattr__, __getattribute__, __setattribute__``  dunder methods.\n",
    "\n",
    "You also probably noticed that x.hello and x.foo are ALSO accessed as attributes. How they operate is a bit complex topic, organically they seem as functions _bounded_ to class or object instances. Note that they dont appear in `x.__dict__`, but appear in `C.__dict__`. This will be explained in next section.\n",
    "\n",
    "Since you may change object attributes on the fly, it means that you will be able to create or modify methods on object instance on the fly."
   ]
  },
  {
   "cell_type": "markdown",
   "metadata": {
    "slideshow": {
     "slide_type": "slide"
    }
   },
   "source": [
    "# DOWN THE RABBIT HOLE\n",
    "\n",
    "Advanced stuff"
   ]
  },
  {
   "cell_type": "markdown",
   "metadata": {
    "slideshow": {
     "slide_type": "slide"
    }
   },
   "source": [
    "# Section 4: properties, attributes and descriptor protocol\n"
   ]
  },
  {
   "cell_type": "markdown",
   "metadata": {
    "slideshow": {
     "slide_type": "slide"
    }
   },
   "source": [
    "So, what happens when we access some attributes of a class or instance?\n",
    "We already figured out that a lookup in ``__dict__`` being done.\n",
    "\n",
    "It's interesting to see how things are organized. "
   ]
  },
  {
   "cell_type": "code",
   "execution_count": 37,
   "metadata": {
    "slideshow": {
     "slide_type": "slide"
    }
   },
   "outputs": [
    {
     "name": "stdout",
     "output_type": "stream",
     "text": [
      "<bound method C.f of <__main__.C object at 0x7fc5001622e0>>\n",
      "{}\n",
      "<function C.f at 0x7fc5001919d0>\n"
     ]
    }
   ],
   "source": [
    "class C():\n",
    "    def f(self, a):\n",
    "        print(a)\n",
    "\n",
    "c = C()\n",
    "\n",
    "print(c.f)   # bound method C.f of <__main__.C object at 0x7fcbfefa9fd0>\n",
    "print(c.__dict__)   # but no F function here\n",
    "print(c.__class__.__dict__['f'])   # <function C.f at 0x7fcbfef6c4c0>\n"
   ]
  },
  {
   "cell_type": "markdown",
   "metadata": {
    "slideshow": {
     "slide_type": "slide"
    }
   },
   "source": [
    "So, function f is located in class C namespace, but not in instance namespace. But function inside class namespace is unbounded to instance. When you think of that c.f is, first idea is that it theoretically should be\n",
    "equivalent to attribute function with bound variable self to object instance AND be located in instance namespace.\n",
    "But it's not there. To understand what trick python does to make it works we should look at another example (class property).\n"
   ]
  },
  {
   "cell_type": "code",
   "execution_count": 38,
   "metadata": {
    "slideshow": {
     "slide_type": "slide"
    }
   },
   "outputs": [
    {
     "name": "stdout",
     "output_type": "stream",
     "text": [
      "10\n",
      "{}\n",
      "<property object at 0x7fc5019d4900>\n"
     ]
    }
   ],
   "source": [
    "class X():\n",
    "   @property\n",
    "   def f(self):\n",
    "      return 10\n",
    "\n",
    "x = X()\n",
    "print(x.f)   # 10\n",
    "print(x.__dict__)  # empty\n",
    "print(x.__class__.__dict__['f'])  # <property object at 0x7fcbfe736f90>\n"
   ]
  },
  {
   "cell_type": "markdown",
   "metadata": {
    "slideshow": {
     "slide_type": "slide"
    }
   },
   "source": [
    "BINGO. This is not a function, but different kind of object (property), but that behaves the same way related to instance binding. Maybe they implement some sort of protocol that converts them  so they would be accessible by concrete instances and instances of class successors. "
   ]
  },
  {
   "cell_type": "markdown",
   "metadata": {
    "slideshow": {
     "slide_type": "slide"
    }
   },
   "source": [
    "\n",
    "A quote from documentation::\n",
    "\n",
    "    A class instance is created by calling a class object (see above). A class instance has a namespace implemented as a dictionary which is the first place in which attribute references are searched. When an attribute is not found there, and the instance’s class has an attribute by that name, the search continues with the class attributes. If a class attribute is found that is a user-defined function object, it is transformed into an instance method object whose __self__ attribute is the instance.\n"
   ]
  },
  {
   "cell_type": "markdown",
   "metadata": {
    "slideshow": {
     "slide_type": "slide"
    }
   },
   "source": [
    "So that's when all the magic happens. Something is transformed into something. How and why they are transformed?\n",
    "The answer is this:\n",
    "\n",
    "when object is looked up in owner namespace, if that object is simple, it's just returned\n",
    "BUT if it implements ANY of the methods `__get__`, `__set__` or `__delete__`, the behaviour is altered.\n",
    "Those methods specify ``descriptor protocol``.\n",
    "\n",
    "a = A()\n",
    "a.b\n",
    "\n",
    "3 rules:\n",
    "   - `A.__dict__['b']` has no `__get__`. -> return value of b as is (if `a.__dict__` does have 'b' then it is returned instead)\n",
    "   - `A.__dict__['b']` has `__delete__` or `__set__` -> data descriptor\n",
    "   - `A.__dict__['b']` has `__get__` -> non-data descriptor, a.b is equivalent to  `A.__dict__['b'].__get__(a, A)`\n"
   ]
  },
  {
   "cell_type": "code",
   "execution_count": 39,
   "metadata": {
    "slideshow": {
     "slide_type": "slide"
    }
   },
   "outputs": [
    {
     "data": {
      "text/plain": [
       "<bound method f of <__main__.C object at 0x7fc500196a90>>"
      ]
     },
     "execution_count": 39,
     "metadata": {},
     "output_type": "execute_result"
    }
   ],
   "source": [
    "# Lets see how descriptor calls transform simple functions to bound instances of object methods:\n",
    "\n",
    "class C:\n",
    "  def f(self, a):\n",
    "     print(a)\n",
    "\n",
    "x = C()\n",
    "x.f\n",
    "# <bound method C.f of <__main__.C object at 0x7f7687ff3fd0>>\n",
    "C.f\n",
    "# <function C.f at 0x7f7687fb64c0>\n",
    "C.f.__get__\n",
    "#<method-wrapper '__get__' of function object at 0x7f7687fb64c0>\n",
    "def f(self, a):\n",
    "  print(a)\n",
    " \n",
    "f.__get__\n",
    "# <method-wrapper '__get__' of function object at 0x7f7687d7a4c0>\n",
    "f.__get__(x)\n",
    "#<bound method f of <__main__.C object at 0x7f7687ff3fd0>>\n"
   ]
  },
  {
   "cell_type": "markdown",
   "metadata": {
    "slideshow": {
     "slide_type": "slide"
    }
   },
   "source": [
    "Why the complexity?\n",
    "\n",
    "Because it allows to implement inheritance and accessing methods and properties of superclasses.\n",
    "When you were busy with OOP, you invoked superclasses methods like this\n",
    "\n",
    "```python\n",
    "class C():\n",
    "   def f(self, a):\n",
    "      print('inside C')\n",
    "      print(a)\n",
    "\n",
    "\n",
    "class Inherited(C):\n",
    "   def f(self, a):\n",
    "       print('before super call')\n",
    "       super().f(a)\n",
    "       print('after super call')\n",
    "       print(a)\n",
    "\n",
    "x = Inherited()\n",
    "x.f(1)\n",
    "```\n",
    "\n"
   ]
  },
  {
   "cell_type": "markdown",
   "metadata": {
    "slideshow": {
     "slide_type": "slide"
    }
   },
   "source": [
    "To understand it, we need to understand what super() returns. super() cannot return current instance, and it will not create another instance of superclass.\n",
    "Instead, it creates a special object that will route calls of its attributes to descriptors of superclass of x.\n",
    "\n"
   ]
  },
  {
   "cell_type": "code",
   "execution_count": 43,
   "metadata": {
    "slideshow": {
     "slide_type": "slide"
    }
   },
   "outputs": [
    {
     "data": {
      "text/plain": [
       "(<super: __main__.C, <__main__.C at 0x7fc500071520>>,\n",
       " <super: __main__.C, None>,\n",
       " <super: __main__.C, <__main__.C at 0x7fc500071520>>)"
      ]
     },
     "execution_count": 43,
     "metadata": {},
     "output_type": "execute_result"
    }
   ],
   "source": [
    "# illustrates common super() calls\n",
    "class C():\n",
    "   def f(self):\n",
    "       return (\n",
    "           super(),    # ancestor, bound to object instance\n",
    "           super(C),   # ancestor, unbound to object instance\n",
    "           super(C, self)  # same as call #1\n",
    "       )  # we will see what different calls to super may return\n",
    " \n",
    "x = C()\n",
    "z = x.f()\n",
    "z\n"
   ]
  },
  {
   "cell_type": "markdown",
   "metadata": {
    "slideshow": {
     "slide_type": "slide"
    }
   },
   "source": [
    "super(C, self) or plain super() object implements `__getattribute__` -> the method we use to access attributes through dots (.)\n",
    "and this `__getattribute__`\n",
    "  - will go through C.__mro__ starting from after C.\n",
    "  - looks up requested attributes or descriptors and return them."
   ]
  },
  {
   "cell_type": "markdown",
   "metadata": {
    "slideshow": {
     "slide_type": "slide"
    }
   },
   "source": [
    "Programming with descriptors can make some very interesting practical cases, but in general it's not advised to use them directly.\n",
    "\n",
    "Esoteric example: Двое из ларца"
   ]
  },
  {
   "cell_type": "markdown",
   "metadata": {
    "slideshow": {
     "slide_type": "slide"
    }
   },
   "source": [
    "## types module and modifying objects on the fly"
   ]
  },
  {
   "cell_type": "markdown",
   "metadata": {
    "slideshow": {
     "slide_type": "slide"
    }
   },
   "source": [
    "Now that you know how things work, you can dynamically modify all possible classes, instances, etc by adding or removing methods.\n",
    "It does not mean you SHOULD do that, but you CAN. It allows you to design some creative things, like object instance that has dynamically changing\n",
    "methods, attributes and properties. In most cases it's a bad idea to design your code around that, but in rare cases it will help you.\n",
    "I can think of example when you have unpickled object that you need to perform additional functionality, you may add a method on the fly.\n",
    "Generally it's a huge hack and a bad idea.\n",
    "\n",
    "Module `types` will help you code a multitude of those bizarre property and method objects without implementing everything yourself."
   ]
  },
  {
   "cell_type": "code",
   "execution_count": 41,
   "metadata": {
    "slideshow": {
     "slide_type": "subslide"
    }
   },
   "outputs": [
    {
     "name": "stdout",
     "output_type": "stream",
     "text": [
      "<__main__.C object at 0x7fc500082d00> a\n"
     ]
    }
   ],
   "source": [
    "#Example: adding instance method\n",
    "\n",
    "class C:\n",
    "  pass\n",
    "\n",
    "x = C()\n",
    "import types\n",
    "def f(self, a):\n",
    "  print(self, a)\n",
    "\n",
    "x.f = f\n",
    "# x.f('1') # will not work\n",
    "x.f = types.MethodType(f, x)\n",
    "x.f('a')\n",
    "# <__main__.C object at 0x7f285180afd0> a\n",
    "# YOU CAN ALSO \"STEAL\" METHODS FROM OTHER CLASSES WITH THE SAME TECHNIQUE\n"
   ]
  },
  {
   "cell_type": "markdown",
   "metadata": {
    "slideshow": {
     "slide_type": "slide"
    }
   },
   "source": [
    "# Section 5: Metaclasses"
   ]
  },
  {
   "cell_type": "markdown",
   "metadata": {
    "slideshow": {
     "slide_type": "slide"
    }
   },
   "source": [
    "`What is metaclasses?` is one of the most popular question on interviews.\n",
    "A little back ago I talked that everything is an object in python, including classes.\n",
    "\n",
    "```\n",
    "class C:\n",
    "   pass\n",
    "\n",
    "C  # <class '__main__.C'>\n",
    "type(C)  # <class \"type\" >\n",
    "\n",
    "Metaclass is TYPE that creates instance of CLASS objects.\n",
    "\n",
    "A = type('A', C.__bases__, dict(C.__dict__))\n",
    "A  # <class '__main__.C'>\n",
    "type(A)  # <class \"type\" >\n",
    "```"
   ]
  },
  {
   "cell_type": "markdown",
   "metadata": {
    "pycharm": {
     "name": "#%% md\n"
    },
    "slideshow": {
     "slide_type": "slide"
    }
   },
   "source": [
    "- Metaclasses construct the whole instance of class when invoked\n",
    "- exact steps:\n",
    "   - creates a separate namespace\n",
    "   - executes class body code in that namespace, it populates the namespace\n",
    "   - creates instance of class object. class namespace becomes class.__dict__\n",
    "- We can define our own metaclasses or derive them from type. \n",
    "- Since abovementioned steps are somewhat complicated, usually metaclasses are implemented as subclasses of type.\n",
    "- Since we are now constructing class object ourselves, we have FULL CONTROL on how it will be created.\n",
    "    - you can perform validation of function names. ->> module abc implements abstract classes.\n",
    "    - you can add or remove additional class, static or instance methods automatically.\n",
    "    - do whatever you want. This is one of the most powerful language feature in python.\n"
   ]
  },
  {
   "cell_type": "code",
   "execution_count": 42,
   "metadata": {
    "slideshow": {
     "slide_type": "slide"
    }
   },
   "outputs": [
    {
     "name": "stdout",
     "output_type": "stream",
     "text": [
      "Cogito ergo sum\n"
     ]
    }
   ],
   "source": [
    "#How it looks in code:\n",
    "\n",
    "class A:\n",
    "    pass\n",
    "\n",
    "class B:\n",
    "    pass\n",
    "\n",
    "\n",
    "class MyMeta(type):   # is a metaclass\n",
    "    def __new__(cls, name, bases, dct):\n",
    "        cls_instance = super().__new__(cls, name, bases, dct)\n",
    "        def think(self):\n",
    "            print('Cogito ergo sum')\n",
    "        cls_instance.think = think   # adding instance method to ALL classes created with this metaclass\n",
    "        return cls_instance\n",
    "\n",
    "class C(A, B,  metaclass=MyMeta):    # A and B are BASES, using custom metaclass MyMeta\n",
    "    pass\n",
    "\n",
    "x = C()\n",
    "x.think()\n"
   ]
  },
  {
   "cell_type": "markdown",
   "metadata": {
    "slideshow": {
     "slide_type": "slide"
    }
   },
   "source": [
    "One of examples that is possible with using metaclasses is creating an ORM class object.\n",
    "Say, you have some tables in database. Then you specify\n",
    "\n",
    "```\n",
    "class Author(metaclass=ORM):\n",
    "    pass\n",
    "\n",
    "or \n",
    "\n",
    "class Book(metaclass=ORM):\n",
    "    __table__ = 'books'\n",
    "```    \n",
    "\n",
    "and ORM metaclass will connect to database, check if there's table name `author` or `books`, create attributes on this class that correspond to this table fields,\n",
    "add capability to query database to the class, etc. Pure magic."
   ]
  }
 ],
 "metadata": {
  "celltoolbar": "Slideshow",
  "kernelspec": {
   "display_name": "Python 3",
   "language": "python",
   "name": "python3"
  },
  "language_info": {
   "codemirror_mode": {
    "name": "ipython",
    "version": 3
   },
   "file_extension": ".py",
   "mimetype": "text/x-python",
   "name": "python",
   "nbconvert_exporter": "python",
   "pygments_lexer": "ipython3",
   "version": "3.8.5"
  }
 },
 "nbformat": 4,
 "nbformat_minor": 1
}
