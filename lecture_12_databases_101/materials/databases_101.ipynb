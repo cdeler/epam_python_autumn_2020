{
 "cells": [
  {
   "cell_type": "markdown",
   "metadata": {
    "slideshow": {
     "slide_type": "slide"
    }
   },
   "source": [
    "# DATABASES 101\n",
    "\n"
   ]
  },
  {
   "cell_type": "code",
   "execution_count": 21,
   "metadata": {
    "slideshow": {
     "slide_type": "skip"
    }
   },
   "outputs": [
    {
     "name": "stdout",
     "output_type": "stream",
     "text": [
      "\n",
      "CREATE TABLE regions (\n",
      "\tregion_id INTEGER  AUTO_INCREMENT PRIMARY KEY,\n",
      "\tregion_name VARCHAR (25) DEFAULT NULL\n",
      ")\n",
      "\n",
      "\n",
      "CREATE TABLE countries (\n",
      "\tcountry_id CHAR (2) PRIMARY KEY,\n",
      "\tcountry_name VARCHAR (40) DEFAULT NULL,\n",
      "\tregion_id INT (11) NOT NULL,\n",
      "\tFOREIGN KEY (region_id) REFERENCES regions (region_id) ON DELETE CASCADE ON UPDATE CASCADE\n",
      ")\n",
      "\n",
      "\n",
      "CREATE TABLE locations (\n",
      "\tlocation_id INT  AUTO_INCREMENT PRIMARY KEY,\n",
      "\tstreet_address VARCHAR (40) DEFAULT NULL,\n",
      "\tpostal_code VARCHAR (12) DEFAULT NULL,\n",
      "\tcity VARCHAR (30) NOT NULL,\n",
      "\tstate_province VARCHAR (25) DEFAULT NULL,\n",
      "\tcountry_id CHAR (2) NOT NULL,\n",
      "\tFOREIGN KEY (country_id) REFERENCES countries (country_id) ON DELETE CASCADE ON UPDATE CASCADE\n",
      ")\n",
      "\n",
      "\n",
      "CREATE TABLE jobs (\n",
      "\tjob_id INT  AUTO_INCREMENT PRIMARY KEY,\n",
      "\tjob_title VARCHAR (35) NOT NULL,\n",
      "\tmin_salary DECIMAL (8, 2) DEFAULT NULL,\n",
      "\tmax_salary DECIMAL (8, 2) DEFAULT NULL\n",
      ")\n",
      "\n",
      "\n",
      "CREATE TABLE departments (\n",
      "\tdepartment_id INT  AUTO_INCREMENT PRIMARY KEY,\n",
      "\tdepartment_name VARCHAR (30) NOT NULL,\n",
      "\tlocation_id INT (11) DEFAULT NULL,\n",
      "\tFOREIGN KEY (location_id) REFERENCES locations (location_id) ON DELETE CASCADE ON UPDATE CASCADE\n",
      ")\n",
      "\n",
      "\n",
      "CREATE TABLE employees (\n",
      "\temployee_id INT  AUTO_INCREMENT PRIMARY KEY,\n",
      "\tfirst_name VARCHAR (20) DEFAULT NULL,\n",
      "\tlast_name VARCHAR (25) NOT NULL,\n",
      "\temail VARCHAR (100) NOT NULL,\n",
      "\tphone_number VARCHAR (20) DEFAULT NULL,\n",
      "\thire_date DATE NOT NULL,\n",
      "\tjob_id INT (11) NOT NULL,\n",
      "\tsalary DECIMAL (8, 2) NOT NULL,\n",
      "\tmanager_id INT (11) DEFAULT NULL,\n",
      "\tdepartment_id INT (11) DEFAULT NULL,\n",
      "\tFOREIGN KEY (job_id) REFERENCES jobs (job_id) ON DELETE CASCADE ON UPDATE CASCADE,\n",
      "\tFOREIGN KEY (department_id) REFERENCES departments (department_id) ON DELETE CASCADE ON UPDATE CASCADE,\n",
      "\tFOREIGN KEY (manager_id) REFERENCES employees (employee_id)\n",
      ")\n",
      "\n",
      "\n",
      "CREATE TABLE dependents (\n",
      "\tdependent_id INT  AUTO_INCREMENT PRIMARY KEY,\n",
      "\tfirst_name VARCHAR (50) NOT NULL,\n",
      "\tlast_name VARCHAR (50) NOT NULL,\n",
      "\trelationship VARCHAR (25) NOT NULL,\n",
      "\temployee_id INT (11) NOT NULL,\n",
      "\tFOREIGN KEY (employee_id) REFERENCES employees (employee_id) ON DELETE CASCADE ON UPDATE CASCADE\n",
      ")\n",
      "\n",
      "/*Data for the table regions */\n",
      "\n",
      "INSERT INTO regions(region_id,region_name) VALUES (1,'Europe')\n",
      "\n",
      "INSERT INTO regions(region_id,region_name) VALUES (2,'Americas')\n",
      "\n",
      "INSERT INTO regions(region_id,region_name) VALUES (3,'Asia')\n",
      "\n",
      "INSERT INTO regions(region_id,region_name) VALUES (4,'Middle East and Africa')\n",
      "\n",
      "\n",
      "\n",
      "/*Data for the table countries */\n",
      "INSERT INTO countries(country_id,country_name,region_id) VALUES ('AR','Argentina',2)\n",
      "\n",
      "INSERT INTO countries(country_id,country_name,region_id) VALUES ('AU','Australia',3)\n",
      "\n",
      "INSERT INTO countries(country_id,country_name,region_id) VALUES ('BE','Belgium',1)\n",
      "\n",
      "INSERT INTO countries(country_id,country_name,region_id) VALUES ('BR','Brazil',2)\n",
      "\n",
      "INSERT INTO countries(country_id,country_name,region_id) VALUES ('CA','Canada',2)\n",
      "\n",
      "INSERT INTO countries(country_id,country_name,region_id) VALUES ('CH','Switzerland',1)\n",
      "\n",
      "INSERT INTO countries(country_id,country_name,region_id) VALUES ('CN','China',3)\n",
      "\n",
      "INSERT INTO countries(country_id,country_name,region_id) VALUES ('DE','Germany',1)\n",
      "\n",
      "INSERT INTO countries(country_id,country_name,region_id) VALUES ('DK','Denmark',1)\n",
      "\n",
      "INSERT INTO countries(country_id,country_name,region_id) VALUES ('EG','Egypt',4)\n",
      "\n",
      "INSERT INTO countries(country_id,country_name,region_id) VALUES ('FR','France',1)\n",
      "\n",
      "INSERT INTO countries(country_id,country_name,region_id) VALUES ('HK','HongKong',3)\n",
      "\n",
      "INSERT INTO countries(country_id,country_name,region_id) VALUES ('IL','Israel',4)\n",
      "\n",
      "INSERT INTO countries(country_id,country_name,region_id) VALUES ('IN','India',3)\n",
      "\n",
      "INSERT INTO countries(country_id,country_name,region_id) VALUES ('IT','Italy',1)\n",
      "\n",
      "INSERT INTO countries(country_id,country_name,region_id) VALUES ('JP','Japan',3)\n",
      "\n",
      "INSERT INTO countries(country_id,country_name,region_id) VALUES ('KW','Kuwait',4)\n",
      "\n",
      "INSERT INTO countries(country_id,country_name,region_id) VALUES ('MX','Mexico',2)\n",
      "\n",
      "INSERT INTO countries(country_id,country_name,region_id) VALUES ('NG','Nigeria',4)\n",
      "\n",
      "INSERT INTO countries(country_id,country_name,region_id) VALUES ('NL','Netherlands',1)\n",
      "\n",
      "INSERT INTO countries(country_id,country_name,region_id) VALUES ('SG','Singapore',3)\n",
      "\n",
      "INSERT INTO countries(country_id,country_name,region_id) VALUES ('UK','United Kingdom',1)\n",
      "\n",
      "INSERT INTO countries(country_id,country_name,region_id) VALUES ('US','United States of America',2)\n",
      "\n",
      "INSERT INTO countries(country_id,country_name,region_id) VALUES ('ZM','Zambia',4)\n",
      "\n",
      "INSERT INTO countries(country_id,country_name,region_id) VALUES ('ZW','Zimbabwe',4)\n",
      "\n",
      "\n",
      "/*Data for the table locations */\n",
      "INSERT INTO locations(location_id,street_address,postal_code,city,state_province,country_id) VALUES (1400,'2014 Jabberwocky Rd','26192','Southlake','Texas','US')\n",
      "\n",
      "INSERT INTO locations(location_id,street_address,postal_code,city,state_province,country_id) VALUES (1500,'2011 Interiors Blvd','99236','South San Francisco','California','US')\n",
      "\n",
      "INSERT INTO locations(location_id,street_address,postal_code,city,state_province,country_id) VALUES (1700,'2004 Charade Rd','98199','Seattle','Washington','US')\n",
      "\n",
      "INSERT INTO locations(location_id,street_address,postal_code,city,state_province,country_id) VALUES (1800,'147 Spadina Ave','M5V 2L7','Toronto','Ontario','CA')\n",
      "\n",
      "INSERT INTO locations(location_id,street_address,postal_code,city,state_province,country_id) VALUES (2400,'8204 Arthur St',NULL,'London',NULL,'UK')\n",
      "\n",
      "INSERT INTO locations(location_id,street_address,postal_code,city,state_province,country_id) VALUES (2500,'Magdalen Centre, The Oxford Science Park','OX9 9ZB','Oxford','Oxford','UK')\n",
      "\n",
      "INSERT INTO locations(location_id,street_address,postal_code,city,state_province,country_id) VALUES (2700,'Schwanthalerstr. 7031','80925','Munich','Bavaria','DE')\n",
      "\n",
      "\n",
      "\n",
      "/*Data for the table jobs */\n",
      "\n",
      "INSERT INTO jobs(job_id,job_title,min_salary,max_salary) VALUES (1,'Public Accountant',4200.00,9000.00)\n",
      "\n",
      "INSERT INTO jobs(job_id,job_title,min_salary,max_salary) VALUES (2,'Accounting Manager',8200.00,16000.00)\n",
      "\n",
      "INSERT INTO jobs(job_id,job_title,min_salary,max_salary) VALUES (3,'Administration Assistant',3000.00,6000.00)\n",
      "\n",
      "INSERT INTO jobs(job_id,job_title,min_salary,max_salary) VALUES (4,'President',20000.00,40000.00)\n",
      "\n",
      "INSERT INTO jobs(job_id,job_title,min_salary,max_salary) VALUES (5,'Administration Vice President',15000.00,30000.00)\n",
      "\n",
      "INSERT INTO jobs(job_id,job_title,min_salary,max_salary) VALUES (6,'Accountant',4200.00,9000.00)\n",
      "\n",
      "INSERT INTO jobs(job_id,job_title,min_salary,max_salary) VALUES (7,'Finance Manager',8200.00,16000.00)\n",
      "\n",
      "INSERT INTO jobs(job_id,job_title,min_salary,max_salary) VALUES (8,'Human Resources Representative',4000.00,9000.00)\n",
      "\n",
      "INSERT INTO jobs(job_id,job_title,min_salary,max_salary) VALUES (9,'Programmer',4000.00,10000.00)\n",
      "\n",
      "INSERT INTO jobs(job_id,job_title,min_salary,max_salary) VALUES (10,'Marketing Manager',9000.00,15000.00)\n",
      "\n",
      "INSERT INTO jobs(job_id,job_title,min_salary,max_salary) VALUES (11,'Marketing Representative',4000.00,9000.00)\n",
      "\n",
      "INSERT INTO jobs(job_id,job_title,min_salary,max_salary) VALUES (12,'Public Relations Representative',4500.00,10500.00)\n",
      "\n",
      "INSERT INTO jobs(job_id,job_title,min_salary,max_salary) VALUES (13,'Purchasing Clerk',2500.00,5500.00)\n",
      "\n",
      "INSERT INTO jobs(job_id,job_title,min_salary,max_salary) VALUES (14,'Purchasing Manager',8000.00,15000.00)\n",
      "\n",
      "INSERT INTO jobs(job_id,job_title,min_salary,max_salary) VALUES (15,'Sales Manager',10000.00,20000.00)\n",
      "\n",
      "INSERT INTO jobs(job_id,job_title,min_salary,max_salary) VALUES (16,'Sales Representative',6000.00,12000.00)\n",
      "\n",
      "INSERT INTO jobs(job_id,job_title,min_salary,max_salary) VALUES (17,'Shipping Clerk',2500.00,5500.00)\n",
      "\n",
      "INSERT INTO jobs(job_id,job_title,min_salary,max_salary) VALUES (18,'Stock Clerk',2000.00,5000.00)\n",
      "\n",
      "INSERT INTO jobs(job_id,job_title,min_salary,max_salary) VALUES (19,'Stock Manager',5500.00,8500.00)\n",
      "\n",
      "\n",
      "\n",
      "/*Data for the table departments */\n",
      "\n",
      "INSERT INTO departments(department_id,department_name,location_id) VALUES (1,'Administration',1700)\n",
      "\n",
      "INSERT INTO departments(department_id,department_name,location_id) VALUES (2,'Marketing',1800)\n",
      "\n",
      "INSERT INTO departments(department_id,department_name,location_id) VALUES (3,'Purchasing',1700)\n",
      "\n",
      "INSERT INTO departments(department_id,department_name,location_id) VALUES (4,'Human Resources',2400)\n",
      "\n",
      "INSERT INTO departments(department_id,department_name,location_id) VALUES (5,'Shipping',1500)\n",
      "\n",
      "INSERT INTO departments(department_id,department_name,location_id) VALUES (6,'IT',1400)\n",
      "\n",
      "INSERT INTO departments(department_id,department_name,location_id) VALUES (7,'Public Relations',2700)\n",
      "\n",
      "INSERT INTO departments(department_id,department_name,location_id) VALUES (8,'Sales',2500)\n",
      "\n",
      "INSERT INTO departments(department_id,department_name,location_id) VALUES (9,'Executive',1700)\n",
      "\n",
      "INSERT INTO departments(department_id,department_name,location_id) VALUES (10,'Finance',1700)\n",
      "\n",
      "INSERT INTO departments(department_id,department_name,location_id) VALUES (11,'Accounting',1700)\n",
      "\n",
      "\n",
      "\n",
      "\n",
      "/*Data for the table employees */\n",
      "\n",
      "INSERT INTO employees(employee_id,first_name,last_name,email,phone_number,hire_date,job_id,salary,manager_id,department_id) VALUES (100,'Steven','King','steven.king@sqltutorial.org','515.123.4567','1987-06-17',4,24000.00,NULL,9)\n",
      "\n",
      "INSERT INTO employees(employee_id,first_name,last_name,email,phone_number,hire_date,job_id,salary,manager_id,department_id) VALUES (101,'Neena','Kochhar','neena.kochhar@sqltutorial.org','515.123.4568','1989-09-21',5,17000.00,100,9)\n",
      "\n",
      "INSERT INTO employees(employee_id,first_name,last_name,email,phone_number,hire_date,job_id,salary,manager_id,department_id) VALUES (102,'Lex','De Haan','lex.de haan@sqltutorial.org','515.123.4569','1993-01-13',5,17000.00,100,9)\n",
      "\n",
      "INSERT INTO employees(employee_id,first_name,last_name,email,phone_number,hire_date,job_id,salary,manager_id,department_id) VALUES (103,'Alexander','Hunold','alexander.hunold@sqltutorial.org','590.423.4567','1990-01-03',9,9000.00,102,6)\n",
      "\n",
      "INSERT INTO employees(employee_id,first_name,last_name,email,phone_number,hire_date,job_id,salary,manager_id,department_id) VALUES (104,'Bruce','Ernst','bruce.ernst@sqltutorial.org','590.423.4568','1991-05-21',9,6000.00,103,6)\n",
      "\n",
      "INSERT INTO employees(employee_id,first_name,last_name,email,phone_number,hire_date,job_id,salary,manager_id,department_id) VALUES (105,'David','Austin','david.austin@sqltutorial.org','590.423.4569','1997-06-25',9,4800.00,103,6)\n",
      "\n",
      "INSERT INTO employees(employee_id,first_name,last_name,email,phone_number,hire_date,job_id,salary,manager_id,department_id) VALUES (106,'Valli','Pataballa','valli.pataballa@sqltutorial.org','590.423.4560','1998-02-05',9,4800.00,103,6)\n",
      "\n",
      "INSERT INTO employees(employee_id,first_name,last_name,email,phone_number,hire_date,job_id,salary,manager_id,department_id) VALUES (107,'Diana','Lorentz','diana.lorentz@sqltutorial.org','590.423.5567','1999-02-07',9,4200.00,103,6)\n",
      "\n",
      "INSERT INTO employees(employee_id,first_name,last_name,email,phone_number,hire_date,job_id,salary,manager_id,department_id) VALUES (108,'Nancy','Greenberg','nancy.greenberg@sqltutorial.org','515.124.4569','1994-08-17',7,12000.00,101,10)\n",
      "\n",
      "INSERT INTO employees(employee_id,first_name,last_name,email,phone_number,hire_date,job_id,salary,manager_id,department_id) VALUES (109,'Daniel','Faviet','daniel.faviet@sqltutorial.org','515.124.4169','1994-08-16',6,9000.00,108,10)\n",
      "\n",
      "INSERT INTO employees(employee_id,first_name,last_name,email,phone_number,hire_date,job_id,salary,manager_id,department_id) VALUES (110,'John','Chen','john.chen@sqltutorial.org','515.124.4269','1997-09-28',6,8200.00,108,10)\n",
      "\n",
      "INSERT INTO employees(employee_id,first_name,last_name,email,phone_number,hire_date,job_id,salary,manager_id,department_id) VALUES (111,'Ismael','Sciarra','ismael.sciarra@sqltutorial.org','515.124.4369','1997-09-30',6,7700.00,108,10)\n",
      "\n",
      "INSERT INTO employees(employee_id,first_name,last_name,email,phone_number,hire_date,job_id,salary,manager_id,department_id) VALUES (112,'Jose Manuel','Urman','jose manuel.urman@sqltutorial.org','515.124.4469','1998-03-07',6,7800.00,108,10)\n",
      "\n",
      "INSERT INTO employees(employee_id,first_name,last_name,email,phone_number,hire_date,job_id,salary,manager_id,department_id) VALUES (113,'Luis','Popp','luis.popp@sqltutorial.org','515.124.4567','1999-12-07',6,6900.00,108,10)\n",
      "\n",
      "INSERT INTO employees(employee_id,first_name,last_name,email,phone_number,hire_date,job_id,salary,manager_id,department_id) VALUES (114,'Den','Raphaely','den.raphaely@sqltutorial.org','515.127.4561','1994-12-07',14,11000.00,100,3)\n",
      "\n",
      "INSERT INTO employees(employee_id,first_name,last_name,email,phone_number,hire_date,job_id,salary,manager_id,department_id) VALUES (115,'Alexander','Khoo','alexander.khoo@sqltutorial.org','515.127.4562','1995-05-18',13,3100.00,114,3)\n",
      "\n",
      "INSERT INTO employees(employee_id,first_name,last_name,email,phone_number,hire_date,job_id,salary,manager_id,department_id) VALUES (116,'Shelli','Baida','shelli.baida@sqltutorial.org','515.127.4563','1997-12-24',13,2900.00,114,3)\n",
      "\n",
      "INSERT INTO employees(employee_id,first_name,last_name,email,phone_number,hire_date,job_id,salary,manager_id,department_id) VALUES (117,'Sigal','Tobias','sigal.tobias@sqltutorial.org','515.127.4564','1997-07-24',13,2800.00,114,3)\n",
      "\n",
      "INSERT INTO employees(employee_id,first_name,last_name,email,phone_number,hire_date,job_id,salary,manager_id,department_id) VALUES (118,'Guy','Himuro','guy.himuro@sqltutorial.org','515.127.4565','1998-11-15',13,2600.00,114,3)\n",
      "\n",
      "INSERT INTO employees(employee_id,first_name,last_name,email,phone_number,hire_date,job_id,salary,manager_id,department_id) VALUES (119,'Karen','Colmenares','karen.colmenares@sqltutorial.org','515.127.4566','1999-08-10',13,2500.00,114,3)\n",
      "\n",
      "INSERT INTO employees(employee_id,first_name,last_name,email,phone_number,hire_date,job_id,salary,manager_id,department_id) VALUES (120,'Matthew','Weiss','matthew.weiss@sqltutorial.org','650.123.1234','1996-07-18',19,8000.00,100,5)\n",
      "\n",
      "INSERT INTO employees(employee_id,first_name,last_name,email,phone_number,hire_date,job_id,salary,manager_id,department_id) VALUES (121,'Adam','Fripp','adam.fripp@sqltutorial.org','650.123.2234','1997-04-10',19,8200.00,100,5)\n",
      "\n",
      "INSERT INTO employees(employee_id,first_name,last_name,email,phone_number,hire_date,job_id,salary,manager_id,department_id) VALUES (122,'Payam','Kaufling','payam.kaufling@sqltutorial.org','650.123.3234','1995-05-01',19,7900.00,100,5)\n",
      "\n",
      "INSERT INTO employees(employee_id,first_name,last_name,email,phone_number,hire_date,job_id,salary,manager_id,department_id) VALUES (123,'Shanta','Vollman','shanta.vollman@sqltutorial.org','650.123.4234','1997-10-10',19,6500.00,100,5)\n",
      "\n",
      "INSERT INTO employees(employee_id,first_name,last_name,email,phone_number,hire_date,job_id,salary,manager_id,department_id) VALUES (126,'Irene','Mikkilineni','irene.mikkilineni@sqltutorial.org','650.124.1224','1998-09-28',18,2700.00,120,5)\n",
      "\n",
      "INSERT INTO employees(employee_id,first_name,last_name,email,phone_number,hire_date,job_id,salary,manager_id,department_id) VALUES (145,'John','Russell','john.russell@sqltutorial.org',NULL,'1996-10-01',15,14000.00,100,8)\n",
      "\n",
      "INSERT INTO employees(employee_id,first_name,last_name,email,phone_number,hire_date,job_id,salary,manager_id,department_id) VALUES (146,'Karen','Partners','karen.partners@sqltutorial.org',NULL,'1997-01-05',15,13500.00,100,8)\n",
      "\n",
      "INSERT INTO employees(employee_id,first_name,last_name,email,phone_number,hire_date,job_id,salary,manager_id,department_id) VALUES (176,'Jonathon','Taylor','jonathon.taylor@sqltutorial.org',NULL,'1998-03-24',16,8600.00,100,8)\n",
      "\n",
      "INSERT INTO employees(employee_id,first_name,last_name,email,phone_number,hire_date,job_id,salary,manager_id,department_id) VALUES (177,'Jack','Livingston','jack.livingston@sqltutorial.org',NULL,'1998-04-23',16,8400.00,100,8)\n",
      "\n",
      "INSERT INTO employees(employee_id,first_name,last_name,email,phone_number,hire_date,job_id,salary,manager_id,department_id) VALUES (178,'Kimberely','Grant','kimberely.grant@sqltutorial.org',NULL,'1999-05-24',16,7000.00,100,8)\n",
      "\n",
      "INSERT INTO employees(employee_id,first_name,last_name,email,phone_number,hire_date,job_id,salary,manager_id,department_id) VALUES (179,'Charles','Johnson','charles.johnson@sqltutorial.org',NULL,'2000-01-04',16,6200.00,100,8)\n",
      "\n",
      "INSERT INTO employees(employee_id,first_name,last_name,email,phone_number,hire_date,job_id,salary,manager_id,department_id) VALUES (192,'Sarah','Bell','sarah.bell@sqltutorial.org','650.501.1876','1996-02-04',17,4000.00,123,5)\n",
      "\n",
      "INSERT INTO employees(employee_id,first_name,last_name,email,phone_number,hire_date,job_id,salary,manager_id,department_id) VALUES (193,'Britney','Everett','britney.everett@sqltutorial.org','650.501.2876','1997-03-03',17,3900.00,123,5)\n",
      "\n",
      "INSERT INTO employees(employee_id,first_name,last_name,email,phone_number,hire_date,job_id,salary,manager_id,department_id) VALUES (200,'Jennifer','Whalen','jennifer.whalen@sqltutorial.org','515.123.4444','1987-09-17',3,4400.00,101,1)\n",
      "\n",
      "INSERT INTO employees(employee_id,first_name,last_name,email,phone_number,hire_date,job_id,salary,manager_id,department_id) VALUES (201,'Michael','Hartstein','michael.hartstein@sqltutorial.org','515.123.5555','1996-02-17',10,13000.00,100,2)\n",
      "\n",
      "INSERT INTO employees(employee_id,first_name,last_name,email,phone_number,hire_date,job_id,salary,manager_id,department_id) VALUES (202,'Pat','Fay','pat.fay@sqltutorial.org','603.123.6666','1997-08-17',11,6000.00,201,2)\n",
      "\n",
      "INSERT INTO employees(employee_id,first_name,last_name,email,phone_number,hire_date,job_id,salary,manager_id,department_id) VALUES (203,'Susan','Mavris','susan.mavris@sqltutorial.org','515.123.7777','1994-06-07',8,6500.00,101,4)\n",
      "\n",
      "INSERT INTO employees(employee_id,first_name,last_name,email,phone_number,hire_date,job_id,salary,manager_id,department_id) VALUES (204,'Hermann','Baer','hermann.baer@sqltutorial.org','515.123.8888','1994-06-07',12,10000.00,101,7)\n",
      "\n",
      "INSERT INTO employees(employee_id,first_name,last_name,email,phone_number,hire_date,job_id,salary,manager_id,department_id) VALUES (205,'Shelley','Higgins','shelley.higgins@sqltutorial.org','515.123.8080','1994-06-07',2,12000.00,101,11)\n",
      "\n",
      "INSERT INTO employees(employee_id,first_name,last_name,email,phone_number,hire_date,job_id,salary,manager_id,department_id) VALUES (206,'William','Gietz','william.gietz@sqltutorial.org','515.123.8181','1994-06-07',1,8300.00,205,11)\n",
      "\n",
      "\n",
      "\n",
      "/*Data for the table dependents */\n",
      "\n",
      "INSERT INTO dependents(dependent_id,first_name,last_name,relationship,employee_id) VALUES (1,'Penelope','Gietz','Child',206)\n",
      "\n",
      "INSERT INTO dependents(dependent_id,first_name,last_name,relationship,employee_id) VALUES (2,'Nick','Higgins','Child',205)\n",
      "\n",
      "INSERT INTO dependents(dependent_id,first_name,last_name,relationship,employee_id) VALUES (3,'Ed','Whalen','Child',200)\n",
      "\n",
      "INSERT INTO dependents(dependent_id,first_name,last_name,relationship,employee_id) VALUES (4,'Jennifer','King','Child',100)\n",
      "\n",
      "INSERT INTO dependents(dependent_id,first_name,last_name,relationship,employee_id) VALUES (5,'Johnny','Kochhar','Child',101)\n",
      "\n",
      "INSERT INTO dependents(dependent_id,first_name,last_name,relationship,employee_id) VALUES (6,'Bette','De Haan','Child',102)\n",
      "\n",
      "INSERT INTO dependents(dependent_id,first_name,last_name,relationship,employee_id) VALUES (7,'Grace','Faviet','Child',109)\n",
      "\n",
      "INSERT INTO dependents(dependent_id,first_name,last_name,relationship,employee_id) VALUES (8,'Matthew','Chen','Child',110)\n",
      "\n",
      "INSERT INTO dependents(dependent_id,first_name,last_name,relationship,employee_id) VALUES (9,'Joe','Sciarra','Child',111)\n",
      "\n",
      "INSERT INTO dependents(dependent_id,first_name,last_name,relationship,employee_id) VALUES (10,'Christian','Urman','Child',112)\n",
      "\n",
      "INSERT INTO dependents(dependent_id,first_name,last_name,relationship,employee_id) VALUES (11,'Zero','Popp','Child',113)\n",
      "\n",
      "INSERT INTO dependents(dependent_id,first_name,last_name,relationship,employee_id) VALUES (12,'Karl','Greenberg','Child',108)\n",
      "\n",
      "INSERT INTO dependents(dependent_id,first_name,last_name,relationship,employee_id) VALUES (13,'Uma','Mavris','Child',203)\n",
      "\n",
      "INSERT INTO dependents(dependent_id,first_name,last_name,relationship,employee_id) VALUES (14,'Vivien','Hunold','Child',103)\n",
      "\n",
      "INSERT INTO dependents(dependent_id,first_name,last_name,relationship,employee_id) VALUES (15,'Cuba','Ernst','Child',104)\n",
      "\n",
      "INSERT INTO dependents(dependent_id,first_name,last_name,relationship,employee_id) VALUES (16,'Fred','Austin','Child',105)\n",
      "\n",
      "INSERT INTO dependents(dependent_id,first_name,last_name,relationship,employee_id) VALUES (17,'Helen','Pataballa','Child',106)\n",
      "\n",
      "INSERT INTO dependents(dependent_id,first_name,last_name,relationship,employee_id) VALUES (18,'Dan','Lorentz','Child',107)\n",
      "\n",
      "INSERT INTO dependents(dependent_id,first_name,last_name,relationship,employee_id) VALUES (19,'Bob','Hartstein','Child',201)\n",
      "\n",
      "INSERT INTO dependents(dependent_id,first_name,last_name,relationship,employee_id) VALUES (20,'Lucille','Fay','Child',202)\n",
      "\n",
      "INSERT INTO dependents(dependent_id,first_name,last_name,relationship,employee_id) VALUES (21,'Kirsten','Baer','Child',204)\n",
      "\n",
      "INSERT INTO dependents(dependent_id,first_name,last_name,relationship,employee_id) VALUES (22,'Elvis','Khoo','Child',115)\n",
      "\n",
      "INSERT INTO dependents(dependent_id,first_name,last_name,relationship,employee_id) VALUES (23,'Sandra','Baida','Child',116)\n",
      "\n",
      "INSERT INTO dependents(dependent_id,first_name,last_name,relationship,employee_id) VALUES (24,'Cameron','Tobias','Child',117)\n",
      "\n",
      "INSERT INTO dependents(dependent_id,first_name,last_name,relationship,employee_id) VALUES (25,'Kevin','Himuro','Child',118)\n",
      "\n",
      "INSERT INTO dependents(dependent_id,first_name,last_name,relationship,employee_id) VALUES (26,'Rip','Colmenares','Child',119)\n",
      "\n",
      "INSERT INTO dependents(dependent_id,first_name,last_name,relationship,employee_id) VALUES (27,'Julia','Raphaely','Child',114)\n",
      "\n",
      "INSERT INTO dependents(dependent_id,first_name,last_name,relationship,employee_id) VALUES (28,'Woody','Russell','Child',145)\n",
      "\n",
      "INSERT INTO dependents(dependent_id,first_name,last_name,relationship,employee_id) VALUES (29,'Alec','Partners','Child',146)\n",
      "\n",
      "INSERT INTO dependents(dependent_id,first_name,last_name,relationship,employee_id) VALUES (30,'Sandra','Taylor','Child',176)\n",
      "\n",
      "\n"
     ]
    }
   ],
   "source": [
    "# preparing test database\n",
    "import sqlite3\n",
    "conn = sqlite3.connect('sample.db')\n",
    "cursor = conn.cursor()\n",
    "query = '''\n",
    "CREATE TABLE regions (\n",
    "\tregion_id INTEGER  AUTO_INCREMENT PRIMARY KEY,\n",
    "\tregion_name VARCHAR (25) DEFAULT NULL\n",
    ");\n",
    "\n",
    "CREATE TABLE countries (\n",
    "\tcountry_id CHAR (2) PRIMARY KEY,\n",
    "\tcountry_name VARCHAR (40) DEFAULT NULL,\n",
    "\tregion_id INT (11) NOT NULL,\n",
    "\tFOREIGN KEY (region_id) REFERENCES regions (region_id) ON DELETE CASCADE ON UPDATE CASCADE\n",
    ");\n",
    "\n",
    "CREATE TABLE locations (\n",
    "\tlocation_id INT  AUTO_INCREMENT PRIMARY KEY,\n",
    "\tstreet_address VARCHAR (40) DEFAULT NULL,\n",
    "\tpostal_code VARCHAR (12) DEFAULT NULL,\n",
    "\tcity VARCHAR (30) NOT NULL,\n",
    "\tstate_province VARCHAR (25) DEFAULT NULL,\n",
    "\tcountry_id CHAR (2) NOT NULL,\n",
    "\tFOREIGN KEY (country_id) REFERENCES countries (country_id) ON DELETE CASCADE ON UPDATE CASCADE\n",
    ");\n",
    "\n",
    "CREATE TABLE jobs (\n",
    "\tjob_id INT  AUTO_INCREMENT PRIMARY KEY,\n",
    "\tjob_title VARCHAR (35) NOT NULL,\n",
    "\tmin_salary DECIMAL (8, 2) DEFAULT NULL,\n",
    "\tmax_salary DECIMAL (8, 2) DEFAULT NULL\n",
    ");\n",
    "\n",
    "CREATE TABLE departments (\n",
    "\tdepartment_id INT  AUTO_INCREMENT PRIMARY KEY,\n",
    "\tdepartment_name VARCHAR (30) NOT NULL,\n",
    "\tlocation_id INT (11) DEFAULT NULL,\n",
    "\tFOREIGN KEY (location_id) REFERENCES locations (location_id) ON DELETE CASCADE ON UPDATE CASCADE\n",
    ");\n",
    "\n",
    "CREATE TABLE employees (\n",
    "\temployee_id INT  AUTO_INCREMENT PRIMARY KEY,\n",
    "\tfirst_name VARCHAR (20) DEFAULT NULL,\n",
    "\tlast_name VARCHAR (25) NOT NULL,\n",
    "\temail VARCHAR (100) NOT NULL,\n",
    "\tphone_number VARCHAR (20) DEFAULT NULL,\n",
    "\thire_date DATE NOT NULL,\n",
    "\tjob_id INT (11) NOT NULL,\n",
    "\tsalary DECIMAL (8, 2) NOT NULL,\n",
    "\tmanager_id INT (11) DEFAULT NULL,\n",
    "\tdepartment_id INT (11) DEFAULT NULL,\n",
    "\tFOREIGN KEY (job_id) REFERENCES jobs (job_id) ON DELETE CASCADE ON UPDATE CASCADE,\n",
    "\tFOREIGN KEY (department_id) REFERENCES departments (department_id) ON DELETE CASCADE ON UPDATE CASCADE,\n",
    "\tFOREIGN KEY (manager_id) REFERENCES employees (employee_id)\n",
    ");\n",
    "\n",
    "CREATE TABLE dependents (\n",
    "\tdependent_id INT  AUTO_INCREMENT PRIMARY KEY,\n",
    "\tfirst_name VARCHAR (50) NOT NULL,\n",
    "\tlast_name VARCHAR (50) NOT NULL,\n",
    "\trelationship VARCHAR (25) NOT NULL,\n",
    "\temployee_id INT (11) NOT NULL,\n",
    "\tFOREIGN KEY (employee_id) REFERENCES employees (employee_id) ON DELETE CASCADE ON UPDATE CASCADE\n",
    ");\n",
    "/*Data for the table regions */\n",
    "\n",
    "INSERT INTO regions(region_id,region_name) VALUES (1,'Europe');\n",
    "INSERT INTO regions(region_id,region_name) VALUES (2,'Americas');\n",
    "INSERT INTO regions(region_id,region_name) VALUES (3,'Asia');\n",
    "INSERT INTO regions(region_id,region_name) VALUES (4,'Middle East and Africa');\n",
    "\n",
    "\n",
    "/*Data for the table countries */\n",
    "INSERT INTO countries(country_id,country_name,region_id) VALUES ('AR','Argentina',2);\n",
    "INSERT INTO countries(country_id,country_name,region_id) VALUES ('AU','Australia',3);\n",
    "INSERT INTO countries(country_id,country_name,region_id) VALUES ('BE','Belgium',1);\n",
    "INSERT INTO countries(country_id,country_name,region_id) VALUES ('BR','Brazil',2);\n",
    "INSERT INTO countries(country_id,country_name,region_id) VALUES ('CA','Canada',2);\n",
    "INSERT INTO countries(country_id,country_name,region_id) VALUES ('CH','Switzerland',1);\n",
    "INSERT INTO countries(country_id,country_name,region_id) VALUES ('CN','China',3);\n",
    "INSERT INTO countries(country_id,country_name,region_id) VALUES ('DE','Germany',1);\n",
    "INSERT INTO countries(country_id,country_name,region_id) VALUES ('DK','Denmark',1);\n",
    "INSERT INTO countries(country_id,country_name,region_id) VALUES ('EG','Egypt',4);\n",
    "INSERT INTO countries(country_id,country_name,region_id) VALUES ('FR','France',1);\n",
    "INSERT INTO countries(country_id,country_name,region_id) VALUES ('HK','HongKong',3);\n",
    "INSERT INTO countries(country_id,country_name,region_id) VALUES ('IL','Israel',4);\n",
    "INSERT INTO countries(country_id,country_name,region_id) VALUES ('IN','India',3);\n",
    "INSERT INTO countries(country_id,country_name,region_id) VALUES ('IT','Italy',1);\n",
    "INSERT INTO countries(country_id,country_name,region_id) VALUES ('JP','Japan',3);\n",
    "INSERT INTO countries(country_id,country_name,region_id) VALUES ('KW','Kuwait',4);\n",
    "INSERT INTO countries(country_id,country_name,region_id) VALUES ('MX','Mexico',2);\n",
    "INSERT INTO countries(country_id,country_name,region_id) VALUES ('NG','Nigeria',4);\n",
    "INSERT INTO countries(country_id,country_name,region_id) VALUES ('NL','Netherlands',1);\n",
    "INSERT INTO countries(country_id,country_name,region_id) VALUES ('SG','Singapore',3);\n",
    "INSERT INTO countries(country_id,country_name,region_id) VALUES ('UK','United Kingdom',1);\n",
    "INSERT INTO countries(country_id,country_name,region_id) VALUES ('US','United States of America',2);\n",
    "INSERT INTO countries(country_id,country_name,region_id) VALUES ('ZM','Zambia',4);\n",
    "INSERT INTO countries(country_id,country_name,region_id) VALUES ('ZW','Zimbabwe',4);\n",
    "\n",
    "/*Data for the table locations */\n",
    "INSERT INTO locations(location_id,street_address,postal_code,city,state_province,country_id) VALUES (1400,'2014 Jabberwocky Rd','26192','Southlake','Texas','US');\n",
    "INSERT INTO locations(location_id,street_address,postal_code,city,state_province,country_id) VALUES (1500,'2011 Interiors Blvd','99236','South San Francisco','California','US');\n",
    "INSERT INTO locations(location_id,street_address,postal_code,city,state_province,country_id) VALUES (1700,'2004 Charade Rd','98199','Seattle','Washington','US');\n",
    "INSERT INTO locations(location_id,street_address,postal_code,city,state_province,country_id) VALUES (1800,'147 Spadina Ave','M5V 2L7','Toronto','Ontario','CA');\n",
    "INSERT INTO locations(location_id,street_address,postal_code,city,state_province,country_id) VALUES (2400,'8204 Arthur St',NULL,'London',NULL,'UK');\n",
    "INSERT INTO locations(location_id,street_address,postal_code,city,state_province,country_id) VALUES (2500,'Magdalen Centre, The Oxford Science Park','OX9 9ZB','Oxford','Oxford','UK');\n",
    "INSERT INTO locations(location_id,street_address,postal_code,city,state_province,country_id) VALUES (2700,'Schwanthalerstr. 7031','80925','Munich','Bavaria','DE');\n",
    "\n",
    "\n",
    "/*Data for the table jobs */\n",
    "\n",
    "INSERT INTO jobs(job_id,job_title,min_salary,max_salary) VALUES (1,'Public Accountant',4200.00,9000.00);\n",
    "INSERT INTO jobs(job_id,job_title,min_salary,max_salary) VALUES (2,'Accounting Manager',8200.00,16000.00);\n",
    "INSERT INTO jobs(job_id,job_title,min_salary,max_salary) VALUES (3,'Administration Assistant',3000.00,6000.00);\n",
    "INSERT INTO jobs(job_id,job_title,min_salary,max_salary) VALUES (4,'President',20000.00,40000.00);\n",
    "INSERT INTO jobs(job_id,job_title,min_salary,max_salary) VALUES (5,'Administration Vice President',15000.00,30000.00);\n",
    "INSERT INTO jobs(job_id,job_title,min_salary,max_salary) VALUES (6,'Accountant',4200.00,9000.00);\n",
    "INSERT INTO jobs(job_id,job_title,min_salary,max_salary) VALUES (7,'Finance Manager',8200.00,16000.00);\n",
    "INSERT INTO jobs(job_id,job_title,min_salary,max_salary) VALUES (8,'Human Resources Representative',4000.00,9000.00);\n",
    "INSERT INTO jobs(job_id,job_title,min_salary,max_salary) VALUES (9,'Programmer',4000.00,10000.00);\n",
    "INSERT INTO jobs(job_id,job_title,min_salary,max_salary) VALUES (10,'Marketing Manager',9000.00,15000.00);\n",
    "INSERT INTO jobs(job_id,job_title,min_salary,max_salary) VALUES (11,'Marketing Representative',4000.00,9000.00);\n",
    "INSERT INTO jobs(job_id,job_title,min_salary,max_salary) VALUES (12,'Public Relations Representative',4500.00,10500.00);\n",
    "INSERT INTO jobs(job_id,job_title,min_salary,max_salary) VALUES (13,'Purchasing Clerk',2500.00,5500.00);\n",
    "INSERT INTO jobs(job_id,job_title,min_salary,max_salary) VALUES (14,'Purchasing Manager',8000.00,15000.00);\n",
    "INSERT INTO jobs(job_id,job_title,min_salary,max_salary) VALUES (15,'Sales Manager',10000.00,20000.00);\n",
    "INSERT INTO jobs(job_id,job_title,min_salary,max_salary) VALUES (16,'Sales Representative',6000.00,12000.00);\n",
    "INSERT INTO jobs(job_id,job_title,min_salary,max_salary) VALUES (17,'Shipping Clerk',2500.00,5500.00);\n",
    "INSERT INTO jobs(job_id,job_title,min_salary,max_salary) VALUES (18,'Stock Clerk',2000.00,5000.00);\n",
    "INSERT INTO jobs(job_id,job_title,min_salary,max_salary) VALUES (19,'Stock Manager',5500.00,8500.00);\n",
    "\n",
    "\n",
    "/*Data for the table departments */\n",
    "\n",
    "INSERT INTO departments(department_id,department_name,location_id) VALUES (1,'Administration',1700);\n",
    "INSERT INTO departments(department_id,department_name,location_id) VALUES (2,'Marketing',1800);\n",
    "INSERT INTO departments(department_id,department_name,location_id) VALUES (3,'Purchasing',1700);\n",
    "INSERT INTO departments(department_id,department_name,location_id) VALUES (4,'Human Resources',2400);\n",
    "INSERT INTO departments(department_id,department_name,location_id) VALUES (5,'Shipping',1500);\n",
    "INSERT INTO departments(department_id,department_name,location_id) VALUES (6,'IT',1400);\n",
    "INSERT INTO departments(department_id,department_name,location_id) VALUES (7,'Public Relations',2700);\n",
    "INSERT INTO departments(department_id,department_name,location_id) VALUES (8,'Sales',2500);\n",
    "INSERT INTO departments(department_id,department_name,location_id) VALUES (9,'Executive',1700);\n",
    "INSERT INTO departments(department_id,department_name,location_id) VALUES (10,'Finance',1700);\n",
    "INSERT INTO departments(department_id,department_name,location_id) VALUES (11,'Accounting',1700);\n",
    "\n",
    "\n",
    "\n",
    "/*Data for the table employees */\n",
    "\n",
    "INSERT INTO employees(employee_id,first_name,last_name,email,phone_number,hire_date,job_id,salary,manager_id,department_id) VALUES (100,'Steven','King','steven.king@sqltutorial.org','515.123.4567','1987-06-17',4,24000.00,NULL,9);\n",
    "INSERT INTO employees(employee_id,first_name,last_name,email,phone_number,hire_date,job_id,salary,manager_id,department_id) VALUES (101,'Neena','Kochhar','neena.kochhar@sqltutorial.org','515.123.4568','1989-09-21',5,17000.00,100,9);\n",
    "INSERT INTO employees(employee_id,first_name,last_name,email,phone_number,hire_date,job_id,salary,manager_id,department_id) VALUES (102,'Lex','De Haan','lex.de haan@sqltutorial.org','515.123.4569','1993-01-13',5,17000.00,100,9);\n",
    "INSERT INTO employees(employee_id,first_name,last_name,email,phone_number,hire_date,job_id,salary,manager_id,department_id) VALUES (103,'Alexander','Hunold','alexander.hunold@sqltutorial.org','590.423.4567','1990-01-03',9,9000.00,102,6);\n",
    "INSERT INTO employees(employee_id,first_name,last_name,email,phone_number,hire_date,job_id,salary,manager_id,department_id) VALUES (104,'Bruce','Ernst','bruce.ernst@sqltutorial.org','590.423.4568','1991-05-21',9,6000.00,103,6);\n",
    "INSERT INTO employees(employee_id,first_name,last_name,email,phone_number,hire_date,job_id,salary,manager_id,department_id) VALUES (105,'David','Austin','david.austin@sqltutorial.org','590.423.4569','1997-06-25',9,4800.00,103,6);\n",
    "INSERT INTO employees(employee_id,first_name,last_name,email,phone_number,hire_date,job_id,salary,manager_id,department_id) VALUES (106,'Valli','Pataballa','valli.pataballa@sqltutorial.org','590.423.4560','1998-02-05',9,4800.00,103,6);\n",
    "INSERT INTO employees(employee_id,first_name,last_name,email,phone_number,hire_date,job_id,salary,manager_id,department_id) VALUES (107,'Diana','Lorentz','diana.lorentz@sqltutorial.org','590.423.5567','1999-02-07',9,4200.00,103,6);\n",
    "INSERT INTO employees(employee_id,first_name,last_name,email,phone_number,hire_date,job_id,salary,manager_id,department_id) VALUES (108,'Nancy','Greenberg','nancy.greenberg@sqltutorial.org','515.124.4569','1994-08-17',7,12000.00,101,10);\n",
    "INSERT INTO employees(employee_id,first_name,last_name,email,phone_number,hire_date,job_id,salary,manager_id,department_id) VALUES (109,'Daniel','Faviet','daniel.faviet@sqltutorial.org','515.124.4169','1994-08-16',6,9000.00,108,10);\n",
    "INSERT INTO employees(employee_id,first_name,last_name,email,phone_number,hire_date,job_id,salary,manager_id,department_id) VALUES (110,'John','Chen','john.chen@sqltutorial.org','515.124.4269','1997-09-28',6,8200.00,108,10);\n",
    "INSERT INTO employees(employee_id,first_name,last_name,email,phone_number,hire_date,job_id,salary,manager_id,department_id) VALUES (111,'Ismael','Sciarra','ismael.sciarra@sqltutorial.org','515.124.4369','1997-09-30',6,7700.00,108,10);\n",
    "INSERT INTO employees(employee_id,first_name,last_name,email,phone_number,hire_date,job_id,salary,manager_id,department_id) VALUES (112,'Jose Manuel','Urman','jose manuel.urman@sqltutorial.org','515.124.4469','1998-03-07',6,7800.00,108,10);\n",
    "INSERT INTO employees(employee_id,first_name,last_name,email,phone_number,hire_date,job_id,salary,manager_id,department_id) VALUES (113,'Luis','Popp','luis.popp@sqltutorial.org','515.124.4567','1999-12-07',6,6900.00,108,10);\n",
    "INSERT INTO employees(employee_id,first_name,last_name,email,phone_number,hire_date,job_id,salary,manager_id,department_id) VALUES (114,'Den','Raphaely','den.raphaely@sqltutorial.org','515.127.4561','1994-12-07',14,11000.00,100,3);\n",
    "INSERT INTO employees(employee_id,first_name,last_name,email,phone_number,hire_date,job_id,salary,manager_id,department_id) VALUES (115,'Alexander','Khoo','alexander.khoo@sqltutorial.org','515.127.4562','1995-05-18',13,3100.00,114,3);\n",
    "INSERT INTO employees(employee_id,first_name,last_name,email,phone_number,hire_date,job_id,salary,manager_id,department_id) VALUES (116,'Shelli','Baida','shelli.baida@sqltutorial.org','515.127.4563','1997-12-24',13,2900.00,114,3);\n",
    "INSERT INTO employees(employee_id,first_name,last_name,email,phone_number,hire_date,job_id,salary,manager_id,department_id) VALUES (117,'Sigal','Tobias','sigal.tobias@sqltutorial.org','515.127.4564','1997-07-24',13,2800.00,114,3);\n",
    "INSERT INTO employees(employee_id,first_name,last_name,email,phone_number,hire_date,job_id,salary,manager_id,department_id) VALUES (118,'Guy','Himuro','guy.himuro@sqltutorial.org','515.127.4565','1998-11-15',13,2600.00,114,3);\n",
    "INSERT INTO employees(employee_id,first_name,last_name,email,phone_number,hire_date,job_id,salary,manager_id,department_id) VALUES (119,'Karen','Colmenares','karen.colmenares@sqltutorial.org','515.127.4566','1999-08-10',13,2500.00,114,3);\n",
    "INSERT INTO employees(employee_id,first_name,last_name,email,phone_number,hire_date,job_id,salary,manager_id,department_id) VALUES (120,'Matthew','Weiss','matthew.weiss@sqltutorial.org','650.123.1234','1996-07-18',19,8000.00,100,5);\n",
    "INSERT INTO employees(employee_id,first_name,last_name,email,phone_number,hire_date,job_id,salary,manager_id,department_id) VALUES (121,'Adam','Fripp','adam.fripp@sqltutorial.org','650.123.2234','1997-04-10',19,8200.00,100,5);\n",
    "INSERT INTO employees(employee_id,first_name,last_name,email,phone_number,hire_date,job_id,salary,manager_id,department_id) VALUES (122,'Payam','Kaufling','payam.kaufling@sqltutorial.org','650.123.3234','1995-05-01',19,7900.00,100,5);\n",
    "INSERT INTO employees(employee_id,first_name,last_name,email,phone_number,hire_date,job_id,salary,manager_id,department_id) VALUES (123,'Shanta','Vollman','shanta.vollman@sqltutorial.org','650.123.4234','1997-10-10',19,6500.00,100,5);\n",
    "INSERT INTO employees(employee_id,first_name,last_name,email,phone_number,hire_date,job_id,salary,manager_id,department_id) VALUES (126,'Irene','Mikkilineni','irene.mikkilineni@sqltutorial.org','650.124.1224','1998-09-28',18,2700.00,120,5);\n",
    "INSERT INTO employees(employee_id,first_name,last_name,email,phone_number,hire_date,job_id,salary,manager_id,department_id) VALUES (145,'John','Russell','john.russell@sqltutorial.org',NULL,'1996-10-01',15,14000.00,100,8);\n",
    "INSERT INTO employees(employee_id,first_name,last_name,email,phone_number,hire_date,job_id,salary,manager_id,department_id) VALUES (146,'Karen','Partners','karen.partners@sqltutorial.org',NULL,'1997-01-05',15,13500.00,100,8);\n",
    "INSERT INTO employees(employee_id,first_name,last_name,email,phone_number,hire_date,job_id,salary,manager_id,department_id) VALUES (176,'Jonathon','Taylor','jonathon.taylor@sqltutorial.org',NULL,'1998-03-24',16,8600.00,100,8);\n",
    "INSERT INTO employees(employee_id,first_name,last_name,email,phone_number,hire_date,job_id,salary,manager_id,department_id) VALUES (177,'Jack','Livingston','jack.livingston@sqltutorial.org',NULL,'1998-04-23',16,8400.00,100,8);\n",
    "INSERT INTO employees(employee_id,first_name,last_name,email,phone_number,hire_date,job_id,salary,manager_id,department_id) VALUES (178,'Kimberely','Grant','kimberely.grant@sqltutorial.org',NULL,'1999-05-24',16,7000.00,100,8);\n",
    "INSERT INTO employees(employee_id,first_name,last_name,email,phone_number,hire_date,job_id,salary,manager_id,department_id) VALUES (179,'Charles','Johnson','charles.johnson@sqltutorial.org',NULL,'2000-01-04',16,6200.00,100,8);\n",
    "INSERT INTO employees(employee_id,first_name,last_name,email,phone_number,hire_date,job_id,salary,manager_id,department_id) VALUES (192,'Sarah','Bell','sarah.bell@sqltutorial.org','650.501.1876','1996-02-04',17,4000.00,123,5);\n",
    "INSERT INTO employees(employee_id,first_name,last_name,email,phone_number,hire_date,job_id,salary,manager_id,department_id) VALUES (193,'Britney','Everett','britney.everett@sqltutorial.org','650.501.2876','1997-03-03',17,3900.00,123,5);\n",
    "INSERT INTO employees(employee_id,first_name,last_name,email,phone_number,hire_date,job_id,salary,manager_id,department_id) VALUES (200,'Jennifer','Whalen','jennifer.whalen@sqltutorial.org','515.123.4444','1987-09-17',3,4400.00,101,1);\n",
    "INSERT INTO employees(employee_id,first_name,last_name,email,phone_number,hire_date,job_id,salary,manager_id,department_id) VALUES (201,'Michael','Hartstein','michael.hartstein@sqltutorial.org','515.123.5555','1996-02-17',10,13000.00,100,2);\n",
    "INSERT INTO employees(employee_id,first_name,last_name,email,phone_number,hire_date,job_id,salary,manager_id,department_id) VALUES (202,'Pat','Fay','pat.fay@sqltutorial.org','603.123.6666','1997-08-17',11,6000.00,201,2);\n",
    "INSERT INTO employees(employee_id,first_name,last_name,email,phone_number,hire_date,job_id,salary,manager_id,department_id) VALUES (203,'Susan','Mavris','susan.mavris@sqltutorial.org','515.123.7777','1994-06-07',8,6500.00,101,4);\n",
    "INSERT INTO employees(employee_id,first_name,last_name,email,phone_number,hire_date,job_id,salary,manager_id,department_id) VALUES (204,'Hermann','Baer','hermann.baer@sqltutorial.org','515.123.8888','1994-06-07',12,10000.00,101,7);\n",
    "INSERT INTO employees(employee_id,first_name,last_name,email,phone_number,hire_date,job_id,salary,manager_id,department_id) VALUES (205,'Shelley','Higgins','shelley.higgins@sqltutorial.org','515.123.8080','1994-06-07',2,12000.00,101,11);\n",
    "INSERT INTO employees(employee_id,first_name,last_name,email,phone_number,hire_date,job_id,salary,manager_id,department_id) VALUES (206,'William','Gietz','william.gietz@sqltutorial.org','515.123.8181','1994-06-07',1,8300.00,205,11);\n",
    "\n",
    "\n",
    "/*Data for the table dependents */\n",
    "\n",
    "INSERT INTO dependents(dependent_id,first_name,last_name,relationship,employee_id) VALUES (1,'Penelope','Gietz','Child',206);\n",
    "INSERT INTO dependents(dependent_id,first_name,last_name,relationship,employee_id) VALUES (2,'Nick','Higgins','Child',205);\n",
    "INSERT INTO dependents(dependent_id,first_name,last_name,relationship,employee_id) VALUES (3,'Ed','Whalen','Child',200);\n",
    "INSERT INTO dependents(dependent_id,first_name,last_name,relationship,employee_id) VALUES (4,'Jennifer','King','Child',100);\n",
    "INSERT INTO dependents(dependent_id,first_name,last_name,relationship,employee_id) VALUES (5,'Johnny','Kochhar','Child',101);\n",
    "INSERT INTO dependents(dependent_id,first_name,last_name,relationship,employee_id) VALUES (6,'Bette','De Haan','Child',102);\n",
    "INSERT INTO dependents(dependent_id,first_name,last_name,relationship,employee_id) VALUES (7,'Grace','Faviet','Child',109);\n",
    "INSERT INTO dependents(dependent_id,first_name,last_name,relationship,employee_id) VALUES (8,'Matthew','Chen','Child',110);\n",
    "INSERT INTO dependents(dependent_id,first_name,last_name,relationship,employee_id) VALUES (9,'Joe','Sciarra','Child',111);\n",
    "INSERT INTO dependents(dependent_id,first_name,last_name,relationship,employee_id) VALUES (10,'Christian','Urman','Child',112);\n",
    "INSERT INTO dependents(dependent_id,first_name,last_name,relationship,employee_id) VALUES (11,'Zero','Popp','Child',113);\n",
    "INSERT INTO dependents(dependent_id,first_name,last_name,relationship,employee_id) VALUES (12,'Karl','Greenberg','Child',108);\n",
    "INSERT INTO dependents(dependent_id,first_name,last_name,relationship,employee_id) VALUES (13,'Uma','Mavris','Child',203);\n",
    "INSERT INTO dependents(dependent_id,first_name,last_name,relationship,employee_id) VALUES (14,'Vivien','Hunold','Child',103);\n",
    "INSERT INTO dependents(dependent_id,first_name,last_name,relationship,employee_id) VALUES (15,'Cuba','Ernst','Child',104);\n",
    "INSERT INTO dependents(dependent_id,first_name,last_name,relationship,employee_id) VALUES (16,'Fred','Austin','Child',105);\n",
    "INSERT INTO dependents(dependent_id,first_name,last_name,relationship,employee_id) VALUES (17,'Helen','Pataballa','Child',106);\n",
    "INSERT INTO dependents(dependent_id,first_name,last_name,relationship,employee_id) VALUES (18,'Dan','Lorentz','Child',107);\n",
    "INSERT INTO dependents(dependent_id,first_name,last_name,relationship,employee_id) VALUES (19,'Bob','Hartstein','Child',201);\n",
    "INSERT INTO dependents(dependent_id,first_name,last_name,relationship,employee_id) VALUES (20,'Lucille','Fay','Child',202);\n",
    "INSERT INTO dependents(dependent_id,first_name,last_name,relationship,employee_id) VALUES (21,'Kirsten','Baer','Child',204);\n",
    "INSERT INTO dependents(dependent_id,first_name,last_name,relationship,employee_id) VALUES (22,'Elvis','Khoo','Child',115);\n",
    "INSERT INTO dependents(dependent_id,first_name,last_name,relationship,employee_id) VALUES (23,'Sandra','Baida','Child',116);\n",
    "INSERT INTO dependents(dependent_id,first_name,last_name,relationship,employee_id) VALUES (24,'Cameron','Tobias','Child',117);\n",
    "INSERT INTO dependents(dependent_id,first_name,last_name,relationship,employee_id) VALUES (25,'Kevin','Himuro','Child',118);\n",
    "INSERT INTO dependents(dependent_id,first_name,last_name,relationship,employee_id) VALUES (26,'Rip','Colmenares','Child',119);\n",
    "INSERT INTO dependents(dependent_id,first_name,last_name,relationship,employee_id) VALUES (27,'Julia','Raphaely','Child',114);\n",
    "INSERT INTO dependents(dependent_id,first_name,last_name,relationship,employee_id) VALUES (28,'Woody','Russell','Child',145);\n",
    "INSERT INTO dependents(dependent_id,first_name,last_name,relationship,employee_id) VALUES (29,'Alec','Partners','Child',146);\n",
    "INSERT INTO dependents(dependent_id,first_name,last_name,relationship,employee_id) VALUES (30,'Sandra','Taylor','Child',176);\n",
    "'''\n",
    "for q in query.split(';'):\n",
    "    print(q)\n",
    "    \n",
    "    cursor.execute(q)\n",
    "conn.commit()"
   ]
  },
  {
   "cell_type": "markdown",
   "metadata": {
    "slideshow": {
     "slide_type": "slide"
    }
   },
   "source": [
    "## BRIEF VERY SIMPLE SQL CRASH COURSE\n",
    "\n",
    "ALL STATEMENTS ARE GROUPED INTO 2 MAIN GROUPS\n",
    "\n",
    " - DDL (MODIFIES SCHEMA):  CREATE database, table, index, view, etc.. , ALTER, DROP\n",
    " - DML (MANIPULATES DATA): INSERT, UPDATE, DELETE\n",
    " - SELECTs (RETRIEVES DATA).\n",
    " \n",
    " We are going to review some simple cases that would give you idea how to work with databases on the very basic level"
   ]
  },
  {
   "cell_type": "markdown",
   "metadata": {
    "slideshow": {
     "slide_type": "slide"
    }
   },
   "source": [
    "### CREATE TABLE STATEMENT AND FOREIGN KEY CONCEPT\n",
    "\n",
    "CREATE TABLE books (\n",
    "   book_id integer primary_key,\n",
    "   name varchar(100) not null,\n",
    "   author varchar(100) not null\n",
    ")\n",
    "\n",
    "CREATE TABLE inventories (\n",
    "    inventory_id  integer primary_key,\n",
    "    location varchar(100),\n",
    "    book_id integer not null,\n",
    "    FOREIGN KEY (book_id) REFERENCES books (book_id) \n",
    "    \n",
    ")"
   ]
  },
  {
   "cell_type": "markdown",
   "metadata": {
    "slideshow": {
     "slide_type": "slide"
    }
   },
   "source": [
    "![title](img/books1.png)\n",
    "\n",
    "One book - can be located in multiple inventories."
   ]
  },
  {
   "cell_type": "code",
   "execution_count": null,
   "metadata": {
    "slideshow": {
     "slide_type": "slide"
    }
   },
   "outputs": [],
   "source": [
    "book = Book()\n",
    "book.inventories # [inventory1, inventory2]  - multiple Inventory() objects for single book\n",
    "\n",
    "inventory = Inventory()\n",
    "inventories.book  # single instance Book()\n"
   ]
  },
  {
   "cell_type": "markdown",
   "metadata": {
    "slideshow": {
     "slide_type": "slide"
    }
   },
   "source": [
    "- CREATE TABLE creates structure\n",
    "- ALTER TABLE modifies table structure in-place\n",
    "- DROP TABLE deletes table ALONG WITH ALL DATA\n"
   ]
  },
  {
   "cell_type": "markdown",
   "metadata": {
    "slideshow": {
     "slide_type": "slide"
    }
   },
   "source": [
    "### DML: INSERTS, UPDATES, DELETES\n",
    "\n",
    "INSERT:\n",
    "\n",
    "- INSERT INTO books (book_id, name, author) VALUES (1, 'Difficult riddles for smart kids', 'Dr Zeuss');\n",
    "- INSERT INTO books SELECT 2, 'To Serve a man: the cookbook', 'Rod Serling';\n",
    "\n",
    "UPDATE:\n",
    "- UPDATE books SET author='Bill was here' WHERE book_id=1;\n",
    "\n",
    "DELETE:\n",
    "- DELETE FROM books WHERE author='Bill was here';\n"
   ]
  },
  {
   "cell_type": "markdown",
   "metadata": {
    "slideshow": {
     "slide_type": "slide"
    }
   },
   "source": [
    "### SELECTS\n",
    "\n",
    "##### SINGLE-TABLE\n",
    "\n",
    "- SELECT name, author from books;\n",
    "- SELECT name, author from books where book_id >= 10;\n",
    "- SELECT name, author from books where author <> 'Bill was here';\n",
    "- SELECT * from books;\n",
    "- SELECT 'Hello', 1 + 1 as SLOZHENIJE, name from books;\n",
    "\n",
    "What happens at server side: server goes through ALL DATA ROW-BY-ROW and applies filter from WHERE clause.\n",
    "If row passes, it calculates columns and outputs them, until all data is exhausted.\n",
    "\n"
   ]
  },
  {
   "cell_type": "markdown",
   "metadata": {
    "slideshow": {
     "slide_type": "subslide"
    }
   },
   "source": [
    "##### MULTI-TABLE (joins)\n",
    "\n",
    "- SELECT * from books JOIN inventories on inventories.book_id = books.book_id where inventories.location >= 'S';\n",
    "\n",
    "What happens on server side:\n",
    "  - server checks first row in first table (books). checks all relevant where cases. if not conforms -> skips the row and goes to the next one. \n",
    "  - for this row in first table (books) select ALL rows from second table (inventories) that conform to join clause and where clause. outputs columns for both of tables.\n",
    "  - repeats the same for all records of first table (books)\n"
   ]
  },
  {
   "cell_type": "markdown",
   "metadata": {
    "slideshow": {
     "slide_type": "subslide"
    }
   },
   "source": [
    "*what will happen if we dont specify WHERE and JOIN clauses?*\n",
    "\n",
    "we will get cartesian product of rows of 1 and 2 tables.\n"
   ]
  },
  {
   "cell_type": "markdown",
   "metadata": {
    "slideshow": {
     "slide_type": "subslide"
    }
   },
   "source": [
    "*What happens if there's a row in first table that was found, but no appropriate rows in second table?*\n",
    "\n",
    "This is controlled by different kinds of joins:\n",
    "\n",
    "- FULL INNER join only outputs data if both present (rows from books and inventories)\n",
    "- LEFT OUTER Join will output data with table on the left side (books) as master table. If no rows on details table, they get output as NULLs.\n",
    "- RIGHT OUTER join: master table is on the right\n",
    "- FULL OUTER join: both tables rows get output (if any row is missing)\n"
   ]
  },
  {
   "cell_type": "markdown",
   "metadata": {
    "slideshow": {
     "slide_type": "slide"
    }
   },
   "source": [
    "In older database you may encounter another multi-table select syntax:\n",
    "    \n",
    "    SELECT * from books, inventories WHERE inventories.book_id = books.book_id AND inventories.location >= 'S'\n",
    "\n",
    "join different cases syntax varies from database to database."
   ]
  },
  {
   "cell_type": "markdown",
   "metadata": {
    "slideshow": {
     "slide_type": "slide"
    }
   },
   "source": [
    "### INDEXING\n",
    "\n",
    "For big or very loaded tables, `indexes` are neccessary.\n",
    "Common indexes:\n",
    "  - Hash indexes\n",
    "  - BTREE indexes\n",
    "  \n",
    "PRIMARY KEY is indexed automatically.\n",
    "Indexes can be single-column, multi-column, custom and expression-based.\n",
    " \n",
    "Usually databases can show you what is the query execution strategy for any query you submit to server (database specific). If your query is slow the first thing you want to do is to check query execution plan to see if it enumerates all the records in table (table scan) instead of using indexes (index scan).\n",
    "Most modern dbs use 'EXPLAIN ...' query for that.\n",
    " \n",
    "Indexing and query optimisation is out of scope of this lecture.\n",
    " "
   ]
  },
  {
   "cell_type": "markdown",
   "metadata": {
    "slideshow": {
     "slide_type": "slide"
    }
   },
   "source": [
    "### More tips..\n",
    "\n",
    "- Get familiar with your database command-line client. It's super-useful for debugging\n",
    "- Avoid writing complex queries. When data amount grows on server, query optimizer would eventually start getting mistakes.\n",
    "- It's better to have multiple short-running queries than one long-running query (or long transaction)."
   ]
  },
  {
   "cell_type": "markdown",
   "metadata": {
    "slideshow": {
     "slide_type": "slide"
    }
   },
   "source": [
    "Since we mentioned transactions:\n",
    "\n",
    "### ACID\n",
    "\n",
    " - Atomicity\n",
    " - Consistency\n",
    " - Isolation\n",
    " - Durability\n",
    " \n",
    "Most of database engines implements transactions: a group of queries can be either succeed all together or fail all together. Transaction usually is not a single statement, and can be _long running_. In case of multiple transactions running at the same time requesting access to the same resources we have a problem of `isolating transactions`."
   ]
  },
  {
   "cell_type": "markdown",
   "metadata": {
    "slideshow": {
     "slide_type": "slide"
    }
   },
   "source": [
    "### Transaction isolation level\n",
    "\n",
    "varies across different db engines. Standard are:\n",
    "\n",
    "- READ UNCOMMITTED\n",
    "- READ COMMITTED\n",
    "- REPEATABLE READ (see only commits before transaction started)\n",
    "- SERIALIZABLE (transactions are queued and executed in order)\n",
    "\n",
    "In servers usually those transaction isolation levels are implemented by assortment of locking, snapshotting and data versionning techniques."
   ]
  },
  {
   "cell_type": "markdown",
   "metadata": {
    "slideshow": {
     "slide_type": "slide"
    }
   },
   "source": [
    "### DEADLOCKs and isolation errors\n",
    "\n",
    "```\n",
    "A                   B\n",
    "BEGIN             BEGIN\n",
    "Update Table1     UPDATE Table2\n",
    "Update Table2     \n",
    "                  Update Table1             <----------- deadlock\n",
    "  \n",
    "COMMIT            COMMIT\n",
    "```\n",
    "    \n",
    "Deadlock can happen even if query operates on the same table. \n",
    "Example: when different _pages_ of data are accessed, or some unique rows are inserted.\n",
    "\n",
    "Most dbs would just terminate one of transactions at random."
   ]
  },
  {
   "cell_type": "markdown",
   "metadata": {
    "slideshow": {
     "slide_type": "slide"
    }
   },
   "source": [
    "## PYTHON DB API\n",
    "Main link: PEP249  [ https://www.python.org/dev/peps/pep-0249/ ]"
   ]
  },
  {
   "cell_type": "code",
   "execution_count": null,
   "metadata": {
    "slideshow": {
     "slide_type": "slide"
    }
   },
   "outputs": [],
   "source": [
    "# EXAMPLE FROM PSYCOPG2 DOCUMENTATION\n",
    "\n",
    "import psycopg2\n",
    "\n",
    "# Connect to an existing database\n",
    ">>> conn = psycopg2.connect(username, database, host, password, isolation_level='READ COMMITTED')\n",
    "\n",
    "# Open a cursor to perform database operations\n",
    ">>> cur = conn.cursor()\n",
    "\n",
    "# Execute a command: this creates a new table\n",
    ">>> cur.execute(\"CREATE TABLE test (id serial PRIMARY KEY, num integer, data varchar);\")\n",
    "\n",
    "# Pass data to fill a query placeholders and let Psycopg perform\n",
    "# the correct conversion (no more SQL injections!)\n",
    ">>> cur.execute(\"INSERT INTO test (num, data) VALUES , %s)\",\n",
    "...      (100, \"abc'def\"))\n",
    "\n",
    "# Query the database and obtain data as Python objects\n",
    ">>> cur.execute(\"SELECT * FROM test;\")\n",
    ">>> cur.fetchone()\n",
    "(1, 100, \"abc'def\")\n",
    "\n",
    "# Make the changes to the database persistent\n",
    ">>> conn.commit()\n",
    "\n",
    "# Close communication with the database\n",
    ">>> cur.close()\n",
    ">>> conn.close()"
   ]
  },
  {
   "cell_type": "markdown",
   "metadata": {
    "slideshow": {
     "slide_type": "slide"
    }
   },
   "source": [
    "*ALMOST ALL OF DBAPI IMPLEMENTATIONS ARE SPECIFIC TO RESPECTIVE DATABASES*\n",
    "\n",
    "- different kinds of cursors (default is tuples)\n",
    "- different parametrization scheme\n",
    "- other differences related to database features (like lack of transaction support)\n"
   ]
  },
  {
   "cell_type": "markdown",
   "metadata": {
    "slideshow": {
     "slide_type": "slide"
    }
   },
   "source": [
    "### AUTOCOMMIT\n",
    "\n",
    "- Disabled by default in DBAPI (postgresql users beware!)\n",
    "- automatic commits for each successive query\n",
    "- can be built-in to database, can be emulated (django)\n",
    "\n",
    "\n"
   ]
  },
  {
   "cell_type": "markdown",
   "metadata": {
    "slideshow": {
     "slide_type": "slide"
    }
   },
   "source": [
    "## SECTION FINALE\n",
    "\n",
    "ALWAYS, ALWAYS ASK YOUR TEAMLEAD (OR DATABASE GUY) ABOUT THE WAY YOU SHOULD HANDLE DATABASE CONNECTION AND TRANSACTIONS:\n",
    "\n",
    "- should connections be persistent or short-lived\n",
    "- what is typical or maximal allowed connection number\n",
    "- should autocommit mode be used, can transactions be used, and in what way\n",
    "- how to approach slow / unoptimized query running\n",
    "- what isolation level to use"
   ]
  },
  {
   "cell_type": "markdown",
   "metadata": {
    "slideshow": {
     "slide_type": "slide"
    }
   },
   "source": [
    "## PARAMETRIZATION AND SQL INJECTION\n",
    "\n",
    "![title](img/bobby.png)\n"
   ]
  },
  {
   "cell_type": "code",
   "execution_count": null,
   "metadata": {
    "slideshow": {
     "slide_type": "slide"
    }
   },
   "outputs": [],
   "source": [
    "def load_profile(username):\n",
    "    data = make_query(f\"SELECT * FROM users where username='{username}'\")\n",
    "    query = \"SELECT * FROM users where username = '\" + username + \"'\";\n",
    "    \n",
    "\n",
    "load_profile(username=\" ' ; DROP TABLE users; --'\")\n",
    "\n",
    "# will execute\n",
    "# SELECT * FROM users WHERE username=' '; DROP TABLE users; --\n",
    "\n",
    "    "
   ]
  },
  {
   "cell_type": "markdown",
   "metadata": {
    "slideshow": {
     "slide_type": "slide"
    }
   },
   "source": [
    "SQL injection can be used to\n",
    "\n",
    "- Wipe your data\n",
    "- Download database schema and data\n",
    "- Create a DOS attack\n",
    "- As an initial vector of attack\n",
    "\n"
   ]
  },
  {
   "cell_type": "markdown",
   "metadata": {
    "slideshow": {
     "slide_type": "slide"
    }
   },
   "source": [
    "## SECTION FINALE\n",
    "\n",
    "- ALWAYS SANITIZE ANY USER INPUTS\n",
    "- TREAT INCOMING DATA AS BROKEN AND MALICIOUS\n",
    "- EVEN FROM TRUSTED NETWORK"
   ]
  },
  {
   "cell_type": "markdown",
   "metadata": {
    "slideshow": {
     "slide_type": "slide"
    }
   },
   "source": [
    "# ORM\n"
   ]
  },
  {
   "cell_type": "code",
   "execution_count": null,
   "metadata": {
    "slideshow": {
     "slide_type": "slide"
    }
   },
   "outputs": [],
   "source": [
    "class User:\n",
    "    def __init___(self, name, last_name):\n",
    "        self.name = name\n",
    "        self.last_name = last_name\n",
    "    \n",
    "    @classmethod\n",
    "    def get(cls, id):\n",
    "        connection = get_connection()\n",
    "        query = \"select * from users where id={}\"\n",
    "        data = connection.run_query(query, id=id)\n",
    "        return cls(name=data['name'], last_name=data['last_name'])\n",
    "    \n",
    "    def save(self, id):\n",
    "        connection = get_connection()\n",
    "        connection.run_query(\n",
    "            \"\"\"\n",
    "                INSERT INTO users (id, name, last_name) VALUES (:id, :name, :last_name)\n",
    "                ON DUPLICATE KEY \n",
    "                UPDATE\n",
    "                  name=:name,\n",
    "                  last_name=:last_name\n",
    "                WHERE id=:id\n",
    "            \"\"\",\n",
    "            {\"id\":id, \"name\":name, \"last_name\":last_name}\n",
    "        )"
   ]
  },
  {
   "cell_type": "code",
   "execution_count": null,
   "metadata": {
    "slideshow": {
     "slide_type": "slide"
    }
   },
   "outputs": [],
   "source": [
    "user = User.get(id=1337)\n",
    "user.name = 'Lebovsky'\n",
    "user.save()"
   ]
  },
  {
   "cell_type": "code",
   "execution_count": null,
   "metadata": {
    "slideshow": {
     "slide_type": "slide"
    }
   },
   "outputs": [],
   "source": [
    "from django.db import models\n",
    "\n",
    "class Person(models.Model):\n",
    "    first_name = models.CharField(max_length=30)\n",
    "    last_name = models.CharField(max_length=30)\n",
    "    \n",
    "class Teacher(Person):\n",
    "    dimploma = models.CharField(max_length=50)\n",
    "    \n",
    "gumby = Person.get(101)\n",
    "gumby.last_name = 'ABCDEFG'\n",
    "gumby.save()\n",
    "gumby.dogs \n",
    "[\"Sheila\", \"Bobique\",]"
   ]
  },
  {
   "cell_type": "markdown",
   "metadata": {
    "slideshow": {
     "slide_type": "slide"
    }
   },
   "source": [
    "Benefits of ORM:\n",
    "\n",
    "    - no need of writing SQL queries\n",
    "    - connection handling and maintenance\n",
    "    - transaction handling and maintenance\n",
    "    - automatic parametrization\n",
    "    - declarative syntax\n",
    "    - built-in data validation (or integration with data validation libraries)\n",
    "    - ability to subclass\n",
    "    - less boilerplate code\n",
    "    - Automatic handling and loading of related data    \n",
    "    - Usually support multiple dialects of SQL (you probably will still write custom db code)\n",
    "    - M I G R A T I O N S of schema and data\n"
   ]
  },
  {
   "cell_type": "markdown",
   "metadata": {
    "slideshow": {
     "slide_type": "slide"
    }
   },
   "source": [
    "    \n",
    "Cons of ORM:\n",
    "\n",
    "    - Complex queries are very hard to write. Especially in django (django has very peculiar aggregate syntax).\n",
    "    - A lot of magic happens under the hood, it makes it sometimes hard to debug (example: server-side cursor issues in postgresql in django when using bgbouncer load balancing)    \n",
    "    - Complicated (hello to sqlalchemy)\n",
    "    - Some database features are emulated and behaviour can produce unexpected results."
   ]
  },
  {
   "cell_type": "markdown",
   "metadata": {
    "slideshow": {
     "slide_type": "slide"
    }
   },
   "source": [
    "Popular libraries in python:\n",
    "    \n",
    "    - django\n",
    "    - sqlalchemy\n",
    " \n",
    "and other.\n",
    "    \n",
    "    - gino\n",
    "    - pony    "
   ]
  },
  {
   "cell_type": "markdown",
   "metadata": {
    "slideshow": {
     "slide_type": "slide"
    }
   },
   "source": [
    "### MIGRATIONS\n",
    "\n",
    "Tool to track and propagate changes in database schema or data.\n",
    "\n",
    "Used when:\n",
    "\n",
    "  - new tables are added, deleted or modified  \n",
    "  - fields added, renamed, etc.\n",
    "\n",
    "\n",
    "Can be directed forward or backward. When writing migrations it's nice to keep in mind that both ways of executing migrations can be used. Most usually they are propagated forward though.\n",
    "\n",
    "- django has built-in migrations          <------- the most mature migration framework\n",
    "- sqlalchemy: alembic   \n",
    "- pony: separate branch\n",
    "- maybe there are others."
   ]
  },
  {
   "cell_type": "markdown",
   "metadata": {
    "slideshow": {
     "slide_type": "slide"
    }
   },
   "source": [
    "\n"
   ]
  },
  {
   "cell_type": "code",
   "execution_count": null,
   "metadata": {
    "slideshow": {
     "slide_type": "slide"
    }
   },
   "outputs": [],
   "source": []
  }
 ],
 "metadata": {
  "celltoolbar": "Slideshow",
  "kernelspec": {
   "display_name": "Python 3",
   "language": "python",
   "name": "python3"
  },
  "language_info": {
   "codemirror_mode": {
    "name": "ipython",
    "version": 3
   },
   "file_extension": ".py",
   "mimetype": "text/x-python",
   "name": "python",
   "nbconvert_exporter": "python",
   "pygments_lexer": "ipython3",
   "version": "3.8.5"
  }
 },
 "nbformat": 4,
 "nbformat_minor": 4
}
