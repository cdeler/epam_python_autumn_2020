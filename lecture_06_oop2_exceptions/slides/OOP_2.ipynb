{
 "cells": [
  {
   "cell_type": "code",
   "execution_count": 1,
   "metadata": {},
   "outputs": [],
   "source": [
    "class SomeClass:\n",
    "    pass\n",
    "\n",
    "class SomeClass(object):\n",
    "    pass"
   ]
  },
  {
   "cell_type": "code",
   "execution_count": 35,
   "metadata": {},
   "outputs": [
    {
     "ename": "AttributeError",
     "evalue": "'SecondClass' object has no attribute 'increment'",
     "output_type": "error",
     "traceback": [
      "\u001b[0;31m---------------------------------------------------------------------------\u001b[0m",
      "\u001b[0;31mAttributeError\u001b[0m                            Traceback (most recent call last)",
      "\u001b[0;32m<ipython-input-35-14ceb7efcdb5>\u001b[0m in \u001b[0;36m<module>\u001b[0;34m\u001b[0m\n\u001b[1;32m     18\u001b[0m \u001b[0mthird\u001b[0m\u001b[0;34m.\u001b[0m\u001b[0mincrement\u001b[0m\u001b[0;34m(\u001b[0m\u001b[0;34m)\u001b[0m  \u001b[0;31m# 25\u001b[0m\u001b[0;34m\u001b[0m\u001b[0;34m\u001b[0m\u001b[0m\n\u001b[1;32m     19\u001b[0m \u001b[0mthird\u001b[0m\u001b[0;34m.\u001b[0m\u001b[0madd_number\u001b[0m\u001b[0;34m(\u001b[0m\u001b[0;36m5\u001b[0m\u001b[0;34m)\u001b[0m  \u001b[0;31m# 30\u001b[0m\u001b[0;34m\u001b[0m\u001b[0;34m\u001b[0m\u001b[0m\n\u001b[0;32m---> 20\u001b[0;31m \u001b[0msecond\u001b[0m\u001b[0;34m.\u001b[0m\u001b[0mincrement\u001b[0m\u001b[0;34m(\u001b[0m\u001b[0;34m)\u001b[0m  \u001b[0;31m# AttributeError\u001b[0m\u001b[0;34m\u001b[0m\u001b[0;34m\u001b[0m\u001b[0m\n\u001b[0m\u001b[1;32m     21\u001b[0m \u001b[0msecond\u001b[0m\u001b[0;34m.\u001b[0m\u001b[0madd_number\u001b[0m\u001b[0;34m(\u001b[0m\u001b[0;36m5\u001b[0m\u001b[0;34m)\u001b[0m  \u001b[0;31m# 29\u001b[0m\u001b[0;34m\u001b[0m\u001b[0;34m\u001b[0m\u001b[0m\n\u001b[1;32m     22\u001b[0m \u001b[0mfirst\u001b[0m\u001b[0;34m.\u001b[0m\u001b[0mincrement\u001b[0m\u001b[0;34m(\u001b[0m\u001b[0;34m)\u001b[0m  \u001b[0;31m# AttributeError\u001b[0m\u001b[0;34m\u001b[0m\u001b[0;34m\u001b[0m\u001b[0m\n",
      "\u001b[0;31mAttributeError\u001b[0m: 'SecondClass' object has no attribute 'increment'"
     ]
    }
   ],
   "source": [
    "class FirstClass:\n",
    "    def __init__(self, number: int):\n",
    "        self.number = number\n",
    "\n",
    "class SecondClass(FirstClass):\n",
    "    def add_number(self, other_number: int):\n",
    "        self.number += other_number\n",
    "        return self.number\n",
    "\n",
    "class ThirdClass(SecondClass):\n",
    "    def increment(self):\n",
    "        self.number += 1\n",
    "        return self.number\n",
    "\n",
    "first, second, third = (FirstClass(24),\n",
    "    SecondClass(24), ThirdClass(24))\n",
    "\n",
    "third.increment()  # 25\n",
    "third.add_number(5)  # 30\n",
    "second.increment()  # AttributeError\n",
    "second.add_number(5)  # 29\n",
    "first.increment()  # AttributeError\n",
    "first.add_number(99)  # AttributeError"
   ]
  },
  {
   "cell_type": "code",
   "execution_count": 36,
   "metadata": {},
   "outputs": [
    {
     "ename": "AttributeError",
     "evalue": "'AnotherClass' object has no attribute '__very_private'",
     "output_type": "error",
     "traceback": [
      "\u001b[0;31m---------------------------------------------------------------------------\u001b[0m",
      "\u001b[0;31mAttributeError\u001b[0m                            Traceback (most recent call last)",
      "\u001b[0;32m<ipython-input-36-eeddcbbbc530>\u001b[0m in \u001b[0;36m<module>\u001b[0;34m\u001b[0m\n\u001b[1;32m     12\u001b[0m \u001b[0mfoo\u001b[0m\u001b[0;34m.\u001b[0m\u001b[0mrepeated_\u001b[0m  \u001b[0;31m# \"safe name\"\u001b[0m\u001b[0;34m\u001b[0m\u001b[0;34m\u001b[0m\u001b[0m\n\u001b[1;32m     13\u001b[0m \u001b[0mfoo\u001b[0m\u001b[0;34m.\u001b[0m\u001b[0mrepeated\u001b[0m  \u001b[0;31m# \"don't rewrite this\"\u001b[0m\u001b[0;34m\u001b[0m\u001b[0;34m\u001b[0m\u001b[0m\n\u001b[0;32m---> 14\u001b[0;31m \u001b[0mfoo\u001b[0m\u001b[0;34m.\u001b[0m\u001b[0m__very_private\u001b[0m  \u001b[0;31m# ??\u001b[0m\u001b[0;34m\u001b[0m\u001b[0;34m\u001b[0m\u001b[0m\n\u001b[0m",
      "\u001b[0;31mAttributeError\u001b[0m: 'AnotherClass' object has no attribute '__very_private'"
     ]
    }
   ],
   "source": [
    "class SomeClass:\n",
    "    _private = 56\n",
    "    __very_private = 29\n",
    "    repeated = \"don't rewrite this\"\n",
    "\n",
    "class AnotherClass(SomeClass):\n",
    "    __very_private = 44\n",
    "    repeated_ = \"safe name\"\n",
    "    \n",
    "foo = AnotherClass()\n",
    "foo._private  # 56\n",
    "foo.repeated_  # \"safe name\"\n",
    "foo.repeated  # \"don't rewrite this\"\n",
    "foo.__very_private  # ??"
   ]
  },
  {
   "cell_type": "code",
   "execution_count": 42,
   "metadata": {},
   "outputs": [
    {
     "ename": "AttributeError",
     "evalue": "'AnotherClass' object has no attribute '__very_private'",
     "output_type": "error",
     "traceback": [
      "\u001b[0;31m---------------------------------------------------------------------------\u001b[0m",
      "\u001b[0;31mAttributeError\u001b[0m                            Traceback (most recent call last)",
      "\u001b[0;32m<ipython-input-42-eb6616ebf69d>\u001b[0m in \u001b[0;36m<module>\u001b[0;34m\u001b[0m\n\u001b[1;32m      8\u001b[0m     \u001b[0mrepeated_\u001b[0m \u001b[0;34m=\u001b[0m \u001b[0;34m\"safe name\"\u001b[0m\u001b[0;34m\u001b[0m\u001b[0;34m\u001b[0m\u001b[0m\n\u001b[1;32m      9\u001b[0m \u001b[0;34m\u001b[0m\u001b[0m\n\u001b[0;32m---> 10\u001b[0;31m \u001b[0mfoo\u001b[0m\u001b[0;34m.\u001b[0m\u001b[0m__very_private\u001b[0m  \u001b[0;31m# AttributeError: 'AnotherClass' object has no attribute '__very_private'\u001b[0m\u001b[0;34m\u001b[0m\u001b[0;34m\u001b[0m\u001b[0m\n\u001b[0m\u001b[1;32m     11\u001b[0m \u001b[0mAnotherClass\u001b[0m\u001b[0;34m.\u001b[0m\u001b[0m__dict__\u001b[0m  \u001b[0;31m# {...'_AnotherClass__very_private': 44, 'repeated_': 'safe name',...}\u001b[0m\u001b[0;34m\u001b[0m\u001b[0;34m\u001b[0m\u001b[0m\n\u001b[1;32m     12\u001b[0m \u001b[0mfoo\u001b[0m\u001b[0;34m.\u001b[0m\u001b[0m_AnotherClass__very_private\u001b[0m  \u001b[0;31m# 44\u001b[0m\u001b[0;34m\u001b[0m\u001b[0;34m\u001b[0m\u001b[0m\n",
      "\u001b[0;31mAttributeError\u001b[0m: 'AnotherClass' object has no attribute '__very_private'"
     ]
    }
   ],
   "source": [
    "class SomeClass:\n",
    "    _private = 56\n",
    "    __very_private = 29\n",
    "    repeated = \"don't rewrite this\"\n",
    "\n",
    "class AnotherClass(SomeClass):\n",
    "    __very_private = 44\n",
    "    repeated_ = \"safe name\"\n",
    "\n",
    "foo.__very_private  # AttributeError: 'AnotherClass' object has no attribute '__very_private'\n",
    "AnotherClass.__dict__  # {...'_AnotherClass__very_private': 44, 'repeated_': 'safe name',...}\n",
    "foo._AnotherClass__very_private  # 44\n",
    "foo._SomeClass__very_private  # 29"
   ]
  },
  {
   "cell_type": "code",
   "execution_count": 25,
   "metadata": {},
   "outputs": [
    {
     "data": {
      "text/plain": [
       "True"
      ]
     },
     "execution_count": 25,
     "metadata": {},
     "output_type": "execute_result"
    }
   ],
   "source": [
    "class A:\n",
    "    pass\n",
    "\n",
    "class B(A):\n",
    "    pass\n",
    "\n",
    "class C:\n",
    "    pass\n",
    "\n",
    "b = B()\n",
    "isinstance(b, B)  # True\n",
    "isinstance(b, A)  # True\n",
    "\n",
    "isinstance(B(), (A, C)) # True\n",
    "isinstance(B(), A) or isinstance(B(), C) # True\n",
    "isinstance(B(), object)  # ???"
   ]
  },
  {
   "cell_type": "code",
   "execution_count": 28,
   "metadata": {},
   "outputs": [
    {
     "data": {
      "text/plain": [
       "True"
      ]
     },
     "execution_count": 28,
     "metadata": {},
     "output_type": "execute_result"
    }
   ],
   "source": [
    "class A:\n",
    "    pass\n",
    "\n",
    "class B(A):\n",
    "    pass\n",
    "\n",
    "class C:\n",
    "    pass\n",
    "\n",
    "issubclass(B, B)  # True\n",
    "issubclass(B, A)  # True\n",
    "\n",
    "issubclass(B, (A, C)) # True\n",
    "issubclass(B, A) or issubclass(B, C) # True\n",
    "issubclass(B, object)  # True"
   ]
  },
  {
   "cell_type": "code",
   "execution_count": 48,
   "metadata": {},
   "outputs": [
    {
     "name": "stdout",
     "output_type": "stream",
     "text": [
      "Reload method\n"
     ]
    },
    {
     "data": {
      "text/plain": [
       "30"
      ]
     },
     "execution_count": 48,
     "metadata": {},
     "output_type": "execute_result"
    }
   ],
   "source": [
    "class FirstClass:\n",
    "    def __init__(self, number: int):\n",
    "        self.number = number\n",
    "    \n",
    "    def add_number(self, other_number: int):\n",
    "        self.number += other_number\n",
    "        return self.number\n",
    "\n",
    "class SecondClass(FirstClass):\n",
    "    def add_number(self, *args, **kwargs):\n",
    "        print('Reload method')\n",
    "        \n",
    "        # Calling FirstClass.add_number\n",
    "        result = super().add_number(*args, **kwargs)\n",
    "        return result\n",
    "\n",
    "first, second = FirstClass(24), SecondClass(24)\n",
    "\n",
    "first.add_number(6)  # 30\n",
    "second.add_number(6)  # 30"
   ]
  },
  {
   "cell_type": "code",
   "execution_count": 22,
   "metadata": {
    "scrolled": true
   },
   "outputs": [
    {
     "name": "stdout",
     "output_type": "stream",
     "text": [
      "first\n",
      "first\n",
      "first\n"
     ]
    }
   ],
   "source": [
    "class FirstClass:\n",
    "    def __init__(self):\n",
    "        print('first')\n",
    "\n",
    "class SecondClass(FirstClass):\n",
    "    def __init__(self, *args, **kwargs):\n",
    "        \n",
    "        # take information from first arg\n",
    "        proxy = super()  # <super: <class 'SecondClass'>, <SecondClass object>>\n",
    "        \n",
    "        super(self.__class__, self).__init__()  # None and print 'first'\n",
    "        super().__init__()  # None and print 'first'\n",
    "        \n",
    "instance = SecondClass(1)\n",
    "super(SecondClass, instance).__init__()  # None and print 'first'"
   ]
  },
  {
   "cell_type": "code",
   "execution_count": null,
   "metadata": {},
   "outputs": [],
   "source": []
  },
  {
   "cell_type": "code",
   "execution_count": 5,
   "metadata": {},
   "outputs": [
    {
     "name": "stdout",
     "output_type": "stream",
     "text": [
      "second\n"
     ]
    }
   ],
   "source": [
    "class First:\n",
    "    def __init__(self):\n",
    "        print('first')\n",
    "\n",
    "class Second(First):\n",
    "    def __init__(self):\n",
    "        print('second')\n",
    "        \n",
    "        \n",
    "class Third(First):\n",
    "    def __init__(self):\n",
    "        print('third')\n",
    "        \n",
    "        \n",
    "class Fourth(Second, Third):\n",
    "    def __init__(self):\n",
    "        \n",
    "        # Which methods will I call?\n",
    "        # Second or Third ?\n",
    "        super().__init__()\n",
    "\n",
    "        \n",
    "obj = Fourth()"
   ]
  },
  {
   "cell_type": "code",
   "execution_count": 23,
   "metadata": {},
   "outputs": [
    {
     "name": "stdout",
     "output_type": "stream",
     "text": [
      "third\n"
     ]
    }
   ],
   "source": [
    "class First:\n",
    "    def __init__(self):\n",
    "        print('first')\n",
    "\n",
    "class Second(First):\n",
    "    pass\n",
    "        \n",
    "        \n",
    "class Third(First):\n",
    "    def __init__(self):\n",
    "        print('third')\n",
    "        \n",
    "        \n",
    "class Fourth(Second, Third):\n",
    "    def __init__(self):\n",
    "        \n",
    "        # Which methods will I call?\n",
    "        # First or Third ?\n",
    "        super().__init__()\n",
    "\n",
    "        \n",
    "obj = Fourth()"
   ]
  },
  {
   "cell_type": "code",
   "execution_count": 3,
   "metadata": {},
   "outputs": [
    {
     "data": {
      "text/plain": [
       "[__main__.Fourth, __main__.Second, __main__.Third, __main__.First, object]"
      ]
     },
     "execution_count": 3,
     "metadata": {},
     "output_type": "execute_result"
    }
   ],
   "source": [
    "Fourth.__mro__  # (__main__.Fourth, __main__.Second, __main__.Third, __main__.First, object)\n",
    "Fourth.mro()  # [__main__.Fourth, __main__.Second, __main__.Third, __main__.First, object]"
   ]
  },
  {
   "cell_type": "code",
   "execution_count": null,
   "metadata": {},
   "outputs": [],
   "source": []
  },
  {
   "cell_type": "code",
   "execution_count": 44,
   "metadata": {},
   "outputs": [
    {
     "name": "stdout",
     "output_type": "stream",
     "text": [
      "__new__ was called\n",
      "new args: \n",
      "<class '__main__.SomeClass'>\n",
      "Jack\n",
      "66\n",
      "\n",
      "__init__ was called\n",
      "init args: \n",
      "<__main__.SomeClass object at 0x7f46402b46d8>\n",
      "Jack\n",
      "66\n"
     ]
    },
    {
     "data": {
      "text/plain": [
       "<__main__.SomeClass at 0x7f46402b46d8>"
      ]
     },
     "execution_count": 44,
     "metadata": {},
     "output_type": "execute_result"
    }
   ],
   "source": [
    "class SomeClass:\n",
    "    \n",
    "    def __new__(cls, *args, **kwargs) -> SomeClass:\n",
    "        print('__new__ was called')\n",
    "        print('new args: ', cls, *args, **kwargs, sep='\\n')\n",
    "        print()\n",
    "        \n",
    "        instance = super().__new__(cls)\n",
    "        return instance\n",
    "    \n",
    "    def __init__(self, *args, **kwargs):\n",
    "        print('__init__ was called')\n",
    "        print('init args: ', self, *args, **kwargs, sep='\\n')\n",
    "\n",
    "SomeClass('Jack', 66)"
   ]
  }
 ],
 "metadata": {
  "kernelspec": {
   "display_name": "Python 3",
   "language": "python",
   "name": "python3"
  },
  "language_info": {
   "codemirror_mode": {
    "name": "ipython",
    "version": 3
   },
   "file_extension": ".py",
   "mimetype": "text/x-python",
   "name": "python",
   "nbconvert_exporter": "python",
   "pygments_lexer": "ipython3",
   "version": "3.7.3"
  }
 },
 "nbformat": 4,
 "nbformat_minor": 2
}
